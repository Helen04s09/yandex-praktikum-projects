{
 "cells": [
  {
   "cell_type": "markdown",
   "metadata": {},
   "source": [
    "# Проверка гипотез по увеличению выручки в интернет-магазине и оценка результатов A/B теста"
   ]
  },
  {
   "cell_type": "markdown",
   "metadata": {},
   "source": [
    "## Часть 1. Приоритизация гипотез\n"
   ]
  },
  {
   "cell_type": "markdown",
   "metadata": {},
   "source": [
    "### Импорт библиотек"
   ]
  },
  {
   "cell_type": "code",
   "execution_count": 1,
   "metadata": {},
   "outputs": [],
   "source": [
    "import pandas as pd\n",
    "from scipy import stats as st\n",
    "import numpy as np\n",
    "import math as mth\n",
    "import matplotlib.pyplot as plt\n",
    "import datetime as dt\n",
    "import seaborn as sns"
   ]
  },
  {
   "cell_type": "markdown",
   "metadata": {},
   "source": [
    "### Применим фреймворк ICE для приоритизации гипотез и отсортируем их по убыванию приоритета"
   ]
  },
  {
   "cell_type": "markdown",
   "metadata": {},
   "source": [
    "<b>Прочитаем файл `csv`, предоставленный сервисом для проекта и сохраним его в переменной `data`:"
   ]
  },
  {
   "cell_type": "code",
   "execution_count": 2,
   "metadata": {},
   "outputs": [],
   "source": [
    "try:\n",
    "    data = pd.read_csv('...csv', sep=',')\n",
    "except FileNotFoundError:\n",
    "    data = pd.read_csv('...csv', sep=',')\n"
   ]
  },
  {
   "cell_type": "code",
   "execution_count": 3,
   "metadata": {},
   "outputs": [
    {
     "data": {
      "text/html": [
       "<style  type=\"text/css\" >\n",
       "    #T_abfd5fae_a0ff_11ec_a3f3_02420a3982c6row0_col1 {\n",
       "            background-color:  #b3e3b3;\n",
       "            color:  #000000;\n",
       "        }    #T_abfd5fae_a0ff_11ec_a3f3_02420a3982c6row0_col2 {\n",
       "            background-color:  #008000;\n",
       "            color:  #f1f1f1;\n",
       "        }    #T_abfd5fae_a0ff_11ec_a3f3_02420a3982c6row0_col3 {\n",
       "            background-color:  #1c8f1c;\n",
       "            color:  #000000;\n",
       "        }    #T_abfd5fae_a0ff_11ec_a3f3_02420a3982c6row0_col4 {\n",
       "            background-color:  #66b866;\n",
       "            color:  #000000;\n",
       "        }    #T_abfd5fae_a0ff_11ec_a3f3_02420a3982c6row1_col1 {\n",
       "            background-color:  #ccf1cc;\n",
       "            color:  #000000;\n",
       "        }    #T_abfd5fae_a0ff_11ec_a3f3_02420a3982c6row1_col2 {\n",
       "            background-color:  #80c780;\n",
       "            color:  #000000;\n",
       "        }    #T_abfd5fae_a0ff_11ec_a3f3_02420a3982c6row1_col3 {\n",
       "            background-color:  #8fcf8f;\n",
       "            color:  #000000;\n",
       "        }    #T_abfd5fae_a0ff_11ec_a3f3_02420a3982c6row1_col4 {\n",
       "            background-color:  #008000;\n",
       "            color:  #f1f1f1;\n",
       "        }    #T_abfd5fae_a0ff_11ec_a3f3_02420a3982c6row2_col1 {\n",
       "            background-color:  #329c32;\n",
       "            color:  #000000;\n",
       "        }    #T_abfd5fae_a0ff_11ec_a3f3_02420a3982c6row2_col2 {\n",
       "            background-color:  #b3e3b3;\n",
       "            color:  #000000;\n",
       "        }    #T_abfd5fae_a0ff_11ec_a3f3_02420a3982c6row2_col3 {\n",
       "            background-color:  #399f39;\n",
       "            color:  #000000;\n",
       "        }    #T_abfd5fae_a0ff_11ec_a3f3_02420a3982c6row2_col4 {\n",
       "            background-color:  #b3e3b3;\n",
       "            color:  #000000;\n",
       "        }    #T_abfd5fae_a0ff_11ec_a3f3_02420a3982c6row3_col1 {\n",
       "            background-color:  #329c32;\n",
       "            color:  #000000;\n",
       "        }    #T_abfd5fae_a0ff_11ec_a3f3_02420a3982c6row3_col2 {\n",
       "            background-color:  #b3e3b3;\n",
       "            color:  #000000;\n",
       "        }    #T_abfd5fae_a0ff_11ec_a3f3_02420a3982c6row3_col3 {\n",
       "            background-color:  #acdfac;\n",
       "            color:  #000000;\n",
       "        }    #T_abfd5fae_a0ff_11ec_a3f3_02420a3982c6row3_col4 {\n",
       "            background-color:  #329c32;\n",
       "            color:  #000000;\n",
       "        }    #T_abfd5fae_a0ff_11ec_a3f3_02420a3982c6row4_col1 {\n",
       "            background-color:  #b3e3b3;\n",
       "            color:  #000000;\n",
       "        }    #T_abfd5fae_a0ff_11ec_a3f3_02420a3982c6row4_col2 {\n",
       "            background-color:  #e5ffe5;\n",
       "            color:  #000000;\n",
       "        }    #T_abfd5fae_a0ff_11ec_a3f3_02420a3982c6row4_col3 {\n",
       "            background-color:  #e5ffe5;\n",
       "            color:  #000000;\n",
       "        }    #T_abfd5fae_a0ff_11ec_a3f3_02420a3982c6row4_col4 {\n",
       "            background-color:  #e5ffe5;\n",
       "            color:  #000000;\n",
       "        }    #T_abfd5fae_a0ff_11ec_a3f3_02420a3982c6row5_col1 {\n",
       "            background-color:  #b3e3b3;\n",
       "            color:  #000000;\n",
       "        }    #T_abfd5fae_a0ff_11ec_a3f3_02420a3982c6row5_col2 {\n",
       "            background-color:  #ccf1cc;\n",
       "            color:  #000000;\n",
       "        }    #T_abfd5fae_a0ff_11ec_a3f3_02420a3982c6row5_col3 {\n",
       "            background-color:  #c9efc9;\n",
       "            color:  #000000;\n",
       "        }    #T_abfd5fae_a0ff_11ec_a3f3_02420a3982c6row5_col4 {\n",
       "            background-color:  #b3e3b3;\n",
       "            color:  #000000;\n",
       "        }    #T_abfd5fae_a0ff_11ec_a3f3_02420a3982c6row6_col1 {\n",
       "            background-color:  #80c780;\n",
       "            color:  #000000;\n",
       "        }    #T_abfd5fae_a0ff_11ec_a3f3_02420a3982c6row6_col2 {\n",
       "            background-color:  #b3e3b3;\n",
       "            color:  #000000;\n",
       "        }    #T_abfd5fae_a0ff_11ec_a3f3_02420a3982c6row6_col3 {\n",
       "            background-color:  #1c8f1c;\n",
       "            color:  #000000;\n",
       "        }    #T_abfd5fae_a0ff_11ec_a3f3_02420a3982c6row6_col4 {\n",
       "            background-color:  #b3e3b3;\n",
       "            color:  #000000;\n",
       "        }    #T_abfd5fae_a0ff_11ec_a3f3_02420a3982c6row7_col1 {\n",
       "            background-color:  #008000;\n",
       "            color:  #f1f1f1;\n",
       "        }    #T_abfd5fae_a0ff_11ec_a3f3_02420a3982c6row7_col2 {\n",
       "            background-color:  #4daa4d;\n",
       "            color:  #000000;\n",
       "        }    #T_abfd5fae_a0ff_11ec_a3f3_02420a3982c6row7_col3 {\n",
       "            background-color:  #1c8f1c;\n",
       "            color:  #000000;\n",
       "        }    #T_abfd5fae_a0ff_11ec_a3f3_02420a3982c6row7_col4 {\n",
       "            background-color:  #80c780;\n",
       "            color:  #000000;\n",
       "        }    #T_abfd5fae_a0ff_11ec_a3f3_02420a3982c6row8_col1 {\n",
       "            background-color:  #e5ffe5;\n",
       "            color:  #000000;\n",
       "        }    #T_abfd5fae_a0ff_11ec_a3f3_02420a3982c6row8_col2 {\n",
       "            background-color:  #198e19;\n",
       "            color:  #000000;\n",
       "        }    #T_abfd5fae_a0ff_11ec_a3f3_02420a3982c6row8_col3 {\n",
       "            background-color:  #008000;\n",
       "            color:  #f1f1f1;\n",
       "        }    #T_abfd5fae_a0ff_11ec_a3f3_02420a3982c6row8_col4 {\n",
       "            background-color:  #80c780;\n",
       "            color:  #000000;\n",
       "        }</style><table id=\"T_abfd5fae_a0ff_11ec_a3f3_02420a3982c6\" ><thead>    <tr>        <th class=\"blank level0\" ></th>        <th class=\"col_heading level0 col0\" >hypothesis</th>        <th class=\"col_heading level0 col1\" >reach</th>        <th class=\"col_heading level0 col2\" >impact</th>        <th class=\"col_heading level0 col3\" >confidence</th>        <th class=\"col_heading level0 col4\" >efforts</th>    </tr></thead><tbody>\n",
       "                <tr>\n",
       "                        <th id=\"T_abfd5fae_a0ff_11ec_a3f3_02420a3982c6level0_row0\" class=\"row_heading level0 row0\" >0</th>\n",
       "                        <td id=\"T_abfd5fae_a0ff_11ec_a3f3_02420a3982c6row0_col0\" class=\"data row0 col0\" >Добавить два новых канала привлечения трафика, что позволит привлекать на 30% больше пользователей</td>\n",
       "                        <td id=\"T_abfd5fae_a0ff_11ec_a3f3_02420a3982c6row0_col1\" class=\"data row0 col1\" >3</td>\n",
       "                        <td id=\"T_abfd5fae_a0ff_11ec_a3f3_02420a3982c6row0_col2\" class=\"data row0 col2\" >10</td>\n",
       "                        <td id=\"T_abfd5fae_a0ff_11ec_a3f3_02420a3982c6row0_col3\" class=\"data row0 col3\" >8</td>\n",
       "                        <td id=\"T_abfd5fae_a0ff_11ec_a3f3_02420a3982c6row0_col4\" class=\"data row0 col4\" >6</td>\n",
       "            </tr>\n",
       "            <tr>\n",
       "                        <th id=\"T_abfd5fae_a0ff_11ec_a3f3_02420a3982c6level0_row1\" class=\"row_heading level0 row1\" >1</th>\n",
       "                        <td id=\"T_abfd5fae_a0ff_11ec_a3f3_02420a3982c6row1_col0\" class=\"data row1 col0\" >Запустить собственную службу доставки, что сократит срок доставки заказов</td>\n",
       "                        <td id=\"T_abfd5fae_a0ff_11ec_a3f3_02420a3982c6row1_col1\" class=\"data row1 col1\" >2</td>\n",
       "                        <td id=\"T_abfd5fae_a0ff_11ec_a3f3_02420a3982c6row1_col2\" class=\"data row1 col2\" >5</td>\n",
       "                        <td id=\"T_abfd5fae_a0ff_11ec_a3f3_02420a3982c6row1_col3\" class=\"data row1 col3\" >4</td>\n",
       "                        <td id=\"T_abfd5fae_a0ff_11ec_a3f3_02420a3982c6row1_col4\" class=\"data row1 col4\" >10</td>\n",
       "            </tr>\n",
       "            <tr>\n",
       "                        <th id=\"T_abfd5fae_a0ff_11ec_a3f3_02420a3982c6level0_row2\" class=\"row_heading level0 row2\" >2</th>\n",
       "                        <td id=\"T_abfd5fae_a0ff_11ec_a3f3_02420a3982c6row2_col0\" class=\"data row2 col0\" >Добавить блоки рекомендаций товаров на сайт интернет магазина, чтобы повысить конверсию и средний чек заказа</td>\n",
       "                        <td id=\"T_abfd5fae_a0ff_11ec_a3f3_02420a3982c6row2_col1\" class=\"data row2 col1\" >8</td>\n",
       "                        <td id=\"T_abfd5fae_a0ff_11ec_a3f3_02420a3982c6row2_col2\" class=\"data row2 col2\" >3</td>\n",
       "                        <td id=\"T_abfd5fae_a0ff_11ec_a3f3_02420a3982c6row2_col3\" class=\"data row2 col3\" >7</td>\n",
       "                        <td id=\"T_abfd5fae_a0ff_11ec_a3f3_02420a3982c6row2_col4\" class=\"data row2 col4\" >3</td>\n",
       "            </tr>\n",
       "            <tr>\n",
       "                        <th id=\"T_abfd5fae_a0ff_11ec_a3f3_02420a3982c6level0_row3\" class=\"row_heading level0 row3\" >3</th>\n",
       "                        <td id=\"T_abfd5fae_a0ff_11ec_a3f3_02420a3982c6row3_col0\" class=\"data row3 col0\" >Изменить структура категорий, что увеличит конверсию, т.к. пользователи быстрее найдут нужный товар</td>\n",
       "                        <td id=\"T_abfd5fae_a0ff_11ec_a3f3_02420a3982c6row3_col1\" class=\"data row3 col1\" >8</td>\n",
       "                        <td id=\"T_abfd5fae_a0ff_11ec_a3f3_02420a3982c6row3_col2\" class=\"data row3 col2\" >3</td>\n",
       "                        <td id=\"T_abfd5fae_a0ff_11ec_a3f3_02420a3982c6row3_col3\" class=\"data row3 col3\" >3</td>\n",
       "                        <td id=\"T_abfd5fae_a0ff_11ec_a3f3_02420a3982c6row3_col4\" class=\"data row3 col4\" >8</td>\n",
       "            </tr>\n",
       "            <tr>\n",
       "                        <th id=\"T_abfd5fae_a0ff_11ec_a3f3_02420a3982c6level0_row4\" class=\"row_heading level0 row4\" >4</th>\n",
       "                        <td id=\"T_abfd5fae_a0ff_11ec_a3f3_02420a3982c6row4_col0\" class=\"data row4 col0\" >Изменить цвет фона главной страницы, чтобы увеличить вовлеченность пользователей</td>\n",
       "                        <td id=\"T_abfd5fae_a0ff_11ec_a3f3_02420a3982c6row4_col1\" class=\"data row4 col1\" >3</td>\n",
       "                        <td id=\"T_abfd5fae_a0ff_11ec_a3f3_02420a3982c6row4_col2\" class=\"data row4 col2\" >1</td>\n",
       "                        <td id=\"T_abfd5fae_a0ff_11ec_a3f3_02420a3982c6row4_col3\" class=\"data row4 col3\" >1</td>\n",
       "                        <td id=\"T_abfd5fae_a0ff_11ec_a3f3_02420a3982c6row4_col4\" class=\"data row4 col4\" >1</td>\n",
       "            </tr>\n",
       "            <tr>\n",
       "                        <th id=\"T_abfd5fae_a0ff_11ec_a3f3_02420a3982c6level0_row5\" class=\"row_heading level0 row5\" >5</th>\n",
       "                        <td id=\"T_abfd5fae_a0ff_11ec_a3f3_02420a3982c6row5_col0\" class=\"data row5 col0\" >Добавить страницу отзывов клиентов о магазине, что позволит увеличить количество заказов</td>\n",
       "                        <td id=\"T_abfd5fae_a0ff_11ec_a3f3_02420a3982c6row5_col1\" class=\"data row5 col1\" >3</td>\n",
       "                        <td id=\"T_abfd5fae_a0ff_11ec_a3f3_02420a3982c6row5_col2\" class=\"data row5 col2\" >2</td>\n",
       "                        <td id=\"T_abfd5fae_a0ff_11ec_a3f3_02420a3982c6row5_col3\" class=\"data row5 col3\" >2</td>\n",
       "                        <td id=\"T_abfd5fae_a0ff_11ec_a3f3_02420a3982c6row5_col4\" class=\"data row5 col4\" >3</td>\n",
       "            </tr>\n",
       "            <tr>\n",
       "                        <th id=\"T_abfd5fae_a0ff_11ec_a3f3_02420a3982c6level0_row6\" class=\"row_heading level0 row6\" >6</th>\n",
       "                        <td id=\"T_abfd5fae_a0ff_11ec_a3f3_02420a3982c6row6_col0\" class=\"data row6 col0\" >Показать на главной странице баннеры с актуальными акциями и распродажами, чтобы увеличить конверсию</td>\n",
       "                        <td id=\"T_abfd5fae_a0ff_11ec_a3f3_02420a3982c6row6_col1\" class=\"data row6 col1\" >5</td>\n",
       "                        <td id=\"T_abfd5fae_a0ff_11ec_a3f3_02420a3982c6row6_col2\" class=\"data row6 col2\" >3</td>\n",
       "                        <td id=\"T_abfd5fae_a0ff_11ec_a3f3_02420a3982c6row6_col3\" class=\"data row6 col3\" >8</td>\n",
       "                        <td id=\"T_abfd5fae_a0ff_11ec_a3f3_02420a3982c6row6_col4\" class=\"data row6 col4\" >3</td>\n",
       "            </tr>\n",
       "            <tr>\n",
       "                        <th id=\"T_abfd5fae_a0ff_11ec_a3f3_02420a3982c6level0_row7\" class=\"row_heading level0 row7\" >7</th>\n",
       "                        <td id=\"T_abfd5fae_a0ff_11ec_a3f3_02420a3982c6row7_col0\" class=\"data row7 col0\" >Добавить форму подписки на все основные страницы, чтобы собрать базу клиентов для email-рассылок</td>\n",
       "                        <td id=\"T_abfd5fae_a0ff_11ec_a3f3_02420a3982c6row7_col1\" class=\"data row7 col1\" >10</td>\n",
       "                        <td id=\"T_abfd5fae_a0ff_11ec_a3f3_02420a3982c6row7_col2\" class=\"data row7 col2\" >7</td>\n",
       "                        <td id=\"T_abfd5fae_a0ff_11ec_a3f3_02420a3982c6row7_col3\" class=\"data row7 col3\" >8</td>\n",
       "                        <td id=\"T_abfd5fae_a0ff_11ec_a3f3_02420a3982c6row7_col4\" class=\"data row7 col4\" >5</td>\n",
       "            </tr>\n",
       "            <tr>\n",
       "                        <th id=\"T_abfd5fae_a0ff_11ec_a3f3_02420a3982c6level0_row8\" class=\"row_heading level0 row8\" >8</th>\n",
       "                        <td id=\"T_abfd5fae_a0ff_11ec_a3f3_02420a3982c6row8_col0\" class=\"data row8 col0\" >Запустить акцию, дающую скидку на товар в день рождения</td>\n",
       "                        <td id=\"T_abfd5fae_a0ff_11ec_a3f3_02420a3982c6row8_col1\" class=\"data row8 col1\" >1</td>\n",
       "                        <td id=\"T_abfd5fae_a0ff_11ec_a3f3_02420a3982c6row8_col2\" class=\"data row8 col2\" >9</td>\n",
       "                        <td id=\"T_abfd5fae_a0ff_11ec_a3f3_02420a3982c6row8_col3\" class=\"data row8 col3\" >9</td>\n",
       "                        <td id=\"T_abfd5fae_a0ff_11ec_a3f3_02420a3982c6row8_col4\" class=\"data row8 col4\" >5</td>\n",
       "            </tr>\n",
       "    </tbody></table>"
      ],
      "text/plain": [
       "<pandas.io.formats.style.Styler at 0x7fc5bb528cd0>"
      ]
     },
     "execution_count": 3,
     "metadata": {},
     "output_type": "execute_result"
    }
   ],
   "source": [
    "# Приведем названия столбцов к нижнему регистру в соответствие с правилом хорошего стиля\n",
    "data.columns = [x.lower() for x in data.columns.values]\n",
    "cm = sns.light_palette(\"green\", as_cmap=True)\n",
    "data.head(10).style.background_gradient(cmap=cm)\n"
   ]
  },
  {
   "cell_type": "markdown",
   "metadata": {},
   "source": [
    "<div class=\"alert alert-success\" style=\"border-radius: 15px; box-shadow: 4px 4px 4px; border: 1px solid \">\n",
    "<b>Формула для расчета ICE:</b>\n",
    "$$ICE = \\frac{Impact * Confidence}{Efforts}$$"
   ]
  },
  {
   "cell_type": "markdown",
   "metadata": {},
   "source": [
    "<b>Применим формулу для расчета `ICE`:"
   ]
  },
  {
   "cell_type": "code",
   "execution_count": 4,
   "metadata": {},
   "outputs": [
    {
     "data": {
      "text/html": [
       "<style  type=\"text/css\" >\n",
       "    #T_ac0e6eca_a0ff_11ec_a3f3_02420a3982c6row0_col1 {\n",
       "            background-color:  #008000;\n",
       "            color:  #f1f1f1;\n",
       "        }    #T_ac0e6eca_a0ff_11ec_a3f3_02420a3982c6row1_col1 {\n",
       "            background-color:  #2b982b;\n",
       "            color:  #000000;\n",
       "        }    #T_ac0e6eca_a0ff_11ec_a3f3_02420a3982c6row2_col1 {\n",
       "            background-color:  #4caa4c;\n",
       "            color:  #000000;\n",
       "        }    #T_ac0e6eca_a0ff_11ec_a3f3_02420a3982c6row3_col1 {\n",
       "            background-color:  #7cc57c;\n",
       "            color:  #000000;\n",
       "        }    #T_ac0e6eca_a0ff_11ec_a3f3_02420a3982c6row4_col1 {\n",
       "            background-color:  #8bcd8b;\n",
       "            color:  #000000;\n",
       "        }    #T_ac0e6eca_a0ff_11ec_a3f3_02420a3982c6row5_col1 {\n",
       "            background-color:  #d7f7d7;\n",
       "            color:  #000000;\n",
       "        }    #T_ac0e6eca_a0ff_11ec_a3f3_02420a3982c6row6_col1 {\n",
       "            background-color:  #e1fde1;\n",
       "            color:  #000000;\n",
       "        }    #T_ac0e6eca_a0ff_11ec_a3f3_02420a3982c6row7_col1 {\n",
       "            background-color:  #e4fee4;\n",
       "            color:  #000000;\n",
       "        }    #T_ac0e6eca_a0ff_11ec_a3f3_02420a3982c6row8_col1 {\n",
       "            background-color:  #e5ffe5;\n",
       "            color:  #000000;\n",
       "        }</style><table id=\"T_ac0e6eca_a0ff_11ec_a3f3_02420a3982c6\" ><thead>    <tr>        <th class=\"blank level0\" ></th>        <th class=\"col_heading level0 col0\" >hypothesis</th>        <th class=\"col_heading level0 col1\" >ICE</th>    </tr></thead><tbody>\n",
       "                <tr>\n",
       "                        <th id=\"T_ac0e6eca_a0ff_11ec_a3f3_02420a3982c6level0_row0\" class=\"row_heading level0 row0\" >8</th>\n",
       "                        <td id=\"T_ac0e6eca_a0ff_11ec_a3f3_02420a3982c6row0_col0\" class=\"data row0 col0\" >Запустить акцию, дающую скидку на товар в день рождения</td>\n",
       "                        <td id=\"T_ac0e6eca_a0ff_11ec_a3f3_02420a3982c6row0_col1\" class=\"data row0 col1\" >16.2</td>\n",
       "            </tr>\n",
       "            <tr>\n",
       "                        <th id=\"T_ac0e6eca_a0ff_11ec_a3f3_02420a3982c6level0_row1\" class=\"row_heading level0 row1\" >0</th>\n",
       "                        <td id=\"T_ac0e6eca_a0ff_11ec_a3f3_02420a3982c6row1_col0\" class=\"data row1 col0\" >Добавить два новых канала привлечения трафика, что позволит привлекать на 30% больше пользователей</td>\n",
       "                        <td id=\"T_ac0e6eca_a0ff_11ec_a3f3_02420a3982c6row1_col1\" class=\"data row1 col1\" >13.3333</td>\n",
       "            </tr>\n",
       "            <tr>\n",
       "                        <th id=\"T_ac0e6eca_a0ff_11ec_a3f3_02420a3982c6level0_row2\" class=\"row_heading level0 row2\" >7</th>\n",
       "                        <td id=\"T_ac0e6eca_a0ff_11ec_a3f3_02420a3982c6row2_col0\" class=\"data row2 col0\" >Добавить форму подписки на все основные страницы, чтобы собрать базу клиентов для email-рассылок</td>\n",
       "                        <td id=\"T_ac0e6eca_a0ff_11ec_a3f3_02420a3982c6row2_col1\" class=\"data row2 col1\" >11.2</td>\n",
       "            </tr>\n",
       "            <tr>\n",
       "                        <th id=\"T_ac0e6eca_a0ff_11ec_a3f3_02420a3982c6level0_row3\" class=\"row_heading level0 row3\" >6</th>\n",
       "                        <td id=\"T_ac0e6eca_a0ff_11ec_a3f3_02420a3982c6row3_col0\" class=\"data row3 col0\" >Показать на главной странице баннеры с актуальными акциями и распродажами, чтобы увеличить конверсию</td>\n",
       "                        <td id=\"T_ac0e6eca_a0ff_11ec_a3f3_02420a3982c6row3_col1\" class=\"data row3 col1\" >8</td>\n",
       "            </tr>\n",
       "            <tr>\n",
       "                        <th id=\"T_ac0e6eca_a0ff_11ec_a3f3_02420a3982c6level0_row4\" class=\"row_heading level0 row4\" >2</th>\n",
       "                        <td id=\"T_ac0e6eca_a0ff_11ec_a3f3_02420a3982c6row4_col0\" class=\"data row4 col0\" >Добавить блоки рекомендаций товаров на сайт интернет магазина, чтобы повысить конверсию и средний чек заказа</td>\n",
       "                        <td id=\"T_ac0e6eca_a0ff_11ec_a3f3_02420a3982c6row4_col1\" class=\"data row4 col1\" >7</td>\n",
       "            </tr>\n",
       "            <tr>\n",
       "                        <th id=\"T_ac0e6eca_a0ff_11ec_a3f3_02420a3982c6level0_row5\" class=\"row_heading level0 row5\" >1</th>\n",
       "                        <td id=\"T_ac0e6eca_a0ff_11ec_a3f3_02420a3982c6row5_col0\" class=\"data row5 col0\" >Запустить собственную службу доставки, что сократит срок доставки заказов</td>\n",
       "                        <td id=\"T_ac0e6eca_a0ff_11ec_a3f3_02420a3982c6row5_col1\" class=\"data row5 col1\" >2</td>\n",
       "            </tr>\n",
       "            <tr>\n",
       "                        <th id=\"T_ac0e6eca_a0ff_11ec_a3f3_02420a3982c6level0_row6\" class=\"row_heading level0 row6\" >5</th>\n",
       "                        <td id=\"T_ac0e6eca_a0ff_11ec_a3f3_02420a3982c6row6_col0\" class=\"data row6 col0\" >Добавить страницу отзывов клиентов о магазине, что позволит увеличить количество заказов</td>\n",
       "                        <td id=\"T_ac0e6eca_a0ff_11ec_a3f3_02420a3982c6row6_col1\" class=\"data row6 col1\" >1.33333</td>\n",
       "            </tr>\n",
       "            <tr>\n",
       "                        <th id=\"T_ac0e6eca_a0ff_11ec_a3f3_02420a3982c6level0_row7\" class=\"row_heading level0 row7\" >3</th>\n",
       "                        <td id=\"T_ac0e6eca_a0ff_11ec_a3f3_02420a3982c6row7_col0\" class=\"data row7 col0\" >Изменить структура категорий, что увеличит конверсию, т.к. пользователи быстрее найдут нужный товар</td>\n",
       "                        <td id=\"T_ac0e6eca_a0ff_11ec_a3f3_02420a3982c6row7_col1\" class=\"data row7 col1\" >1.125</td>\n",
       "            </tr>\n",
       "            <tr>\n",
       "                        <th id=\"T_ac0e6eca_a0ff_11ec_a3f3_02420a3982c6level0_row8\" class=\"row_heading level0 row8\" >4</th>\n",
       "                        <td id=\"T_ac0e6eca_a0ff_11ec_a3f3_02420a3982c6row8_col0\" class=\"data row8 col0\" >Изменить цвет фона главной страницы, чтобы увеличить вовлеченность пользователей</td>\n",
       "                        <td id=\"T_ac0e6eca_a0ff_11ec_a3f3_02420a3982c6row8_col1\" class=\"data row8 col1\" >1</td>\n",
       "            </tr>\n",
       "    </tbody></table>"
      ],
      "text/plain": [
       "<pandas.io.formats.style.Styler at 0x7fc5b9b605d0>"
      ]
     },
     "execution_count": 4,
     "metadata": {},
     "output_type": "execute_result"
    }
   ],
   "source": [
    "data['ICE'] = data['impact'] * data['confidence'] / data['efforts']\n",
    "cm = sns.light_palette(\"green\", as_cmap=True)\n",
    "data[['hypothesis', 'ICE']].sort_values(by='ICE', ascending=False).style.background_gradient(cmap=cm)"
   ]
  },
  {
   "cell_type": "markdown",
   "metadata": {},
   "source": [
    "<b>Вывод: наиболее перспективные гипотезы по ICE: 9, 1, 8, 7.</b>"
   ]
  },
  {
   "cell_type": "markdown",
   "metadata": {},
   "source": [
    "### Применим фреймворк RICE для приоритизации гипотез и отсортируем их по убыванию приоритета"
   ]
  },
  {
   "cell_type": "markdown",
   "metadata": {},
   "source": [
    "<div class=\"alert alert-success\" style=\"border-radius: 15px; box-shadow: 4px 4px 4px; border: 1px solid \">\n",
    "<b>Формула для расчета RICE:</b>\n",
    "$$RICE = \\frac{Rearch * Impact * Confidence}{Efforts}$$\n"
   ]
  },
  {
   "cell_type": "markdown",
   "metadata": {},
   "source": [
    "<b>Применим формулу для расчета `RICE`:"
   ]
  },
  {
   "cell_type": "code",
   "execution_count": 5,
   "metadata": {},
   "outputs": [
    {
     "data": {
      "text/html": [
       "<style  type=\"text/css\" >\n",
       "    #T_ac10d7d2_a0ff_11ec_a3f3_02420a3982c6row0_col1 {\n",
       "            background-color:  #008000;\n",
       "            color:  #f1f1f1;\n",
       "        }    #T_ac10d7d2_a0ff_11ec_a3f3_02420a3982c6row1_col1 {\n",
       "            background-color:  #76c176;\n",
       "            color:  #000000;\n",
       "        }    #T_ac10d7d2_a0ff_11ec_a3f3_02420a3982c6row2_col1 {\n",
       "            background-color:  #98d498;\n",
       "            color:  #000000;\n",
       "        }    #T_ac10d7d2_a0ff_11ec_a3f3_02420a3982c6row3_col1 {\n",
       "            background-color:  #98d498;\n",
       "            color:  #000000;\n",
       "        }    #T_ac10d7d2_a0ff_11ec_a3f3_02420a3982c6row4_col1 {\n",
       "            background-color:  #caf0ca;\n",
       "            color:  #000000;\n",
       "        }    #T_ac10d7d2_a0ff_11ec_a3f3_02420a3982c6row5_col1 {\n",
       "            background-color:  #d9f8d9;\n",
       "            color:  #000000;\n",
       "        }    #T_ac10d7d2_a0ff_11ec_a3f3_02420a3982c6row6_col1 {\n",
       "            background-color:  #e4fee4;\n",
       "            color:  #000000;\n",
       "        }    #T_ac10d7d2_a0ff_11ec_a3f3_02420a3982c6row7_col1 {\n",
       "            background-color:  #e4fee4;\n",
       "            color:  #000000;\n",
       "        }    #T_ac10d7d2_a0ff_11ec_a3f3_02420a3982c6row8_col1 {\n",
       "            background-color:  #e5ffe5;\n",
       "            color:  #000000;\n",
       "        }</style><table id=\"T_ac10d7d2_a0ff_11ec_a3f3_02420a3982c6\" ><thead>    <tr>        <th class=\"blank level0\" ></th>        <th class=\"col_heading level0 col0\" >hypothesis</th>        <th class=\"col_heading level0 col1\" >RICE</th>    </tr></thead><tbody>\n",
       "                <tr>\n",
       "                        <th id=\"T_ac10d7d2_a0ff_11ec_a3f3_02420a3982c6level0_row0\" class=\"row_heading level0 row0\" >7</th>\n",
       "                        <td id=\"T_ac10d7d2_a0ff_11ec_a3f3_02420a3982c6row0_col0\" class=\"data row0 col0\" >Добавить форму подписки на все основные страницы, чтобы собрать базу клиентов для email-рассылок</td>\n",
       "                        <td id=\"T_ac10d7d2_a0ff_11ec_a3f3_02420a3982c6row0_col1\" class=\"data row0 col1\" >112</td>\n",
       "            </tr>\n",
       "            <tr>\n",
       "                        <th id=\"T_ac10d7d2_a0ff_11ec_a3f3_02420a3982c6level0_row1\" class=\"row_heading level0 row1\" >2</th>\n",
       "                        <td id=\"T_ac10d7d2_a0ff_11ec_a3f3_02420a3982c6row1_col0\" class=\"data row1 col0\" >Добавить блоки рекомендаций товаров на сайт интернет магазина, чтобы повысить конверсию и средний чек заказа</td>\n",
       "                        <td id=\"T_ac10d7d2_a0ff_11ec_a3f3_02420a3982c6row1_col1\" class=\"data row1 col1\" >56</td>\n",
       "            </tr>\n",
       "            <tr>\n",
       "                        <th id=\"T_ac10d7d2_a0ff_11ec_a3f3_02420a3982c6level0_row2\" class=\"row_heading level0 row2\" >0</th>\n",
       "                        <td id=\"T_ac10d7d2_a0ff_11ec_a3f3_02420a3982c6row2_col0\" class=\"data row2 col0\" >Добавить два новых канала привлечения трафика, что позволит привлекать на 30% больше пользователей</td>\n",
       "                        <td id=\"T_ac10d7d2_a0ff_11ec_a3f3_02420a3982c6row2_col1\" class=\"data row2 col1\" >40</td>\n",
       "            </tr>\n",
       "            <tr>\n",
       "                        <th id=\"T_ac10d7d2_a0ff_11ec_a3f3_02420a3982c6level0_row3\" class=\"row_heading level0 row3\" >6</th>\n",
       "                        <td id=\"T_ac10d7d2_a0ff_11ec_a3f3_02420a3982c6row3_col0\" class=\"data row3 col0\" >Показать на главной странице баннеры с актуальными акциями и распродажами, чтобы увеличить конверсию</td>\n",
       "                        <td id=\"T_ac10d7d2_a0ff_11ec_a3f3_02420a3982c6row3_col1\" class=\"data row3 col1\" >40</td>\n",
       "            </tr>\n",
       "            <tr>\n",
       "                        <th id=\"T_ac10d7d2_a0ff_11ec_a3f3_02420a3982c6level0_row4\" class=\"row_heading level0 row4\" >8</th>\n",
       "                        <td id=\"T_ac10d7d2_a0ff_11ec_a3f3_02420a3982c6row4_col0\" class=\"data row4 col0\" >Запустить акцию, дающую скидку на товар в день рождения</td>\n",
       "                        <td id=\"T_ac10d7d2_a0ff_11ec_a3f3_02420a3982c6row4_col1\" class=\"data row4 col1\" >16.2</td>\n",
       "            </tr>\n",
       "            <tr>\n",
       "                        <th id=\"T_ac10d7d2_a0ff_11ec_a3f3_02420a3982c6level0_row5\" class=\"row_heading level0 row5\" >3</th>\n",
       "                        <td id=\"T_ac10d7d2_a0ff_11ec_a3f3_02420a3982c6row5_col0\" class=\"data row5 col0\" >Изменить структура категорий, что увеличит конверсию, т.к. пользователи быстрее найдут нужный товар</td>\n",
       "                        <td id=\"T_ac10d7d2_a0ff_11ec_a3f3_02420a3982c6row5_col1\" class=\"data row5 col1\" >9</td>\n",
       "            </tr>\n",
       "            <tr>\n",
       "                        <th id=\"T_ac10d7d2_a0ff_11ec_a3f3_02420a3982c6level0_row6\" class=\"row_heading level0 row6\" >1</th>\n",
       "                        <td id=\"T_ac10d7d2_a0ff_11ec_a3f3_02420a3982c6row6_col0\" class=\"data row6 col0\" >Запустить собственную службу доставки, что сократит срок доставки заказов</td>\n",
       "                        <td id=\"T_ac10d7d2_a0ff_11ec_a3f3_02420a3982c6row6_col1\" class=\"data row6 col1\" >4</td>\n",
       "            </tr>\n",
       "            <tr>\n",
       "                        <th id=\"T_ac10d7d2_a0ff_11ec_a3f3_02420a3982c6level0_row7\" class=\"row_heading level0 row7\" >5</th>\n",
       "                        <td id=\"T_ac10d7d2_a0ff_11ec_a3f3_02420a3982c6row7_col0\" class=\"data row7 col0\" >Добавить страницу отзывов клиентов о магазине, что позволит увеличить количество заказов</td>\n",
       "                        <td id=\"T_ac10d7d2_a0ff_11ec_a3f3_02420a3982c6row7_col1\" class=\"data row7 col1\" >4</td>\n",
       "            </tr>\n",
       "            <tr>\n",
       "                        <th id=\"T_ac10d7d2_a0ff_11ec_a3f3_02420a3982c6level0_row8\" class=\"row_heading level0 row8\" >4</th>\n",
       "                        <td id=\"T_ac10d7d2_a0ff_11ec_a3f3_02420a3982c6row8_col0\" class=\"data row8 col0\" >Изменить цвет фона главной страницы, чтобы увеличить вовлеченность пользователей</td>\n",
       "                        <td id=\"T_ac10d7d2_a0ff_11ec_a3f3_02420a3982c6row8_col1\" class=\"data row8 col1\" >3</td>\n",
       "            </tr>\n",
       "    </tbody></table>"
      ],
      "text/plain": [
       "<pandas.io.formats.style.Styler at 0x7fc63c218cd0>"
      ]
     },
     "execution_count": 5,
     "metadata": {},
     "output_type": "execute_result"
    }
   ],
   "source": [
    "data['RICE'] = data['reach'] * data['impact'] * data['confidence'] / data['efforts']\n",
    "cm = sns.light_palette(\"green\", as_cmap=True)\n",
    "data[['hypothesis', 'RICE']].sort_values(by='RICE', ascending=False).style.background_gradient(cmap=cm)\n"
   ]
  },
  {
   "cell_type": "markdown",
   "metadata": {},
   "source": [
    "<b>Вывод: \n",
    "* <b>И снова наиболее перспективные гипотезы: 8, 3, 1, 7.\n",
    "* <b>Однако, при применении RICE на первом месте уже гипотеза под номером 8. Так получилось, потому что ее параметр Reach равен 10, в то время, как у других гипотез он меньше. Кроме силы гипотез, учитываем и то, как много пользователей она затронет.</b>"
   ]
  },
  {
   "cell_type": "markdown",
   "metadata": {},
   "source": [
    "## Часть 2. Анализ A/B-теста\n"
   ]
  },
  {
   "cell_type": "markdown",
   "metadata": {},
   "source": [
    "<b>Прочитаем файлы `csv`, предоставленные сервисом для проекта и сохраним их в переменных `orders и visitors`:"
   ]
  },
  {
   "cell_type": "code",
   "execution_count": 6,
   "metadata": {},
   "outputs": [
    {
     "data": {
      "text/html": [
       "<div>\n",
       "<style scoped>\n",
       "    .dataframe tbody tr th:only-of-type {\n",
       "        vertical-align: middle;\n",
       "    }\n",
       "\n",
       "    .dataframe tbody tr th {\n",
       "        vertical-align: top;\n",
       "    }\n",
       "\n",
       "    .dataframe thead th {\n",
       "        text-align: right;\n",
       "    }\n",
       "</style>\n",
       "<table border=\"1\" class=\"dataframe\">\n",
       "  <thead>\n",
       "    <tr style=\"text-align: right;\">\n",
       "      <th></th>\n",
       "      <th>transactionId</th>\n",
       "      <th>visitorId</th>\n",
       "      <th>date</th>\n",
       "      <th>revenue</th>\n",
       "      <th>group</th>\n",
       "    </tr>\n",
       "  </thead>\n",
       "  <tbody>\n",
       "    <tr>\n",
       "      <td>0</td>\n",
       "      <td>3667963787</td>\n",
       "      <td>3312258926</td>\n",
       "      <td>2019-08-15</td>\n",
       "      <td>1650</td>\n",
       "      <td>B</td>\n",
       "    </tr>\n",
       "    <tr>\n",
       "      <td>1</td>\n",
       "      <td>2804400009</td>\n",
       "      <td>3642806036</td>\n",
       "      <td>2019-08-15</td>\n",
       "      <td>730</td>\n",
       "      <td>B</td>\n",
       "    </tr>\n",
       "    <tr>\n",
       "      <td>2</td>\n",
       "      <td>2961555356</td>\n",
       "      <td>4069496402</td>\n",
       "      <td>2019-08-15</td>\n",
       "      <td>400</td>\n",
       "      <td>A</td>\n",
       "    </tr>\n",
       "    <tr>\n",
       "      <td>3</td>\n",
       "      <td>3797467345</td>\n",
       "      <td>1196621759</td>\n",
       "      <td>2019-08-15</td>\n",
       "      <td>9759</td>\n",
       "      <td>B</td>\n",
       "    </tr>\n",
       "    <tr>\n",
       "      <td>4</td>\n",
       "      <td>2282983706</td>\n",
       "      <td>2322279887</td>\n",
       "      <td>2019-08-15</td>\n",
       "      <td>2308</td>\n",
       "      <td>B</td>\n",
       "    </tr>\n",
       "  </tbody>\n",
       "</table>\n",
       "</div>"
      ],
      "text/plain": [
       "   transactionId   visitorId       date  revenue group\n",
       "0     3667963787  3312258926 2019-08-15     1650     B\n",
       "1     2804400009  3642806036 2019-08-15      730     B\n",
       "2     2961555356  4069496402 2019-08-15      400     A\n",
       "3     3797467345  1196621759 2019-08-15     9759     B\n",
       "4     2282983706  2322279887 2019-08-15     2308     B"
      ]
     },
     "metadata": {},
     "output_type": "display_data"
    },
    {
     "data": {
      "text/html": [
       "<div>\n",
       "<style scoped>\n",
       "    .dataframe tbody tr th:only-of-type {\n",
       "        vertical-align: middle;\n",
       "    }\n",
       "\n",
       "    .dataframe tbody tr th {\n",
       "        vertical-align: top;\n",
       "    }\n",
       "\n",
       "    .dataframe thead th {\n",
       "        text-align: right;\n",
       "    }\n",
       "</style>\n",
       "<table border=\"1\" class=\"dataframe\">\n",
       "  <thead>\n",
       "    <tr style=\"text-align: right;\">\n",
       "      <th></th>\n",
       "      <th>date</th>\n",
       "      <th>group</th>\n",
       "      <th>visitors</th>\n",
       "    </tr>\n",
       "  </thead>\n",
       "  <tbody>\n",
       "    <tr>\n",
       "      <td>0</td>\n",
       "      <td>2019-08-01</td>\n",
       "      <td>A</td>\n",
       "      <td>719</td>\n",
       "    </tr>\n",
       "    <tr>\n",
       "      <td>1</td>\n",
       "      <td>2019-08-02</td>\n",
       "      <td>A</td>\n",
       "      <td>619</td>\n",
       "    </tr>\n",
       "    <tr>\n",
       "      <td>2</td>\n",
       "      <td>2019-08-03</td>\n",
       "      <td>A</td>\n",
       "      <td>507</td>\n",
       "    </tr>\n",
       "    <tr>\n",
       "      <td>3</td>\n",
       "      <td>2019-08-04</td>\n",
       "      <td>A</td>\n",
       "      <td>717</td>\n",
       "    </tr>\n",
       "    <tr>\n",
       "      <td>4</td>\n",
       "      <td>2019-08-05</td>\n",
       "      <td>A</td>\n",
       "      <td>756</td>\n",
       "    </tr>\n",
       "  </tbody>\n",
       "</table>\n",
       "</div>"
      ],
      "text/plain": [
       "        date group  visitors\n",
       "0 2019-08-01     A       719\n",
       "1 2019-08-02     A       619\n",
       "2 2019-08-03     A       507\n",
       "3 2019-08-04     A       717\n",
       "4 2019-08-05     A       756"
      ]
     },
     "metadata": {},
     "output_type": "display_data"
    }
   ],
   "source": [
    "orders = pd.read_csv('...csv', sep=',')\n",
    "orders['date'] = orders['date'].map(\n",
    "    lambda x: dt.datetime.strptime(x, '%Y-%m-%d')\n",
    ")\n",
    "\n",
    "visitors = pd.read_csv(\n",
    "    '...csv', sep=','\n",
    ")\n",
    "visitors['date'] = visitors['date'].map(\n",
    "    lambda x: dt.datetime.strptime(x, '%Y-%m-%d')\n",
    ")\n",
    "display(orders.head())\n",
    "display(visitors.head())"
   ]
  },
  {
   "cell_type": "markdown",
   "metadata": {},
   "source": [
    "### Произведем предобработку данных"
   ]
  },
  {
   "cell_type": "code",
   "execution_count": 8,
   "metadata": {},
   "outputs": [],
   "source": [
    "# Приведем названия столбцов к нижнему регистру:\n",
    "orders = orders.rename(columns = {'transactionId': 'transaction_id', 'visitorId': 'visitor_id'})"
   ]
  },
  {
   "cell_type": "markdown",
   "metadata": {},
   "source": [
    "<b>Создадим функцию для изучения и первичной обработки данных:"
   ]
  },
  {
   "cell_type": "code",
   "execution_count": null,
   "metadata": {},
   "outputs": [],
   "source": [
    "def primary_analysis(df):\n",
    "    display(df.head())\n",
    "    display(df.info())\n",
    "    display(df.duplicated().sum())\n",
    "    \n",
    "   "
   ]
  },
  {
   "cell_type": "code",
   "execution_count": 9,
   "metadata": {},
   "outputs": [
    {
     "data": {
      "text/html": [
       "<div>\n",
       "<style scoped>\n",
       "    .dataframe tbody tr th:only-of-type {\n",
       "        vertical-align: middle;\n",
       "    }\n",
       "\n",
       "    .dataframe tbody tr th {\n",
       "        vertical-align: top;\n",
       "    }\n",
       "\n",
       "    .dataframe thead th {\n",
       "        text-align: right;\n",
       "    }\n",
       "</style>\n",
       "<table border=\"1\" class=\"dataframe\">\n",
       "  <thead>\n",
       "    <tr style=\"text-align: right;\">\n",
       "      <th></th>\n",
       "      <th>transaction_id</th>\n",
       "      <th>visitor_id</th>\n",
       "      <th>date</th>\n",
       "      <th>revenue</th>\n",
       "      <th>group</th>\n",
       "    </tr>\n",
       "  </thead>\n",
       "  <tbody>\n",
       "    <tr>\n",
       "      <td>0</td>\n",
       "      <td>3667963787</td>\n",
       "      <td>3312258926</td>\n",
       "      <td>2019-08-15</td>\n",
       "      <td>1650</td>\n",
       "      <td>B</td>\n",
       "    </tr>\n",
       "    <tr>\n",
       "      <td>1</td>\n",
       "      <td>2804400009</td>\n",
       "      <td>3642806036</td>\n",
       "      <td>2019-08-15</td>\n",
       "      <td>730</td>\n",
       "      <td>B</td>\n",
       "    </tr>\n",
       "    <tr>\n",
       "      <td>2</td>\n",
       "      <td>2961555356</td>\n",
       "      <td>4069496402</td>\n",
       "      <td>2019-08-15</td>\n",
       "      <td>400</td>\n",
       "      <td>A</td>\n",
       "    </tr>\n",
       "    <tr>\n",
       "      <td>3</td>\n",
       "      <td>3797467345</td>\n",
       "      <td>1196621759</td>\n",
       "      <td>2019-08-15</td>\n",
       "      <td>9759</td>\n",
       "      <td>B</td>\n",
       "    </tr>\n",
       "    <tr>\n",
       "      <td>4</td>\n",
       "      <td>2282983706</td>\n",
       "      <td>2322279887</td>\n",
       "      <td>2019-08-15</td>\n",
       "      <td>2308</td>\n",
       "      <td>B</td>\n",
       "    </tr>\n",
       "  </tbody>\n",
       "</table>\n",
       "</div>"
      ],
      "text/plain": [
       "   transaction_id  visitor_id       date  revenue group\n",
       "0      3667963787  3312258926 2019-08-15     1650     B\n",
       "1      2804400009  3642806036 2019-08-15      730     B\n",
       "2      2961555356  4069496402 2019-08-15      400     A\n",
       "3      3797467345  1196621759 2019-08-15     9759     B\n",
       "4      2282983706  2322279887 2019-08-15     2308     B"
      ]
     },
     "metadata": {},
     "output_type": "display_data"
    },
    {
     "name": "stdout",
     "output_type": "stream",
     "text": [
      "<class 'pandas.core.frame.DataFrame'>\n",
      "RangeIndex: 1197 entries, 0 to 1196\n",
      "Data columns (total 5 columns):\n",
      "transaction_id    1197 non-null int64\n",
      "visitor_id        1197 non-null int64\n",
      "date              1197 non-null datetime64[ns]\n",
      "revenue           1197 non-null int64\n",
      "group             1197 non-null object\n",
      "dtypes: datetime64[ns](1), int64(3), object(1)\n",
      "memory usage: 46.9+ KB\n"
     ]
    },
    {
     "data": {
      "text/plain": [
       "None"
      ]
     },
     "metadata": {},
     "output_type": "display_data"
    },
    {
     "data": {
      "text/plain": [
       "0"
      ]
     },
     "metadata": {},
     "output_type": "display_data"
    }
   ],
   "source": [
    "primary_analysis(orders)"
   ]
  },
  {
   "cell_type": "code",
   "execution_count": 10,
   "metadata": {},
   "outputs": [
    {
     "data": {
      "text/html": [
       "<div>\n",
       "<style scoped>\n",
       "    .dataframe tbody tr th:only-of-type {\n",
       "        vertical-align: middle;\n",
       "    }\n",
       "\n",
       "    .dataframe tbody tr th {\n",
       "        vertical-align: top;\n",
       "    }\n",
       "\n",
       "    .dataframe thead th {\n",
       "        text-align: right;\n",
       "    }\n",
       "</style>\n",
       "<table border=\"1\" class=\"dataframe\">\n",
       "  <thead>\n",
       "    <tr style=\"text-align: right;\">\n",
       "      <th></th>\n",
       "      <th>date</th>\n",
       "      <th>group</th>\n",
       "      <th>visitors</th>\n",
       "    </tr>\n",
       "  </thead>\n",
       "  <tbody>\n",
       "    <tr>\n",
       "      <td>0</td>\n",
       "      <td>2019-08-01</td>\n",
       "      <td>A</td>\n",
       "      <td>719</td>\n",
       "    </tr>\n",
       "    <tr>\n",
       "      <td>1</td>\n",
       "      <td>2019-08-02</td>\n",
       "      <td>A</td>\n",
       "      <td>619</td>\n",
       "    </tr>\n",
       "    <tr>\n",
       "      <td>2</td>\n",
       "      <td>2019-08-03</td>\n",
       "      <td>A</td>\n",
       "      <td>507</td>\n",
       "    </tr>\n",
       "    <tr>\n",
       "      <td>3</td>\n",
       "      <td>2019-08-04</td>\n",
       "      <td>A</td>\n",
       "      <td>717</td>\n",
       "    </tr>\n",
       "    <tr>\n",
       "      <td>4</td>\n",
       "      <td>2019-08-05</td>\n",
       "      <td>A</td>\n",
       "      <td>756</td>\n",
       "    </tr>\n",
       "  </tbody>\n",
       "</table>\n",
       "</div>"
      ],
      "text/plain": [
       "        date group  visitors\n",
       "0 2019-08-01     A       719\n",
       "1 2019-08-02     A       619\n",
       "2 2019-08-03     A       507\n",
       "3 2019-08-04     A       717\n",
       "4 2019-08-05     A       756"
      ]
     },
     "metadata": {},
     "output_type": "display_data"
    },
    {
     "name": "stdout",
     "output_type": "stream",
     "text": [
      "<class 'pandas.core.frame.DataFrame'>\n",
      "RangeIndex: 62 entries, 0 to 61\n",
      "Data columns (total 3 columns):\n",
      "date        62 non-null datetime64[ns]\n",
      "group       62 non-null object\n",
      "visitors    62 non-null int64\n",
      "dtypes: datetime64[ns](1), int64(1), object(1)\n",
      "memory usage: 1.6+ KB\n"
     ]
    },
    {
     "data": {
      "text/plain": [
       "None"
      ]
     },
     "metadata": {},
     "output_type": "display_data"
    },
    {
     "data": {
      "text/plain": [
       "0"
      ]
     },
     "metadata": {},
     "output_type": "display_data"
    }
   ],
   "source": [
    "primary_analysis(visitors)"
   ]
  },
  {
   "cell_type": "code",
   "execution_count": 11,
   "metadata": {},
   "outputs": [],
   "source": [
    "# Найдем пользователей, которые попали в обе группы:\n",
    "duplicated_user = np.intersect1d(orders.query('group == \"A\"')['visitor_id'].unique(), orders.query('group == \"B\"')['visitor_id'].unique())\n"
   ]
  },
  {
   "cell_type": "code",
   "execution_count": 12,
   "metadata": {},
   "outputs": [],
   "source": [
    "# удалим пользователей, которые попали в обе группы:\n",
    "orders = orders[~orders['visitor_id'].isin(duplicated_user)]"
   ]
  },
  {
   "cell_type": "markdown",
   "metadata": {},
   "source": [
    "<b>Вывод: выяснили, что в данных отсутсвуют пропущенные значения и дубликаты. Привели названия столбцов к нижнему регистру в соответствие с правилом хорошего стиля, изменили тип данных в date и удалилили пользователей, которые попали одновременно в обе группы.</b>"
   ]
  },
  {
   "cell_type": "markdown",
   "metadata": {},
   "source": [
    "### Построим график кумулятивной выручки по группам"
   ]
  },
  {
   "cell_type": "code",
   "execution_count": 13,
   "metadata": {},
   "outputs": [
    {
     "data": {
      "text/html": [
       "<div>\n",
       "<style scoped>\n",
       "    .dataframe tbody tr th:only-of-type {\n",
       "        vertical-align: middle;\n",
       "    }\n",
       "\n",
       "    .dataframe tbody tr th {\n",
       "        vertical-align: top;\n",
       "    }\n",
       "\n",
       "    .dataframe thead th {\n",
       "        text-align: right;\n",
       "    }\n",
       "</style>\n",
       "<table border=\"1\" class=\"dataframe\">\n",
       "  <thead>\n",
       "    <tr style=\"text-align: right;\">\n",
       "      <th></th>\n",
       "      <th>date</th>\n",
       "      <th>group</th>\n",
       "      <th>orders</th>\n",
       "      <th>buyers</th>\n",
       "      <th>revenue</th>\n",
       "      <th>visitors</th>\n",
       "    </tr>\n",
       "  </thead>\n",
       "  <tbody>\n",
       "    <tr>\n",
       "      <td>0</td>\n",
       "      <td>2019-08-01</td>\n",
       "      <td>A</td>\n",
       "      <td>23</td>\n",
       "      <td>19</td>\n",
       "      <td>142779</td>\n",
       "      <td>719</td>\n",
       "    </tr>\n",
       "    <tr>\n",
       "      <td>1</td>\n",
       "      <td>2019-08-01</td>\n",
       "      <td>B</td>\n",
       "      <td>17</td>\n",
       "      <td>17</td>\n",
       "      <td>59758</td>\n",
       "      <td>713</td>\n",
       "    </tr>\n",
       "    <tr>\n",
       "      <td>2</td>\n",
       "      <td>2019-08-02</td>\n",
       "      <td>A</td>\n",
       "      <td>42</td>\n",
       "      <td>36</td>\n",
       "      <td>234381</td>\n",
       "      <td>1338</td>\n",
       "    </tr>\n",
       "    <tr>\n",
       "      <td>3</td>\n",
       "      <td>2019-08-02</td>\n",
       "      <td>B</td>\n",
       "      <td>40</td>\n",
       "      <td>39</td>\n",
       "      <td>221801</td>\n",
       "      <td>1294</td>\n",
       "    </tr>\n",
       "    <tr>\n",
       "      <td>4</td>\n",
       "      <td>2019-08-03</td>\n",
       "      <td>A</td>\n",
       "      <td>66</td>\n",
       "      <td>60</td>\n",
       "      <td>346854</td>\n",
       "      <td>1845</td>\n",
       "    </tr>\n",
       "  </tbody>\n",
       "</table>\n",
       "</div>"
      ],
      "text/plain": [
       "        date group  orders  buyers  revenue  visitors\n",
       "0 2019-08-01     A      23      19   142779       719\n",
       "1 2019-08-01     B      17      17    59758       713\n",
       "2 2019-08-02     A      42      36   234381      1338\n",
       "3 2019-08-02     B      40      39   221801      1294\n",
       "4 2019-08-03     A      66      60   346854      1845"
      ]
     },
     "execution_count": 13,
     "metadata": {},
     "output_type": "execute_result"
    }
   ],
   "source": [
    "# создаем массив уникальных пар значений дат и групп теста\n",
    "datesGroups = orders[['date','group']].drop_duplicates()\n",
    "\n",
    "# получаем агрегированные кумулятивные по дням данные о заказах \n",
    "ordersAggregated = datesGroups.apply(lambda x: orders[np.logical_and(orders['date'] <= x['date'], orders['group'] == x['group'])].agg({'date' : 'max', 'group' : 'max', 'transaction_id' : 'nunique', 'visitor_id' : 'nunique', 'revenue' : 'sum'}), axis=1).sort_values(by=['date','group'])\n",
    "\n",
    "# получаем агрегированные кумулятивные по дням данные о посетителях интернет-магазина \n",
    "visitorsAggregated = datesGroups.apply(lambda x: visitors[np.logical_and(visitors['date'] <= x['date'], visitors['group'] == x['group'])].agg({'date' : 'max', 'group' : 'max', 'visitors' : 'sum'}), axis=1).sort_values(by=['date','group'])\n",
    "\n",
    "# объединяем кумулятивные данные в одной таблице и присваиваем ее столбцам понятные названия\n",
    "cumulativeData = ordersAggregated.merge(visitorsAggregated, left_on=['date', 'group'], right_on=['date', 'group'])\n",
    "cumulativeData.columns = ['date', 'group', 'orders', 'buyers', 'revenue', 'visitors']\n",
    "\n",
    "cumulativeData.head()"
   ]
  },
  {
   "cell_type": "code",
   "execution_count": 14,
   "metadata": {
    "scrolled": true
   },
   "outputs": [
    {
     "name": "stderr",
     "output_type": "stream",
     "text": [
      "/opt/conda/lib/python3.7/site-packages/pandas/plotting/_matplotlib/converter.py:103: FutureWarning: Using an implicitly registered datetime converter for a matplotlib plotting method. The converter was registered by pandas on import. Future versions of pandas will require you to explicitly register matplotlib converters.\n",
      "\n",
      "To register the converters:\n",
      "\t>>> from pandas.plotting import register_matplotlib_converters\n",
      "\t>>> register_matplotlib_converters()\n",
      "  warnings.warn(msg, FutureWarning)\n"
     ]
    },
    {
     "data": {
      "image/png": "[encoded data removed]",
      "text/plain": [
       "<Figure size 432x288 with 1 Axes>"
      ]
     },
     "metadata": {
      "needs_background": "light"
     },
     "output_type": "display_data"
    }
   ],
   "source": [
    "\n",
    "import matplotlib.pyplot as plt\n",
    "\n",
    "# датафрейм с кумулятивным количеством заказов и кумулятивной выручкой по дням в группе А\n",
    "cumulativeRevenueA = cumulativeData[cumulativeData['group']=='A'][['date','revenue', 'orders']]\n",
    "\n",
    "# датафрейм с кумулятивным количеством заказов и кумулятивной выручкой по дням в группе B\n",
    "cumulativeRevenueB = cumulativeData[cumulativeData['group']=='B'][['date','revenue', 'orders']]\n",
    "\n",
    "# Строим график выручки группы А\n",
    "plt.plot(cumulativeRevenueA['date'], cumulativeRevenueA['revenue'], label='A')\n",
    "\n",
    "# Строим график выручки группы B\n",
    "plt.plot(cumulativeRevenueB['date'], cumulativeRevenueB['revenue'], label='B')\n",
    "plt.xticks(rotation=90)\n",
    "plt.title('Распределение кумулятивной выручки по группам')\n",
    "plt.ylabel('Кумулятивная выручка')\n",
    "plt.show()"
   ]
  },
  {
   "cell_type": "markdown",
   "metadata": {},
   "source": [
    "<b>Вывод: группа A стабильно хуже, чем группа B. Выручка почти равномерно увеличивается в течение всего теста. Это хороший знак. Однако, график выручки группы В резко растет в одной точке. Это может сигнализировать о всплесках числа заказов, либо о появлении очень дорогих заказов в выборке.</b>\n",
    "  "
   ]
  },
  {
   "cell_type": "markdown",
   "metadata": {},
   "source": [
    "### Построим график кумулятивного среднего чека по группам"
   ]
  },
  {
   "cell_type": "code",
   "execution_count": 15,
   "metadata": {},
   "outputs": [
    {
     "data": {
      "image/png": "[encoded data removed]",
      "text/plain": [
       "<Figure size 432x288 with 1 Axes>"
      ]
     },
     "metadata": {
      "needs_background": "light"
     },
     "output_type": "display_data"
    }
   ],
   "source": [
    "# Построим графики среднего чека по группам — разделим кумулятивную выручку на кумулятивное число заказов:\n",
    "plt.plot(cumulativeRevenueA['date'], cumulativeRevenueA['revenue']/cumulativeRevenueA['orders'], label='A')\n",
    "plt.plot(cumulativeRevenueB['date'], cumulativeRevenueB['revenue']/cumulativeRevenueB['orders'], label='B')\n",
    "plt.title('Распределение кумулятивного среднего чека по группам')\n",
    "plt.ylabel('Кумулятивная выручка')\n",
    "plt.xticks(rotation=90)\n",
    "plt.show()"
   ]
  },
  {
   "cell_type": "markdown",
   "metadata": {},
   "source": [
    "<b> Вывод: группа A стабильно хуже, чем группа B. Средний чек становится равномерным ближе к концу теста: установился для группы A и продолжает падать для группы B. Возможно, в группу B в середине теста попали крупные заказы (резкий всплеск на графике). Тогда ей нужно больше данных, чтобы прийти к реальному среднему чеку и установиться на его уровне.</b>"
   ]
  },
  {
   "cell_type": "markdown",
   "metadata": {},
   "source": [
    "### Построим график относительного изменения кумулятивного среднего чека группы B к группе A"
   ]
  },
  {
   "cell_type": "code",
   "execution_count": 16,
   "metadata": {},
   "outputs": [
    {
     "data": {
      "image/png": "[encoded data removed]",
      "text/plain": [
       "<Figure size 432x288 with 1 Axes>"
      ]
     },
     "metadata": {
      "needs_background": "light"
     },
     "output_type": "display_data"
    }
   ],
   "source": [
    "# собираем данные в одном датафрейме\n",
    "mergedCumulativeRevenue = cumulativeRevenueA.merge(cumulativeRevenueB, left_on='date', right_on='date', how='left', suffixes=['A', 'B'])\n",
    "\n",
    "# cтроим отношение средних чеков\n",
    "plt.plot(mergedCumulativeRevenue['date'], (mergedCumulativeRevenue['revenueB']/mergedCumulativeRevenue['ordersB'])/(mergedCumulativeRevenue['revenueA']/mergedCumulativeRevenue['ordersA'])-1)\n",
    "\n",
    "# добавляем ось X\n",
    "plt.axhline(y=0, color='black', linestyle='--')\n",
    "plt.title('График относительного изменения кумулятивного среднего чека группы B к группе A')\n",
    "plt.ylabel('Кумулятивная выручка')\n",
    "plt.xticks(rotation=90)\n",
    "plt.show()"
   ]
  },
  {
   "cell_type": "markdown",
   "metadata": {},
   "source": [
    "<b>Вывод: группа B лучше, чем группа A. В нескольких точках график различия между сегментами резко «скачет». Где-то уж точно спрятались крупные заказы и выбросы.</b>"
   ]
  },
  {
   "cell_type": "markdown",
   "metadata": {},
   "source": [
    "###  Построим график кумулятивной конверсии по группам"
   ]
  },
  {
   "cell_type": "code",
   "execution_count": 17,
   "metadata": {},
   "outputs": [
    {
     "data": {
      "image/png": "[encoded data removed]",
      "text/plain": [
       "<Figure size 432x288 with 1 Axes>"
      ]
     },
     "metadata": {
      "needs_background": "light"
     },
     "output_type": "display_data"
    }
   ],
   "source": [
    "# считаем кумулятивную конверсию\n",
    "cumulativeData['conversion'] = cumulativeData['orders']/cumulativeData['visitors']\n",
    "\n",
    "# отделяем данные по группе A\n",
    "cumulativeDataA = cumulativeData[cumulativeData['group']=='A']\n",
    "\n",
    "# отделяем данные по группе B\n",
    "cumulativeDataB = cumulativeData[cumulativeData['group']=='B']\n",
    "\n",
    "# строим графики\n",
    "plt.plot(cumulativeDataA['date'], cumulativeDataA['conversion'], label='A')\n",
    "plt.plot(cumulativeDataB['date'], cumulativeDataB['conversion'], label='B')\n",
    "plt.xticks(rotation=90)\n",
    "plt.title('Распределение кумулятивной конверсии по группам')\n",
    "plt.ylabel('Кумулятивная конверсия')\n",
    "plt.show()\n",
    "\n"
   ]
  },
  {
   "cell_type": "markdown",
   "metadata": {},
   "source": [
    "<b>Вывод: симметричный график получился! Группы колебались около одного значения, но затем конверсия группы B вырвалась вперёд и зафиксировалась, а конверсия группы A просела и также зафиксировалась.</b>"
   ]
  },
  {
   "cell_type": "markdown",
   "metadata": {},
   "source": [
    "### Построим график относительного изменения кумулятивной конверсии группы B к группе A"
   ]
  },
  {
   "cell_type": "code",
   "execution_count": 18,
   "metadata": {},
   "outputs": [
    {
     "data": {
      "image/png": "[encoded data removed]",
      "text/plain": [
       "<Figure size 432x288 with 1 Axes>"
      ]
     },
     "metadata": {
      "needs_background": "light"
     },
     "output_type": "display_data"
    }
   ],
   "source": [
    "mergedCumulativeConversions = cumulativeDataA[['date','conversion']].merge(cumulativeDataB[['date','conversion']], left_on='date', right_on='date', how='left', suffixes=['A', 'B'])\n",
    "\n",
    "plt.plot(mergedCumulativeConversions['date'], mergedCumulativeConversions['conversionB']/mergedCumulativeConversions['conversionA']-1, label=\"Относительный прирост конверсии группы B относительно группы A\")\n",
    "plt.xticks(rotation=90)\n",
    "plt.title('График относительного изменения кумулятивной конверсии группы B к группе A.')\n",
    "plt.ylabel('Кумулятивная конверсия')\n",
    "plt.axhline(y=0, color='black', linestyle='--')\n",
    "plt.axhline(y=-0.1, color='grey', linestyle='--')\n",
    "plt.show()\n"
   ]
  },
  {
   "cell_type": "markdown",
   "metadata": {},
   "source": [
    "<b>Вывод: в начале теста группа B значительно проигрывала группе A, затем вырвалась вперёд. \n",
    "В целом отношение конверсии  установилось. Впрочем, сперва стоит проанализировать аномалии, возможно, они изменят картину.</b>"
   ]
  },
  {
   "cell_type": "markdown",
   "metadata": {},
   "source": [
    "## Построим точечный график количества заказов по пользователям"
   ]
  },
  {
   "cell_type": "code",
   "execution_count": 19,
   "metadata": {},
   "outputs": [
    {
     "data": {
      "text/html": [
       "<div>\n",
       "<style scoped>\n",
       "    .dataframe tbody tr th:only-of-type {\n",
       "        vertical-align: middle;\n",
       "    }\n",
       "\n",
       "    .dataframe tbody tr th {\n",
       "        vertical-align: top;\n",
       "    }\n",
       "\n",
       "    .dataframe thead th {\n",
       "        text-align: right;\n",
       "    }\n",
       "</style>\n",
       "<table border=\"1\" class=\"dataframe\">\n",
       "  <thead>\n",
       "    <tr style=\"text-align: right;\">\n",
       "      <th></th>\n",
       "      <th>user_id</th>\n",
       "      <th>orders</th>\n",
       "    </tr>\n",
       "  </thead>\n",
       "  <tbody>\n",
       "    <tr>\n",
       "      <td>908</td>\n",
       "      <td>3967698036</td>\n",
       "      <td>3</td>\n",
       "    </tr>\n",
       "    <tr>\n",
       "      <td>55</td>\n",
       "      <td>249864742</td>\n",
       "      <td>3</td>\n",
       "    </tr>\n",
       "    <tr>\n",
       "      <td>478</td>\n",
       "      <td>2108163459</td>\n",
       "      <td>3</td>\n",
       "    </tr>\n",
       "    <tr>\n",
       "      <td>687</td>\n",
       "      <td>2988190573</td>\n",
       "      <td>3</td>\n",
       "    </tr>\n",
       "    <tr>\n",
       "      <td>890</td>\n",
       "      <td>3908431265</td>\n",
       "      <td>3</td>\n",
       "    </tr>\n",
       "    <tr>\n",
       "      <td>138</td>\n",
       "      <td>611059232</td>\n",
       "      <td>3</td>\n",
       "    </tr>\n",
       "    <tr>\n",
       "      <td>632</td>\n",
       "      <td>2742574263</td>\n",
       "      <td>3</td>\n",
       "    </tr>\n",
       "    <tr>\n",
       "      <td>157</td>\n",
       "      <td>678354126</td>\n",
       "      <td>2</td>\n",
       "    </tr>\n",
       "    <tr>\n",
       "      <td>323</td>\n",
       "      <td>1404560065</td>\n",
       "      <td>2</td>\n",
       "    </tr>\n",
       "    <tr>\n",
       "      <td>452</td>\n",
       "      <td>1985475298</td>\n",
       "      <td>2</td>\n",
       "    </tr>\n",
       "  </tbody>\n",
       "</table>\n",
       "</div>"
      ],
      "text/plain": [
       "        user_id  orders\n",
       "908  3967698036       3\n",
       "55    249864742       3\n",
       "478  2108163459       3\n",
       "687  2988190573       3\n",
       "890  3908431265       3\n",
       "138   611059232       3\n",
       "632  2742574263       3\n",
       "157   678354126       2\n",
       "323  1404560065       2\n",
       "452  1985475298       2"
      ]
     },
     "metadata": {},
     "output_type": "display_data"
    }
   ],
   "source": [
    "# Подсчитаем количество заказов по пользователям и посмотрим на результат:\n",
    "ordersByUsers = (\n",
    "    orders.groupby('visitor_id', as_index=False)\n",
    "    .agg({'transaction_id': pd.Series.nunique})\n",
    ")\n",
    "\n",
    "ordersByUsers.columns = ['user_id', 'orders']\n",
    "\n",
    "display(ordersByUsers.sort_values(by='orders', ascending=False).head(10))"
   ]
  },
  {
   "cell_type": "code",
   "execution_count": 20,
   "metadata": {},
   "outputs": [
    {
     "data": {
      "image/png": "[encoded data removed]",
      "text/plain": [
       "<Figure size 432x288 with 1 Axes>"
      ]
     },
     "metadata": {
      "needs_background": "light"
     },
     "output_type": "display_data"
    }
   ],
   "source": [
    "x_values = pd.Series(range(0,len(ordersByUsers)))\n",
    "\n",
    "plt.scatter(x_values, ordersByUsers['orders'])\n",
    "plt.title('График количества заказов по пользователям')\n",
    "plt.ylabel('Количество заказов')\n",
    "plt.show()"
   ]
  },
  {
   "cell_type": "markdown",
   "metadata": {},
   "source": [
    "### Посчитаем 95-й и 99-й перцентили количества заказов на пользователя"
   ]
  },
  {
   "cell_type": "code",
   "execution_count": 21,
   "metadata": {},
   "outputs": [
    {
     "data": {
      "text/plain": [
       "array([1., 1., 2.])"
      ]
     },
     "execution_count": 21,
     "metadata": {},
     "output_type": "execute_result"
    }
   ],
   "source": [
    "np.percentile(ordersByUsers['orders'], [90, 95, 99])"
   ]
  },
  {
   "cell_type": "markdown",
   "metadata": {},
   "source": [
    "<b> Вывод: не более 1% больше 2-х заказов.</b>"
   ]
  },
  {
   "cell_type": "markdown",
   "metadata": {},
   "source": [
    "### Постройте точечный график стоимостей заказов"
   ]
  },
  {
   "cell_type": "code",
   "execution_count": 22,
   "metadata": {},
   "outputs": [
    {
     "data": {
      "image/png": "[encoded data removed]",
      "text/plain": [
       "<Figure size 432x288 with 1 Axes>"
      ]
     },
     "metadata": {
      "needs_background": "light"
     },
     "output_type": "display_data"
    }
   ],
   "source": [
    "x_values = pd.Series(range(0,len(orders['revenue'])))\n",
    "plt.scatter(x_values, orders['revenue'])\n",
    "plt.title('Стоимость заказов по пользователям')\n",
    "plt.ylabel('Стоимость заказов')\n",
    "plt.show()"
   ]
  },
  {
   "cell_type": "markdown",
   "metadata": {},
   "source": [
    "### Посчитайте 95-й и 99-й перцентили стоимости заказов и выберем границу для определения аномальных заказов\n"
   ]
  },
  {
   "cell_type": "code",
   "execution_count": 23,
   "metadata": {},
   "outputs": [
    {
     "data": {
      "text/plain": [
       "array([17990., 26785., 53904.])"
      ]
     },
     "execution_count": 23,
     "metadata": {},
     "output_type": "execute_result"
    }
   ],
   "source": [
    "np.percentile(orders['revenue'], [90, 95, 99])"
   ]
  },
  {
   "cell_type": "markdown",
   "metadata": {},
   "source": [
    "<b>Вывод: не более 5% заказов дороже 27 000 рублей и не более 1% дороже 54 0000 рублей.</b>"
   ]
  },
  {
   "cell_type": "markdown",
   "metadata": {},
   "source": [
    "* <b>Примем за аномальных пользователей тех, кто совершил более 2 заказов или совершил заказ дороже 30 000 рублей. Так мы уберём 1% пользователей с наибольшим числом заказов и от 1% до 5% пользователей с дорогими заказами.</div>"
   ]
  },
  {
   "cell_type": "markdown",
   "metadata": {},
   "source": [
    "### Посчитаем статистическую значимость различий в конверсии между группами по «сырым» данным"
   ]
  },
  {
   "cell_type": "code",
   "execution_count": 24,
   "metadata": {},
   "outputs": [
    {
     "data": {
      "text/html": [
       "<div>\n",
       "<style scoped>\n",
       "    .dataframe tbody tr th:only-of-type {\n",
       "        vertical-align: middle;\n",
       "    }\n",
       "\n",
       "    .dataframe tbody tr th {\n",
       "        vertical-align: top;\n",
       "    }\n",
       "\n",
       "    .dataframe thead th {\n",
       "        text-align: right;\n",
       "    }\n",
       "</style>\n",
       "<table border=\"1\" class=\"dataframe\">\n",
       "  <thead>\n",
       "    <tr style=\"text-align: right;\">\n",
       "      <th></th>\n",
       "      <th>date</th>\n",
       "      <th>ordersPerDateA</th>\n",
       "      <th>revenuePerDateA</th>\n",
       "      <th>ordersPerDateB</th>\n",
       "      <th>revenuePerDateB</th>\n",
       "      <th>ordersCummulativeA</th>\n",
       "      <th>revenueCummulativeA</th>\n",
       "      <th>ordersCummulativeB</th>\n",
       "      <th>revenueCummulativeB</th>\n",
       "      <th>visitorsPerDateA</th>\n",
       "      <th>visitorsPerDateB</th>\n",
       "      <th>visitorsCummulativeA</th>\n",
       "      <th>visitorsCummulativeB</th>\n",
       "    </tr>\n",
       "  </thead>\n",
       "  <tbody>\n",
       "    <tr>\n",
       "      <td>0</td>\n",
       "      <td>2019-08-01</td>\n",
       "      <td>23</td>\n",
       "      <td>142779</td>\n",
       "      <td>17</td>\n",
       "      <td>59758</td>\n",
       "      <td>23</td>\n",
       "      <td>142779</td>\n",
       "      <td>17</td>\n",
       "      <td>59758</td>\n",
       "      <td>719</td>\n",
       "      <td>713</td>\n",
       "      <td>719</td>\n",
       "      <td>713</td>\n",
       "    </tr>\n",
       "    <tr>\n",
       "      <td>1</td>\n",
       "      <td>2019-08-02</td>\n",
       "      <td>19</td>\n",
       "      <td>91602</td>\n",
       "      <td>23</td>\n",
       "      <td>162043</td>\n",
       "      <td>42</td>\n",
       "      <td>234381</td>\n",
       "      <td>40</td>\n",
       "      <td>221801</td>\n",
       "      <td>619</td>\n",
       "      <td>581</td>\n",
       "      <td>1338</td>\n",
       "      <td>1294</td>\n",
       "    </tr>\n",
       "    <tr>\n",
       "      <td>2</td>\n",
       "      <td>2019-08-03</td>\n",
       "      <td>24</td>\n",
       "      <td>112473</td>\n",
       "      <td>14</td>\n",
       "      <td>67049</td>\n",
       "      <td>66</td>\n",
       "      <td>346854</td>\n",
       "      <td>54</td>\n",
       "      <td>288850</td>\n",
       "      <td>507</td>\n",
       "      <td>509</td>\n",
       "      <td>1845</td>\n",
       "      <td>1803</td>\n",
       "    </tr>\n",
       "    <tr>\n",
       "      <td>3</td>\n",
       "      <td>2019-08-04</td>\n",
       "      <td>11</td>\n",
       "      <td>41176</td>\n",
       "      <td>14</td>\n",
       "      <td>96890</td>\n",
       "      <td>77</td>\n",
       "      <td>388030</td>\n",
       "      <td>68</td>\n",
       "      <td>385740</td>\n",
       "      <td>717</td>\n",
       "      <td>770</td>\n",
       "      <td>2562</td>\n",
       "      <td>2573</td>\n",
       "    </tr>\n",
       "    <tr>\n",
       "      <td>4</td>\n",
       "      <td>2019-08-05</td>\n",
       "      <td>22</td>\n",
       "      <td>86383</td>\n",
       "      <td>21</td>\n",
       "      <td>89908</td>\n",
       "      <td>99</td>\n",
       "      <td>474413</td>\n",
       "      <td>89</td>\n",
       "      <td>475648</td>\n",
       "      <td>756</td>\n",
       "      <td>707</td>\n",
       "      <td>3318</td>\n",
       "      <td>3280</td>\n",
       "    </tr>\n",
       "  </tbody>\n",
       "</table>\n",
       "</div>"
      ],
      "text/plain": [
       "        date  ordersPerDateA  revenuePerDateA  ordersPerDateB  \\\n",
       "0 2019-08-01              23           142779              17   \n",
       "1 2019-08-02              19            91602              23   \n",
       "2 2019-08-03              24           112473              14   \n",
       "3 2019-08-04              11            41176              14   \n",
       "4 2019-08-05              22            86383              21   \n",
       "\n",
       "   revenuePerDateB  ordersCummulativeA  revenueCummulativeA  \\\n",
       "0            59758                  23               142779   \n",
       "1           162043                  42               234381   \n",
       "2            67049                  66               346854   \n",
       "3            96890                  77               388030   \n",
       "4            89908                  99               474413   \n",
       "\n",
       "   ordersCummulativeB  revenueCummulativeB  visitorsPerDateA  \\\n",
       "0                  17                59758               719   \n",
       "1                  40               221801               619   \n",
       "2                  54               288850               507   \n",
       "3                  68               385740               717   \n",
       "4                  89               475648               756   \n",
       "\n",
       "   visitorsPerDateB  visitorsCummulativeA  visitorsCummulativeB  \n",
       "0               713                   719                   713  \n",
       "1               581                  1338                  1294  \n",
       "2               509                  1845                  1803  \n",
       "3               770                  2562                  2573  \n",
       "4               707                  3318                  3280  "
      ]
     },
     "execution_count": 24,
     "metadata": {},
     "output_type": "execute_result"
    }
   ],
   "source": [
    "visitorsADaily = visitors[visitors['group'] == 'A'][['date', 'visitors']]\n",
    "visitorsADaily.columns = ['date', 'visitorsPerDateA']\n",
    "\n",
    "visitorsACummulative = visitorsADaily.apply(\n",
    "    lambda x: visitorsADaily[visitorsADaily['date'] <= x['date']].agg(\n",
    "        {'date': 'max', 'visitorsPerDateA': 'sum'}\n",
    "    ),\n",
    "    axis=1,\n",
    ")\n",
    "visitorsACummulative.columns = ['date', 'visitorsCummulativeA']\n",
    "\n",
    "visitorsBDaily = visitors[visitors['group'] == 'B'][['date', 'visitors']]\n",
    "visitorsBDaily.columns = ['date', 'visitorsPerDateB']\n",
    "\n",
    "visitorsBCummulative = visitorsBDaily.apply(\n",
    "    lambda x: visitorsBDaily[visitorsBDaily['date'] <= x['date']].agg(\n",
    "        {'date': 'max', 'visitorsPerDateB': 'sum'}\n",
    "    ),\n",
    "    axis=1,\n",
    ")\n",
    "visitorsBCummulative.columns = ['date', 'visitorsCummulativeB']\n",
    "\n",
    "ordersADaily = (\n",
    "    orders[orders['group'] == 'A'][['date', 'transaction_id', 'visitor_id', 'revenue']]\n",
    "    .groupby('date', as_index=False)\n",
    "    .agg({'transaction_id': pd.Series.nunique, 'revenue': 'sum'})\n",
    ")\n",
    "ordersADaily.columns = ['date', 'ordersPerDateA', 'revenuePerDateA']\n",
    "\n",
    "ordersACummulative = ordersADaily.apply(\n",
    "    lambda x: ordersADaily[ordersADaily['date'] <= x['date']].agg(\n",
    "        {'date': 'max', 'ordersPerDateA': 'sum', 'revenuePerDateA': 'sum'}\n",
    "    ),\n",
    "    axis=1,\n",
    ").sort_values(by=['date'])\n",
    "ordersACummulative.columns = [\n",
    "    'date',\n",
    "    'ordersCummulativeA',\n",
    "    'revenueCummulativeA',\n",
    "]\n",
    "\n",
    "ordersBDaily = (\n",
    "    orders[orders['group'] == 'B'][['date', 'transaction_id', 'visitor_id', 'revenue']]\n",
    "    .groupby('date', as_index=False)\n",
    "    .agg({'transaction_id': pd.Series.nunique, 'revenue': 'sum'})\n",
    ")\n",
    "ordersBDaily.columns = ['date', 'ordersPerDateB', 'revenuePerDateB']\n",
    "\n",
    "ordersBCummulative = ordersBDaily.apply(\n",
    "    lambda x: ordersBDaily[ordersBDaily['date'] <= x['date']].agg(\n",
    "        {'date': 'max', 'ordersPerDateB': 'sum', 'revenuePerDateB': 'sum'}\n",
    "    ),\n",
    "    axis=1,\n",
    ").sort_values(by=['date'])\n",
    "ordersBCummulative.columns = [\n",
    "    'date',\n",
    "    'ordersCummulativeB',\n",
    "    'revenueCummulativeB',\n",
    "]\n",
    "\n",
    "data = (\n",
    "    ordersADaily.merge(\n",
    "        ordersBDaily, left_on='date', right_on='date', how='left'\n",
    "    )\n",
    "    .merge(ordersACummulative, left_on='date', right_on='date', how='left')\n",
    "    .merge(ordersBCummulative, left_on='date', right_on='date', how='left')\n",
    "    .merge(visitorsADaily, left_on='date', right_on='date', how='left')\n",
    "    .merge(visitorsBDaily, left_on='date', right_on='date', how='left')\n",
    "    .merge(visitorsACummulative, left_on='date', right_on='date', how='left')\n",
    "    .merge(visitorsBCummulative, left_on='date', right_on='date', how='left')\n",
    ")\n",
    "data.head()"
   ]
  },
  {
   "cell_type": "code",
   "execution_count": 25,
   "metadata": {},
   "outputs": [],
   "source": [
    "# Создадим переменные ordersByUsersA и ordersByUsersB со столбцами ['user_id', 'orders']. \n",
    "# В них для пользователей, которые заказывали хотя бы 1 раз, укажем число совершённых заказов.\n",
    "\n",
    "ordersByUsersA = (\n",
    "    orders[orders['group'] == 'A']\n",
    "    .groupby('visitor_id', as_index=False)\n",
    "    .agg({'transaction_id': pd.Series.nunique})\n",
    ")\n",
    "ordersByUsersA.columns = ['user_id', 'orders']\n",
    "\n",
    "ordersByUsersB = (\n",
    "    orders[orders['group'] == 'B']\n",
    "    .groupby('visitor_id', as_index=False)\n",
    "    .agg({'transaction_id': pd.Series.nunique})\n",
    ")\n",
    "ordersByUsersB.columns = ['user_id', 'orders']"
   ]
  },
  {
   "cell_type": "markdown",
   "metadata": {},
   "source": [
    "* <b>Объявим переменные <code>sampleA и sampleB</code>, в которых пользователям из разных групп будет соответствовать количество заказов.\n",
    "* <b>Тем, кто ничего не заказал, будут соответствовать нули. Это нужно, чтобы подготовить выборки к проверке критерием Манна-Уитни."
   ]
  },
  {
   "cell_type": "code",
   "execution_count": 26,
   "metadata": {},
   "outputs": [],
   "source": [
    "sampleA = pd.concat([ordersByUsersA['orders'],pd.Series(0, index=np.arange(data['visitorsPerDateA'].sum() - len(ordersByUsersA['orders'])), name='orders')],axis=0)\n",
    "\n",
    "sampleB = pd.concat([ordersByUsersB['orders'],pd.Series(0, index=np.arange(data['visitorsPerDateB'].sum() - len(ordersByUsersB['orders'])), name='orders')],axis=0)"
   ]
  },
  {
   "cell_type": "markdown",
   "metadata": {},
   "source": [
    "<b>Проверим выборки на нормальность распределения, используя тест Шапиро-Уилка:</b>"
   ]
  },
  {
   "cell_type": "code",
   "execution_count": 27,
   "metadata": {},
   "outputs": [
    {
     "name": "stdout",
     "output_type": "stream",
     "text": [
      "p-значение:  0.0\n",
      "Отвергаем нулевую гипотезу: распределение не нормально\n"
     ]
    },
    {
     "name": "stderr",
     "output_type": "stream",
     "text": [
      "/opt/conda/lib/python3.7/site-packages/scipy/stats/morestats.py:1676: UserWarning: p-value may not be accurate for N > 5000.\n",
      "  warnings.warn(\"p-value may not be accurate for N > 5000.\")\n"
     ]
    }
   ],
   "source": [
    "alpha = 0.05  # критический уровень статистической значимости\n",
    "\n",
    "results = st.shapiro(sampleA)\n",
    "p_value = results[1] \n",
    "print('p-значение: ', p_value)\n",
    "\n",
    "if p_value < alpha:\n",
    "    print('Отвергаем нулевую гипотезу: распределение не нормально')\n",
    "else:\n",
    "    print('Не получилось отвергнуть нулевую гипотезу, всё нормально') \n"
   ]
  },
  {
   "cell_type": "code",
   "execution_count": 28,
   "metadata": {},
   "outputs": [
    {
     "name": "stdout",
     "output_type": "stream",
     "text": [
      "p-значение:  0.0\n",
      "Отвергаем нулевую гипотезу: распределение не нормально\n"
     ]
    }
   ],
   "source": [
    "alpha = 0.05  # критический уровень статистической значимости\n",
    "\n",
    "results = st.shapiro(sampleB)\n",
    "p_value = results[1] \n",
    "print('p-значение: ', p_value)\n",
    "\n",
    "if p_value < alpha:\n",
    "    print('Отвергаем нулевую гипотезу: распределение не нормально')\n",
    "else:\n",
    "    print('Не получилось отвергнуть нулевую гипотезу, всё нормально') \n"
   ]
  },
  {
   "cell_type": "markdown",
   "metadata": {},
   "source": [
    "<b>Сформулируем гипотезы о различии конверсий по \"сырым\" данным:</b>\n",
    "* H0 - статистически значимых различий в конверсии между группами нет\n",
    "* H1 - есть статистически значимые различия в конверсии между группами А и В"
   ]
  },
  {
   "cell_type": "markdown",
   "metadata": {},
   "source": [
    "<b>Поскольку выборки распределены ненормально, применим критерий Манна-Уитни, используя параметр <code>alternative=\"two-sided\"</code>и отформатируем p-value, округлив его до трёх знаков после запятой.</b>\n",
    "* Напомним, что в <code>sampleA</code> сохранили выборку, где каждый элемент — число заказов определённого пользователя, в том числе ноль. \n",
    "* Значит, число элементов <code>sampleA</code> — это количество пользователей, сумма всех элементов — количество заказов. Чтобы получить конверсию в группе, поделим сумму заказов на число пользователей — найдём среднее в выборке <code>sampleA методом mean().</code>\n",
    "* Аналогично найдём конверсию группы B: <code>SampleB.mean().</code>\n",
    "\n",
    "<b>Выведем относительный прирост конверсии группы B: конверсия группы B / конверсия группы A - 1. Округлим до трёх знаков после запятой.</b>"
   ]
  },
  {
   "cell_type": "code",
   "execution_count": 29,
   "metadata": {},
   "outputs": [
    {
     "name": "stdout",
     "output_type": "stream",
     "text": [
      "Значение p-value: 0.011\n",
      "Относительный прирост конверсии группы B = 0.160\n"
     ]
    }
   ],
   "source": [
    "alpha = 0.05 # критический уровень статистической значимости\n",
    "# если p-value окажется меньше него - отвергнем гипотезу\n",
    "\n",
    "results = (\"{0:.3f}\".format(st.mannwhitneyu(sampleA, sampleB,alternative=\"two-sided\")[1]))\n",
    "print(\"Значение p-value:\", results)\n",
    "print('Относительный прирост конверсии группы B = ' \"{0:.3f}\".format(sampleB.mean() / sampleA.mean() - 1))\n"
   ]
  },
  {
   "cell_type": "markdown",
   "metadata": {},
   "source": [
    "<b>Вывод: по «сырым» данным есть различия в конверсии групп A и B.\n",
    "Первое число — p-value = 0.011 меньше, чем 0.05. Значит, нулевую гипотезу о том, что статистически значимых различий в конверсии между группами нет, отвергаем.\n",
    "Относительный прирост конверсии группы B равен 16% — второе число в выводе.</b>"
   ]
  },
  {
   "cell_type": "markdown",
   "metadata": {},
   "source": [
    "### Посчитаем статистическую значимость различий в среднем чеке заказа между группами по «сырым» данным"
   ]
  },
  {
   "cell_type": "markdown",
   "metadata": {},
   "source": [
    "<b>Сформулируем гипотезы о различии среднего чека заказа по \"сырым\" данным:</b>\n",
    "* H0 - статистически значимых различий в среднем чеке заказа между группами нет\n",
    "* H1 - есть статистически значимые различия в среднем чеке заказа между группами А и В"
   ]
  },
  {
   "cell_type": "markdown",
   "metadata": {},
   "source": [
    "<b>Применим статистический критерий Манна-Уитни к полученным выборкам, используя параметр <code>alternative=\"two-sided\"</code> и отформатируем p-value, округлив его до трёх знаков после запятой:</b>"
   ]
  },
  {
   "cell_type": "code",
   "execution_count": 30,
   "metadata": {},
   "outputs": [
    {
     "name": "stdout",
     "output_type": "stream",
     "text": [
      "Значение p-value: 0.829\n",
      "Относительное изменение среднего чека группы B к группе А: 0.287\n"
     ]
    }
   ],
   "source": [
    "alpha = 0.05 # критический уровень статистической значимости\n",
    "# если p-value окажется меньше него - отвергнем гипотезу\n",
    "\n",
    "results = \"{0:.3f}\".format(st.mannwhitneyu(orders[orders['group']=='A']['revenue'], orders[orders['group']=='B']['revenue'],alternative=\"two-sided\")[1])\n",
    "print(\"Значение p-value:\", results)\n",
    "print(\"Относительное изменение среднего чека группы B к группе А:\",'{0:.3f}'.format(orders[orders['group']=='B']['revenue'].mean()/orders[orders['group']=='A']['revenue'].mean()-1))\n"
   ]
  },
  {
   "cell_type": "markdown",
   "metadata": {},
   "source": [
    "<b>Вывод: P-value значительно больше 0.05. Значит, причин отвергать нулевую гипотезу и считать, что в среднем чеке есть различия, нет. Впрочем, средний чек группы B значительно выше (28,7%) среднего чека группы A.</b>\n"
   ]
  },
  {
   "cell_type": "markdown",
   "metadata": {},
   "source": [
    "### Посчитаем статистическую значимость различий в конверсии между группами по «очищенным» данным"
   ]
  },
  {
   "cell_type": "markdown",
   "metadata": {},
   "source": [
    "* Примем за аномальных пользователей тех, кто совершил более 2 заказов или совершил заказ дороже 30 000 рублей. Так мы уберём 1% пользователей с наибольшим числом заказов и от 1% до 5% пользователей с дорогими заказами;\n",
    "* Сделаем срезы пользователей с числом заказов больше 2 — <code>usersWithManyOrders;</code>\n",
    "* И срезы пользователей, совершивших заказы дороже 30 000 — <code>usersWithExpensiveOrders;</code>\n",
    "* Объединим их в таблице <code>abnormalUsers;</code>\n",
    "* Узнаем, сколько всего аномальных пользователей методом <code>shape().</code>"
   ]
  },
  {
   "cell_type": "code",
   "execution_count": 31,
   "metadata": {},
   "outputs": [
    {
     "data": {
      "text/plain": [
       "1099    148427295\n",
       "928     204675465\n",
       "33      249864742\n",
       "684     358944393\n",
       "648     382846391\n",
       "dtype: int64"
      ]
     },
     "metadata": {},
     "output_type": "display_data"
    },
    {
     "data": {
      "text/plain": [
       "(49,)"
      ]
     },
     "metadata": {},
     "output_type": "display_data"
    }
   ],
   "source": [
    "usersWithManyOrders = pd.concat(\n",
    "    [\n",
    "        ordersByUsersA[ordersByUsersA['orders'] > 2]['user_id'],\n",
    "        ordersByUsersB[ordersByUsersB['orders'] > 2]['user_id'],\n",
    "    ],\n",
    "    axis=0,\n",
    ")\n",
    "usersWithExpensiveOrders = orders[orders['revenue'] > 30000]['visitor_id']\n",
    "abnormalUsers = (\n",
    "    pd.concat([usersWithManyOrders, usersWithExpensiveOrders], axis=0)\n",
    "    .drop_duplicates()\n",
    "    .sort_values()\n",
    ")\n",
    "display(abnormalUsers.head())\n",
    "display(abnormalUsers.shape)"
   ]
  },
  {
   "cell_type": "markdown",
   "metadata": {},
   "source": [
    "<b>Вывод: всего 49 аномальных пользователей.\n",
    "Узнаем, как их действия повлияли на результаты теста.</b>"
   ]
  },
  {
   "cell_type": "code",
   "execution_count": 32,
   "metadata": {},
   "outputs": [],
   "source": [
    "# Сначала подготовим выборки количества заказов по пользователям по группам теста:\n",
    "sampleAFiltered = pd.concat(\n",
    "    [\n",
    "        ordersByUsersA[\n",
    "            np.logical_not(ordersByUsersA['user_id'].isin(abnormalUsers))\n",
    "        ]['orders'],\n",
    "        pd.Series(\n",
    "            0,\n",
    "            index=np.arange(\n",
    "                data['visitorsPerDateA'].sum() - len(ordersByUsersA['orders'])\n",
    "            ),\n",
    "            name='orders',\n",
    "        ),\n",
    "    ],\n",
    "    axis=0,\n",
    ")\n",
    "\n",
    "sampleBFiltered = pd.concat(\n",
    "    [\n",
    "        ordersByUsersB[\n",
    "            np.logical_not(ordersByUsersB['user_id'].isin(abnormalUsers))\n",
    "        ]['orders'],\n",
    "        pd.Series(\n",
    "            0,\n",
    "            index=np.arange(\n",
    "                data['visitorsPerDateB'].sum() - len(ordersByUsersB['orders'])\n",
    "            ),\n",
    "            name='orders',\n",
    "        ),\n",
    "    ],\n",
    "    axis=0,\n",
    ")"
   ]
  },
  {
   "cell_type": "markdown",
   "metadata": {},
   "source": [
    "<b>Сформулируем гипотезы о различии конверсий по \"очищенным\" данным:</b>\n",
    "* H0 - статистически значимых различий в конверсии между группами нет\n",
    "* H1 - есть статистически значимые различия в конверсии между группами А и В"
   ]
  },
  {
   "cell_type": "markdown",
   "metadata": {},
   "source": [
    "<b>Применим статистический критерий Манна-Уитни к полученным выборкам, используя параметр <code>alternative=\"two-sided\"</code> и отформатируем p-value, округлив его до трёх знаков после запятой:</b>"
   ]
  },
  {
   "cell_type": "code",
   "execution_count": 33,
   "metadata": {},
   "outputs": [
    {
     "name": "stdout",
     "output_type": "stream",
     "text": [
      "Значение p-value: 0.010\n",
      "Относительный прирост конверсии группы B = 0.187\n"
     ]
    }
   ],
   "source": [
    "alpha = 0.05 # критический уровень статистической значимости\n",
    "# если p-value окажется меньше него - отвергнем гипотезу\n",
    "\n",
    "results = \"{0:.3f}\".format(st.mannwhitneyu(sampleAFiltered, sampleBFiltered,alternative=\"two-sided\")[1])\n",
    "print(\"Значение p-value:\", results)\n",
    "print('Относительный прирост конверсии группы B = ''{0:.3f}'.format(sampleBFiltered.mean()/sampleAFiltered.mean()-1))"
   ]
  },
  {
   "cell_type": "markdown",
   "metadata": {},
   "source": [
    "<b>Вывод: результаты по конверсии практически не изменились.</b>"
   ]
  },
  {
   "cell_type": "markdown",
   "metadata": {},
   "source": [
    "### Посчитаем статистическую значимость различий в среднем чеке заказа между группами по «очищенным» данным"
   ]
  },
  {
   "cell_type": "markdown",
   "metadata": {},
   "source": [
    "<b>Сформулируем гипотезы о различии среднего чека заказа по \"очищенным\" данным:</b>\n",
    "* H0 - статистически значимых различий в среднем чеке заказа между группами нет\n",
    "* H1 - есть статистически значимые различия в среднем чеке заказа между группами А и В"
   ]
  },
  {
   "cell_type": "code",
   "execution_count": 34,
   "metadata": {},
   "outputs": [
    {
     "name": "stdout",
     "output_type": "stream",
     "text": [
      "Значение p-value: 0.741\n",
      "Относительное изменение среднего чека группы B к группе А:-0.027\n"
     ]
    }
   ],
   "source": [
    "alpha = 0.05 # критический уровень статистической значимости\n",
    "# если p-value окажется меньше него - отвергнем гипотезу\n",
    "\n",
    "results = (\n",
    "    '{0:.3f}'.format(\n",
    "        st.mannwhitneyu(\n",
    "            orders[\n",
    "                np.logical_and(\n",
    "                    orders['group'] == 'A',\n",
    "                    np.logical_not(orders['visitor_id'].isin(abnormalUsers)),\n",
    "                )\n",
    "            ]['revenue'],\n",
    "            orders[\n",
    "                np.logical_and(\n",
    "                    orders['group'] == 'B',\n",
    "                    np.logical_not(orders['visitor_id'].isin(abnormalUsers)),\n",
    "                )\n",
    "            ]['revenue'],\n",
    "        alternative=\"two-sided\",\n",
    "        )[1]\n",
    "    )\n",
    ")\n",
    "print(\"Значение p-value:\", results)\n",
    "print('Относительное изменение среднего чека группы B к группе А:'\n",
    "    \"{0:.3f}\".format(\n",
    "        orders[\n",
    "            np.logical_and(\n",
    "                orders['group'] == 'B',\n",
    "                np.logical_not(orders['visitor_id'].isin(abnormalUsers)),\n",
    "            )\n",
    "        ]['revenue'].mean()\n",
    "        / orders[\n",
    "            np.logical_and(\n",
    "                orders['group'] == 'A',\n",
    "                np.logical_not(orders['visitor_id'].isin(abnormalUsers)),\n",
    "            )\n",
    "        ]['revenue'].mean()\n",
    "        - 1\n",
    "    )\n",
    ")\n"
   ]
  },
  {
   "cell_type": "markdown",
   "metadata": {},
   "source": [
    "<b>Вывод: После фильтрации аномалий P-value также значительно больше 0.05. Значит, причин отвергать нулевую гипотезу и считать, что в среднем чеке есть различия, по - прежнему нет. Впрочем разница между сегментами сократилась с 29% до 3%.</b>"
   ]
  },
  {
   "cell_type": "markdown",
   "metadata": {},
   "source": [
    "<b>Общий вывод:</b>\n",
    "* Есть статистически значимые различия по конверсии между группами как  по «сырым», так и   по данным после фильтрации аномалий;\n",
    "* Нет статистически значимого различия по среднему чеку между группами ни по «сырым», ни по данным после фильтрации аномалий;\n",
    "* График различия конверсии между группами сообщает, что результаты группы B лучше, чем группы A;\n",
    "* График различия среднего чека говорит о том, что результаты группы B лучше, чем группы А, однако во второй половине теста попали крупные заказы (резкий всплеск на графике), что подтверждается снижением различий с 29% до 3% после фильтрации аномалий;</b>\n",
    "\n",
    "* <b>Исходя из обнаруженных фактов, тест следует остановить и зафиксировать победу группы В. Продолжать смысла нет, потому как вероятность, что при имеющихся данных сегмент А на самом деле лучше сегмента В — практически нулевая.\n",
    "\n"
   ]
  },
  {
   "cell_type": "code",
   "execution_count": null,
   "metadata": {},
   "outputs": [],
   "source": []
  }
 ],
 "metadata": {
  "ExecuteTimeLog": [
   {
    "duration": 609,
    "start_time": "2022-03-03T16:39:24.557Z"
   },
   {
    "duration": 1771,
    "start_time": "2022-03-03T16:39:28.340Z"
   },
   {
    "duration": 373,
    "start_time": "2022-03-03T16:40:19.406Z"
   },
   {
    "duration": 241,
    "start_time": "2022-03-03T16:43:24.036Z"
   },
   {
    "duration": 209,
    "start_time": "2022-03-03T16:44:12.104Z"
   },
   {
    "duration": 4753,
    "start_time": "2022-03-03T16:44:23.953Z"
   },
   {
    "duration": 19,
    "start_time": "2022-03-03T16:45:15.785Z"
   },
   {
    "duration": 199,
    "start_time": "2022-03-03T16:45:31.149Z"
   },
   {
    "duration": 20,
    "start_time": "2022-03-03T16:46:02.165Z"
   },
   {
    "duration": 202,
    "start_time": "2022-03-03T16:46:30.659Z"
   },
   {
    "duration": 17,
    "start_time": "2022-03-03T16:46:54.793Z"
   },
   {
    "duration": 4965,
    "start_time": "2022-03-03T16:47:29.503Z"
   },
   {
    "duration": 6598,
    "start_time": "2022-03-03T16:47:43.027Z"
   },
   {
    "duration": 6,
    "start_time": "2022-03-03T16:48:24.580Z"
   },
   {
    "duration": 13,
    "start_time": "2022-03-03T16:48:40.068Z"
   },
   {
    "duration": 6,
    "start_time": "2022-03-03T16:48:53.626Z"
   },
   {
    "duration": 19,
    "start_time": "2022-03-03T16:49:23.265Z"
   },
   {
    "duration": 204,
    "start_time": "2022-03-03T16:50:04.444Z"
   },
   {
    "duration": 17,
    "start_time": "2022-03-03T16:51:28.824Z"
   },
   {
    "duration": 6,
    "start_time": "2022-03-03T16:51:31.393Z"
   },
   {
    "duration": 11,
    "start_time": "2022-03-03T16:51:42.290Z"
   },
   {
    "duration": 12,
    "start_time": "2022-03-03T19:36:01.542Z"
   },
   {
    "duration": 16,
    "start_time": "2022-03-03T19:48:54.402Z"
   },
   {
    "duration": 372,
    "start_time": "2022-03-03T19:55:11.142Z"
   },
   {
    "duration": 119,
    "start_time": "2022-03-03T19:57:37.741Z"
   },
   {
    "duration": 3,
    "start_time": "2022-03-03T19:58:46.973Z"
   },
   {
    "duration": 2018,
    "start_time": "2022-03-03T20:03:30.776Z"
   },
   {
    "duration": 3,
    "start_time": "2022-03-03T20:04:05.911Z"
   },
   {
    "duration": 58,
    "start_time": "2022-03-03T20:05:27.571Z"
   },
   {
    "duration": 53,
    "start_time": "2022-03-03T20:06:13.085Z"
   },
   {
    "duration": 4893,
    "start_time": "2022-03-03T20:10:44.420Z"
   },
   {
    "duration": 4901,
    "start_time": "2022-03-03T20:10:59.037Z"
   },
   {
    "duration": 339,
    "start_time": "2022-03-03T20:13:41.766Z"
   },
   {
    "duration": 226,
    "start_time": "2022-03-03T20:18:51.326Z"
   },
   {
    "duration": 198,
    "start_time": "2022-03-03T20:19:47.977Z"
   },
   {
    "duration": 1365,
    "start_time": "2022-03-04T07:29:27.076Z"
   },
   {
    "duration": 28,
    "start_time": "2022-03-04T07:29:30.219Z"
   },
   {
    "duration": 19,
    "start_time": "2022-03-04T07:29:31.283Z"
   },
   {
    "duration": 16,
    "start_time": "2022-03-04T07:29:33.632Z"
   },
   {
    "duration": 65,
    "start_time": "2022-03-04T07:29:37.520Z"
   },
   {
    "duration": 551,
    "start_time": "2022-03-04T07:29:40.299Z"
   },
   {
    "duration": 302,
    "start_time": "2022-03-04T07:29:43.150Z"
   },
   {
    "duration": 1618,
    "start_time": "2022-03-04T07:29:48.479Z"
   },
   {
    "duration": 1518,
    "start_time": "2022-03-04T07:30:18.379Z"
   },
   {
    "duration": 489,
    "start_time": "2022-03-04T07:31:05.976Z"
   },
   {
    "duration": 7402,
    "start_time": "2022-03-04T07:33:59.830Z"
   },
   {
    "duration": 480,
    "start_time": "2022-03-04T07:35:14.168Z"
   },
   {
    "duration": 6070,
    "start_time": "2022-03-04T07:39:00.770Z"
   },
   {
    "duration": 276,
    "start_time": "2022-03-04T07:39:49.886Z"
   },
   {
    "duration": 1033,
    "start_time": "2022-03-05T05:54:47.542Z"
   },
   {
    "duration": 29,
    "start_time": "2022-03-05T05:54:53.468Z"
   },
   {
    "duration": 14,
    "start_time": "2022-03-05T05:54:55.105Z"
   },
   {
    "duration": 12,
    "start_time": "2022-03-05T05:54:57.222Z"
   },
   {
    "duration": 53,
    "start_time": "2022-03-05T05:55:00.586Z"
   },
   {
    "duration": 365,
    "start_time": "2022-03-05T05:55:01.513Z"
   },
   {
    "duration": 242,
    "start_time": "2022-03-05T05:57:58.260Z"
   },
   {
    "duration": 214,
    "start_time": "2022-03-05T05:58:59.138Z"
   },
   {
    "duration": 301,
    "start_time": "2022-03-05T06:00:12.567Z"
   },
   {
    "duration": 201,
    "start_time": "2022-03-05T06:01:03.373Z"
   },
   {
    "duration": 326,
    "start_time": "2022-03-05T06:01:30.965Z"
   },
   {
    "duration": 203,
    "start_time": "2022-03-05T06:02:08.019Z"
   },
   {
    "duration": 347,
    "start_time": "2022-03-05T06:19:08.974Z"
   },
   {
    "duration": 324,
    "start_time": "2022-03-05T06:19:35.795Z"
   },
   {
    "duration": 13,
    "start_time": "2022-03-05T06:20:53.954Z"
   },
   {
    "duration": 319,
    "start_time": "2022-03-05T06:22:00.476Z"
   },
   {
    "duration": 199,
    "start_time": "2022-03-05T06:26:31.318Z"
   },
   {
    "duration": 285,
    "start_time": "2022-03-05T06:27:58.973Z"
   },
   {
    "duration": 233,
    "start_time": "2022-03-05T06:28:14.716Z"
   },
   {
    "duration": 232,
    "start_time": "2022-03-05T06:30:31.499Z"
   },
   {
    "duration": 309,
    "start_time": "2022-03-05T06:32:58.908Z"
   },
   {
    "duration": 341,
    "start_time": "2022-03-05T06:33:20.094Z"
   },
   {
    "duration": 374,
    "start_time": "2022-03-05T06:33:52.098Z"
   },
   {
    "duration": 5431,
    "start_time": "2022-03-05T06:56:39.668Z"
   },
   {
    "duration": 332,
    "start_time": "2022-03-05T06:57:45.282Z"
   },
   {
    "duration": 218,
    "start_time": "2022-03-05T06:59:07.252Z"
   },
   {
    "duration": 228,
    "start_time": "2022-03-05T07:05:09.033Z"
   },
   {
    "duration": 5677,
    "start_time": "2022-03-05T07:07:25.451Z"
   },
   {
    "duration": 222,
    "start_time": "2022-03-05T07:07:42.193Z"
   },
   {
    "duration": 6080,
    "start_time": "2022-03-05T07:12:26.725Z"
   },
   {
    "duration": 4,
    "start_time": "2022-03-05T07:12:47.614Z"
   },
   {
    "duration": 18,
    "start_time": "2022-03-05T07:12:49.701Z"
   },
   {
    "duration": 12,
    "start_time": "2022-03-05T07:12:51.096Z"
   },
   {
    "duration": 12,
    "start_time": "2022-03-05T07:12:53.516Z"
   },
   {
    "duration": 51,
    "start_time": "2022-03-05T07:12:57.630Z"
   },
   {
    "duration": 365,
    "start_time": "2022-03-05T07:13:02.514Z"
   },
   {
    "duration": 229,
    "start_time": "2022-03-05T07:13:05.798Z"
   },
   {
    "duration": 344,
    "start_time": "2022-03-05T07:13:25.587Z"
   },
   {
    "duration": 210,
    "start_time": "2022-03-05T07:13:30.424Z"
   },
   {
    "duration": 330,
    "start_time": "2022-03-05T07:13:37.373Z"
   },
   {
    "duration": 230,
    "start_time": "2022-03-05T07:13:40.042Z"
   },
   {
    "duration": 440,
    "start_time": "2022-03-05T07:13:42.499Z"
   },
   {
    "duration": 5453,
    "start_time": "2022-03-05T07:13:44.550Z"
   },
   {
    "duration": 6138,
    "start_time": "2022-03-05T07:14:57.144Z"
   },
   {
    "duration": 230,
    "start_time": "2022-03-05T07:18:47.434Z"
   },
   {
    "duration": 142,
    "start_time": "2022-03-05T07:21:08.028Z"
   },
   {
    "duration": 130,
    "start_time": "2022-03-05T07:22:44.543Z"
   },
   {
    "duration": 295,
    "start_time": "2022-03-05T07:23:13.676Z"
   },
   {
    "duration": 5,
    "start_time": "2022-03-05T07:24:18.413Z"
   },
   {
    "duration": 1031,
    "start_time": "2022-03-05T11:18:44.450Z"
   },
   {
    "duration": 25,
    "start_time": "2022-03-05T11:18:51.355Z"
   },
   {
    "duration": 12,
    "start_time": "2022-03-05T11:18:52.742Z"
   },
   {
    "duration": 11,
    "start_time": "2022-03-05T11:18:55.702Z"
   },
   {
    "duration": 56,
    "start_time": "2022-03-05T11:18:59.949Z"
   },
   {
    "duration": 323,
    "start_time": "2022-03-05T11:19:04.221Z"
   },
   {
    "duration": 201,
    "start_time": "2022-03-05T11:19:08.051Z"
   },
   {
    "duration": 191,
    "start_time": "2022-03-05T11:19:29.876Z"
   },
   {
    "duration": 375,
    "start_time": "2022-03-05T11:19:36.326Z"
   },
   {
    "duration": 281,
    "start_time": "2022-03-05T11:19:46.956Z"
   },
   {
    "duration": 316,
    "start_time": "2022-03-05T11:19:53.177Z"
   },
   {
    "duration": 104,
    "start_time": "2022-03-05T11:19:58.788Z"
   },
   {
    "duration": 255,
    "start_time": "2022-03-05T11:20:01.658Z"
   },
   {
    "duration": 5,
    "start_time": "2022-03-05T11:20:14.445Z"
   },
   {
    "duration": 306,
    "start_time": "2022-03-05T11:21:41.644Z"
   },
   {
    "duration": 4330,
    "start_time": "2022-03-05T11:22:14.075Z"
   },
   {
    "duration": 7,
    "start_time": "2022-03-05T11:22:28.683Z"
   },
   {
    "duration": 4301,
    "start_time": "2022-03-05T11:53:38.873Z"
   },
   {
    "duration": 108,
    "start_time": "2022-03-05T11:57:10.699Z"
   },
   {
    "duration": 299,
    "start_time": "2022-03-05T12:06:10.448Z"
   },
   {
    "duration": 273,
    "start_time": "2022-03-05T12:08:08.071Z"
   },
   {
    "duration": 7,
    "start_time": "2022-03-05T12:08:35.816Z"
   },
   {
    "duration": 6,
    "start_time": "2022-03-05T12:09:47.866Z"
   },
   {
    "duration": 180,
    "start_time": "2022-03-05T12:35:43.136Z"
   },
   {
    "duration": 11,
    "start_time": "2022-03-05T12:37:29.023Z"
   },
   {
    "duration": 178,
    "start_time": "2022-03-05T12:42:03.584Z"
   },
   {
    "duration": 13,
    "start_time": "2022-03-05T12:42:15.782Z"
   },
   {
    "duration": 4228,
    "start_time": "2022-03-05T12:56:53.412Z"
   },
   {
    "duration": 4124,
    "start_time": "2022-03-05T12:59:37.623Z"
   },
   {
    "duration": 4492,
    "start_time": "2022-03-05T12:59:57.259Z"
   },
   {
    "duration": 4342,
    "start_time": "2022-03-05T13:01:01.256Z"
   },
   {
    "duration": 4367,
    "start_time": "2022-03-05T13:01:52.035Z"
   },
   {
    "duration": 4277,
    "start_time": "2022-03-05T13:02:50.690Z"
   },
   {
    "duration": 271,
    "start_time": "2022-03-05T13:05:48.682Z"
   },
   {
    "duration": 103,
    "start_time": "2022-03-05T13:05:50.189Z"
   },
   {
    "duration": 5,
    "start_time": "2022-03-05T13:05:51.387Z"
   },
   {
    "duration": 8,
    "start_time": "2022-03-05T13:05:52.790Z"
   },
   {
    "duration": 12,
    "start_time": "2022-03-05T13:05:56.323Z"
   },
   {
    "duration": 4692,
    "start_time": "2022-03-05T13:05:59.298Z"
   },
   {
    "duration": 4542,
    "start_time": "2022-03-05T13:07:06.421Z"
   },
   {
    "duration": 8,
    "start_time": "2022-03-05T13:08:26.660Z"
   },
   {
    "duration": 11,
    "start_time": "2022-03-05T13:08:36.520Z"
   },
   {
    "duration": 8,
    "start_time": "2022-03-05T13:14:49.393Z"
   },
   {
    "duration": 1030,
    "start_time": "2022-03-06T08:06:25.278Z"
   },
   {
    "duration": 21,
    "start_time": "2022-03-06T08:06:29.741Z"
   },
   {
    "duration": 12,
    "start_time": "2022-03-06T08:06:30.645Z"
   },
   {
    "duration": 11,
    "start_time": "2022-03-06T08:06:33.408Z"
   },
   {
    "duration": 449,
    "start_time": "2022-03-06T08:06:38.207Z"
   },
   {
    "duration": 4,
    "start_time": "2022-03-06T08:06:59.196Z"
   },
   {
    "duration": 263,
    "start_time": "2022-03-06T08:07:01.477Z"
   },
   {
    "duration": 73,
    "start_time": "2022-03-06T08:08:11.969Z"
   },
   {
    "duration": 4,
    "start_time": "2022-03-06T08:08:15.447Z"
   },
   {
    "duration": 379,
    "start_time": "2022-03-06T08:08:17.208Z"
   },
   {
    "duration": 4,
    "start_time": "2022-03-06T08:09:19.141Z"
   },
   {
    "duration": 381,
    "start_time": "2022-03-06T08:09:29.604Z"
   },
   {
    "duration": 4,
    "start_time": "2022-03-06T08:09:50.409Z"
   },
   {
    "duration": 31,
    "start_time": "2022-03-06T08:09:52.149Z"
   },
   {
    "duration": 23,
    "start_time": "2022-03-06T08:10:02.166Z"
   },
   {
    "duration": 7,
    "start_time": "2022-03-06T08:11:07.466Z"
   },
   {
    "duration": 4,
    "start_time": "2022-03-06T09:25:17.725Z"
   },
   {
    "duration": 30,
    "start_time": "2022-03-06T09:25:20.424Z"
   },
   {
    "duration": 22,
    "start_time": "2022-03-06T09:26:08.715Z"
   },
   {
    "duration": 10,
    "start_time": "2022-03-06T09:26:20.527Z"
   },
   {
    "duration": 185,
    "start_time": "2022-03-06T09:28:29.012Z"
   },
   {
    "duration": 60,
    "start_time": "2022-03-06T09:28:41.735Z"
   },
   {
    "duration": 9,
    "start_time": "2022-03-06T09:28:51.813Z"
   },
   {
    "duration": 4523,
    "start_time": "2022-03-06T09:52:56.718Z"
   },
   {
    "duration": -88,
    "start_time": "2022-03-06T09:53:01.332Z"
   },
   {
    "duration": -90,
    "start_time": "2022-03-06T09:53:01.335Z"
   },
   {
    "duration": 264,
    "start_time": "2022-03-06T09:53:02.301Z"
   },
   {
    "duration": 324,
    "start_time": "2022-03-06T09:54:30.433Z"
   },
   {
    "duration": 225,
    "start_time": "2022-03-06T09:54:33.240Z"
   },
   {
    "duration": 207,
    "start_time": "2022-03-06T09:56:30.706Z"
   },
   {
    "duration": 325,
    "start_time": "2022-03-06T09:56:36.435Z"
   },
   {
    "duration": 223,
    "start_time": "2022-03-06T09:56:40.982Z"
   },
   {
    "duration": 323,
    "start_time": "2022-03-06T09:56:46.249Z"
   },
   {
    "duration": 92,
    "start_time": "2022-03-06T09:57:24.060Z"
   },
   {
    "duration": 280,
    "start_time": "2022-03-06T09:57:34.631Z"
   },
   {
    "duration": 5,
    "start_time": "2022-03-06T09:57:40.368Z"
   },
   {
    "duration": 281,
    "start_time": "2022-03-06T09:57:43.306Z"
   },
   {
    "duration": 5,
    "start_time": "2022-03-06T09:57:58.864Z"
   },
   {
    "duration": 253,
    "start_time": "2022-03-06T09:59:58.651Z"
   },
   {
    "duration": 104,
    "start_time": "2022-03-06T10:00:43.551Z"
   },
   {
    "duration": 6,
    "start_time": "2022-03-06T10:00:52.372Z"
   },
   {
    "duration": 11,
    "start_time": "2022-03-06T10:00:54.632Z"
   },
   {
    "duration": 11,
    "start_time": "2022-03-06T10:01:00.792Z"
   },
   {
    "duration": 12,
    "start_time": "2022-03-06T10:01:20.668Z"
   },
   {
    "duration": 183,
    "start_time": "2022-03-06T10:04:22.521Z"
   },
   {
    "duration": 11,
    "start_time": "2022-03-06T10:04:33.552Z"
   },
   {
    "duration": 8,
    "start_time": "2022-03-06T10:05:46.370Z"
   },
   {
    "duration": 8,
    "start_time": "2022-03-06T10:09:06.802Z"
   },
   {
    "duration": 9,
    "start_time": "2022-03-06T10:13:26.338Z"
   },
   {
    "duration": 172,
    "start_time": "2022-03-06T10:14:39.086Z"
   },
   {
    "duration": 9,
    "start_time": "2022-03-06T10:14:59.404Z"
   },
   {
    "duration": 202,
    "start_time": "2022-03-06T10:19:45.582Z"
   },
   {
    "duration": 4565,
    "start_time": "2022-03-06T10:20:02.742Z"
   },
   {
    "duration": 67,
    "start_time": "2022-03-06T10:32:49.412Z"
   },
   {
    "duration": 9,
    "start_time": "2022-03-06T10:43:11.645Z"
   },
   {
    "duration": 9,
    "start_time": "2022-03-06T10:43:13.127Z"
   },
   {
    "duration": 4359,
    "start_time": "2022-03-06T10:43:17.410Z"
   },
   {
    "duration": 9,
    "start_time": "2022-03-06T10:50:06.575Z"
   },
   {
    "duration": 10,
    "start_time": "2022-03-06T10:51:26.662Z"
   },
   {
    "duration": 59,
    "start_time": "2022-03-06T10:51:43.952Z"
   },
   {
    "duration": 10,
    "start_time": "2022-03-06T10:51:58.973Z"
   },
   {
    "duration": 5,
    "start_time": "2022-03-06T10:58:44.761Z"
   },
   {
    "duration": 1023,
    "start_time": "2022-03-06T11:00:17.198Z"
   },
   {
    "duration": 21,
    "start_time": "2022-03-06T11:00:19.771Z"
   },
   {
    "duration": 12,
    "start_time": "2022-03-06T11:00:20.792Z"
   },
   {
    "duration": 11,
    "start_time": "2022-03-06T11:00:22.905Z"
   },
   {
    "duration": 81,
    "start_time": "2022-03-06T11:00:27.197Z"
   },
   {
    "duration": 4,
    "start_time": "2022-03-06T11:00:28.291Z"
   },
   {
    "duration": 5,
    "start_time": "2022-03-06T11:00:29.457Z"
   },
   {
    "duration": 32,
    "start_time": "2022-03-06T11:00:30.356Z"
   },
   {
    "duration": 25,
    "start_time": "2022-03-06T11:00:31.249Z"
   },
   {
    "duration": 4516,
    "start_time": "2022-03-06T11:00:32.184Z"
   },
   {
    "duration": 3,
    "start_time": "2022-03-06T11:01:09.464Z"
   },
   {
    "duration": 5,
    "start_time": "2022-03-06T11:01:10.814Z"
   },
   {
    "duration": 31,
    "start_time": "2022-03-06T11:01:13.858Z"
   },
   {
    "duration": 25,
    "start_time": "2022-03-06T11:01:19.151Z"
   },
   {
    "duration": 8,
    "start_time": "2022-03-06T11:01:21.457Z"
   },
   {
    "duration": 6,
    "start_time": "2022-03-06T11:01:23.762Z"
   },
   {
    "duration": 11,
    "start_time": "2022-03-06T11:01:31.418Z"
   },
   {
    "duration": 73,
    "start_time": "2022-03-06T11:03:59.589Z"
   },
   {
    "duration": 62,
    "start_time": "2022-03-06T11:04:20.548Z"
   },
   {
    "duration": 214,
    "start_time": "2022-03-06T11:05:08.041Z"
   },
   {
    "duration": 9,
    "start_time": "2022-03-06T11:05:53.621Z"
   },
   {
    "duration": 72,
    "start_time": "2022-03-06T11:06:15.135Z"
   },
   {
    "duration": 10,
    "start_time": "2022-03-06T11:06:36.960Z"
   },
   {
    "duration": 10,
    "start_time": "2022-03-06T11:08:51.229Z"
   },
   {
    "duration": 351,
    "start_time": "2022-03-06T11:11:57.532Z"
   },
   {
    "duration": 241,
    "start_time": "2022-03-06T11:11:58.933Z"
   },
   {
    "duration": 221,
    "start_time": "2022-03-06T11:12:01.090Z"
   },
   {
    "duration": 347,
    "start_time": "2022-03-06T11:12:04.138Z"
   },
   {
    "duration": 229,
    "start_time": "2022-03-06T11:12:07.556Z"
   },
   {
    "duration": 330,
    "start_time": "2022-03-06T11:12:10.495Z"
   },
   {
    "duration": 109,
    "start_time": "2022-03-06T11:12:13.741Z"
   },
   {
    "duration": 350,
    "start_time": "2022-03-06T11:12:14.827Z"
   },
   {
    "duration": 6,
    "start_time": "2022-03-06T11:12:16.451Z"
   },
   {
    "duration": 307,
    "start_time": "2022-03-06T11:12:18.159Z"
   },
   {
    "duration": 6,
    "start_time": "2022-03-06T11:12:19.916Z"
   },
   {
    "duration": 283,
    "start_time": "2022-03-06T11:12:22.327Z"
   },
   {
    "duration": 121,
    "start_time": "2022-03-06T11:12:23.564Z"
   },
   {
    "duration": 6,
    "start_time": "2022-03-06T11:12:24.400Z"
   },
   {
    "duration": 11,
    "start_time": "2022-03-06T11:12:25.314Z"
   },
   {
    "duration": 11,
    "start_time": "2022-03-06T11:12:27.959Z"
   },
   {
    "duration": 11,
    "start_time": "2022-03-06T11:12:30.603Z"
   },
   {
    "duration": 9,
    "start_time": "2022-03-06T11:12:32.367Z"
   },
   {
    "duration": 9,
    "start_time": "2022-03-06T11:12:33.516Z"
   },
   {
    "duration": 5839,
    "start_time": "2022-03-06T11:12:36.725Z"
   },
   {
    "duration": 9,
    "start_time": "2022-03-06T11:13:51.194Z"
   },
   {
    "duration": 15,
    "start_time": "2022-03-06T11:14:34.193Z"
   },
   {
    "duration": 182,
    "start_time": "2022-03-06T11:17:11.483Z"
   },
   {
    "duration": 9,
    "start_time": "2022-03-06T11:17:39.484Z"
   },
   {
    "duration": 9,
    "start_time": "2022-03-06T11:17:52.014Z"
   },
   {
    "duration": 15,
    "start_time": "2022-03-06T11:17:56.105Z"
   },
   {
    "duration": 10,
    "start_time": "2022-03-06T11:18:05.683Z"
   },
   {
    "duration": 11,
    "start_time": "2022-03-06T11:18:23.347Z"
   },
   {
    "duration": 177,
    "start_time": "2022-03-06T11:19:22.152Z"
   },
   {
    "duration": 14,
    "start_time": "2022-03-06T11:19:34.060Z"
   },
   {
    "duration": 8,
    "start_time": "2022-03-06T12:40:08.888Z"
   },
   {
    "duration": 15,
    "start_time": "2022-03-06T12:40:15.587Z"
   },
   {
    "duration": 10,
    "start_time": "2022-03-06T12:40:38.414Z"
   },
   {
    "duration": 3,
    "start_time": "2022-03-06T12:43:09.757Z"
   },
   {
    "duration": 4,
    "start_time": "2022-03-06T12:43:12.417Z"
   },
   {
    "duration": 18,
    "start_time": "2022-03-06T12:43:14.810Z"
   },
   {
    "duration": 16,
    "start_time": "2022-03-06T12:43:17.773Z"
   },
   {
    "duration": 20,
    "start_time": "2022-03-06T12:44:34.730Z"
   },
   {
    "duration": 11,
    "start_time": "2022-03-06T13:02:27.776Z"
   },
   {
    "duration": 1089,
    "start_time": "2022-03-06T17:59:35.535Z"
   },
   {
    "duration": 22,
    "start_time": "2022-03-06T17:59:40.182Z"
   },
   {
    "duration": 14,
    "start_time": "2022-03-06T17:59:41.853Z"
   },
   {
    "duration": 11,
    "start_time": "2022-03-06T17:59:48.604Z"
   },
   {
    "duration": 60,
    "start_time": "2022-03-06T17:59:52.856Z"
   },
   {
    "duration": 3,
    "start_time": "2022-03-06T17:59:53.772Z"
   },
   {
    "duration": 4,
    "start_time": "2022-03-06T17:59:54.843Z"
   },
   {
    "duration": 21,
    "start_time": "2022-03-06T17:59:56.352Z"
   },
   {
    "duration": 17,
    "start_time": "2022-03-06T17:59:58.404Z"
   },
   {
    "duration": 5085,
    "start_time": "2022-03-06T17:59:59.377Z"
   },
   {
    "duration": 3859,
    "start_time": "2022-03-06T18:00:00.605Z"
   },
   {
    "duration": 4,
    "start_time": "2022-03-06T18:00:24.084Z"
   },
   {
    "duration": 16,
    "start_time": "2022-03-06T18:00:26.493Z"
   },
   {
    "duration": 4,
    "start_time": "2022-03-06T18:00:32.938Z"
   },
   {
    "duration": 18,
    "start_time": "2022-03-06T18:00:37.786Z"
   },
   {
    "duration": 3,
    "start_time": "2022-03-06T18:01:07.741Z"
   },
   {
    "duration": 4,
    "start_time": "2022-03-06T18:01:14.539Z"
   },
   {
    "duration": 15,
    "start_time": "2022-03-06T18:01:17.786Z"
   },
   {
    "duration": 1005,
    "start_time": "2022-03-06T18:01:45.118Z"
   },
   {
    "duration": 22,
    "start_time": "2022-03-06T18:01:52.845Z"
   },
   {
    "duration": 13,
    "start_time": "2022-03-06T18:01:55.404Z"
   },
   {
    "duration": 11,
    "start_time": "2022-03-06T18:02:02.633Z"
   },
   {
    "duration": 50,
    "start_time": "2022-03-06T18:02:14.910Z"
   },
   {
    "duration": 3,
    "start_time": "2022-03-06T18:02:20.540Z"
   },
   {
    "duration": 5,
    "start_time": "2022-03-06T18:02:27.138Z"
   },
   {
    "duration": 16,
    "start_time": "2022-03-06T18:02:33.254Z"
   },
   {
    "duration": 16,
    "start_time": "2022-03-06T18:04:46.040Z"
   },
   {
    "duration": 4,
    "start_time": "2022-03-06T18:04:49.684Z"
   },
   {
    "duration": 4676,
    "start_time": "2022-03-06T18:04:53.893Z"
   },
   {
    "duration": 5,
    "start_time": "2022-03-06T18:06:37.339Z"
   },
   {
    "duration": 15,
    "start_time": "2022-03-06T18:06:41.090Z"
   },
   {
    "duration": 5,
    "start_time": "2022-03-06T18:08:21.124Z"
   },
   {
    "duration": 1048,
    "start_time": "2022-03-06T18:08:40.375Z"
   },
   {
    "duration": 22,
    "start_time": "2022-03-06T18:08:45.903Z"
   },
   {
    "duration": 12,
    "start_time": "2022-03-06T18:08:47.518Z"
   },
   {
    "duration": 12,
    "start_time": "2022-03-06T18:08:50.483Z"
   },
   {
    "duration": 50,
    "start_time": "2022-03-06T18:08:56.964Z"
   },
   {
    "duration": 3,
    "start_time": "2022-03-06T18:09:02.201Z"
   },
   {
    "duration": 4,
    "start_time": "2022-03-06T18:09:05.341Z"
   },
   {
    "duration": 17,
    "start_time": "2022-03-06T18:09:10.393Z"
   },
   {
    "duration": 14,
    "start_time": "2022-03-06T18:09:15.356Z"
   },
   {
    "duration": 9,
    "start_time": "2022-03-06T18:09:17.909Z"
   },
   {
    "duration": 15,
    "start_time": "2022-03-06T18:09:21.054Z"
   },
   {
    "duration": 10,
    "start_time": "2022-03-06T18:09:28.036Z"
   },
   {
    "duration": 4,
    "start_time": "2022-03-06T18:09:51.720Z"
   },
   {
    "duration": 9,
    "start_time": "2022-03-06T18:09:55.280Z"
   },
   {
    "duration": 355,
    "start_time": "2022-03-06T18:10:23.151Z"
   },
   {
    "duration": 232,
    "start_time": "2022-03-06T18:10:25.555Z"
   },
   {
    "duration": 228,
    "start_time": "2022-03-06T18:10:35.794Z"
   },
   {
    "duration": 315,
    "start_time": "2022-03-06T18:10:41.925Z"
   },
   {
    "duration": 221,
    "start_time": "2022-03-06T18:10:46.880Z"
   },
   {
    "duration": 345,
    "start_time": "2022-03-06T18:10:54.445Z"
   },
   {
    "duration": 119,
    "start_time": "2022-03-06T18:10:58.344Z"
   },
   {
    "duration": 289,
    "start_time": "2022-03-06T18:10:59.584Z"
   },
   {
    "duration": 6,
    "start_time": "2022-03-06T18:11:01.255Z"
   },
   {
    "duration": 304,
    "start_time": "2022-03-06T18:11:05.034Z"
   },
   {
    "duration": 5,
    "start_time": "2022-03-06T18:11:07.346Z"
   },
   {
    "duration": 294,
    "start_time": "2022-03-06T18:11:10.319Z"
   },
   {
    "duration": 103,
    "start_time": "2022-03-06T18:11:12.421Z"
   },
   {
    "duration": 6,
    "start_time": "2022-03-06T18:11:15.362Z"
   },
   {
    "duration": 10,
    "start_time": "2022-03-06T18:11:17.228Z"
   },
   {
    "duration": 12,
    "start_time": "2022-03-06T18:11:21.711Z"
   },
   {
    "duration": 12,
    "start_time": "2022-03-06T18:11:28.368Z"
   },
   {
    "duration": 9,
    "start_time": "2022-03-06T18:11:50.624Z"
   },
   {
    "duration": 10,
    "start_time": "2022-03-06T18:11:53.159Z"
   },
   {
    "duration": 19,
    "start_time": "2022-03-06T18:12:01.898Z"
   },
   {
    "duration": 1047,
    "start_time": "2022-03-07T13:00:19.395Z"
   },
   {
    "duration": 26,
    "start_time": "2022-03-07T13:00:21.747Z"
   },
   {
    "duration": 13,
    "start_time": "2022-03-07T13:00:22.613Z"
   },
   {
    "duration": 10,
    "start_time": "2022-03-07T13:00:24.986Z"
   },
   {
    "duration": 83,
    "start_time": "2022-03-07T13:00:32.883Z"
   },
   {
    "duration": 3,
    "start_time": "2022-03-07T13:00:33.845Z"
   },
   {
    "duration": 4,
    "start_time": "2022-03-07T13:00:34.704Z"
   },
   {
    "duration": 14,
    "start_time": "2022-03-07T13:00:35.760Z"
   },
   {
    "duration": 14,
    "start_time": "2022-03-07T13:00:36.612Z"
   },
   {
    "duration": 8,
    "start_time": "2022-03-07T13:00:37.723Z"
   },
   {
    "duration": 4,
    "start_time": "2022-03-07T13:00:39.109Z"
   },
   {
    "duration": 300,
    "start_time": "2022-03-07T13:00:42.608Z"
   },
   {
    "duration": 177,
    "start_time": "2022-03-07T13:00:43.878Z"
   },
   {
    "duration": 174,
    "start_time": "2022-03-07T13:00:47.463Z"
   },
   {
    "duration": 275,
    "start_time": "2022-03-07T13:00:50.600Z"
   },
   {
    "duration": 180,
    "start_time": "2022-03-07T13:00:53.843Z"
   },
   {
    "duration": 306,
    "start_time": "2022-03-07T13:00:56.695Z"
   },
   {
    "duration": 100,
    "start_time": "2022-03-07T13:00:59.722Z"
   },
   {
    "duration": 305,
    "start_time": "2022-03-07T13:01:00.702Z"
   },
   {
    "duration": 5,
    "start_time": "2022-03-07T13:01:03.316Z"
   },
   {
    "duration": 275,
    "start_time": "2022-03-07T13:01:05.697Z"
   },
   {
    "duration": 5,
    "start_time": "2022-03-07T13:01:08.391Z"
   },
   {
    "duration": 4,
    "start_time": "2022-03-07T13:01:59.892Z"
   },
   {
    "duration": 246,
    "start_time": "2022-03-07T13:02:15.624Z"
   },
   {
    "duration": 110,
    "start_time": "2022-03-07T13:02:20.491Z"
   },
   {
    "duration": 6,
    "start_time": "2022-03-07T13:02:21.555Z"
   },
   {
    "duration": 10,
    "start_time": "2022-03-07T13:02:22.438Z"
   },
   {
    "duration": 12,
    "start_time": "2022-03-07T13:02:29.443Z"
   },
   {
    "duration": 10,
    "start_time": "2022-03-07T13:02:41.429Z"
   },
   {
    "duration": 364,
    "start_time": "2022-03-07T13:02:58.602Z"
   },
   {
    "duration": 8,
    "start_time": "2022-03-07T13:03:10.734Z"
   },
   {
    "duration": 8,
    "start_time": "2022-03-07T13:03:12.404Z"
   },
   {
    "duration": 5,
    "start_time": "2022-03-07T13:03:23.415Z"
   },
   {
    "duration": 234,
    "start_time": "2022-03-07T13:04:04.334Z"
   },
   {
    "duration": 4597,
    "start_time": "2022-03-07T13:05:15.629Z"
   },
   {
    "duration": 14,
    "start_time": "2022-03-07T13:06:39.126Z"
   },
   {
    "duration": 1304,
    "start_time": "2022-03-08T16:57:55.323Z"
   },
   {
    "duration": 33,
    "start_time": "2022-03-08T16:57:58.150Z"
   },
   {
    "duration": 18,
    "start_time": "2022-03-08T16:57:59.188Z"
   },
   {
    "duration": 15,
    "start_time": "2022-03-08T16:58:15.410Z"
   },
   {
    "duration": 61,
    "start_time": "2022-03-08T16:58:19.647Z"
   },
   {
    "duration": 4,
    "start_time": "2022-03-08T16:58:20.526Z"
   },
   {
    "duration": 6,
    "start_time": "2022-03-08T16:58:21.217Z"
   },
   {
    "duration": 22,
    "start_time": "2022-03-08T16:58:21.993Z"
   },
   {
    "duration": 18,
    "start_time": "2022-03-08T16:58:26.595Z"
   },
   {
    "duration": 12,
    "start_time": "2022-03-08T16:58:27.460Z"
   },
   {
    "duration": 6,
    "start_time": "2022-03-08T16:58:29.013Z"
   },
   {
    "duration": 567,
    "start_time": "2022-03-08T16:58:31.454Z"
   },
   {
    "duration": 360,
    "start_time": "2022-03-08T16:58:32.475Z"
   },
   {
    "duration": 358,
    "start_time": "2022-03-08T17:00:16.554Z"
   },
   {
    "duration": 457,
    "start_time": "2022-03-08T17:02:18.044Z"
   },
   {
    "duration": 362,
    "start_time": "2022-03-08T17:04:22.450Z"
   },
   {
    "duration": 485,
    "start_time": "2022-03-08T17:05:33.480Z"
   },
   {
    "duration": 340,
    "start_time": "2022-03-08T17:08:23.204Z"
   },
   {
    "duration": 221,
    "start_time": "2022-03-08T17:08:32.794Z"
   },
   {
    "duration": 528,
    "start_time": "2022-03-08T17:08:34.210Z"
   },
   {
    "duration": 417,
    "start_time": "2022-03-08T17:08:55.999Z"
   },
   {
    "duration": 418,
    "start_time": "2022-03-08T17:12:05.376Z"
   },
   {
    "duration": 6,
    "start_time": "2022-03-08T17:12:26.624Z"
   },
   {
    "duration": 482,
    "start_time": "2022-03-08T17:12:33.154Z"
   },
   {
    "duration": 200,
    "start_time": "2022-03-08T17:12:35.694Z"
   },
   {
    "duration": 9,
    "start_time": "2022-03-08T17:12:37.229Z"
   },
   {
    "duration": 14,
    "start_time": "2022-03-08T17:12:38.176Z"
   },
   {
    "duration": 1029,
    "start_time": "2022-03-09T11:38:37.912Z"
   },
   {
    "duration": 36,
    "start_time": "2022-03-09T11:38:42.638Z"
   },
   {
    "duration": 12,
    "start_time": "2022-03-09T11:38:44.635Z"
   },
   {
    "duration": 11,
    "start_time": "2022-03-09T11:38:47.208Z"
   },
   {
    "duration": 81,
    "start_time": "2022-03-09T11:38:51.510Z"
   },
   {
    "duration": 3,
    "start_time": "2022-03-09T11:38:52.282Z"
   },
   {
    "duration": 4,
    "start_time": "2022-03-09T11:38:52.974Z"
   },
   {
    "duration": 15,
    "start_time": "2022-03-09T11:38:53.710Z"
   },
   {
    "duration": 14,
    "start_time": "2022-03-09T11:38:54.414Z"
   },
   {
    "duration": 7,
    "start_time": "2022-03-09T11:38:55.189Z"
   },
   {
    "duration": 4,
    "start_time": "2022-03-09T11:38:56.008Z"
   },
   {
    "duration": 302,
    "start_time": "2022-03-09T11:38:58.157Z"
   },
   {
    "duration": 195,
    "start_time": "2022-03-09T11:38:59.408Z"
   },
   {
    "duration": 183,
    "start_time": "2022-03-09T11:39:08.513Z"
   },
   {
    "duration": 300,
    "start_time": "2022-03-09T11:39:12.089Z"
   },
   {
    "duration": 189,
    "start_time": "2022-03-09T11:39:16.070Z"
   },
   {
    "duration": 310,
    "start_time": "2022-03-09T11:39:18.556Z"
   },
   {
    "duration": 102,
    "start_time": "2022-03-09T11:39:21.286Z"
   },
   {
    "duration": 319,
    "start_time": "2022-03-09T11:39:22.097Z"
   },
   {
    "duration": 5,
    "start_time": "2022-03-09T11:39:23.884Z"
   },
   {
    "duration": 284,
    "start_time": "2022-03-09T11:39:26.821Z"
   },
   {
    "duration": 4,
    "start_time": "2022-03-09T11:39:28.910Z"
   },
   {
    "duration": 241,
    "start_time": "2022-03-09T11:39:31.115Z"
   },
   {
    "duration": 94,
    "start_time": "2022-03-09T11:39:32.107Z"
   },
   {
    "duration": 6,
    "start_time": "2022-03-09T11:39:33.093Z"
   },
   {
    "duration": 9,
    "start_time": "2022-03-09T11:39:33.981Z"
   },
   {
    "duration": 11,
    "start_time": "2022-03-09T11:39:36.415Z"
   },
   {
    "duration": 10,
    "start_time": "2022-03-09T11:39:38.522Z"
   },
   {
    "duration": 9,
    "start_time": "2022-03-09T11:39:39.359Z"
   },
   {
    "duration": 8,
    "start_time": "2022-03-09T11:39:39.905Z"
   },
   {
    "duration": 14,
    "start_time": "2022-03-09T11:39:41.712Z"
   },
   {
    "duration": 8,
    "start_time": "2022-03-09T11:54:18.717Z"
   },
   {
    "duration": 8,
    "start_time": "2022-03-09T11:54:28.450Z"
   },
   {
    "duration": 8,
    "start_time": "2022-03-09T11:54:41.179Z"
   },
   {
    "duration": 8,
    "start_time": "2022-03-09T11:55:55.765Z"
   },
   {
    "duration": 8,
    "start_time": "2022-03-09T11:56:10.899Z"
   },
   {
    "duration": 8,
    "start_time": "2022-03-09T11:57:29.578Z"
   },
   {
    "duration": 8,
    "start_time": "2022-03-09T11:57:47.364Z"
   },
   {
    "duration": 162,
    "start_time": "2022-03-09T12:00:28.687Z"
   },
   {
    "duration": 110,
    "start_time": "2022-03-09T12:00:59.938Z"
   },
   {
    "duration": 11,
    "start_time": "2022-03-09T12:01:42.810Z"
   },
   {
    "duration": 8,
    "start_time": "2022-03-09T12:06:04.334Z"
   },
   {
    "duration": 14,
    "start_time": "2022-03-09T12:07:18.656Z"
   },
   {
    "duration": 366,
    "start_time": "2022-03-09T12:07:45.200Z"
   },
   {
    "duration": 298,
    "start_time": "2022-03-09T12:07:50.748Z"
   },
   {
    "duration": 101,
    "start_time": "2022-03-09T12:07:53.013Z"
   },
   {
    "duration": 298,
    "start_time": "2022-03-09T12:07:54.588Z"
   },
   {
    "duration": 5,
    "start_time": "2022-03-09T12:07:56.786Z"
   },
   {
    "duration": 250,
    "start_time": "2022-03-09T12:07:58.859Z"
   },
   {
    "duration": 5,
    "start_time": "2022-03-09T12:08:00.733Z"
   },
   {
    "duration": 252,
    "start_time": "2022-03-09T12:08:02.539Z"
   },
   {
    "duration": 120,
    "start_time": "2022-03-09T12:08:03.706Z"
   },
   {
    "duration": 6,
    "start_time": "2022-03-09T12:08:04.666Z"
   },
   {
    "duration": 9,
    "start_time": "2022-03-09T12:08:05.685Z"
   },
   {
    "duration": 104,
    "start_time": "2022-03-09T12:14:24.462Z"
   },
   {
    "duration": 11,
    "start_time": "2022-03-09T12:15:01.766Z"
   },
   {
    "duration": 11,
    "start_time": "2022-03-09T12:15:09.483Z"
   },
   {
    "duration": 7,
    "start_time": "2022-03-09T12:15:10.881Z"
   },
   {
    "duration": 8,
    "start_time": "2022-03-09T12:15:11.910Z"
   },
   {
    "duration": 15,
    "start_time": "2022-03-09T12:15:22.850Z"
   },
   {
    "duration": 13,
    "start_time": "2022-03-09T12:16:42.203Z"
   },
   {
    "duration": 1417,
    "start_time": "2022-03-10T06:48:43.378Z"
   },
   {
    "duration": 31,
    "start_time": "2022-03-10T06:48:44.797Z"
   },
   {
    "duration": 18,
    "start_time": "2022-03-10T06:48:44.831Z"
   },
   {
    "duration": 16,
    "start_time": "2022-03-10T06:48:44.852Z"
   },
   {
    "duration": 70,
    "start_time": "2022-03-10T06:48:44.870Z"
   },
   {
    "duration": 4,
    "start_time": "2022-03-10T06:48:44.942Z"
   },
   {
    "duration": 7,
    "start_time": "2022-03-10T06:48:44.948Z"
   },
   {
    "duration": 24,
    "start_time": "2022-03-10T06:48:44.959Z"
   },
   {
    "duration": 22,
    "start_time": "2022-03-10T06:48:44.986Z"
   },
   {
    "duration": 21,
    "start_time": "2022-03-10T06:48:45.011Z"
   },
   {
    "duration": 25,
    "start_time": "2022-03-10T06:48:45.035Z"
   },
   {
    "duration": 1100,
    "start_time": "2022-03-10T06:48:45.063Z"
   },
   {
    "duration": 533,
    "start_time": "2022-03-10T06:48:46.166Z"
   },
   {
    "duration": 527,
    "start_time": "2022-03-10T06:48:46.702Z"
   },
   {
    "duration": 610,
    "start_time": "2022-03-10T06:48:47.232Z"
   },
   {
    "duration": 517,
    "start_time": "2022-03-10T06:48:47.845Z"
   },
   {
    "duration": 501,
    "start_time": "2022-03-10T06:48:48.366Z"
   },
   {
    "duration": 228,
    "start_time": "2022-03-10T06:48:48.870Z"
   },
   {
    "duration": 433,
    "start_time": "2022-03-10T06:48:49.100Z"
   },
   {
    "duration": 6,
    "start_time": "2022-03-10T06:48:49.535Z"
   },
   {
    "duration": 434,
    "start_time": "2022-03-10T06:48:49.544Z"
   },
   {
    "duration": 8,
    "start_time": "2022-03-10T06:48:49.981Z"
   },
   {
    "duration": 497,
    "start_time": "2022-03-10T06:48:49.996Z"
   },
   {
    "duration": 207,
    "start_time": "2022-03-10T06:48:50.496Z"
   },
   {
    "duration": 10,
    "start_time": "2022-03-10T06:48:50.707Z"
   },
   {
    "duration": 24,
    "start_time": "2022-03-10T06:48:50.721Z"
   },
   {
    "duration": 43,
    "start_time": "2022-03-10T06:48:50.748Z"
   },
   {
    "duration": 17,
    "start_time": "2022-03-10T06:48:50.794Z"
   },
   {
    "duration": 15,
    "start_time": "2022-03-10T06:48:50.814Z"
   },
   {
    "duration": 18,
    "start_time": "2022-03-10T06:48:50.831Z"
   },
   {
    "duration": 27,
    "start_time": "2022-03-10T06:48:50.888Z"
   },
   {
    "duration": 1306,
    "start_time": "2022-03-10T07:28:57.719Z"
   },
   {
    "duration": 33,
    "start_time": "2022-03-10T07:29:00.725Z"
   },
   {
    "duration": 14,
    "start_time": "2022-03-10T07:29:02.821Z"
   },
   {
    "duration": 11,
    "start_time": "2022-03-10T07:29:06.917Z"
   },
   {
    "duration": 72,
    "start_time": "2022-03-10T07:29:13.346Z"
   },
   {
    "duration": 3,
    "start_time": "2022-03-10T07:29:14.095Z"
   },
   {
    "duration": 4,
    "start_time": "2022-03-10T07:29:15.552Z"
   },
   {
    "duration": 14,
    "start_time": "2022-03-10T07:29:16.356Z"
   },
   {
    "duration": 13,
    "start_time": "2022-03-10T07:29:17.104Z"
   },
   {
    "duration": 7,
    "start_time": "2022-03-10T07:29:17.940Z"
   },
   {
    "duration": 5,
    "start_time": "2022-03-10T07:29:18.963Z"
   },
   {
    "duration": 306,
    "start_time": "2022-03-10T07:29:21.564Z"
   },
   {
    "duration": 189,
    "start_time": "2022-03-10T07:29:22.272Z"
   },
   {
    "duration": 185,
    "start_time": "2022-03-10T07:29:25.769Z"
   },
   {
    "duration": 266,
    "start_time": "2022-03-10T07:29:28.335Z"
   },
   {
    "duration": 314,
    "start_time": "2022-03-10T07:29:30.871Z"
   },
   {
    "duration": 332,
    "start_time": "2022-03-10T07:29:33.763Z"
   },
   {
    "duration": 174,
    "start_time": "2022-03-10T07:30:02.723Z"
   },
   {
    "duration": 332,
    "start_time": "2022-03-10T07:30:31.587Z"
   },
   {
    "duration": 171,
    "start_time": "2022-03-10T07:30:56.759Z"
   },
   {
    "duration": 219,
    "start_time": "2022-03-10T07:31:12.962Z"
   },
   {
    "duration": 109,
    "start_time": "2022-03-10T07:33:09.393Z"
   },
   {
    "duration": 257,
    "start_time": "2022-03-10T07:33:10.826Z"
   },
   {
    "duration": 554,
    "start_time": "2022-03-10T07:33:45.341Z"
   },
   {
    "duration": 228,
    "start_time": "2022-03-10T07:33:52.652Z"
   },
   {
    "duration": 5,
    "start_time": "2022-03-10T07:34:02.645Z"
   },
   {
    "duration": 469,
    "start_time": "2022-03-10T07:34:19.555Z"
   },
   {
    "duration": 290,
    "start_time": "2022-03-10T07:34:27.105Z"
   },
   {
    "duration": 5,
    "start_time": "2022-03-10T07:34:35.385Z"
   },
   {
    "duration": 251,
    "start_time": "2022-03-10T07:40:19.039Z"
   },
   {
    "duration": 139,
    "start_time": "2022-03-10T07:40:27.671Z"
   },
   {
    "duration": 6,
    "start_time": "2022-03-10T07:40:31.876Z"
   },
   {
    "duration": 9,
    "start_time": "2022-03-10T07:40:36.747Z"
   },
   {
    "duration": 10,
    "start_time": "2022-03-10T08:05:45.951Z"
   },
   {
    "duration": 11,
    "start_time": "2022-03-10T08:05:51.910Z"
   },
   {
    "duration": 8,
    "start_time": "2022-03-10T08:05:54.383Z"
   },
   {
    "duration": 9,
    "start_time": "2022-03-10T08:05:55.864Z"
   },
   {
    "duration": 16,
    "start_time": "2022-03-10T08:05:58.076Z"
   },
   {
    "duration": 15,
    "start_time": "2022-03-10T08:10:03.073Z"
   },
   {
    "duration": 10,
    "start_time": "2022-03-10T08:11:51.374Z"
   },
   {
    "duration": 10,
    "start_time": "2022-03-10T08:12:09.703Z"
   },
   {
    "duration": 10,
    "start_time": "2022-03-10T08:12:33.994Z"
   },
   {
    "duration": 1461,
    "start_time": "2022-03-10T12:17:00.360Z"
   },
   {
    "duration": 4,
    "start_time": "2022-03-10T12:17:05.092Z"
   },
   {
    "duration": 5,
    "start_time": "2022-03-10T12:17:56.443Z"
   },
   {
    "duration": 5,
    "start_time": "2022-03-10T12:18:00.201Z"
   },
   {
    "duration": 4,
    "start_time": "2022-03-10T12:18:26.967Z"
   },
   {
    "duration": 19,
    "start_time": "2022-03-10T12:19:03.509Z"
   },
   {
    "duration": 18,
    "start_time": "2022-03-10T12:19:09.786Z"
   },
   {
    "duration": 395,
    "start_time": "2022-03-10T12:29:56.604Z"
   },
   {
    "duration": 96,
    "start_time": "2022-03-10T12:30:38.741Z"
   },
   {
    "duration": 352,
    "start_time": "2022-03-10T12:30:47.728Z"
   },
   {
    "duration": 15,
    "start_time": "2022-03-10T12:31:01.019Z"
   },
   {
    "duration": 15,
    "start_time": "2022-03-10T12:42:00.785Z"
   },
   {
    "duration": 852,
    "start_time": "2022-03-10T12:48:23.813Z"
   },
   {
    "duration": 386,
    "start_time": "2022-03-10T12:49:12.105Z"
   },
   {
    "duration": 57,
    "start_time": "2022-03-10T12:50:17.483Z"
   },
   {
    "duration": 4,
    "start_time": "2022-03-10T12:52:40.442Z"
   },
   {
    "duration": 28,
    "start_time": "2022-03-10T12:53:32.003Z"
   },
   {
    "duration": 45,
    "start_time": "2022-03-10T12:55:41.662Z"
   },
   {
    "duration": 14,
    "start_time": "2022-03-10T12:56:05.102Z"
   },
   {
    "duration": 37,
    "start_time": "2022-03-10T12:56:16.332Z"
   },
   {
    "duration": 42,
    "start_time": "2022-03-10T12:56:55.071Z"
   },
   {
    "duration": 59,
    "start_time": "2022-03-10T12:57:16.166Z"
   },
   {
    "duration": 44,
    "start_time": "2022-03-10T12:57:31.120Z"
   },
   {
    "duration": 39,
    "start_time": "2022-03-10T12:57:51.352Z"
   },
   {
    "duration": 41,
    "start_time": "2022-03-10T12:58:14.580Z"
   },
   {
    "duration": 37,
    "start_time": "2022-03-10T12:58:30.516Z"
   },
   {
    "duration": 38,
    "start_time": "2022-03-10T12:58:46.158Z"
   },
   {
    "duration": 41,
    "start_time": "2022-03-10T12:59:22.017Z"
   },
   {
    "duration": 79,
    "start_time": "2022-03-10T13:10:20.016Z"
   },
   {
    "duration": 4,
    "start_time": "2022-03-10T13:10:20.930Z"
   },
   {
    "duration": 5,
    "start_time": "2022-03-10T13:10:22.172Z"
   },
   {
    "duration": 23,
    "start_time": "2022-03-10T13:10:22.803Z"
   },
   {
    "duration": 20,
    "start_time": "2022-03-10T13:10:23.399Z"
   },
   {
    "duration": 12,
    "start_time": "2022-03-10T13:10:24.006Z"
   },
   {
    "duration": 6,
    "start_time": "2022-03-10T13:10:24.567Z"
   },
   {
    "duration": 890,
    "start_time": "2022-03-10T13:10:26.796Z"
   },
   {
    "duration": 525,
    "start_time": "2022-03-10T13:10:27.689Z"
   },
   {
    "duration": 472,
    "start_time": "2022-03-10T13:10:29.534Z"
   },
   {
    "duration": 515,
    "start_time": "2022-03-10T13:10:31.957Z"
   },
   {
    "duration": 388,
    "start_time": "2022-03-10T13:10:34.606Z"
   },
   {
    "duration": 466,
    "start_time": "2022-03-10T13:10:36.557Z"
   },
   {
    "duration": 201,
    "start_time": "2022-03-10T13:10:40.727Z"
   },
   {
    "duration": 400,
    "start_time": "2022-03-10T13:10:41.391Z"
   },
   {
    "duration": 7,
    "start_time": "2022-03-10T13:10:42.692Z"
   },
   {
    "duration": 409,
    "start_time": "2022-03-10T13:10:44.556Z"
   },
   {
    "duration": 8,
    "start_time": "2022-03-10T13:10:45.816Z"
   },
   {
    "duration": 714,
    "start_time": "2022-03-10T13:10:49.294Z"
   },
   {
    "duration": 227,
    "start_time": "2022-03-10T13:10:50.010Z"
   },
   {
    "duration": 8,
    "start_time": "2022-03-10T13:10:51.360Z"
   },
   {
    "duration": 14,
    "start_time": "2022-03-10T13:10:53.460Z"
   },
   {
    "duration": 16,
    "start_time": "2022-03-10T13:11:01.644Z"
   },
   {
    "duration": 15,
    "start_time": "2022-03-10T13:11:04.297Z"
   },
   {
    "duration": 12,
    "start_time": "2022-03-10T13:11:05.614Z"
   },
   {
    "duration": 11,
    "start_time": "2022-03-10T13:11:06.387Z"
   },
   {
    "duration": 662,
    "start_time": "2022-03-10T13:11:16.668Z"
   },
   {
    "duration": 23,
    "start_time": "2022-03-10T13:12:13.016Z"
   },
   {
    "duration": 34,
    "start_time": "2022-03-10T13:12:39.153Z"
   },
   {
    "duration": 33,
    "start_time": "2022-03-10T13:13:13.108Z"
   },
   {
    "duration": 10,
    "start_time": "2022-03-10T13:14:19.778Z"
   },
   {
    "duration": 12,
    "start_time": "2022-03-10T13:14:58.341Z"
   },
   {
    "duration": 11,
    "start_time": "2022-03-10T13:15:09.137Z"
   },
   {
    "duration": 13,
    "start_time": "2022-03-10T13:15:34.460Z"
   },
   {
    "duration": 17,
    "start_time": "2022-03-10T13:16:35.478Z"
   },
   {
    "duration": 17,
    "start_time": "2022-03-10T13:25:02.450Z"
   },
   {
    "duration": 273,
    "start_time": "2022-03-10T13:33:17.825Z"
   },
   {
    "duration": 90,
    "start_time": "2022-03-10T13:33:38.869Z"
   },
   {
    "duration": 260,
    "start_time": "2022-03-10T13:33:52.434Z"
   },
   {
    "duration": 8,
    "start_time": "2022-03-10T13:34:18.500Z"
   },
   {
    "duration": 259,
    "start_time": "2022-03-10T15:11:03.503Z"
   },
   {
    "duration": 10,
    "start_time": "2022-03-10T15:11:17.550Z"
   },
   {
    "duration": 94,
    "start_time": "2022-03-10T15:36:15.924Z"
   },
   {
    "duration": 79,
    "start_time": "2022-03-10T15:37:21.641Z"
   },
   {
    "duration": 107,
    "start_time": "2022-03-10T15:37:59.967Z"
   },
   {
    "duration": 253,
    "start_time": "2022-03-10T15:38:15.158Z"
   },
   {
    "duration": 273,
    "start_time": "2022-03-10T15:38:58.429Z"
   },
   {
    "duration": 328,
    "start_time": "2022-03-10T15:40:03.545Z"
   },
   {
    "duration": 257,
    "start_time": "2022-03-10T15:42:43.286Z"
   },
   {
    "duration": 258,
    "start_time": "2022-03-10T15:46:56.385Z"
   },
   {
    "duration": 279,
    "start_time": "2022-03-10T15:47:24.891Z"
   },
   {
    "duration": 248,
    "start_time": "2022-03-10T15:47:50.638Z"
   },
   {
    "duration": 7,
    "start_time": "2022-03-10T15:52:08.279Z"
   },
   {
    "duration": 247,
    "start_time": "2022-03-10T15:53:57.732Z"
   },
   {
    "duration": 78,
    "start_time": "2022-03-10T15:56:55.910Z"
   },
   {
    "duration": 79,
    "start_time": "2022-03-10T15:58:19.879Z"
   },
   {
    "duration": 6,
    "start_time": "2022-03-10T16:01:55.521Z"
   },
   {
    "duration": 89,
    "start_time": "2022-03-10T16:04:35.918Z"
   },
   {
    "duration": 341,
    "start_time": "2022-03-10T16:05:56.831Z"
   },
   {
    "duration": 263,
    "start_time": "2022-03-10T16:06:51.766Z"
   },
   {
    "duration": 89,
    "start_time": "2022-03-10T16:07:19.714Z"
   },
   {
    "duration": 252,
    "start_time": "2022-03-10T16:07:33.452Z"
   },
   {
    "duration": 7,
    "start_time": "2022-03-10T16:08:54.426Z"
   },
   {
    "duration": 6,
    "start_time": "2022-03-10T16:09:14.880Z"
   },
   {
    "duration": 5,
    "start_time": "2022-03-10T16:27:05.300Z"
   },
   {
    "duration": 5,
    "start_time": "2022-03-10T16:28:28.496Z"
   },
   {
    "duration": 272,
    "start_time": "2022-03-10T16:29:14.303Z"
   },
   {
    "duration": 10,
    "start_time": "2022-03-10T16:30:35.177Z"
   },
   {
    "duration": 13,
    "start_time": "2022-03-10T16:31:02.697Z"
   },
   {
    "duration": 10,
    "start_time": "2022-03-10T16:31:23.495Z"
   },
   {
    "duration": 269,
    "start_time": "2022-03-10T16:31:41.162Z"
   },
   {
    "duration": 11,
    "start_time": "2022-03-10T16:37:59.075Z"
   },
   {
    "duration": 14,
    "start_time": "2022-03-10T16:38:54.533Z"
   },
   {
    "duration": 89,
    "start_time": "2022-03-10T16:44:02.515Z"
   },
   {
    "duration": 16,
    "start_time": "2022-03-10T16:44:38.421Z"
   },
   {
    "duration": 15,
    "start_time": "2022-03-10T16:45:05.065Z"
   },
   {
    "duration": 10,
    "start_time": "2022-03-10T16:45:55.231Z"
   },
   {
    "duration": 9,
    "start_time": "2022-03-10T16:55:42.970Z"
   },
   {
    "duration": 104,
    "start_time": "2022-03-10T17:00:03.839Z"
   },
   {
    "duration": 80,
    "start_time": "2022-03-10T17:00:29.605Z"
   },
   {
    "duration": 20,
    "start_time": "2022-03-10T17:00:41.950Z"
   },
   {
    "duration": 20,
    "start_time": "2022-03-10T17:01:40.805Z"
   },
   {
    "duration": 22,
    "start_time": "2022-03-10T17:02:32.554Z"
   },
   {
    "duration": 7,
    "start_time": "2022-03-10T17:07:23.505Z"
   },
   {
    "duration": 7,
    "start_time": "2022-03-10T17:07:46.218Z"
   },
   {
    "duration": 1079,
    "start_time": "2022-03-11T05:53:21.014Z"
   },
   {
    "duration": 28,
    "start_time": "2022-03-11T05:53:22.095Z"
   },
   {
    "duration": 48306,
    "start_time": "2022-03-11T05:53:22.125Z"
   },
   {
    "duration": 107,
    "start_time": "2022-03-11T05:54:10.433Z"
   },
   {
    "duration": 14,
    "start_time": "2022-03-11T05:54:10.542Z"
   },
   {
    "duration": 75,
    "start_time": "2022-03-11T05:54:10.557Z"
   },
   {
    "duration": 2,
    "start_time": "2022-03-11T05:54:10.634Z"
   },
   {
    "duration": 10,
    "start_time": "2022-03-11T05:54:10.638Z"
   },
   {
    "duration": 16,
    "start_time": "2022-03-11T05:54:10.649Z"
   },
   {
    "duration": 10,
    "start_time": "2022-03-11T05:54:10.666Z"
   },
   {
    "duration": 6,
    "start_time": "2022-03-11T05:54:10.677Z"
   },
   {
    "duration": 3,
    "start_time": "2022-03-11T05:54:10.685Z"
   },
   {
    "duration": 308,
    "start_time": "2022-03-11T05:54:10.689Z"
   },
   {
    "duration": 175,
    "start_time": "2022-03-11T05:54:10.998Z"
   },
   {
    "duration": 171,
    "start_time": "2022-03-11T05:54:11.175Z"
   },
   {
    "duration": 304,
    "start_time": "2022-03-11T05:54:11.347Z"
   },
   {
    "duration": 229,
    "start_time": "2022-03-11T05:54:11.652Z"
   },
   {
    "duration": 322,
    "start_time": "2022-03-11T05:54:11.883Z"
   },
   {
    "duration": 105,
    "start_time": "2022-03-11T05:54:12.207Z"
   },
   {
    "duration": 269,
    "start_time": "2022-03-11T05:54:12.314Z"
   },
   {
    "duration": 4,
    "start_time": "2022-03-11T05:54:12.584Z"
   },
   {
    "duration": 287,
    "start_time": "2022-03-11T05:54:12.589Z"
   },
   {
    "duration": 4,
    "start_time": "2022-03-11T05:54:12.880Z"
   },
   {
    "duration": 257,
    "start_time": "2022-03-11T05:54:12.886Z"
   },
   {
    "duration": 109,
    "start_time": "2022-03-11T05:54:13.145Z"
   },
   {
    "duration": 5,
    "start_time": "2022-03-11T05:54:13.256Z"
   },
   {
    "duration": 6,
    "start_time": "2022-03-11T05:54:13.263Z"
   },
   {
    "duration": 4,
    "start_time": "2022-03-11T05:54:13.271Z"
   },
   {
    "duration": 29,
    "start_time": "2022-03-11T05:54:13.277Z"
   },
   {
    "duration": 9,
    "start_time": "2022-03-11T05:54:13.307Z"
   },
   {
    "duration": 10,
    "start_time": "2022-03-11T05:54:13.318Z"
   },
   {
    "duration": 7,
    "start_time": "2022-03-11T05:54:13.330Z"
   },
   {
    "duration": 8,
    "start_time": "2022-03-11T05:54:13.338Z"
   },
   {
    "duration": 12,
    "start_time": "2022-03-11T05:54:13.348Z"
   }
  ],
  "kernelspec": {
   "display_name": "Python 3",
   "language": "python",
   "name": "python3"
  },
  "language_info": {
   "codemirror_mode": {
    "name": "ipython",
    "version": 3
   },
   "file_extension": ".py",
   "mimetype": "text/x-python",
   "name": "python",
   "nbconvert_exporter": "python",
   "pygments_lexer": "ipython3",
   "version": "3.8.8"
  },
  "toc": {
   "base_numbering": 1,
   "nav_menu": {},
   "number_sections": true,
   "sideBar": true,
   "skip_h1_title": true,
   "title_cell": "Table of Contents",
   "title_sidebar": "Contents",
   "toc_cell": false,
   "toc_position": {},
   "toc_section_display": true,
   "toc_window_display": false
  }
 },
 "nbformat": 4,
 "nbformat_minor": 2
}
