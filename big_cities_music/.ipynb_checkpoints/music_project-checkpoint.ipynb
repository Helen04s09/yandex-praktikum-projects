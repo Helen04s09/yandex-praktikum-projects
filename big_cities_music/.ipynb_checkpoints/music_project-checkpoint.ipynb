{
 "cells": [
  {
   "cell_type": "markdown",
   "metadata": {
    "id": "E0vqbgi9ay0H"
   },
   "source": [
    "# Яндекс.Музыка"
   ]
  },
  {
   "cell_type": "markdown",
   "metadata": {
    "id": "Ml1hmfXC_Zcs"
   },
   "source": [
    "## Этап 1. Получение данных\n",
    "\n",
    "Изучим данные, предоставленные сервисом для проекта.\n",
    "\n"
   ]
  },
  {
   "cell_type": "markdown",
   "metadata": {},
   "source": [
    "### Импорт библиотек"
   ]
  },
  {
   "cell_type": "code",
   "execution_count": 1,
   "metadata": {
    "id": "AXN7PHPN_Zcs"
   },
   "outputs": [],
   "source": [
    "import pandas as pd # импорт библиотеки pandas"
   ]
  },
  {
   "cell_type": "markdown",
   "metadata": {
    "id": "SG23P8tt_Zcs"
   },
   "source": [
    "Прочитаем файл `csv`, предоставленный сервисом для проекта и сохраним его в переменной `df`:"
   ]
  },
  {
   "cell_type": "code",
   "execution_count": 2,
   "metadata": {
    "id": "fFVu7vqh_Zct"
   },
   "outputs": [],
   "source": [
    "df = pd.read_csv('...csv)# чтение файла с данными и сохранение в df"
   ]
  },
  {
   "cell_type": "markdown",
   "metadata": {
    "id": "rDoOMd3uTqnZ"
   },
   "source": [
    "Выведем на экран первые десять строк таблицы:"
   ]
  },
  {
   "cell_type": "code",
   "execution_count": 3,
   "metadata": {
    "id": "oWTVX3gW_Zct",
    "scrolled": true
   },
   "outputs": [
    {
     "data": {
      "text/html": [
       "<div>\n",
       "<style scoped>\n",
       "    .dataframe tbody tr th:only-of-type {\n",
       "        vertical-align: middle;\n",
       "    }\n",
       "\n",
       "    .dataframe tbody tr th {\n",
       "        vertical-align: top;\n",
       "    }\n",
       "\n",
       "    .dataframe thead th {\n",
       "        text-align: right;\n",
       "    }\n",
       "</style>\n",
       "<table border=\"1\" class=\"dataframe\">\n",
       "  <thead>\n",
       "    <tr style=\"text-align: right;\">\n",
       "      <th></th>\n",
       "      <th>userID</th>\n",
       "      <th>Track</th>\n",
       "      <th>artist</th>\n",
       "      <th>genre</th>\n",
       "      <th>City</th>\n",
       "      <th>time</th>\n",
       "      <th>Day</th>\n",
       "    </tr>\n",
       "  </thead>\n",
       "  <tbody>\n",
       "    <tr>\n",
       "      <td>0</td>\n",
       "      <td>FFB692EC</td>\n",
       "      <td>Kamigata To Boots</td>\n",
       "      <td>The Mass Missile</td>\n",
       "      <td>rock</td>\n",
       "      <td>Saint-Petersburg</td>\n",
       "      <td>20:28:33</td>\n",
       "      <td>Wednesday</td>\n",
       "    </tr>\n",
       "    <tr>\n",
       "      <td>1</td>\n",
       "      <td>55204538</td>\n",
       "      <td>Delayed Because of Accident</td>\n",
       "      <td>Andreas Rönnberg</td>\n",
       "      <td>rock</td>\n",
       "      <td>Moscow</td>\n",
       "      <td>14:07:09</td>\n",
       "      <td>Friday</td>\n",
       "    </tr>\n",
       "    <tr>\n",
       "      <td>2</td>\n",
       "      <td>20EC38</td>\n",
       "      <td>Funiculì funiculà</td>\n",
       "      <td>Mario Lanza</td>\n",
       "      <td>pop</td>\n",
       "      <td>Saint-Petersburg</td>\n",
       "      <td>20:58:07</td>\n",
       "      <td>Wednesday</td>\n",
       "    </tr>\n",
       "    <tr>\n",
       "      <td>3</td>\n",
       "      <td>A3DD03C9</td>\n",
       "      <td>Dragons in the Sunset</td>\n",
       "      <td>Fire + Ice</td>\n",
       "      <td>folk</td>\n",
       "      <td>Saint-Petersburg</td>\n",
       "      <td>08:37:09</td>\n",
       "      <td>Monday</td>\n",
       "    </tr>\n",
       "    <tr>\n",
       "      <td>4</td>\n",
       "      <td>E2DC1FAE</td>\n",
       "      <td>Soul People</td>\n",
       "      <td>Space Echo</td>\n",
       "      <td>dance</td>\n",
       "      <td>Moscow</td>\n",
       "      <td>08:34:34</td>\n",
       "      <td>Monday</td>\n",
       "    </tr>\n",
       "    <tr>\n",
       "      <td>5</td>\n",
       "      <td>842029A1</td>\n",
       "      <td>Преданная</td>\n",
       "      <td>IMPERVTOR</td>\n",
       "      <td>rusrap</td>\n",
       "      <td>Saint-Petersburg</td>\n",
       "      <td>13:09:41</td>\n",
       "      <td>Friday</td>\n",
       "    </tr>\n",
       "    <tr>\n",
       "      <td>6</td>\n",
       "      <td>4CB90AA5</td>\n",
       "      <td>True</td>\n",
       "      <td>Roman Messer</td>\n",
       "      <td>dance</td>\n",
       "      <td>Moscow</td>\n",
       "      <td>13:00:07</td>\n",
       "      <td>Wednesday</td>\n",
       "    </tr>\n",
       "    <tr>\n",
       "      <td>7</td>\n",
       "      <td>F03E1C1F</td>\n",
       "      <td>Feeling This Way</td>\n",
       "      <td>Polina Griffith</td>\n",
       "      <td>dance</td>\n",
       "      <td>Moscow</td>\n",
       "      <td>20:47:49</td>\n",
       "      <td>Wednesday</td>\n",
       "    </tr>\n",
       "    <tr>\n",
       "      <td>8</td>\n",
       "      <td>8FA1D3BE</td>\n",
       "      <td>И вновь продолжается бой</td>\n",
       "      <td>NaN</td>\n",
       "      <td>ruspop</td>\n",
       "      <td>Moscow</td>\n",
       "      <td>09:17:40</td>\n",
       "      <td>Friday</td>\n",
       "    </tr>\n",
       "    <tr>\n",
       "      <td>9</td>\n",
       "      <td>E772D5C0</td>\n",
       "      <td>Pessimist</td>\n",
       "      <td>NaN</td>\n",
       "      <td>dance</td>\n",
       "      <td>Saint-Petersburg</td>\n",
       "      <td>21:20:49</td>\n",
       "      <td>Wednesday</td>\n",
       "    </tr>\n",
       "  </tbody>\n",
       "</table>\n",
       "</div>"
      ],
      "text/plain": [
       "     userID                        Track            artist   genre  \\\n",
       "0  FFB692EC            Kamigata To Boots  The Mass Missile    rock   \n",
       "1  55204538  Delayed Because of Accident  Andreas Rönnberg    rock   \n",
       "2    20EC38            Funiculì funiculà       Mario Lanza     pop   \n",
       "3  A3DD03C9        Dragons in the Sunset        Fire + Ice    folk   \n",
       "4  E2DC1FAE                  Soul People        Space Echo   dance   \n",
       "5  842029A1                    Преданная         IMPERVTOR  rusrap   \n",
       "6  4CB90AA5                         True      Roman Messer   dance   \n",
       "7  F03E1C1F             Feeling This Way   Polina Griffith   dance   \n",
       "8  8FA1D3BE     И вновь продолжается бой               NaN  ruspop   \n",
       "9  E772D5C0                    Pessimist               NaN   dance   \n",
       "\n",
       "             City        time        Day  \n",
       "0  Saint-Petersburg  20:28:33  Wednesday  \n",
       "1            Moscow  14:07:09     Friday  \n",
       "2  Saint-Petersburg  20:58:07  Wednesday  \n",
       "3  Saint-Petersburg  08:37:09     Monday  \n",
       "4            Moscow  08:34:34     Monday  \n",
       "5  Saint-Petersburg  13:09:41     Friday  \n",
       "6            Moscow  13:00:07  Wednesday  \n",
       "7            Moscow  20:47:49  Wednesday  \n",
       "8            Moscow  09:17:40     Friday  \n",
       "9  Saint-Petersburg  21:20:49  Wednesday  "
      ]
     },
     "execution_count": 3,
     "metadata": {},
     "output_type": "execute_result"
    }
   ],
   "source": [
    "df.head(10) # получение первых 10 строк таблицы df"
   ]
  },
  {
   "cell_type": "markdown",
   "metadata": {
    "id": "EO73Kwic_Zct"
   },
   "source": [
    "Общая информацию о данных в таблице `df`:"
   ]
  },
  {
   "cell_type": "code",
   "execution_count": 4,
   "metadata": {
    "id": "DSf2kIb-_Zct"
   },
   "outputs": [
    {
     "name": "stdout",
     "output_type": "stream",
     "text": [
      "<class 'pandas.core.frame.DataFrame'>\n",
      "RangeIndex: 65079 entries, 0 to 65078\n",
      "Data columns (total 7 columns):\n",
      "  userID    65079 non-null object\n",
      "Track       63848 non-null object\n",
      "artist      57876 non-null object\n",
      "genre       63881 non-null object\n",
      "  City      65079 non-null object\n",
      "time        65079 non-null object\n",
      "Day         65079 non-null object\n",
      "dtypes: object(7)\n",
      "memory usage: 3.5+ MB\n"
     ]
    }
   ],
   "source": [
    "df.info() # получение общей информации о данных в таблице df/"
   ]
  },
  {
   "cell_type": "markdown",
   "metadata": {
    "id": "TaQ2Iwbr_Zct"
   },
   "source": [
    "Итак, в таблице семь столбцов. Тип данных во всех столбцах — `object`.\n",
    "\n",
    "Согласно документации к данным:\n",
    "* `userID` — идентификатор пользователя;\n",
    "* `Track` — название трека;  \n",
    "* `artist` — имя исполнителя;\n",
    "* `genre` — название жанра;\n",
    "* `City` — город пользователя;\n",
    "* `time` — время начала прослушивания;\n",
    "* `Day` — день недели.\n",
    "\n",
    "В названиях колонок видны три нарушения стиля:\n",
    "1. Строчные буквы сочетаются с прописными.\n",
    "2. Встречаются пробелы.\n",
    "3. Нарушение правил синтаксиса. Необходимо использовать \"змеиный регистр\" - user_id.\n",
    "\n",
    "\n",
    "\n",
    "\n",
    "\n",
    "Количество значений в столбцах различается. Значит, в данных есть пропущенные значения.\n"
   ]
  },
  {
   "cell_type": "markdown",
   "metadata": {
    "id": "MCB6-dXG_Zct"
   },
   "source": [
    "**Выводы**\n",
    "\n",
    "Каждая строка таблицы содержит информацию о композициях определённого жанра в определённом исполнении, которые пользователи слушали в одном из городов в определённое время и день недели. Две проблемы, которые нужно решать: пропуски и некачественные названия столбцов. Для проверки рабочих гипотез особенно ценны столбцы time, day и City. Данные из столбца genre позволят узнать самые популярные жанры."
   ]
  },
  {
   "cell_type": "markdown",
   "metadata": {
    "id": "SjYF6Ub9_Zct"
   },
   "source": [
    "## Этап 2. Предобработка данных\n",
    "Исключим пропуски, переименуем столбцы, а также проверим данные на наличие дубликатов.\n",
    "\n",
    "\n"
   ]
  },
  {
   "cell_type": "markdown",
   "metadata": {
    "id": "dIaKXr29_Zct"
   },
   "source": [
    "### Стиль заголовков\n",
    "Выведем на экран названия столбцов:"
   ]
  },
  {
   "cell_type": "code",
   "execution_count": 5,
   "metadata": {
    "id": "oKOTdF_Q_Zct"
   },
   "outputs": [
    {
     "data": {
      "text/plain": [
       "Index(['  userID', 'Track', 'artist', 'genre', '  City  ', 'time', 'Day'], dtype='object')"
      ]
     },
     "execution_count": 5,
     "metadata": {},
     "output_type": "execute_result"
    }
   ],
   "source": [
    "df.columns # перечень названий столбцов таблицы df"
   ]
  },
  {
   "cell_type": "markdown",
   "metadata": {
    "id": "zj5534cv_Zct"
   },
   "source": [
    "Приведем названия в соответствие с хорошим стилем:\n",
    "* несколько слов в названии запишим в «змеином_регистре»,\n",
    "* все символы сделаем строчными,\n",
    "* устраним пробелы.\n",
    "\n",
    "Для этого переименуем колонки так:\n",
    "* `'  userID'` → `'user_id'`;\n",
    "* `'Track'` → `'track'`;\n",
    "* `'  City  '` → `'city'`;\n",
    "* `'Day'` → `'day'`."
   ]
  },
  {
   "cell_type": "code",
   "execution_count": 6,
   "metadata": {
    "id": "ISlFqs5y_Zct"
   },
   "outputs": [],
   "source": [
    "df = df.rename(columns = {'  userID': 'user_id', 'Track': 'track', '  City  ': 'city', 'Day': 'day'})   # переименован"
   ]
  },
  {
   "cell_type": "markdown",
   "metadata": {
    "id": "1dqbh00J_Zct"
   },
   "source": [
    "Проверим результат. Для этого ещё раз выведем на экран названия столбцов:"
   ]
  },
  {
   "cell_type": "code",
   "execution_count": 7,
   "metadata": {
    "id": "d4NOAmTW_Zct"
   },
   "outputs": [
    {
     "data": {
      "text/plain": [
       "Index(['user_id', 'track', 'artist', 'genre', 'city', 'time', 'day'], dtype='object')"
      ]
     },
     "execution_count": 7,
     "metadata": {},
     "output_type": "execute_result"
    }
   ],
   "source": [
    "df.columns # проверка результатов - перечень названий столбцов"
   ]
  },
  {
   "cell_type": "markdown",
   "metadata": {
    "id": "5ISfbcfY_Zct"
   },
   "source": [
    "### Пропуски значений\n",
    "Сначала посчитаем, сколько в таблице пропущенных значений. Для этого достаточно двух методов `pandas`:"
   ]
  },
  {
   "cell_type": "code",
   "execution_count": 8,
   "metadata": {
    "id": "RskX29qr_Zct"
   },
   "outputs": [
    {
     "data": {
      "text/plain": [
       "user_id       0\n",
       "track      1231\n",
       "artist     7203\n",
       "genre      1198\n",
       "city          0\n",
       "time          0\n",
       "day           0\n",
       "dtype: int64"
      ]
     },
     "execution_count": 8,
     "metadata": {},
     "output_type": "execute_result"
    }
   ],
   "source": [
    "df.isna().sum() # подсчёт пропусков"
   ]
  },
  {
   "cell_type": "markdown",
   "metadata": {
    "id": "qubhgnlO_Zct"
   },
   "source": [
    "Не все пропущенные значения влияют на исследование. Так в `track` и `artist` пропуски не важны для нашей работы. Достаточно заменить их явными обозначениями.\n",
    "\n",
    "Но пропуски в `genre` могут помешать сравнению музыкальных вкусов в Москве и Санкт-Петербурге. На практике было бы правильно установить причину пропусков и восстановить данные. Такой возможности нет в учебном проекте. Придётся:\n",
    "* заполнить и эти пропуски явными обозначениями,\n",
    "* оценить, насколько они повредят расчётам. "
   ]
  },
  {
   "cell_type": "markdown",
   "metadata": {
    "id": "fSv2laPA_Zct"
   },
   "source": [
    "Заменим пропущенные значения в столбцах `track`, `artist` и `genre` на строку `'unknown'`. Для этого создадим список `columns_to_replace`, переберем его элементы циклом `for` и для каждого столбца выполним замену пропущенных значений:"
   ]
  },
  {
   "cell_type": "code",
   "execution_count": 9,
   "metadata": {
    "id": "KplB5qWs_Zct"
   },
   "outputs": [],
   "source": [
    " # перебор названий столбцов в цикле и замена пропущенных значений на 'unknown'columns_to_replace = df.columns\n",
    "for column in columns_to_replace:\n",
    "    df[column] = df[column].fillna('unknown')"
   ]
  },
  {
   "cell_type": "markdown",
   "metadata": {
    "id": "Ilsm-MZo_Zct"
   },
   "source": [
    "Убедимся, что в таблице не осталось пропусков. Для этого ещё раз посчитаем пропущенные значения."
   ]
  },
  {
   "cell_type": "code",
   "execution_count": 10,
   "metadata": {
    "id": "Tq4nYRX4_Zct"
   },
   "outputs": [
    {
     "data": {
      "text/plain": [
       "user_id    0\n",
       "track      0\n",
       "artist     0\n",
       "genre      0\n",
       "city       0\n",
       "time       0\n",
       "day        0\n",
       "dtype: int64"
      ]
     },
     "execution_count": 10,
     "metadata": {},
     "output_type": "execute_result"
    }
   ],
   "source": [
    "df.isna().sum() # подсчёт пропусков"
   ]
  },
  {
   "cell_type": "markdown",
   "metadata": {
    "id": "BWKRtBJ3_Zct"
   },
   "source": [
    "### Дубликаты\n",
    "Посчитаем явные дубликаты в таблице одной командой:"
   ]
  },
  {
   "cell_type": "code",
   "execution_count": 11,
   "metadata": {
    "id": "36eES_S0_Zct"
   },
   "outputs": [
    {
     "data": {
      "text/plain": [
       "3826"
      ]
     },
     "execution_count": 11,
     "metadata": {},
     "output_type": "execute_result"
    }
   ],
   "source": [
    "df.duplicated().sum() # подсчёт явных дубликатов"
   ]
  },
  {
   "cell_type": "markdown",
   "metadata": {
    "id": "Ot25h6XR_Zct"
   },
   "source": [
    "Удалим явные дубликаты:"
   ]
  },
  {
   "cell_type": "code",
   "execution_count": 12,
   "metadata": {
    "id": "exFHq6tt_Zct"
   },
   "outputs": [],
   "source": [
    "df = df.drop_duplicates().reset_index(drop = True)# удаление явных дубликатов (с удалением старых индексов и формированием новых)"
   ]
  },
  {
   "cell_type": "markdown",
   "metadata": {
    "id": "Im2YwBEG_Zct"
   },
   "source": [
    "Ещё раз проверим наличие явных дубликатов в таблице:"
   ]
  },
  {
   "cell_type": "code",
   "execution_count": 13,
   "metadata": {
    "id": "-8PuNWQ0_Zct"
   },
   "outputs": [
    {
     "data": {
      "text/plain": [
       "0"
      ]
     },
     "execution_count": 13,
     "metadata": {},
     "output_type": "execute_result"
    }
   ],
   "source": [
    "df.duplicated().sum() # проверка на отсутствие дубликатов"
   ]
  },
  {
   "cell_type": "markdown",
   "metadata": {
    "id": "QlFBsxAr_Zct"
   },
   "source": [
    "Дубликаты могли появиться вследствие сбоя в записи данных. Стоит обратить внимание и разобраться с причинами появления такого «информационного мусора».\n",
    "\n",
    "Теперь избавимся от неявных дубликатов в колонке `genre`, когда название одного и того же жанра может быть записано немного по-разному. Такие ошибки тоже повлияют на результат исследования.\n"
   ]
  },
  {
   "cell_type": "markdown",
   "metadata": {
    "id": "eSjWwsOh_Zct"
   },
   "source": [
    "Выведем на экран список уникальных названий жанров, отсортированный в алфавитном порядке. Для этого:\n",
    "* извлечем нужный столбец датафрейма, \n",
    "* применим к нему метод сортировки,\n",
    "* для отсортированного столбца вызовим метод, который вернёт уникальные значения из столбца."
   ]
  },
  {
   "cell_type": "code",
   "execution_count": 14,
   "metadata": {
    "id": "JIUcqzZN_Zct"
   },
   "outputs": [
    {
     "data": {
      "text/plain": [
       "array(['acid', 'acoustic', 'action', 'adult', 'africa', 'afrikaans',\n",
       "       'alternative', 'alternativepunk', 'ambient', 'americana',\n",
       "       'animated', 'anime', 'arabesk', 'arabic', 'arena',\n",
       "       'argentinetango', 'art', 'audiobook', 'author', 'avantgarde',\n",
       "       'axé', 'baile', 'balkan', 'beats', 'bigroom', 'black', 'bluegrass',\n",
       "       'blues', 'bollywood', 'bossa', 'brazilian', 'breakbeat', 'breaks',\n",
       "       'broadway', 'cantautori', 'cantopop', 'canzone', 'caribbean',\n",
       "       'caucasian', 'celtic', 'chamber', 'chanson', 'children', 'chill',\n",
       "       'chinese', 'choral', 'christian', 'christmas', 'classical',\n",
       "       'classicmetal', 'club', 'colombian', 'comedy', 'conjazz',\n",
       "       'contemporary', 'country', 'cuban', 'dance', 'dancehall',\n",
       "       'dancepop', 'dark', 'death', 'deep', 'deutschrock', 'deutschspr',\n",
       "       'dirty', 'disco', 'dnb', 'documentary', 'downbeat', 'downtempo',\n",
       "       'drum', 'dub', 'dubstep', 'eastern', 'easy', 'electronic',\n",
       "       'electropop', 'emo', 'entehno', 'epicmetal', 'estrada', 'ethnic',\n",
       "       'eurofolk', 'european', 'experimental', 'extrememetal', 'fado',\n",
       "       'fairytail', 'film', 'fitness', 'flamenco', 'folk', 'folklore',\n",
       "       'folkmetal', 'folkrock', 'folktronica', 'forró', 'frankreich',\n",
       "       'französisch', 'french', 'funk', 'future', 'gangsta', 'garage',\n",
       "       'german', 'ghazal', 'gitarre', 'glitch', 'gospel', 'gothic',\n",
       "       'grime', 'grunge', 'gypsy', 'handsup', \"hard'n'heavy\", 'hardcore',\n",
       "       'hardstyle', 'hardtechno', 'hip', 'hip-hop', 'hiphop',\n",
       "       'historisch', 'holiday', 'hop', 'horror', 'house', 'hymn', 'idm',\n",
       "       'independent', 'indian', 'indie', 'indipop', 'industrial',\n",
       "       'inspirational', 'instrumental', 'international', 'irish', 'jam',\n",
       "       'japanese', 'jazz', 'jewish', 'jpop', 'jungle', 'k-pop',\n",
       "       'karadeniz', 'karaoke', 'kayokyoku', 'korean', 'laiko', 'latin',\n",
       "       'latino', 'leftfield', 'local', 'lounge', 'loungeelectronic',\n",
       "       'lovers', 'malaysian', 'mandopop', 'marschmusik', 'meditative',\n",
       "       'mediterranean', 'melodic', 'metal', 'metalcore', 'mexican',\n",
       "       'middle', 'minimal', 'miscellaneous', 'modern', 'mood', 'mpb',\n",
       "       'muslim', 'native', 'neoklassik', 'neue', 'new', 'newage',\n",
       "       'newwave', 'nu', 'nujazz', 'numetal', 'oceania', 'old', 'opera',\n",
       "       'orchestral', 'other', 'piano', 'podcasts', 'pop', 'popdance',\n",
       "       'popelectronic', 'popeurodance', 'poprussian', 'post',\n",
       "       'posthardcore', 'postrock', 'power', 'progmetal', 'progressive',\n",
       "       'psychedelic', 'punjabi', 'punk', 'quebecois', 'ragga', 'ram',\n",
       "       'rancheras', 'rap', 'rave', 'reggae', 'reggaeton', 'regional',\n",
       "       'relax', 'religious', 'retro', 'rhythm', 'rnb', 'rnr', 'rock',\n",
       "       'rockabilly', 'rockalternative', 'rockindie', 'rockother',\n",
       "       'romance', 'roots', 'ruspop', 'rusrap', 'rusrock', 'russian',\n",
       "       'salsa', 'samba', 'scenic', 'schlager', 'self', 'sertanejo',\n",
       "       'shanson', 'shoegazing', 'showtunes', 'singer', 'ska', 'skarock',\n",
       "       'slow', 'smooth', 'soft', 'soul', 'soulful', 'sound', 'soundtrack',\n",
       "       'southern', 'specialty', 'speech', 'spiritual', 'sport',\n",
       "       'stonerrock', 'surf', 'swing', 'synthpop', 'synthrock',\n",
       "       'sängerportrait', 'tango', 'tanzorchester', 'taraftar', 'tatar',\n",
       "       'tech', 'techno', 'teen', 'thrash', 'top', 'traditional',\n",
       "       'tradjazz', 'trance', 'tribal', 'trip', 'triphop', 'tropical',\n",
       "       'türk', 'türkçe', 'ukrrock', 'unknown', 'urban', 'uzbek',\n",
       "       'variété', 'vi', 'videogame', 'vocal', 'western', 'world',\n",
       "       'worldbeat', 'ïîï', 'электроника'], dtype=object)"
      ]
     },
     "execution_count": 14,
     "metadata": {},
     "output_type": "execute_result"
    }
   ],
   "source": [
    "df = df.sort_values(by = 'genre')\n",
    "df['genre'].unique()\n",
    "# Просмотр уникальных названий жанров"
   ]
  },
  {
   "cell_type": "markdown",
   "metadata": {
    "id": "qej-Qmuo_Zct"
   },
   "source": [
    "Изучим список и найдем неявные дубликаты названия `hiphop`. Это могут быть названия с ошибками или альтернативные названия того же жанра.\n",
    "\n",
    "Обнаружены следующие неявные дубликаты:\n",
    "* *hip*,\n",
    "* *hop*,\n",
    "* *hip-hop*.\n",
    "\n",
    "Чтобы очистить от них таблицу, напишем функцию `replace_wrong_genres()` с двумя параметрами: \n",
    "* `wrong_genres` — список дубликатов,\n",
    "* `correct_genre` — строка с правильным значением.\n",
    "\n",
    "Функция должна исправить колонку `genre` в таблице `df`: заменить каждое значение из списка `wrong_genres` на значение из `correct_genre`."
   ]
  },
  {
   "cell_type": "code",
   "execution_count": 15,
   "metadata": {
    "id": "ErNDkmns_Zct"
   },
   "outputs": [],
   "source": [
    "def replace_wrong_genres(wrong_genres, correct_genre): \n",
    "    for wrong_genre in wrong_genres:\n",
    "        df['genre'] = df['genre'].replace(wrong_genre, correct_genre)\n",
    "duplicates = ['hip', 'hop', 'hip-hop']\n",
    "genre = 'hiphop' # Функция для замены неявных дубликатов"
   ]
  },
  {
   "cell_type": "markdown",
   "metadata": {
    "id": "aDoBJxbA_Zct"
   },
   "source": [
    "Вызовите `replace_wrong_genres()` и передайте ей такие аргументы, чтобы она устранила неявные дубликаты: вместо `hip`, `hop` и `hip-hop` в таблице должно быть значение `hiphop`:"
   ]
  },
  {
   "cell_type": "code",
   "execution_count": 16,
   "metadata": {
    "id": "YN5i2hpmSo09"
   },
   "outputs": [],
   "source": [
    "replace_wrong_genres(duplicates, genre) # Устранение неявных дубликатов"
   ]
  },
  {
   "cell_type": "markdown",
   "metadata": {
    "id": "zQKF16_RG15m"
   },
   "source": [
    "Проверим, что заменили все неправильные названия:\n",
    "\n",
    "*   hip\n",
    "*   hop\n",
    "*   hip-hop\n",
    "\n",
    "Выведем отсортированный список уникальных значений столбца `genre`:"
   ]
  },
  {
   "cell_type": "code",
   "execution_count": 17,
   "metadata": {
    "id": "wvixALnFG15m"
   },
   "outputs": [
    {
     "data": {
      "text/plain": [
       "array(['acid', 'acoustic', 'action', 'adult', 'africa', 'afrikaans',\n",
       "       'alternative', 'alternativepunk', 'ambient', 'americana',\n",
       "       'animated', 'anime', 'arabesk', 'arabic', 'arena',\n",
       "       'argentinetango', 'art', 'audiobook', 'author', 'avantgarde',\n",
       "       'axé', 'baile', 'balkan', 'beats', 'bigroom', 'black', 'bluegrass',\n",
       "       'blues', 'bollywood', 'bossa', 'brazilian', 'breakbeat', 'breaks',\n",
       "       'broadway', 'cantautori', 'cantopop', 'canzone', 'caribbean',\n",
       "       'caucasian', 'celtic', 'chamber', 'chanson', 'children', 'chill',\n",
       "       'chinese', 'choral', 'christian', 'christmas', 'classical',\n",
       "       'classicmetal', 'club', 'colombian', 'comedy', 'conjazz',\n",
       "       'contemporary', 'country', 'cuban', 'dance', 'dancehall',\n",
       "       'dancepop', 'dark', 'death', 'deep', 'deutschrock', 'deutschspr',\n",
       "       'dirty', 'disco', 'dnb', 'documentary', 'downbeat', 'downtempo',\n",
       "       'drum', 'dub', 'dubstep', 'eastern', 'easy', 'electronic',\n",
       "       'electropop', 'emo', 'entehno', 'epicmetal', 'estrada', 'ethnic',\n",
       "       'eurofolk', 'european', 'experimental', 'extrememetal', 'fado',\n",
       "       'fairytail', 'film', 'fitness', 'flamenco', 'folk', 'folklore',\n",
       "       'folkmetal', 'folkrock', 'folktronica', 'forró', 'frankreich',\n",
       "       'französisch', 'french', 'funk', 'future', 'gangsta', 'garage',\n",
       "       'german', 'ghazal', 'gitarre', 'glitch', 'gospel', 'gothic',\n",
       "       'grime', 'grunge', 'gypsy', 'handsup', \"hard'n'heavy\", 'hardcore',\n",
       "       'hardstyle', 'hardtechno', 'hiphop', 'historisch', 'holiday',\n",
       "       'horror', 'house', 'hymn', 'idm', 'independent', 'indian', 'indie',\n",
       "       'indipop', 'industrial', 'inspirational', 'instrumental',\n",
       "       'international', 'irish', 'jam', 'japanese', 'jazz', 'jewish',\n",
       "       'jpop', 'jungle', 'k-pop', 'karadeniz', 'karaoke', 'kayokyoku',\n",
       "       'korean', 'laiko', 'latin', 'latino', 'leftfield', 'local',\n",
       "       'lounge', 'loungeelectronic', 'lovers', 'malaysian', 'mandopop',\n",
       "       'marschmusik', 'meditative', 'mediterranean', 'melodic', 'metal',\n",
       "       'metalcore', 'mexican', 'middle', 'minimal', 'miscellaneous',\n",
       "       'modern', 'mood', 'mpb', 'muslim', 'native', 'neoklassik', 'neue',\n",
       "       'new', 'newage', 'newwave', 'nu', 'nujazz', 'numetal', 'oceania',\n",
       "       'old', 'opera', 'orchestral', 'other', 'piano', 'podcasts', 'pop',\n",
       "       'popdance', 'popelectronic', 'popeurodance', 'poprussian', 'post',\n",
       "       'posthardcore', 'postrock', 'power', 'progmetal', 'progressive',\n",
       "       'psychedelic', 'punjabi', 'punk', 'quebecois', 'ragga', 'ram',\n",
       "       'rancheras', 'rap', 'rave', 'reggae', 'reggaeton', 'regional',\n",
       "       'relax', 'religious', 'retro', 'rhythm', 'rnb', 'rnr', 'rock',\n",
       "       'rockabilly', 'rockalternative', 'rockindie', 'rockother',\n",
       "       'romance', 'roots', 'ruspop', 'rusrap', 'rusrock', 'russian',\n",
       "       'salsa', 'samba', 'scenic', 'schlager', 'self', 'sertanejo',\n",
       "       'shanson', 'shoegazing', 'showtunes', 'singer', 'ska', 'skarock',\n",
       "       'slow', 'smooth', 'soft', 'soul', 'soulful', 'sound', 'soundtrack',\n",
       "       'southern', 'specialty', 'speech', 'spiritual', 'sport',\n",
       "       'stonerrock', 'surf', 'swing', 'synthpop', 'synthrock',\n",
       "       'sängerportrait', 'tango', 'tanzorchester', 'taraftar', 'tatar',\n",
       "       'tech', 'techno', 'teen', 'thrash', 'top', 'traditional',\n",
       "       'tradjazz', 'trance', 'tribal', 'trip', 'triphop', 'tropical',\n",
       "       'türk', 'türkçe', 'ukrrock', 'unknown', 'urban', 'uzbek',\n",
       "       'variété', 'vi', 'videogame', 'vocal', 'western', 'world',\n",
       "       'worldbeat', 'ïîï', 'электроника'], dtype=object)"
      ]
     },
     "execution_count": 17,
     "metadata": {},
     "output_type": "execute_result"
    }
   ],
   "source": [
    "df['genre'].unique() # Проверка на неявные дубликаты"
   ]
  },
  {
   "cell_type": "markdown",
   "metadata": {
    "id": "jz6a9-7HQUDd"
   },
   "source": [
    "**Выводы**\n",
    "\n",
    "На этапе предобработки в данных обнаружились не только пропуски и проблемы с названиями столбцов, но и всяческие виды дубликатов. Их удаление позволит провести анализ точнее. Поскольку сведения о жанрах важно сохранить для анализа, не просто удаляем все пропущенные значения, но заполним пропущенные имена исполнителей и названия треков. Имена столбцов теперь корректны и удобны для дальнейшей работы."
   ]
  },
  {
   "cell_type": "markdown",
   "metadata": {
    "id": "WttZHXH0SqKk"
   },
   "source": [
    "## Этап 3. Проверка гипотез"
   ]
  },
  {
   "cell_type": "markdown",
   "metadata": {
    "id": "Im936VVi_Zcu"
   },
   "source": [
    "### Действительно ли музыку в разных городах слушают по-разному?"
   ]
  },
  {
   "cell_type": "markdown",
   "metadata": {
    "id": "nwt_MuaL_Zcu"
   },
   "source": [
    "Была выдвинута гипотеза, что в Москве и Санкт-Петербурге пользователи слушают музыку по-разному. Проверяем это предположение по данным о трёх днях недели — понедельнике, среде и пятнице.\n",
    "\n",
    "Для каждого города устанавливаем количество прослушанных в эти дни композиций с известным жанром, и сравниваем результаты.\n",
    "\n"
   ]
  },
  {
   "cell_type": "code",
   "execution_count": 18,
   "metadata": {
    "id": "0_Qs96oh_Zcu"
   },
   "outputs": [
    {
     "data": {
      "text/plain": [
       "city\n",
       "Moscow              42741\n",
       "Saint-Petersburg    18512\n",
       "Name: time, dtype: int64"
      ]
     },
     "execution_count": 18,
     "metadata": {},
     "output_type": "execute_result"
    }
   ],
   "source": [
    "df.groupby('city')['time'].count() # Подсчёт прослушиваний в каждом городе"
   ]
  },
  {
   "cell_type": "markdown",
   "metadata": {
    "id": "dzli3w8o_Zcu"
   },
   "source": [
    "В Москве прослушиваний больше, чем в Петербурге. Из этого не следует, что московские пользователи чаще слушают музыку. Просто самих пользователей в Москве больше.\n",
    "\n",
    "Теперь сгруппируем данные по дню недели и подсчитаем прослушивания в понедельник, среду и пятницу."
   ]
  },
  {
   "cell_type": "code",
   "execution_count": 19,
   "metadata": {
    "id": "uZMKjiJz_Zcu"
   },
   "outputs": [
    {
     "data": {
      "text/plain": [
       "day\n",
       "Friday       21840\n",
       "Monday       21354\n",
       "Wednesday    18059\n",
       "Name: time, dtype: int64"
      ]
     },
     "execution_count": 19,
     "metadata": {},
     "output_type": "execute_result"
    }
   ],
   "source": [
    "df.groupby('day')['time'].count() # Подсчёт прослушиваний в каждый из трёх дней"
   ]
  },
  {
   "cell_type": "markdown",
   "metadata": {
    "id": "cC2tNrlL_Zcu"
   },
   "source": [
    "В среднем пользователи из двух городов менее активны по средам. Но картина может измениться, если рассмотреть каждый город в отдельности."
   ]
  },
  {
   "cell_type": "markdown",
   "metadata": {
    "id": "POzs8bGa_Zcu"
   },
   "source": [
    "Создайте функцию `number_tracks()`, которая посчитает прослушивания для заданного дня и города. Ей понадобятся два параметра:\n",
    "* день недели,\n",
    "* название города.\n",
    "\n",
    "В функции сохраним в переменную строки исходной таблицы, у которых значение:\n",
    "  * в колонке `day` равно параметру `day`,\n",
    "  * в колонке `city` равно параметру `city`.\n",
    "\n",
    "Для этого применим последовательную фильтрацию с логической индексацией.\n",
    "\n",
    "Затем посчитаем значения в столбце `user_id` получившейся таблицы и сохраним результат в новую переменную `track_list_count`."
   ]
  },
  {
   "cell_type": "code",
   "execution_count": 20,
   "metadata": {
    "id": "Nz3GdQB1_Zcu"
   },
   "outputs": [],
   "source": [
    "# <создание функции number_tracks()>\n",
    "def number_tracks(day, city): # Объявляется функция с двумя параметрами: day, city.\n",
    "    track_list = df[df['day'] == day]\n",
    "    track_list = track_list[track_list['city'] == city]\n",
    "    track_list_count = track_list.count()['user_id']\n",
    "    return track_list_count\n",
    "\n",
    "\n",
    "# В переменной track_list сохраняются те строки таблицы df, для которых \n",
    "# значение в столбце 'day' равно параметру day и одновременно значение\n",
    "# в столбце 'city' равно параметру city (используйте последовательную фильтрацию\n",
    "# с помощью логической индексации).\n",
    "# В переменной track_list_count сохраняется число значений столбца 'user_id',\n",
    "# рассчитанное методом count() для таблицы track_list.\n",
    "# Функция возвращает число - значение track_list_count.\n",
    "\n",
    "# Функция для подсчёта прослушиваний для конкретного города и дня.\n",
    "# С помощью последовательной фильтрации с логической индексацией она \n",
    "# сначала получит из исходной таблицы строки с нужным днём,\n",
    "# затем из результата отфильтрует строки с нужным городом,\n",
    "# методом count() посчитает количество значений в колонке user_id. \n",
    "# Это количество функция вернёт в качестве результата"
   ]
  },
  {
   "cell_type": "markdown",
   "metadata": {
    "id": "ytf7xFrFJQ2r"
   },
   "source": [
    "Вызовем `number_tracks()` шесть раз, меняя значение параметров — так, чтобы получить данные для каждого города в каждый из трёх дней."
   ]
  },
  {
   "cell_type": "code",
   "execution_count": 21,
   "metadata": {
    "id": "rJcRATNQ_Zcu"
   },
   "outputs": [
    {
     "data": {
      "text/plain": [
       "15740"
      ]
     },
     "execution_count": 21,
     "metadata": {},
     "output_type": "execute_result"
    }
   ],
   "source": [
    "number_tracks('Monday', 'Moscow')# количество прослушиваний в Москве по понедельникам"
   ]
  },
  {
   "cell_type": "code",
   "execution_count": 22,
   "metadata": {
    "id": "hq_ncZ5T_Zcu"
   },
   "outputs": [
    {
     "data": {
      "text/plain": [
       "5614"
      ]
     },
     "execution_count": 22,
     "metadata": {},
     "output_type": "execute_result"
    }
   ],
   "source": [
    "number_tracks('Monday', 'Saint-Petersburg')# количество прослушиваний в Санкт-Петербурге по понедельникам"
   ]
  },
  {
   "cell_type": "code",
   "execution_count": 23,
   "metadata": {
    "id": "_NTy2VPU_Zcu"
   },
   "outputs": [
    {
     "data": {
      "text/plain": [
       "11056"
      ]
     },
     "execution_count": 23,
     "metadata": {},
     "output_type": "execute_result"
    }
   ],
   "source": [
    "number_tracks('Wednesday', 'Moscow')# количество прослушиваний в Москве по средам"
   ]
  },
  {
   "cell_type": "code",
   "execution_count": 24,
   "metadata": {
    "id": "j2y3TAwo_Zcu"
   },
   "outputs": [
    {
     "data": {
      "text/plain": [
       "7003"
      ]
     },
     "execution_count": 24,
     "metadata": {},
     "output_type": "execute_result"
    }
   ],
   "source": [
    "number_tracks('Wednesday', 'Saint-Petersburg')# количество прослушиваний в Санкт-Петербурге по средам"
   ]
  },
  {
   "cell_type": "code",
   "execution_count": 25,
   "metadata": {
    "id": "vYDw5u_K_Zcu"
   },
   "outputs": [
    {
     "data": {
      "text/plain": [
       "15945"
      ]
     },
     "execution_count": 25,
     "metadata": {},
     "output_type": "execute_result"
    }
   ],
   "source": [
    "number_tracks('Friday', 'Moscow')# количество прослушиваний в Москве по пятницам"
   ]
  },
  {
   "cell_type": "code",
   "execution_count": 26,
   "metadata": {
    "id": "8_yzFtW3_Zcu"
   },
   "outputs": [
    {
     "data": {
      "text/plain": [
       "5895"
      ]
     },
     "execution_count": 26,
     "metadata": {},
     "output_type": "execute_result"
    }
   ],
   "source": [
    "number_tracks('Friday', 'Saint-Petersburg')# количество прослушиваний в Санкт-Петербурге по пятницам"
   ]
  },
  {
   "cell_type": "markdown",
   "metadata": {
    "id": "7QXffbO-_Zcu"
   },
   "source": [
    "Создадим с помощью конструктора `pd.DataFrame` таблицу, где\n",
    "* названия колонок — `['city', 'monday', 'wednesday', 'friday']`;\n",
    "* данные — результаты, которые вы получили с помощью `number_tracks`."
   ]
  },
  {
   "cell_type": "code",
   "execution_count": 27,
   "metadata": {
    "id": "APAcLpOr_Zcu"
   },
   "outputs": [
    {
     "data": {
      "text/html": [
       "<div>\n",
       "<style scoped>\n",
       "    .dataframe tbody tr th:only-of-type {\n",
       "        vertical-align: middle;\n",
       "    }\n",
       "\n",
       "    .dataframe tbody tr th {\n",
       "        vertical-align: top;\n",
       "    }\n",
       "\n",
       "    .dataframe thead th {\n",
       "        text-align: right;\n",
       "    }\n",
       "</style>\n",
       "<table border=\"1\" class=\"dataframe\">\n",
       "  <thead>\n",
       "    <tr style=\"text-align: right;\">\n",
       "      <th></th>\n",
       "      <th>city</th>\n",
       "      <th>monday</th>\n",
       "      <th>wednesday</th>\n",
       "      <th>friday</th>\n",
       "    </tr>\n",
       "  </thead>\n",
       "  <tbody>\n",
       "    <tr>\n",
       "      <td>0</td>\n",
       "      <td>Saint-Petersburg</td>\n",
       "      <td>5614</td>\n",
       "      <td>7003</td>\n",
       "      <td>5895</td>\n",
       "    </tr>\n",
       "    <tr>\n",
       "      <td>1</td>\n",
       "      <td>Moscow</td>\n",
       "      <td>15740</td>\n",
       "      <td>11056</td>\n",
       "      <td>15945</td>\n",
       "    </tr>\n",
       "  </tbody>\n",
       "</table>\n",
       "</div>"
      ],
      "text/plain": [
       "               city  monday  wednesday  friday\n",
       "0  Saint-Petersburg    5614       7003    5895\n",
       "1            Moscow   15740      11056   15945"
      ]
     },
     "metadata": {},
     "output_type": "display_data"
    }
   ],
   "source": [
    "import pandas as pd\n",
    "data = [['Saint-Petersburg', number_tracks('Monday', 'Saint-Petersburg'), number_tracks('Wednesday', 'Saint-Petersburg'), number_tracks('Friday', 'Saint-Petersburg')],\n",
    "       ['Moscow', number_tracks('Monday', 'Moscow'), number_tracks('Wednesday', 'Moscow'), number_tracks('Friday', 'Moscow')]]\n",
    "columns = ['city', 'monday', 'wednesday', 'friday']\n",
    "research_genres_result = pd.DataFrame(columns=columns, data=data)\n",
    "display(research_genres_result) # Таблица с результатами"
   ]
  },
  {
   "cell_type": "markdown",
   "metadata": {
    "id": "-EgPIHYu_Zcu"
   },
   "source": [
    "**Выводы:**\n",
    "\n",
    "Данные показывают разницу поведения пользователей:\n",
    "\n",
    "- В Москве пик прослушиваний приходится на понедельник и пятницу, а в среду заметен спад.\n",
    "- В Петербурге, наоборот, больше слушают музыку по средам. Активность в понедельник и пятницу здесь почти в равной мере уступает среде.\n",
    "\n",
    "Значит, данные говорят в пользу первой гипотезы."
   ]
  },
  {
   "cell_type": "markdown",
   "metadata": {
    "id": "atZAxtq4_Zcu"
   },
   "source": [
    "### Музыка в начале и в конце недели"
   ]
  },
  {
   "cell_type": "markdown",
   "metadata": {
    "id": "eXrQqXFH_Zcu"
   },
   "source": [
    "Согласно второй гипотезе, утром в понедельник в Москве преобладают одни жанры, а в Петербурге — другие. Так же и вечером пятницы преобладают разные жанры — в зависимости от города."
   ]
  },
  {
   "cell_type": "markdown",
   "metadata": {
    "id": "S8UcW6Hw_Zcu"
   },
   "source": [
    "Сохраним таблицы с данными в две переменные:\n",
    "* по Москве — в `moscow_general`;\n",
    "* по Санкт-Петербургу — в `spb_general`."
   ]
  },
  {
   "cell_type": "code",
   "execution_count": 28,
   "metadata": {
    "id": "qeaFfM_P_Zcu"
   },
   "outputs": [],
   "source": [
    "moscow_general = df[df['city'] == 'Moscow'] # получение таблицы moscow_general из тех строк таблицы df, \n",
    "# для которых значение в столбце 'city' равно 'Moscow'\n"
   ]
  },
  {
   "cell_type": "code",
   "execution_count": 29,
   "metadata": {
    "id": "ORaVRKto_Zcu"
   },
   "outputs": [],
   "source": [
    "spb_general  = df[df['city'] == 'Saint-Petersburg'] # получение таблицы spb_general из тех строк таблицы df,\n",
    "# для которых значение в столбце 'city' равно 'Saint-Petersburg'\n"
   ]
  },
  {
   "cell_type": "markdown",
   "metadata": {
    "id": "MEJV-CX2_Zcu"
   },
   "source": [
    "Создадим функцию `genre_weekday()` с четырьмя параметрами:\n",
    "* таблица (датафрейм) с данными,\n",
    "* день недели,\n",
    "* начальная временная метка в формате 'hh:mm', \n",
    "* последняя временная метка в формате 'hh:mm'.\n",
    "\n",
    "Функция должна вернуть информацию о топ-10 жанров тех треков, которые прослушивали в указанный день, в промежутке между двумя отметками времени."
   ]
  },
  {
   "cell_type": "code",
   "execution_count": 30,
   "metadata": {
    "id": "laJT9BYl_Zcu"
   },
   "outputs": [],
   "source": [
    "# Объявление функции genre_weekday() с параметрами table, day, time1, time2,\n",
    "# которая возвращает информацию о самых популярных жанрах в указанный день в\n",
    "# заданное время:\n",
    "# 1) в переменную genre_df сохраняются те строки переданного датафрейма table, для\n",
    "#    которых одновременно:\n",
    "#    - значение в столбце day равно значению аргумента day\n",
    "#    - значение в столбце time больше значения аргумента time1\n",
    "#    - значение в столбце time меньше значения аргумента time2\n",
    "#    Используйем последовательную фильтрацию с помощью логической индексации.\n",
    "# 2) сгруппируем датафрейм genre_df по столбцу genre - взять один из его\n",
    "#    столбцов и посчитать методом count() количество записей для каждого из\n",
    "#    присутствующих жанров, получившийся Series записать в переменную\n",
    "#    genre_df_count\n",
    "# 3) отсортируем genre_df_count по убыванию встречаемости и сохраним\n",
    "#    в переменную genre_df_sorted\n",
    "# 4) вернем Series из 10 первых значений genre_df_sorted, это будут топ-10\n",
    "#    популярных жанров (в указанный день, в заданное время)\n",
    "\n",
    "def genre_weekday(table, day, time1, time2):\n",
    "    genre_df = table[table['day'] == day]\n",
    "    genre_df = genre_df[(genre_df['time'] > time1) & (genre_df['time'] < time2)]\n",
    "    genre_df_count = genre_df.groupby('genre')['city'].count()\n",
    "    genre_df_sorted = genre_df_count.sort_values(ascending = False)\n",
    "    return genre_df_sorted.head(10)"
   ]
  },
  {
   "cell_type": "markdown",
   "metadata": {
    "id": "la2s2_PF_Zcu"
   },
   "source": [
    "Cравним результаты функции `genre_weekday()` для Москвы и Санкт-Петербурга в понедельник утром (с 7:00 до 11:00) и в пятницу вечером (с 17:00 до 23:00):"
   ]
  },
  {
   "cell_type": "code",
   "execution_count": null,
   "metadata": {},
   "outputs": [],
   "source": [
    "# вызов функции для утра понедельника в Москве (вместо df — таблица moscow_general)\n",
    "# объекты, хранящие время, являются строками и сравниваются как строки\n",
    "\n",
    "genre_weekday(moscow_general, 'Monday', '07:00', '11:00')"
   ]
  },
  {
   "cell_type": "markdown",
   "metadata": {},
   "source": [
    "genre\n",
    "pop            781\n",
    "dance          549\n",
    "electronic     480\n",
    "rock           474\n",
    "hiphop         286\n",
    "ruspop         186\n",
    "world          181\n",
    "rusrap         175\n",
    "alternative    164\n",
    "unknown        161\n",
    "Name: city, dtype: int64"
   ]
  },
  {
   "cell_type": "code",
   "execution_count": 32,
   "metadata": {
    "id": "kwUcHPdy_Zcu"
   },
   "outputs": [
    {
     "data": {
      "text/plain": [
       "genre\n",
       "pop            218\n",
       "dance          182\n",
       "rock           162\n",
       "electronic     147\n",
       "hiphop          80\n",
       "ruspop          64\n",
       "alternative     58\n",
       "rusrap          55\n",
       "jazz            44\n",
       "classical       40\n",
       "Name: city, dtype: int64"
      ]
     },
     "execution_count": 32,
     "metadata": {},
     "output_type": "execute_result"
    }
   ],
   "source": [
    "# вызов функции для утра понедельника в Петербурге (вместо df — таблица spb_general)\n",
    "genre_weekday(spb_general, 'Monday', '07:00', '11:00')"
   ]
  },
  {
   "cell_type": "code",
   "execution_count": 33,
   "metadata": {
    "id": "EzXVRE1o_Zcu"
   },
   "outputs": [
    {
     "data": {
      "text/plain": [
       "genre\n",
       "pop            713\n",
       "rock           517\n",
       "dance          495\n",
       "electronic     482\n",
       "hiphop         273\n",
       "world          208\n",
       "ruspop         170\n",
       "alternative    163\n",
       "classical      163\n",
       "rusrap         142\n",
       "Name: city, dtype: int64"
      ]
     },
     "execution_count": 33,
     "metadata": {},
     "output_type": "execute_result"
    }
   ],
   "source": [
    "genre_weekday(moscow_general, 'Friday', '17:00', '23:00') # вызов функции для вечера пятницы в Москве"
   ]
  },
  {
   "cell_type": "code",
   "execution_count": 34,
   "metadata": {
    "id": "JZaEKu5v_Zcu"
   },
   "outputs": [
    {
     "data": {
      "text/plain": [
       "genre\n",
       "pop            256\n",
       "rock           216\n",
       "electronic     216\n",
       "dance          210\n",
       "hiphop          97\n",
       "alternative     63\n",
       "jazz            61\n",
       "classical       60\n",
       "rusrap          59\n",
       "world           54\n",
       "Name: city, dtype: int64"
      ]
     },
     "execution_count": 34,
     "metadata": {},
     "output_type": "execute_result"
    }
   ],
   "source": [
    "genre_weekday(spb_general, 'Friday', '17:00', '23:00') # вызов функции для вечера пятницы в Петербурге"
   ]
  },
  {
   "cell_type": "markdown",
   "metadata": {
    "id": "wrCe4MNX_Zcu"
   },
   "source": [
    "**Выводы:**\n",
    "\n",
    "Если сравнить топ-10 жанров в понедельник утром, можно сделать такие выводы:\n",
    "\n",
    "1. В Москве и Петербурге слушают похожую музыку. Единственное отличие — в московский рейтинг вошёл жанр “world”, а в петербургский — джаз и классика.\n",
    "\n",
    "2. В Москве пропущенных значений оказалось так много, что значение `'unknown'` заняло десятое место среди самых популярных жанров. Значит, пропущенные значения занимают существенную долю в данных и угрожают достоверности исследования.\n",
    "\n",
    "Вечер пятницы не меняет эту картину. Некоторые жанры поднимаются немного выше, другие спускаются, но в целом топ-10 остаётся тем же самым.\n",
    "\n",
    "Таким образом, вторая гипотеза подтвердилась лишь частично:\n",
    "* Пользователи слушают похожую музыку в начале недели и в конце.\n",
    "* Разница между Москвой и Петербургом не слишком выражена. В Москве чаще слушают русскую популярную музыку, в Петербурге — джаз.\n",
    "\n",
    "Однако пропуски в данных ставят под сомнение этот результат. В Москве их так много, что рейтинг топ-10 мог бы выглядеть иначе, если бы не утерянные  данные о жанрах."
   ]
  },
  {
   "cell_type": "markdown",
   "metadata": {
    "id": "JolODAqr_Zcu"
   },
   "source": [
    "### Жанровые предпочтения в Москве и Петербурге\n",
    "\n",
    "**Гипотеза:** Петербург — столица рэпа, музыку этого жанра там слушают чаще, чем в Москве.  А Москва — город контрастов, в котором, тем не менее, преобладает поп-музыка."
   ]
  },
  {
   "cell_type": "markdown",
   "metadata": {
    "id": "DlegSvaT_Zcu"
   },
   "source": [
    "Сгруппируем таблицу `moscow_general` по жанру и посчитаем прослушивания треков каждого жанра методом `count()`. Затем отсортируем результат в порядке убывания и сохраним его в таблице `moscow_genres`."
   ]
  },
  {
   "cell_type": "code",
   "execution_count": 35,
   "metadata": {
    "id": "r19lIPke_Zcu"
   },
   "outputs": [],
   "source": [
    "# одной строкой: группировка таблицы moscow_general по столбцу 'genre', \n",
    "# подсчёт числа значений 'genre' в этой группировке методом count(), \n",
    "# сортировка получившегося Series в порядке убывания и сохранение в moscow_genres\n",
    "moscow_genres = moscow_general.groupby('genre')['genre'].count().sort_values(ascending = False)\n"
   ]
  },
  {
   "cell_type": "markdown",
   "metadata": {
    "id": "6kMuomxTiIr8"
   },
   "source": [
    "Выведите на экран первые десять строк `moscow_genres`:"
   ]
  },
  {
   "cell_type": "code",
   "execution_count": 36,
   "metadata": {
    "id": "WhCSooF8_Zcv"
   },
   "outputs": [
    {
     "data": {
      "text/plain": [
       "genre\n",
       "pop            5892\n",
       "dance          4435\n",
       "rock           3965\n",
       "electronic     3786\n",
       "hiphop         2096\n",
       "classical      1616\n",
       "world          1432\n",
       "alternative    1379\n",
       "ruspop         1372\n",
       "rusrap         1161\n",
       "Name: genre, dtype: int64"
      ]
     },
     "execution_count": 36,
     "metadata": {},
     "output_type": "execute_result"
    }
   ],
   "source": [
    "moscow_genres.head(10) # просмотр первых 10 строк moscow_genres"
   ]
  },
  {
   "cell_type": "markdown",
   "metadata": {
    "id": "cnPG2vnN_Zcv"
   },
   "source": [
    "Теперь повторим то же и для Петербурга.\n",
    "\n",
    "Сгруппируем таблицу `spb_general` по жанру. Посчитаем прослушивания треков каждого жанра. Результат отсортируем в порядке убывания и сохраним в таблице `spb_genres`:\n"
   ]
  },
  {
   "cell_type": "code",
   "execution_count": 37,
   "metadata": {
    "id": "gluLIpE7_Zcv"
   },
   "outputs": [],
   "source": [
    "# одной строкой: группировка таблицы spb_general по столбцу 'genre', \n",
    "# подсчёт числа значений 'genre' в этой группировке методом count(), \n",
    "# сортировка получившегося Series в порядке убывания и сохранение в spb_genres\n",
    "spb_genres = spb_general.groupby('genre')['genre'].count().sort_values(ascending = False)\n"
   ]
  },
  {
   "cell_type": "markdown",
   "metadata": {
    "id": "5Doha_ODgyQ8"
   },
   "source": [
    "Выведите на экран первые десять строк `spb_genres`:"
   ]
  },
  {
   "cell_type": "code",
   "execution_count": 38,
   "metadata": {
    "id": "uaGJHjVU_Zcv"
   },
   "outputs": [
    {
     "data": {
      "text/plain": [
       "genre\n",
       "pop            2431\n",
       "dance          1932\n",
       "rock           1879\n",
       "electronic     1736\n",
       "hiphop          960\n",
       "alternative     649\n",
       "classical       646\n",
       "rusrap          564\n",
       "ruspop          538\n",
       "world           515\n",
       "Name: genre, dtype: int64"
      ]
     },
     "execution_count": 38,
     "metadata": {},
     "output_type": "execute_result"
    }
   ],
   "source": [
    "# просмотр первых 10 строк spb_genres\n",
    "spb_genres.head(10)"
   ]
  },
  {
   "cell_type": "markdown",
   "metadata": {
    "id": "RY51YJYu_Zcv"
   },
   "source": [
    "**Выводы:**"
   ]
  },
  {
   "cell_type": "markdown",
   "metadata": {
    "id": "nVhnJEm__Zcv"
   },
   "source": [
    "Гипотеза частично подтвердилась:\n",
    "* Поп-музыка — самый популярный жанр в Москве, как и предполагала гипотеза. Более того, в топ-10 жанров встречается близкий жанр — русская популярная музыка.\n",
    "* Вопреки ожиданиям, рэп одинаково популярен в Москве и Петербурге. \n"
   ]
  },
  {
   "cell_type": "markdown",
   "metadata": {
    "id": "ykKQ0N65_Zcv"
   },
   "source": [
    "## Итоги исследования:"
   ]
  },
  {
   "cell_type": "markdown",
   "metadata": {
    "id": "tjUwbHb3_Zcv"
   },
   "source": [
    "Мы проверили три гипотезы и установили:\n",
    "\n",
    "1. День недели по-разному влияет на активность пользователей в Москве и Петербурге. \n",
    "\n",
    "Первая гипотеза полностью подтвердилась.\n",
    "\n",
    "2. Музыкальные предпочтения не сильно меняются в течение недели — будь то Москва или Петербург. Небольшие различия заметны в начале недели, по понедельникам:\n",
    "* в Москве слушают музыку жанра “world”,\n",
    "* в Петербурге — джаз и классику.\n",
    "\n",
    "Таким образом, вторая гипотеза подтвердилась лишь отчасти. Этот результат мог оказаться иным, если бы не пропуски в данных.\n",
    "\n",
    "3. Во вкусах пользователей Москвы и Петербурга больше общего чем различий. Вопреки ожиданиям, предпочтения жанров в Петербурге напоминают московские.\n",
    "\n",
    "Третья гипотеза не подтвердилась. Если различия в предпочтениях и существуют, на основной массе пользователей они незаметны.\n",
    "\n",
    "**На практике исследования содержат проверки статистических гипотез.**\n",
    "Из данных одного сервиса не всегда можно сделать вывод о всех жителях города.\n",
    "Проверки статистических гипотез покажут, насколько они достоверны, исходя из имеющихся данных. \n"
   ]
  },
  {
   "cell_type": "code",
   "execution_count": null,
   "metadata": {},
   "outputs": [],
   "source": []
  }
 ],
 "metadata": {
  "ExecuteTimeLog": [
   {
    "duration": 439,
    "start_time": "2021-11-24T12:35:21.116Z"
   },
   {
    "duration": 418,
    "start_time": "2021-11-24T12:35:50.621Z"
   },
   {
    "duration": 392,
    "start_time": "2021-11-24T12:37:48.500Z"
   },
   {
    "duration": 407,
    "start_time": "2021-11-24T12:37:52.520Z"
   },
   {
    "duration": 388,
    "start_time": "2021-11-24T12:39:34.921Z"
   },
   {
    "duration": 350,
    "start_time": "2021-11-24T12:52:21.123Z"
   },
   {
    "duration": 110,
    "start_time": "2021-11-24T12:52:54.446Z"
   },
   {
    "duration": 376,
    "start_time": "2021-11-24T12:53:14.435Z"
   },
   {
    "duration": 340,
    "start_time": "2021-11-24T12:53:34.681Z"
   },
   {
    "duration": 759,
    "start_time": "2021-11-24T12:57:39.422Z"
   },
   {
    "duration": 197,
    "start_time": "2021-11-24T12:57:50.630Z"
   },
   {
    "duration": 127,
    "start_time": "2021-11-24T12:58:16.043Z"
   },
   {
    "duration": 378,
    "start_time": "2021-11-24T12:58:28.199Z"
   },
   {
    "duration": 28,
    "start_time": "2021-11-24T12:58:36.453Z"
   },
   {
    "duration": 35,
    "start_time": "2021-11-24T12:58:52.648Z"
   },
   {
    "duration": 6,
    "start_time": "2021-11-24T13:00:29.141Z"
   },
   {
    "duration": 332,
    "start_time": "2021-11-24T13:18:16.541Z"
   },
   {
    "duration": 25,
    "start_time": "2021-11-24T13:19:56.203Z"
   },
   {
    "duration": 7,
    "start_time": "2021-11-24T13:20:19.997Z"
   },
   {
    "duration": 32,
    "start_time": "2021-11-24T13:22:05.419Z"
   },
   {
    "duration": 46,
    "start_time": "2021-11-24T13:35:36.580Z"
   },
   {
    "duration": 32,
    "start_time": "2021-11-24T13:36:22.613Z"
   },
   {
    "duration": 86,
    "start_time": "2021-11-24T16:22:07.719Z"
   },
   {
    "duration": 98,
    "start_time": "2021-11-24T16:24:58.359Z"
   },
   {
    "duration": 97,
    "start_time": "2021-11-24T16:25:06.456Z"
   },
   {
    "duration": 77,
    "start_time": "2021-11-24T16:29:34.632Z"
   },
   {
    "duration": 93,
    "start_time": "2021-11-24T16:29:55.048Z"
   },
   {
    "duration": 3,
    "start_time": "2021-11-24T16:30:43.585Z"
   },
   {
    "duration": 77,
    "start_time": "2021-11-24T16:30:48.471Z"
   },
   {
    "duration": 92,
    "start_time": "2021-11-24T16:31:15.651Z"
   },
   {
    "duration": 78,
    "start_time": "2021-11-24T16:31:37.997Z"
   },
   {
    "duration": 119,
    "start_time": "2021-11-24T16:42:49.350Z"
   },
   {
    "duration": 190,
    "start_time": "2021-11-24T16:43:39.158Z"
   },
   {
    "duration": 114,
    "start_time": "2021-11-24T17:01:45.208Z"
   },
   {
    "duration": 124,
    "start_time": "2021-11-24T17:03:50.582Z"
   },
   {
    "duration": 73,
    "start_time": "2021-11-24T17:15:00.063Z"
   },
   {
    "duration": 428,
    "start_time": "2021-11-24T17:38:31.595Z"
   },
   {
    "duration": 4,
    "start_time": "2021-11-24T17:38:57.712Z"
   },
   {
    "duration": 13,
    "start_time": "2021-11-24T17:39:04.568Z"
   },
   {
    "duration": 11,
    "start_time": "2021-11-24T17:39:35.781Z"
   },
   {
    "duration": 52,
    "start_time": "2021-11-24T17:48:46.129Z"
   },
   {
    "duration": 52,
    "start_time": "2021-11-24T17:50:03.106Z"
   },
   {
    "duration": 16,
    "start_time": "2021-11-24T18:06:49.237Z"
   },
   {
    "duration": 16,
    "start_time": "2021-11-24T18:07:11.155Z"
   },
   {
    "duration": 5,
    "start_time": "2021-11-24T18:18:12.486Z"
   },
   {
    "duration": 355,
    "start_time": "2021-11-24T18:19:41.376Z"
   },
   {
    "duration": 25,
    "start_time": "2021-11-24T18:20:13.484Z"
   },
   {
    "duration": 25,
    "start_time": "2021-11-24T18:22:59.819Z"
   },
   {
    "duration": 24,
    "start_time": "2021-11-24T18:24:10.867Z"
   },
   {
    "duration": 22,
    "start_time": "2021-11-24T18:27:34.979Z"
   },
   {
    "duration": 222,
    "start_time": "2021-11-24T18:27:41.654Z"
   },
   {
    "duration": 21,
    "start_time": "2021-11-24T18:27:49.919Z"
   },
   {
    "duration": 24,
    "start_time": "2021-11-24T18:27:54.655Z"
   },
   {
    "duration": 130,
    "start_time": "2021-11-24T18:27:59.395Z"
   },
   {
    "duration": 24,
    "start_time": "2021-11-24T18:28:06.303Z"
   },
   {
    "duration": 123,
    "start_time": "2021-11-24T19:08:40.200Z"
   },
   {
    "duration": 123,
    "start_time": "2021-11-24T19:09:16.041Z"
   },
   {
    "duration": 454,
    "start_time": "2021-11-24T19:09:45.900Z"
   },
   {
    "duration": 110,
    "start_time": "2021-11-24T19:10:49.932Z"
   },
   {
    "duration": 944,
    "start_time": "2021-11-25T15:50:20.534Z"
   },
   {
    "duration": 2,
    "start_time": "2021-11-25T15:50:51.251Z"
   },
   {
    "duration": 136,
    "start_time": "2021-11-25T15:51:04.091Z"
   },
   {
    "duration": 18,
    "start_time": "2021-11-25T15:51:16.134Z"
   },
   {
    "duration": 25,
    "start_time": "2021-11-25T15:51:25.108Z"
   },
   {
    "duration": 4,
    "start_time": "2021-11-25T15:51:37.567Z"
   },
   {
    "duration": 21,
    "start_time": "2021-11-25T15:51:48.624Z"
   },
   {
    "duration": 4,
    "start_time": "2021-11-25T15:52:01.930Z"
   },
   {
    "duration": 23,
    "start_time": "2021-11-25T15:52:10.338Z"
   },
   {
    "duration": 29,
    "start_time": "2021-11-25T15:52:18.771Z"
   },
   {
    "duration": 24,
    "start_time": "2021-11-25T15:52:25.705Z"
   },
   {
    "duration": 59,
    "start_time": "2021-11-25T15:52:35.231Z"
   },
   {
    "duration": 70,
    "start_time": "2021-11-25T15:52:42.141Z"
   },
   {
    "duration": 50,
    "start_time": "2021-11-25T15:52:45.742Z"
   },
   {
    "duration": 52,
    "start_time": "2021-11-25T15:52:52.873Z"
   },
   {
    "duration": 3,
    "start_time": "2021-11-25T15:53:02.437Z"
   },
   {
    "duration": 11,
    "start_time": "2021-11-25T15:53:08.016Z"
   },
   {
    "duration": 7,
    "start_time": "2021-11-25T15:53:14.400Z"
   },
   {
    "duration": 14,
    "start_time": "2021-11-25T15:53:23.229Z"
   },
   {
    "duration": 14,
    "start_time": "2021-11-25T15:53:30.884Z"
   },
   {
    "duration": 4,
    "start_time": "2021-11-25T15:53:36.693Z"
   },
   {
    "duration": 21,
    "start_time": "2021-11-25T15:54:06.200Z"
   },
   {
    "duration": 19,
    "start_time": "2021-11-25T15:54:11.700Z"
   },
   {
    "duration": 18,
    "start_time": "2021-11-25T15:54:16.257Z"
   },
   {
    "duration": 26,
    "start_time": "2021-11-25T15:54:20.742Z"
   },
   {
    "duration": 21,
    "start_time": "2021-11-25T15:54:25.041Z"
   },
   {
    "duration": 21,
    "start_time": "2021-11-25T15:54:28.631Z"
   },
   {
    "duration": 88,
    "start_time": "2021-11-25T15:54:33.651Z"
   },
   {
    "duration": 81,
    "start_time": "2021-11-25T15:55:16.830Z"
   },
   {
    "duration": 93,
    "start_time": "2021-11-25T15:55:31.360Z"
   },
   {
    "duration": 85,
    "start_time": "2021-11-25T16:03:28.047Z"
   },
   {
    "duration": 6,
    "start_time": "2021-11-25T16:03:51.437Z"
   },
   {
    "duration": 8,
    "start_time": "2021-11-25T16:05:11.661Z"
   },
   {
    "duration": 12,
    "start_time": "2021-11-25T16:10:38.335Z"
   },
   {
    "duration": 12,
    "start_time": "2021-11-25T16:10:56.417Z"
   },
   {
    "duration": 81,
    "start_time": "2021-11-25T16:40:29.627Z"
   },
   {
    "duration": 4,
    "start_time": "2021-11-25T16:41:29.266Z"
   },
   {
    "duration": 22,
    "start_time": "2021-11-25T16:47:04.625Z"
   },
   {
    "duration": 13,
    "start_time": "2021-11-25T16:48:25.477Z"
   },
   {
    "duration": 20,
    "start_time": "2021-11-25T16:50:18.539Z"
   },
   {
    "duration": 13,
    "start_time": "2021-11-25T16:50:51.115Z"
   },
   {
    "duration": 485,
    "start_time": "2021-11-25T16:58:56.394Z"
   },
   {
    "duration": 38,
    "start_time": "2021-11-25T16:59:41.663Z"
   },
   {
    "duration": 55,
    "start_time": "2021-11-25T17:02:15.462Z"
   },
   {
    "duration": 10,
    "start_time": "2021-11-25T17:04:53.083Z"
   },
   {
    "duration": 29,
    "start_time": "2021-11-25T17:07:45.706Z"
   },
   {
    "duration": 11,
    "start_time": "2021-11-25T17:08:19.560Z"
   },
   {
    "duration": 263,
    "start_time": "2021-11-25T17:16:17.210Z"
   },
   {
    "duration": 247,
    "start_time": "2021-11-25T17:16:51.860Z"
   },
   {
    "duration": 41,
    "start_time": "2021-11-25T17:17:15.343Z"
   },
   {
    "duration": 285,
    "start_time": "2021-11-25T17:17:30.733Z"
   },
   {
    "duration": 267,
    "start_time": "2021-11-25T17:17:42.737Z"
   },
   {
    "duration": 80,
    "start_time": "2021-11-25T17:18:19.305Z"
   },
   {
    "duration": 40,
    "start_time": "2021-11-25T17:18:38.830Z"
   },
   {
    "duration": 11,
    "start_time": "2021-11-25T17:18:57.463Z"
   },
   {
    "duration": 25,
    "start_time": "2021-11-25T17:19:27.604Z"
   },
   {
    "duration": 11,
    "start_time": "2021-11-25T17:19:51.444Z"
   },
   {
    "duration": 548,
    "start_time": "2021-11-25T19:47:35.953Z"
   },
   {
    "duration": 120,
    "start_time": "2021-11-25T19:47:36.503Z"
   },
   {
    "duration": 14,
    "start_time": "2021-11-25T19:47:36.625Z"
   },
   {
    "duration": 29,
    "start_time": "2021-11-25T19:47:36.640Z"
   },
   {
    "duration": 9,
    "start_time": "2021-11-25T19:47:36.670Z"
   },
   {
    "duration": 18,
    "start_time": "2021-11-25T19:47:36.681Z"
   },
   {
    "duration": 3,
    "start_time": "2021-11-25T19:47:36.700Z"
   },
   {
    "duration": 19,
    "start_time": "2021-11-25T19:47:36.705Z"
   },
   {
    "duration": 26,
    "start_time": "2021-11-25T19:47:36.726Z"
   },
   {
    "duration": 34,
    "start_time": "2021-11-25T19:47:36.754Z"
   },
   {
    "duration": 54,
    "start_time": "2021-11-25T19:47:36.790Z"
   },
   {
    "duration": 63,
    "start_time": "2021-11-25T19:47:36.845Z"
   },
   {
    "duration": 43,
    "start_time": "2021-11-25T19:47:36.910Z"
   },
   {
    "duration": 55,
    "start_time": "2021-11-25T19:47:36.954Z"
   },
   {
    "duration": 2,
    "start_time": "2021-11-25T19:47:37.011Z"
   },
   {
    "duration": 12,
    "start_time": "2021-11-25T19:47:37.015Z"
   },
   {
    "duration": 5,
    "start_time": "2021-11-25T19:47:37.029Z"
   },
   {
    "duration": 11,
    "start_time": "2021-11-25T19:47:37.036Z"
   },
   {
    "duration": 9,
    "start_time": "2021-11-25T19:47:37.048Z"
   },
   {
    "duration": 3,
    "start_time": "2021-11-25T19:47:37.058Z"
   },
   {
    "duration": 36,
    "start_time": "2021-11-25T19:47:37.062Z"
   },
   {
    "duration": 12,
    "start_time": "2021-11-25T19:47:37.099Z"
   },
   {
    "duration": 13,
    "start_time": "2021-11-25T19:47:37.114Z"
   },
   {
    "duration": 12,
    "start_time": "2021-11-25T19:47:37.129Z"
   },
   {
    "duration": 15,
    "start_time": "2021-11-25T19:47:37.142Z"
   },
   {
    "duration": 14,
    "start_time": "2021-11-25T19:47:37.187Z"
   },
   {
    "duration": 66,
    "start_time": "2021-11-25T19:47:37.202Z"
   },
   {
    "duration": 21,
    "start_time": "2021-11-25T19:47:37.270Z"
   },
   {
    "duration": 7,
    "start_time": "2021-11-25T19:47:37.293Z"
   },
   {
    "duration": 6,
    "start_time": "2021-11-25T19:47:37.302Z"
   },
   {
    "duration": 24,
    "start_time": "2021-11-25T19:47:37.309Z"
   },
   {
    "duration": 11,
    "start_time": "2021-11-25T19:47:37.334Z"
   },
   {
    "duration": 14,
    "start_time": "2021-11-25T19:47:37.346Z"
   },
   {
    "duration": 31,
    "start_time": "2021-11-25T19:47:37.361Z"
   },
   {
    "duration": 29,
    "start_time": "2021-11-25T19:47:37.393Z"
   },
   {
    "duration": 280,
    "start_time": "2021-11-25T19:47:37.423Z"
   },
   {
    "duration": -92,
    "start_time": "2021-11-25T19:47:37.796Z"
   },
   {
    "duration": -95,
    "start_time": "2021-11-25T19:47:37.800Z"
   },
   {
    "duration": 555,
    "start_time": "2021-11-25T19:48:33.004Z"
   },
   {
    "duration": 122,
    "start_time": "2021-11-25T19:48:33.561Z"
   },
   {
    "duration": 14,
    "start_time": "2021-11-25T19:48:33.685Z"
   },
   {
    "duration": 21,
    "start_time": "2021-11-25T19:48:33.701Z"
   },
   {
    "duration": 3,
    "start_time": "2021-11-25T19:48:33.723Z"
   },
   {
    "duration": 17,
    "start_time": "2021-11-25T19:48:33.728Z"
   },
   {
    "duration": 3,
    "start_time": "2021-11-25T19:48:33.747Z"
   },
   {
    "duration": 44,
    "start_time": "2021-11-25T19:48:33.752Z"
   },
   {
    "duration": 34,
    "start_time": "2021-11-25T19:48:33.798Z"
   },
   {
    "duration": 18,
    "start_time": "2021-11-25T19:48:33.834Z"
   },
   {
    "duration": 63,
    "start_time": "2021-11-25T19:48:33.854Z"
   },
   {
    "duration": 61,
    "start_time": "2021-11-25T19:48:33.918Z"
   },
   {
    "duration": 49,
    "start_time": "2021-11-25T19:48:33.980Z"
   },
   {
    "duration": 57,
    "start_time": "2021-11-25T19:48:34.031Z"
   },
   {
    "duration": 3,
    "start_time": "2021-11-25T19:48:34.089Z"
   },
   {
    "duration": 13,
    "start_time": "2021-11-25T19:48:34.093Z"
   },
   {
    "duration": 6,
    "start_time": "2021-11-25T19:48:34.107Z"
   },
   {
    "duration": 13,
    "start_time": "2021-11-25T19:48:34.114Z"
   },
   {
    "duration": 10,
    "start_time": "2021-11-25T19:48:34.128Z"
   },
   {
    "duration": 3,
    "start_time": "2021-11-25T19:48:34.139Z"
   },
   {
    "duration": 45,
    "start_time": "2021-11-25T19:48:34.143Z"
   },
   {
    "duration": 13,
    "start_time": "2021-11-25T19:48:34.190Z"
   },
   {
    "duration": 13,
    "start_time": "2021-11-25T19:48:34.206Z"
   },
   {
    "duration": 12,
    "start_time": "2021-11-25T19:48:34.221Z"
   },
   {
    "duration": 16,
    "start_time": "2021-11-25T19:48:34.234Z"
   },
   {
    "duration": 38,
    "start_time": "2021-11-25T19:48:34.251Z"
   },
   {
    "duration": 68,
    "start_time": "2021-11-25T19:48:34.290Z"
   },
   {
    "duration": 9,
    "start_time": "2021-11-25T19:48:34.360Z"
   },
   {
    "duration": 20,
    "start_time": "2021-11-25T19:48:34.370Z"
   },
   {
    "duration": 7,
    "start_time": "2021-11-25T19:48:34.392Z"
   },
   {
    "duration": 21,
    "start_time": "2021-11-25T19:48:34.400Z"
   },
   {
    "duration": 11,
    "start_time": "2021-11-25T19:48:34.422Z"
   },
   {
    "duration": 15,
    "start_time": "2021-11-25T19:48:34.435Z"
   },
   {
    "duration": 39,
    "start_time": "2021-11-25T19:48:34.451Z"
   },
   {
    "duration": 31,
    "start_time": "2021-11-25T19:48:34.492Z"
   },
   {
    "duration": 304,
    "start_time": "2021-11-25T19:48:34.524Z"
   },
   {
    "duration": -103,
    "start_time": "2021-11-25T19:48:34.933Z"
   },
   {
    "duration": -109,
    "start_time": "2021-11-25T19:48:34.940Z"
   },
   {
    "duration": 82,
    "start_time": "2021-11-25T19:54:09.088Z"
   },
   {
    "duration": 2,
    "start_time": "2021-11-26T09:03:40.974Z"
   },
   {
    "duration": 140,
    "start_time": "2021-11-26T09:03:50.001Z"
   },
   {
    "duration": 10,
    "start_time": "2021-11-26T09:03:55.492Z"
   },
   {
    "duration": 24,
    "start_time": "2021-11-26T09:04:03.896Z"
   },
   {
    "duration": 4,
    "start_time": "2021-11-26T09:04:12.338Z"
   },
   {
    "duration": 15,
    "start_time": "2021-11-26T09:04:18.774Z"
   },
   {
    "duration": 4,
    "start_time": "2021-11-26T09:08:16.167Z"
   },
   {
    "duration": 22,
    "start_time": "2021-11-26T09:08:21.003Z"
   },
   {
    "duration": 30,
    "start_time": "2021-11-26T09:08:29.127Z"
   },
   {
    "duration": 34,
    "start_time": "2021-11-26T09:08:33.584Z"
   },
   {
    "duration": 56,
    "start_time": "2021-11-26T09:08:38.300Z"
   },
   {
    "duration": 63,
    "start_time": "2021-11-26T09:08:43.665Z"
   },
   {
    "duration": 52,
    "start_time": "2021-11-26T09:08:48.747Z"
   },
   {
    "duration": 48,
    "start_time": "2021-11-26T09:08:53.792Z"
   },
   {
    "duration": 4,
    "start_time": "2021-11-26T09:09:01.728Z"
   },
   {
    "duration": 10,
    "start_time": "2021-11-26T09:09:05.700Z"
   },
   {
    "duration": 7,
    "start_time": "2021-11-26T09:11:02.601Z"
   },
   {
    "duration": 14,
    "start_time": "2021-11-26T09:11:15.192Z"
   },
   {
    "duration": 12,
    "start_time": "2021-11-26T09:11:21.266Z"
   },
   {
    "duration": 3,
    "start_time": "2021-11-26T09:13:30.085Z"
   },
   {
    "duration": 23,
    "start_time": "2021-11-26T09:13:52.715Z"
   },
   {
    "duration": 18,
    "start_time": "2021-11-26T09:13:57.221Z"
   },
   {
    "duration": 19,
    "start_time": "2021-11-26T09:13:58.518Z"
   },
   {
    "duration": 19,
    "start_time": "2021-11-26T09:13:59.455Z"
   },
   {
    "duration": 25,
    "start_time": "2021-11-26T09:14:04.589Z"
   },
   {
    "duration": 18,
    "start_time": "2021-11-26T09:14:05.485Z"
   },
   {
    "duration": 90,
    "start_time": "2021-11-26T09:14:15.748Z"
   },
   {
    "duration": 14,
    "start_time": "2021-11-26T09:14:49.117Z"
   },
   {
    "duration": 10,
    "start_time": "2021-11-26T09:14:52.123Z"
   },
   {
    "duration": 4,
    "start_time": "2021-11-26T09:15:11.330Z"
   },
   {
    "duration": 27,
    "start_time": "2021-11-26T09:19:16.041Z"
   },
   {
    "duration": 13,
    "start_time": "2021-11-26T09:19:24.629Z"
   },
   {
    "duration": 18,
    "start_time": "2021-11-26T09:19:35.326Z"
   },
   {
    "duration": 15,
    "start_time": "2021-11-26T09:19:42.538Z"
   },
   {
    "duration": 390,
    "start_time": "2021-11-26T09:21:42.919Z"
   },
   {
    "duration": 8,
    "start_time": "2021-11-26T09:24:33.829Z"
   },
   {
    "duration": 5,
    "start_time": "2021-11-26T09:24:41.061Z"
   },
   {
    "duration": 6,
    "start_time": "2021-11-26T09:25:51.000Z"
   },
   {
    "duration": 5,
    "start_time": "2021-11-26T09:25:55.685Z"
   },
   {
    "duration": 600,
    "start_time": "2021-11-26T13:06:06.778Z"
   },
   {
    "duration": 149,
    "start_time": "2021-11-26T13:06:07.382Z"
   },
   {
    "duration": 18,
    "start_time": "2021-11-26T13:06:07.533Z"
   },
   {
    "duration": 41,
    "start_time": "2021-11-26T13:06:07.553Z"
   },
   {
    "duration": 4,
    "start_time": "2021-11-26T13:06:07.596Z"
   },
   {
    "duration": 25,
    "start_time": "2021-11-26T13:06:07.602Z"
   },
   {
    "duration": 8,
    "start_time": "2021-11-26T13:06:07.629Z"
   },
   {
    "duration": 26,
    "start_time": "2021-11-26T13:06:07.640Z"
   },
   {
    "duration": 34,
    "start_time": "2021-11-26T13:06:07.693Z"
   },
   {
    "duration": 25,
    "start_time": "2021-11-26T13:06:07.729Z"
   },
   {
    "duration": 85,
    "start_time": "2021-11-26T13:06:07.756Z"
   },
   {
    "duration": 80,
    "start_time": "2021-11-26T13:06:07.843Z"
   },
   {
    "duration": 52,
    "start_time": "2021-11-26T13:06:07.925Z"
   },
   {
    "duration": 49,
    "start_time": "2021-11-26T13:06:07.991Z"
   },
   {
    "duration": 3,
    "start_time": "2021-11-26T13:06:08.041Z"
   },
   {
    "duration": 17,
    "start_time": "2021-11-26T13:06:08.046Z"
   },
   {
    "duration": 28,
    "start_time": "2021-11-26T13:06:08.065Z"
   },
   {
    "duration": 13,
    "start_time": "2021-11-26T13:06:08.095Z"
   },
   {
    "duration": 17,
    "start_time": "2021-11-26T13:06:08.110Z"
   },
   {
    "duration": 5,
    "start_time": "2021-11-26T13:06:08.129Z"
   },
   {
    "duration": 69,
    "start_time": "2021-11-26T13:06:08.136Z"
   },
   {
    "duration": 27,
    "start_time": "2021-11-26T13:06:08.207Z"
   },
   {
    "duration": 22,
    "start_time": "2021-11-26T13:06:08.237Z"
   },
   {
    "duration": 42,
    "start_time": "2021-11-26T13:06:08.261Z"
   },
   {
    "duration": 24,
    "start_time": "2021-11-26T13:06:08.305Z"
   },
   {
    "duration": 27,
    "start_time": "2021-11-26T13:06:08.333Z"
   },
   {
    "duration": 148,
    "start_time": "2021-11-26T13:06:08.363Z"
   },
   {
    "duration": 13,
    "start_time": "2021-11-26T13:06:08.513Z"
   },
   {
    "duration": 11,
    "start_time": "2021-11-26T13:06:08.528Z"
   },
   {
    "duration": 5,
    "start_time": "2021-11-26T13:06:08.541Z"
   },
   {
    "duration": 50,
    "start_time": "2021-11-26T13:06:08.548Z"
   },
   {
    "duration": 14,
    "start_time": "2021-11-26T13:06:08.600Z"
   },
   {
    "duration": 18,
    "start_time": "2021-11-26T13:06:08.616Z"
   },
   {
    "duration": 14,
    "start_time": "2021-11-26T13:06:08.636Z"
   },
   {
    "duration": 42,
    "start_time": "2021-11-26T13:06:08.652Z"
   },
   {
    "duration": 6,
    "start_time": "2021-11-26T13:06:08.696Z"
   },
   {
    "duration": 20,
    "start_time": "2021-11-26T13:06:08.704Z"
   },
   {
    "duration": 5,
    "start_time": "2021-11-26T13:06:08.726Z"
   }
  ],
  "colab": {
   "collapsed_sections": [
    "E0vqbgi9ay0H",
    "VUC88oWjTJw2"
   ],
   "name": "yandex_music_project_2021.2.ipynb",
   "provenance": []
  },
  "kernelspec": {
   "display_name": "Python 3",
   "language": "python",
   "name": "python3"
  },
  "language_info": {
   "codemirror_mode": {
    "name": "ipython",
    "version": 3
   },
   "file_extension": ".py",
   "mimetype": "text/x-python",
   "name": "python",
   "nbconvert_exporter": "python",
   "pygments_lexer": "ipython3",
   "version": "3.8.8"
  },
  "toc": {
   "base_numbering": 1,
   "nav_menu": {},
   "number_sections": true,
   "sideBar": true,
   "skip_h1_title": true,
   "title_cell": "Table of Contents",
   "title_sidebar": "Contents",
   "toc_cell": false,
   "toc_position": {},
   "toc_section_display": true,
   "toc_window_display": false
  }
 },
 "nbformat": 4,
 "nbformat_minor": 1
}
