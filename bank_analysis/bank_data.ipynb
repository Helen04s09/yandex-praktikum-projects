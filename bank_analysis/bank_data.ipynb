{
 "cells": [
  {
   "cell_type": "markdown",
   "metadata": {},
   "source": [
    "# Исследование надёжности заёмщиков\n",
    "\n"
   ]
  },
  {
   "cell_type": "markdown",
   "metadata": {},
   "source": [
    "## Этап 1. Получение данных и изучение общей информации."
   ]
  },
  {
   "cell_type": "markdown",
   "metadata": {},
   "source": [
    "**Импорт библиотек**"
   ]
  },
  {
   "cell_type": "code",
   "execution_count": 1,
   "metadata": {},
   "outputs": [],
   "source": [
    "import pandas as pd\n"
   ]
  },
  {
   "cell_type": "markdown",
   "metadata": {},
   "source": [
    "<b>Прочитаем файл `csv`, предоставленный сервисом для проекта и сохраним его в переменной `data`:"
   ]
  },
  {
   "cell_type": "code",
   "execution_count": null,
   "metadata": {},
   "outputs": [],
   "source": [
    "data = pd.read_csv('...csv')"
   ]
  },
  {
   "cell_type": "markdown",
   "metadata": {},
   "source": [
    "<b> Изучим общую информации о данных в таблице `data`:"
   ]
  },
  {
   "cell_type": "code",
   "execution_count": 2,
   "metadata": {
    "scrolled": true
   },
   "outputs": [
    {
     "name": "stdout",
     "output_type": "stream",
     "text": [
      "<class 'pandas.core.frame.DataFrame'>\n",
      "RangeIndex: 21525 entries, 0 to 21524\n",
      "Data columns (total 12 columns):\n",
      "children            21525 non-null int64\n",
      "days_employed       19351 non-null float64\n",
      "dob_years           21525 non-null int64\n",
      "education           21525 non-null object\n",
      "education_id        21525 non-null int64\n",
      "family_status       21525 non-null object\n",
      "family_status_id    21525 non-null int64\n",
      "gender              21525 non-null object\n",
      "income_type         21525 non-null object\n",
      "debt                21525 non-null int64\n",
      "total_income        19351 non-null float64\n",
      "purpose             21525 non-null object\n",
      "dtypes: float64(2), int64(5), object(5)\n",
      "memory usage: 2.0+ MB\n"
     ]
    }
   ],
   "source": [
    "data.info()\n"
   ]
  },
  {
   "cell_type": "markdown",
   "metadata": {},
   "source": [
    "**Вывод**\n",
    "* Данные содержат 12 столбцов и размещены на 21525 строках. Таблица содержит три типа данных(вещественный, целочисленный и строковый). Названия столбцов написаны согласно правилам хорошего стиля: в змеином регистре, строчными буквами, без дополнительных пробелов. В таблице обнаружены артефакты(отрицательное количество дней трудового стажа), пропуски, значения столбца 'education_id'заполнены в разных регистрах."
   ]
  },
  {
   "cell_type": "markdown",
   "metadata": {},
   "source": [
    "## Этап 2. Предобработка данных"
   ]
  },
  {
   "cell_type": "markdown",
   "metadata": {},
   "source": [
    "### Обработка пропусков"
   ]
  },
  {
   "cell_type": "markdown",
   "metadata": {},
   "source": [
    "**Проверим данные на наличие пропусков вызовом набора методов для суммирования пропущенных значений:**"
   ]
  },
  {
   "cell_type": "code",
   "execution_count": 4,
   "metadata": {},
   "outputs": [
    {
     "data": {
      "text/plain": [
       "children               0\n",
       "days_employed       2174\n",
       "dob_years              0\n",
       "education              0\n",
       "education_id           0\n",
       "family_status          0\n",
       "family_status_id       0\n",
       "gender                 0\n",
       "income_type            0\n",
       "debt                   0\n",
       "total_income        2174\n",
       "purpose                0\n",
       "dtype: int64"
      ]
     },
     "execution_count": 4,
     "metadata": {},
     "output_type": "execute_result"
    }
   ],
   "source": [
    "data.isna().sum()"
   ]
  },
  {
   "cell_type": "markdown",
   "metadata": {},
   "source": [
    "**Выведем % пропусков от общего числа строк:**"
   ]
  },
  {
   "cell_type": "code",
   "execution_count": 6,
   "metadata": {},
   "outputs": [
    {
     "data": {
      "text/plain": [
       "children             0.000000\n",
       "days_employed       10.099884\n",
       "dob_years            0.000000\n",
       "education            0.000000\n",
       "education_id         0.000000\n",
       "family_status        0.000000\n",
       "family_status_id     0.000000\n",
       "gender               0.000000\n",
       "income_type          0.000000\n",
       "debt                 0.000000\n",
       "total_income        10.099884\n",
       "purpose              0.000000\n",
       "dtype: float64"
      ]
     },
     "execution_count": 6,
     "metadata": {},
     "output_type": "execute_result"
    }
   ],
   "source": [
    "data.isna().mean() * 100\n"
   ]
  },
  {
   "cell_type": "markdown",
   "metadata": {},
   "source": [
    "**Вывод: % пропусков от общего числа строк - 10%. Можно сделать вывод, что это незначительные потери данных для проведения нашего анализа.**"
   ]
  },
  {
   "cell_type": "markdown",
   "metadata": {},
   "source": [
    "**Вывод:**\n",
    "- Пропуски обнаружены одновременно в двух столбцах, отображающих общий трудовой стаж в днях и ежемесячный доход. Можно предположить,что пропуски связаны с технической ошибкой при выгрузке данных. Думаю, что пропущенные значения в days_employed не влияют на исследование. Достаточно заменить их явными обозначениями. Заменим пропущенные значения в столбце days_employed на -100, чтобы сохранить в столбце тип данных float. А значение в столбце с доходом заполняем в разрезе типа занятости медианными значениями.\n"
   ]
  },
  {
   "cell_type": "markdown",
   "metadata": {},
   "source": [
    "**С помощью abs() сделаем все величины в столбце days_employed положительными. А затем пометим пропуски явным отрицательным значением.**"
   ]
  },
  {
   "cell_type": "code",
   "execution_count": 7,
   "metadata": {},
   "outputs": [],
   "source": [
    "data['days_employed'] = data['days_employed'].abs()"
   ]
  },
  {
   "cell_type": "code",
   "execution_count": 8,
   "metadata": {},
   "outputs": [],
   "source": [
    "data['days_employed'] = data['days_employed'].fillna(-100)"
   ]
  },
  {
   "cell_type": "markdown",
   "metadata": {},
   "source": [
    "**Заполним пропуски в доходе в соответствие с категорией заемщика:**"
   ]
  },
  {
   "cell_type": "code",
   "execution_count": 9,
   "metadata": {},
   "outputs": [],
   "source": [
    "data['total_income'] = data['total_income'].fillna(data.groupby('income_type')['total_income'].transform('median'))\n",
    "\n",
    "\n"
   ]
  },
  {
   "cell_type": "markdown",
   "metadata": {},
   "source": [
    "**Изучим полученный результат:**"
   ]
  },
  {
   "cell_type": "code",
   "execution_count": 10,
   "metadata": {},
   "outputs": [
    {
     "data": {
      "text/html": [
       "<div>\n",
       "<style scoped>\n",
       "    .dataframe tbody tr th:only-of-type {\n",
       "        vertical-align: middle;\n",
       "    }\n",
       "\n",
       "    .dataframe tbody tr th {\n",
       "        vertical-align: top;\n",
       "    }\n",
       "\n",
       "    .dataframe thead th {\n",
       "        text-align: right;\n",
       "    }\n",
       "</style>\n",
       "<table border=\"1\" class=\"dataframe\">\n",
       "  <thead>\n",
       "    <tr style=\"text-align: right;\">\n",
       "      <th></th>\n",
       "      <th>children</th>\n",
       "      <th>days_employed</th>\n",
       "      <th>dob_years</th>\n",
       "      <th>education</th>\n",
       "      <th>education_id</th>\n",
       "      <th>family_status</th>\n",
       "      <th>family_status_id</th>\n",
       "      <th>gender</th>\n",
       "      <th>income_type</th>\n",
       "      <th>debt</th>\n",
       "      <th>total_income</th>\n",
       "      <th>purpose</th>\n",
       "    </tr>\n",
       "  </thead>\n",
       "  <tbody>\n",
       "    <tr>\n",
       "      <td>0</td>\n",
       "      <td>1</td>\n",
       "      <td>8437.673028</td>\n",
       "      <td>42</td>\n",
       "      <td>высшее</td>\n",
       "      <td>0</td>\n",
       "      <td>женат / замужем</td>\n",
       "      <td>0</td>\n",
       "      <td>F</td>\n",
       "      <td>сотрудник</td>\n",
       "      <td>0</td>\n",
       "      <td>253875.639453</td>\n",
       "      <td>покупка жилья</td>\n",
       "    </tr>\n",
       "    <tr>\n",
       "      <td>1</td>\n",
       "      <td>1</td>\n",
       "      <td>4024.803754</td>\n",
       "      <td>36</td>\n",
       "      <td>среднее</td>\n",
       "      <td>1</td>\n",
       "      <td>женат / замужем</td>\n",
       "      <td>0</td>\n",
       "      <td>F</td>\n",
       "      <td>сотрудник</td>\n",
       "      <td>0</td>\n",
       "      <td>112080.014102</td>\n",
       "      <td>приобретение автомобиля</td>\n",
       "    </tr>\n",
       "    <tr>\n",
       "      <td>2</td>\n",
       "      <td>0</td>\n",
       "      <td>5623.422610</td>\n",
       "      <td>33</td>\n",
       "      <td>Среднее</td>\n",
       "      <td>1</td>\n",
       "      <td>женат / замужем</td>\n",
       "      <td>0</td>\n",
       "      <td>M</td>\n",
       "      <td>сотрудник</td>\n",
       "      <td>0</td>\n",
       "      <td>145885.952297</td>\n",
       "      <td>покупка жилья</td>\n",
       "    </tr>\n",
       "    <tr>\n",
       "      <td>3</td>\n",
       "      <td>3</td>\n",
       "      <td>4124.747207</td>\n",
       "      <td>32</td>\n",
       "      <td>среднее</td>\n",
       "      <td>1</td>\n",
       "      <td>женат / замужем</td>\n",
       "      <td>0</td>\n",
       "      <td>M</td>\n",
       "      <td>сотрудник</td>\n",
       "      <td>0</td>\n",
       "      <td>267628.550329</td>\n",
       "      <td>дополнительное образование</td>\n",
       "    </tr>\n",
       "    <tr>\n",
       "      <td>4</td>\n",
       "      <td>0</td>\n",
       "      <td>340266.072047</td>\n",
       "      <td>53</td>\n",
       "      <td>среднее</td>\n",
       "      <td>1</td>\n",
       "      <td>гражданский брак</td>\n",
       "      <td>1</td>\n",
       "      <td>F</td>\n",
       "      <td>пенсионер</td>\n",
       "      <td>0</td>\n",
       "      <td>158616.077870</td>\n",
       "      <td>сыграть свадьбу</td>\n",
       "    </tr>\n",
       "    <tr>\n",
       "      <td>5</td>\n",
       "      <td>0</td>\n",
       "      <td>926.185831</td>\n",
       "      <td>27</td>\n",
       "      <td>высшее</td>\n",
       "      <td>0</td>\n",
       "      <td>гражданский брак</td>\n",
       "      <td>1</td>\n",
       "      <td>M</td>\n",
       "      <td>компаньон</td>\n",
       "      <td>0</td>\n",
       "      <td>255763.565419</td>\n",
       "      <td>покупка жилья</td>\n",
       "    </tr>\n",
       "    <tr>\n",
       "      <td>6</td>\n",
       "      <td>0</td>\n",
       "      <td>2879.202052</td>\n",
       "      <td>43</td>\n",
       "      <td>высшее</td>\n",
       "      <td>0</td>\n",
       "      <td>женат / замужем</td>\n",
       "      <td>0</td>\n",
       "      <td>F</td>\n",
       "      <td>компаньон</td>\n",
       "      <td>0</td>\n",
       "      <td>240525.971920</td>\n",
       "      <td>операции с жильем</td>\n",
       "    </tr>\n",
       "    <tr>\n",
       "      <td>7</td>\n",
       "      <td>0</td>\n",
       "      <td>152.779569</td>\n",
       "      <td>50</td>\n",
       "      <td>СРЕДНЕЕ</td>\n",
       "      <td>1</td>\n",
       "      <td>женат / замужем</td>\n",
       "      <td>0</td>\n",
       "      <td>M</td>\n",
       "      <td>сотрудник</td>\n",
       "      <td>0</td>\n",
       "      <td>135823.934197</td>\n",
       "      <td>образование</td>\n",
       "    </tr>\n",
       "    <tr>\n",
       "      <td>8</td>\n",
       "      <td>2</td>\n",
       "      <td>6929.865299</td>\n",
       "      <td>35</td>\n",
       "      <td>ВЫСШЕЕ</td>\n",
       "      <td>0</td>\n",
       "      <td>гражданский брак</td>\n",
       "      <td>1</td>\n",
       "      <td>F</td>\n",
       "      <td>сотрудник</td>\n",
       "      <td>0</td>\n",
       "      <td>95856.832424</td>\n",
       "      <td>на проведение свадьбы</td>\n",
       "    </tr>\n",
       "    <tr>\n",
       "      <td>9</td>\n",
       "      <td>0</td>\n",
       "      <td>2188.756445</td>\n",
       "      <td>41</td>\n",
       "      <td>среднее</td>\n",
       "      <td>1</td>\n",
       "      <td>женат / замужем</td>\n",
       "      <td>0</td>\n",
       "      <td>M</td>\n",
       "      <td>сотрудник</td>\n",
       "      <td>0</td>\n",
       "      <td>144425.938277</td>\n",
       "      <td>покупка жилья для семьи</td>\n",
       "    </tr>\n",
       "    <tr>\n",
       "      <td>10</td>\n",
       "      <td>2</td>\n",
       "      <td>4171.483647</td>\n",
       "      <td>36</td>\n",
       "      <td>высшее</td>\n",
       "      <td>0</td>\n",
       "      <td>женат / замужем</td>\n",
       "      <td>0</td>\n",
       "      <td>M</td>\n",
       "      <td>компаньон</td>\n",
       "      <td>0</td>\n",
       "      <td>113943.491460</td>\n",
       "      <td>покупка недвижимости</td>\n",
       "    </tr>\n",
       "    <tr>\n",
       "      <td>11</td>\n",
       "      <td>0</td>\n",
       "      <td>792.701887</td>\n",
       "      <td>40</td>\n",
       "      <td>среднее</td>\n",
       "      <td>1</td>\n",
       "      <td>женат / замужем</td>\n",
       "      <td>0</td>\n",
       "      <td>F</td>\n",
       "      <td>сотрудник</td>\n",
       "      <td>0</td>\n",
       "      <td>77069.234271</td>\n",
       "      <td>покупка коммерческой недвижимости</td>\n",
       "    </tr>\n",
       "    <tr>\n",
       "      <td>12</td>\n",
       "      <td>0</td>\n",
       "      <td>-100.000000</td>\n",
       "      <td>65</td>\n",
       "      <td>среднее</td>\n",
       "      <td>1</td>\n",
       "      <td>гражданский брак</td>\n",
       "      <td>1</td>\n",
       "      <td>M</td>\n",
       "      <td>пенсионер</td>\n",
       "      <td>0</td>\n",
       "      <td>118514.486412</td>\n",
       "      <td>сыграть свадьбу</td>\n",
       "    </tr>\n",
       "    <tr>\n",
       "      <td>13</td>\n",
       "      <td>0</td>\n",
       "      <td>1846.641941</td>\n",
       "      <td>54</td>\n",
       "      <td>неоконченное высшее</td>\n",
       "      <td>2</td>\n",
       "      <td>женат / замужем</td>\n",
       "      <td>0</td>\n",
       "      <td>F</td>\n",
       "      <td>сотрудник</td>\n",
       "      <td>0</td>\n",
       "      <td>130458.228857</td>\n",
       "      <td>приобретение автомобиля</td>\n",
       "    </tr>\n",
       "    <tr>\n",
       "      <td>14</td>\n",
       "      <td>0</td>\n",
       "      <td>1844.956182</td>\n",
       "      <td>56</td>\n",
       "      <td>высшее</td>\n",
       "      <td>0</td>\n",
       "      <td>гражданский брак</td>\n",
       "      <td>1</td>\n",
       "      <td>F</td>\n",
       "      <td>компаньон</td>\n",
       "      <td>1</td>\n",
       "      <td>165127.911772</td>\n",
       "      <td>покупка жилой недвижимости</td>\n",
       "    </tr>\n",
       "    <tr>\n",
       "      <td>15</td>\n",
       "      <td>1</td>\n",
       "      <td>972.364419</td>\n",
       "      <td>26</td>\n",
       "      <td>среднее</td>\n",
       "      <td>1</td>\n",
       "      <td>женат / замужем</td>\n",
       "      <td>0</td>\n",
       "      <td>F</td>\n",
       "      <td>сотрудник</td>\n",
       "      <td>0</td>\n",
       "      <td>116820.904450</td>\n",
       "      <td>строительство собственной недвижимости</td>\n",
       "    </tr>\n",
       "    <tr>\n",
       "      <td>16</td>\n",
       "      <td>0</td>\n",
       "      <td>1719.934226</td>\n",
       "      <td>35</td>\n",
       "      <td>среднее</td>\n",
       "      <td>1</td>\n",
       "      <td>женат / замужем</td>\n",
       "      <td>0</td>\n",
       "      <td>F</td>\n",
       "      <td>сотрудник</td>\n",
       "      <td>0</td>\n",
       "      <td>289202.704229</td>\n",
       "      <td>недвижимость</td>\n",
       "    </tr>\n",
       "    <tr>\n",
       "      <td>17</td>\n",
       "      <td>0</td>\n",
       "      <td>2369.999720</td>\n",
       "      <td>33</td>\n",
       "      <td>высшее</td>\n",
       "      <td>0</td>\n",
       "      <td>гражданский брак</td>\n",
       "      <td>1</td>\n",
       "      <td>M</td>\n",
       "      <td>сотрудник</td>\n",
       "      <td>0</td>\n",
       "      <td>90410.586745</td>\n",
       "      <td>строительство недвижимости</td>\n",
       "    </tr>\n",
       "    <tr>\n",
       "      <td>18</td>\n",
       "      <td>0</td>\n",
       "      <td>400281.136913</td>\n",
       "      <td>53</td>\n",
       "      <td>среднее</td>\n",
       "      <td>1</td>\n",
       "      <td>вдовец / вдова</td>\n",
       "      <td>2</td>\n",
       "      <td>F</td>\n",
       "      <td>пенсионер</td>\n",
       "      <td>0</td>\n",
       "      <td>56823.777243</td>\n",
       "      <td>на покупку подержанного автомобиля</td>\n",
       "    </tr>\n",
       "    <tr>\n",
       "      <td>19</td>\n",
       "      <td>0</td>\n",
       "      <td>10038.818549</td>\n",
       "      <td>48</td>\n",
       "      <td>СРЕДНЕЕ</td>\n",
       "      <td>1</td>\n",
       "      <td>в разводе</td>\n",
       "      <td>3</td>\n",
       "      <td>F</td>\n",
       "      <td>сотрудник</td>\n",
       "      <td>0</td>\n",
       "      <td>242831.107982</td>\n",
       "      <td>на покупку своего автомобиля</td>\n",
       "    </tr>\n",
       "  </tbody>\n",
       "</table>\n",
       "</div>"
      ],
      "text/plain": [
       "    children  days_employed  dob_years            education  education_id  \\\n",
       "0          1    8437.673028         42               высшее             0   \n",
       "1          1    4024.803754         36              среднее             1   \n",
       "2          0    5623.422610         33              Среднее             1   \n",
       "3          3    4124.747207         32              среднее             1   \n",
       "4          0  340266.072047         53              среднее             1   \n",
       "5          0     926.185831         27               высшее             0   \n",
       "6          0    2879.202052         43               высшее             0   \n",
       "7          0     152.779569         50              СРЕДНЕЕ             1   \n",
       "8          2    6929.865299         35               ВЫСШЕЕ             0   \n",
       "9          0    2188.756445         41              среднее             1   \n",
       "10         2    4171.483647         36               высшее             0   \n",
       "11         0     792.701887         40              среднее             1   \n",
       "12         0    -100.000000         65              среднее             1   \n",
       "13         0    1846.641941         54  неоконченное высшее             2   \n",
       "14         0    1844.956182         56               высшее             0   \n",
       "15         1     972.364419         26              среднее             1   \n",
       "16         0    1719.934226         35              среднее             1   \n",
       "17         0    2369.999720         33               высшее             0   \n",
       "18         0  400281.136913         53              среднее             1   \n",
       "19         0   10038.818549         48              СРЕДНЕЕ             1   \n",
       "\n",
       "       family_status  family_status_id gender income_type  debt  \\\n",
       "0    женат / замужем                 0      F   сотрудник     0   \n",
       "1    женат / замужем                 0      F   сотрудник     0   \n",
       "2    женат / замужем                 0      M   сотрудник     0   \n",
       "3    женат / замужем                 0      M   сотрудник     0   \n",
       "4   гражданский брак                 1      F   пенсионер     0   \n",
       "5   гражданский брак                 1      M   компаньон     0   \n",
       "6    женат / замужем                 0      F   компаньон     0   \n",
       "7    женат / замужем                 0      M   сотрудник     0   \n",
       "8   гражданский брак                 1      F   сотрудник     0   \n",
       "9    женат / замужем                 0      M   сотрудник     0   \n",
       "10   женат / замужем                 0      M   компаньон     0   \n",
       "11   женат / замужем                 0      F   сотрудник     0   \n",
       "12  гражданский брак                 1      M   пенсионер     0   \n",
       "13   женат / замужем                 0      F   сотрудник     0   \n",
       "14  гражданский брак                 1      F   компаньон     1   \n",
       "15   женат / замужем                 0      F   сотрудник     0   \n",
       "16   женат / замужем                 0      F   сотрудник     0   \n",
       "17  гражданский брак                 1      M   сотрудник     0   \n",
       "18    вдовец / вдова                 2      F   пенсионер     0   \n",
       "19         в разводе                 3      F   сотрудник     0   \n",
       "\n",
       "     total_income                                 purpose  \n",
       "0   253875.639453                           покупка жилья  \n",
       "1   112080.014102                 приобретение автомобиля  \n",
       "2   145885.952297                           покупка жилья  \n",
       "3   267628.550329              дополнительное образование  \n",
       "4   158616.077870                         сыграть свадьбу  \n",
       "5   255763.565419                           покупка жилья  \n",
       "6   240525.971920                       операции с жильем  \n",
       "7   135823.934197                             образование  \n",
       "8    95856.832424                   на проведение свадьбы  \n",
       "9   144425.938277                 покупка жилья для семьи  \n",
       "10  113943.491460                    покупка недвижимости  \n",
       "11   77069.234271       покупка коммерческой недвижимости  \n",
       "12  118514.486412                         сыграть свадьбу  \n",
       "13  130458.228857                 приобретение автомобиля  \n",
       "14  165127.911772              покупка жилой недвижимости  \n",
       "15  116820.904450  строительство собственной недвижимости  \n",
       "16  289202.704229                            недвижимость  \n",
       "17   90410.586745              строительство недвижимости  \n",
       "18   56823.777243      на покупку подержанного автомобиля  \n",
       "19  242831.107982            на покупку своего автомобиля  "
      ]
     },
     "execution_count": 10,
     "metadata": {},
     "output_type": "execute_result"
    }
   ],
   "source": [
    "data.head(20)"
   ]
  },
  {
   "cell_type": "code",
   "execution_count": 11,
   "metadata": {},
   "outputs": [
    {
     "name": "stdout",
     "output_type": "stream",
     "text": [
      "<class 'pandas.core.frame.DataFrame'>\n",
      "RangeIndex: 21525 entries, 0 to 21524\n",
      "Data columns (total 12 columns):\n",
      "children            21525 non-null int64\n",
      "days_employed       21525 non-null float64\n",
      "dob_years           21525 non-null int64\n",
      "education           21525 non-null object\n",
      "education_id        21525 non-null int64\n",
      "family_status       21525 non-null object\n",
      "family_status_id    21525 non-null int64\n",
      "gender              21525 non-null object\n",
      "income_type         21525 non-null object\n",
      "debt                21525 non-null int64\n",
      "total_income        21525 non-null float64\n",
      "purpose             21525 non-null object\n",
      "dtypes: float64(2), int64(5), object(5)\n",
      "memory usage: 2.0+ MB\n"
     ]
    }
   ],
   "source": [
    "data.info()"
   ]
  },
  {
   "cell_type": "markdown",
   "metadata": {},
   "source": [
    "### Замена типа данных"
   ]
  },
  {
   "cell_type": "markdown",
   "metadata": {},
   "source": [
    "**изменим тип данных в столбце`total_income` на целочисленный:**"
   ]
  },
  {
   "cell_type": "code",
   "execution_count": 12,
   "metadata": {},
   "outputs": [],
   "source": [
    "data['total_income'] = data['total_income'].astype('int64')"
   ]
  },
  {
   "cell_type": "code",
   "execution_count": 13,
   "metadata": {},
   "outputs": [
    {
     "data": {
      "text/html": [
       "<div>\n",
       "<style scoped>\n",
       "    .dataframe tbody tr th:only-of-type {\n",
       "        vertical-align: middle;\n",
       "    }\n",
       "\n",
       "    .dataframe tbody tr th {\n",
       "        vertical-align: top;\n",
       "    }\n",
       "\n",
       "    .dataframe thead th {\n",
       "        text-align: right;\n",
       "    }\n",
       "</style>\n",
       "<table border=\"1\" class=\"dataframe\">\n",
       "  <thead>\n",
       "    <tr style=\"text-align: right;\">\n",
       "      <th></th>\n",
       "      <th>children</th>\n",
       "      <th>days_employed</th>\n",
       "      <th>dob_years</th>\n",
       "      <th>education</th>\n",
       "      <th>education_id</th>\n",
       "      <th>family_status</th>\n",
       "      <th>family_status_id</th>\n",
       "      <th>gender</th>\n",
       "      <th>income_type</th>\n",
       "      <th>debt</th>\n",
       "      <th>total_income</th>\n",
       "      <th>purpose</th>\n",
       "    </tr>\n",
       "  </thead>\n",
       "  <tbody>\n",
       "    <tr>\n",
       "      <td>0</td>\n",
       "      <td>1</td>\n",
       "      <td>8437.673028</td>\n",
       "      <td>42</td>\n",
       "      <td>высшее</td>\n",
       "      <td>0</td>\n",
       "      <td>женат / замужем</td>\n",
       "      <td>0</td>\n",
       "      <td>F</td>\n",
       "      <td>сотрудник</td>\n",
       "      <td>0</td>\n",
       "      <td>253875</td>\n",
       "      <td>покупка жилья</td>\n",
       "    </tr>\n",
       "    <tr>\n",
       "      <td>1</td>\n",
       "      <td>1</td>\n",
       "      <td>4024.803754</td>\n",
       "      <td>36</td>\n",
       "      <td>среднее</td>\n",
       "      <td>1</td>\n",
       "      <td>женат / замужем</td>\n",
       "      <td>0</td>\n",
       "      <td>F</td>\n",
       "      <td>сотрудник</td>\n",
       "      <td>0</td>\n",
       "      <td>112080</td>\n",
       "      <td>приобретение автомобиля</td>\n",
       "    </tr>\n",
       "    <tr>\n",
       "      <td>2</td>\n",
       "      <td>0</td>\n",
       "      <td>5623.422610</td>\n",
       "      <td>33</td>\n",
       "      <td>Среднее</td>\n",
       "      <td>1</td>\n",
       "      <td>женат / замужем</td>\n",
       "      <td>0</td>\n",
       "      <td>M</td>\n",
       "      <td>сотрудник</td>\n",
       "      <td>0</td>\n",
       "      <td>145885</td>\n",
       "      <td>покупка жилья</td>\n",
       "    </tr>\n",
       "    <tr>\n",
       "      <td>3</td>\n",
       "      <td>3</td>\n",
       "      <td>4124.747207</td>\n",
       "      <td>32</td>\n",
       "      <td>среднее</td>\n",
       "      <td>1</td>\n",
       "      <td>женат / замужем</td>\n",
       "      <td>0</td>\n",
       "      <td>M</td>\n",
       "      <td>сотрудник</td>\n",
       "      <td>0</td>\n",
       "      <td>267628</td>\n",
       "      <td>дополнительное образование</td>\n",
       "    </tr>\n",
       "    <tr>\n",
       "      <td>4</td>\n",
       "      <td>0</td>\n",
       "      <td>340266.072047</td>\n",
       "      <td>53</td>\n",
       "      <td>среднее</td>\n",
       "      <td>1</td>\n",
       "      <td>гражданский брак</td>\n",
       "      <td>1</td>\n",
       "      <td>F</td>\n",
       "      <td>пенсионер</td>\n",
       "      <td>0</td>\n",
       "      <td>158616</td>\n",
       "      <td>сыграть свадьбу</td>\n",
       "    </tr>\n",
       "    <tr>\n",
       "      <td>5</td>\n",
       "      <td>0</td>\n",
       "      <td>926.185831</td>\n",
       "      <td>27</td>\n",
       "      <td>высшее</td>\n",
       "      <td>0</td>\n",
       "      <td>гражданский брак</td>\n",
       "      <td>1</td>\n",
       "      <td>M</td>\n",
       "      <td>компаньон</td>\n",
       "      <td>0</td>\n",
       "      <td>255763</td>\n",
       "      <td>покупка жилья</td>\n",
       "    </tr>\n",
       "    <tr>\n",
       "      <td>6</td>\n",
       "      <td>0</td>\n",
       "      <td>2879.202052</td>\n",
       "      <td>43</td>\n",
       "      <td>высшее</td>\n",
       "      <td>0</td>\n",
       "      <td>женат / замужем</td>\n",
       "      <td>0</td>\n",
       "      <td>F</td>\n",
       "      <td>компаньон</td>\n",
       "      <td>0</td>\n",
       "      <td>240525</td>\n",
       "      <td>операции с жильем</td>\n",
       "    </tr>\n",
       "    <tr>\n",
       "      <td>7</td>\n",
       "      <td>0</td>\n",
       "      <td>152.779569</td>\n",
       "      <td>50</td>\n",
       "      <td>СРЕДНЕЕ</td>\n",
       "      <td>1</td>\n",
       "      <td>женат / замужем</td>\n",
       "      <td>0</td>\n",
       "      <td>M</td>\n",
       "      <td>сотрудник</td>\n",
       "      <td>0</td>\n",
       "      <td>135823</td>\n",
       "      <td>образование</td>\n",
       "    </tr>\n",
       "    <tr>\n",
       "      <td>8</td>\n",
       "      <td>2</td>\n",
       "      <td>6929.865299</td>\n",
       "      <td>35</td>\n",
       "      <td>ВЫСШЕЕ</td>\n",
       "      <td>0</td>\n",
       "      <td>гражданский брак</td>\n",
       "      <td>1</td>\n",
       "      <td>F</td>\n",
       "      <td>сотрудник</td>\n",
       "      <td>0</td>\n",
       "      <td>95856</td>\n",
       "      <td>на проведение свадьбы</td>\n",
       "    </tr>\n",
       "    <tr>\n",
       "      <td>9</td>\n",
       "      <td>0</td>\n",
       "      <td>2188.756445</td>\n",
       "      <td>41</td>\n",
       "      <td>среднее</td>\n",
       "      <td>1</td>\n",
       "      <td>женат / замужем</td>\n",
       "      <td>0</td>\n",
       "      <td>M</td>\n",
       "      <td>сотрудник</td>\n",
       "      <td>0</td>\n",
       "      <td>144425</td>\n",
       "      <td>покупка жилья для семьи</td>\n",
       "    </tr>\n",
       "  </tbody>\n",
       "</table>\n",
       "</div>"
      ],
      "text/plain": [
       "   children  days_employed  dob_years education  education_id  \\\n",
       "0         1    8437.673028         42    высшее             0   \n",
       "1         1    4024.803754         36   среднее             1   \n",
       "2         0    5623.422610         33   Среднее             1   \n",
       "3         3    4124.747207         32   среднее             1   \n",
       "4         0  340266.072047         53   среднее             1   \n",
       "5         0     926.185831         27    высшее             0   \n",
       "6         0    2879.202052         43    высшее             0   \n",
       "7         0     152.779569         50   СРЕДНЕЕ             1   \n",
       "8         2    6929.865299         35    ВЫСШЕЕ             0   \n",
       "9         0    2188.756445         41   среднее             1   \n",
       "\n",
       "      family_status  family_status_id gender income_type  debt  total_income  \\\n",
       "0   женат / замужем                 0      F   сотрудник     0        253875   \n",
       "1   женат / замужем                 0      F   сотрудник     0        112080   \n",
       "2   женат / замужем                 0      M   сотрудник     0        145885   \n",
       "3   женат / замужем                 0      M   сотрудник     0        267628   \n",
       "4  гражданский брак                 1      F   пенсионер     0        158616   \n",
       "5  гражданский брак                 1      M   компаньон     0        255763   \n",
       "6   женат / замужем                 0      F   компаньон     0        240525   \n",
       "7   женат / замужем                 0      M   сотрудник     0        135823   \n",
       "8  гражданский брак                 1      F   сотрудник     0         95856   \n",
       "9   женат / замужем                 0      M   сотрудник     0        144425   \n",
       "\n",
       "                      purpose  \n",
       "0               покупка жилья  \n",
       "1     приобретение автомобиля  \n",
       "2               покупка жилья  \n",
       "3  дополнительное образование  \n",
       "4             сыграть свадьбу  \n",
       "5               покупка жилья  \n",
       "6           операции с жильем  \n",
       "7                 образование  \n",
       "8       на проведение свадьбы  \n",
       "9     покупка жилья для семьи  "
      ]
     },
     "execution_count": 13,
     "metadata": {},
     "output_type": "execute_result"
    }
   ],
   "source": [
    "data.head(10)"
   ]
  },
  {
   "cell_type": "code",
   "execution_count": 14,
   "metadata": {},
   "outputs": [
    {
     "name": "stdout",
     "output_type": "stream",
     "text": [
      "<class 'pandas.core.frame.DataFrame'>\n",
      "RangeIndex: 21525 entries, 0 to 21524\n",
      "Data columns (total 12 columns):\n",
      "children            21525 non-null int64\n",
      "days_employed       21525 non-null float64\n",
      "dob_years           21525 non-null int64\n",
      "education           21525 non-null object\n",
      "education_id        21525 non-null int64\n",
      "family_status       21525 non-null object\n",
      "family_status_id    21525 non-null int64\n",
      "gender              21525 non-null object\n",
      "income_type         21525 non-null object\n",
      "debt                21525 non-null int64\n",
      "total_income        21525 non-null int64\n",
      "purpose             21525 non-null object\n",
      "dtypes: float64(1), int64(6), object(5)\n",
      "memory usage: 2.0+ MB\n"
     ]
    }
   ],
   "source": [
    "data.info()"
   ]
  },
  {
   "cell_type": "markdown",
   "metadata": {},
   "source": [
    "**Вывод**\n",
    "- С целью дальнейшего использования столбца `total_income` изменила тип данных в нем на int64 c помощью метода astype().Так как данный метод явлеятся наиболее подходящим для изменения вещественного типа данных на числовой в отдельном столбце."
   ]
  },
  {
   "cell_type": "markdown",
   "metadata": {},
   "source": [
    "### Обработка дубликатов"
   ]
  },
  {
   "cell_type": "code",
   "execution_count": 15,
   "metadata": {},
   "outputs": [
    {
     "data": {
      "text/plain": [
       "array([ 1,  0,  3,  2, -1,  4, 20,  5])"
      ]
     },
     "metadata": {},
     "output_type": "display_data"
    }
   ],
   "source": [
    "data['children'].unique()"
   ]
  },
  {
   "cell_type": "code",
   "execution_count": 16,
   "metadata": {},
   "outputs": [],
   "source": [
    "data['children'] = data['children'].replace(-1, 1)"
   ]
  },
  {
   "cell_type": "code",
   "execution_count": 17,
   "metadata": {},
   "outputs": [],
   "source": [
    "data['children'] = data['children'].replace(20, 2)"
   ]
  },
  {
   "cell_type": "code",
   "execution_count": 18,
   "metadata": {},
   "outputs": [
    {
     "data": {
      "text/plain": [
       "0    14149\n",
       "1     4865\n",
       "2     2131\n",
       "3      330\n",
       "4       41\n",
       "5        9\n",
       "Name: children, dtype: int64"
      ]
     },
     "execution_count": 18,
     "metadata": {},
     "output_type": "execute_result"
    }
   ],
   "source": [
    "data['children'].value_counts()"
   ]
  },
  {
   "cell_type": "code",
   "execution_count": 19,
   "metadata": {},
   "outputs": [
    {
     "data": {
      "text/plain": [
       "0    19784\n",
       "1     1741\n",
       "Name: debt, dtype: int64"
      ]
     },
     "execution_count": 19,
     "metadata": {},
     "output_type": "execute_result"
    }
   ],
   "source": [
    "data['debt'].value_counts()"
   ]
  },
  {
   "cell_type": "code",
   "execution_count": 20,
   "metadata": {},
   "outputs": [
    {
     "data": {
      "text/plain": [
       "array(['женат / замужем', 'гражданский брак', 'вдовец / вдова',\n",
       "       'в разводе', 'Не женат / не замужем'], dtype=object)"
      ]
     },
     "metadata": {},
     "output_type": "display_data"
    }
   ],
   "source": [
    "data['family_status'].unique()"
   ]
  },
  {
   "cell_type": "code",
   "execution_count": 21,
   "metadata": {},
   "outputs": [
    {
     "data": {
      "text/plain": [
       "array(['F', 'M', 'XNA'], dtype=object)"
      ]
     },
     "metadata": {},
     "output_type": "display_data"
    }
   ],
   "source": [
    "data['gender'].unique()"
   ]
  },
  {
   "cell_type": "code",
   "execution_count": 22,
   "metadata": {},
   "outputs": [
    {
     "data": {
      "text/plain": [
       "array(['сотрудник', 'пенсионер', 'компаньон', 'госслужащий',\n",
       "       'безработный', 'предприниматель', 'студент', 'в декрете'],\n",
       "      dtype=object)"
      ]
     },
     "metadata": {},
     "output_type": "display_data"
    }
   ],
   "source": [
    "data['income_type'].unique()"
   ]
  },
  {
   "cell_type": "code",
   "execution_count": 23,
   "metadata": {
    "scrolled": true
   },
   "outputs": [
    {
     "data": {
      "text/plain": [
       "array(['высшее', 'среднее', 'Среднее', 'СРЕДНЕЕ', 'ВЫСШЕЕ',\n",
       "       'неоконченное высшее', 'начальное', 'Высшее',\n",
       "       'НЕОКОНЧЕННОЕ ВЫСШЕЕ', 'Неоконченное высшее', 'НАЧАЛЬНОЕ',\n",
       "       'Начальное', 'Ученая степень', 'УЧЕНАЯ СТЕПЕНЬ', 'ученая степень'],\n",
       "      dtype=object)"
      ]
     },
     "metadata": {},
     "output_type": "display_data"
    }
   ],
   "source": [
    "data['education'].unique()"
   ]
  },
  {
   "cell_type": "code",
   "execution_count": 24,
   "metadata": {},
   "outputs": [
    {
     "data": {
      "text/plain": [
       "array(['покупка жилья', 'приобретение автомобиля',\n",
       "       'дополнительное образование', 'сыграть свадьбу',\n",
       "       'операции с жильем', 'образование', 'на проведение свадьбы',\n",
       "       'покупка жилья для семьи', 'покупка недвижимости',\n",
       "       'покупка коммерческой недвижимости', 'покупка жилой недвижимости',\n",
       "       'строительство собственной недвижимости', 'недвижимость',\n",
       "       'строительство недвижимости', 'на покупку подержанного автомобиля',\n",
       "       'на покупку своего автомобиля',\n",
       "       'операции с коммерческой недвижимостью',\n",
       "       'строительство жилой недвижимости', 'жилье',\n",
       "       'операции со своей недвижимостью', 'автомобили',\n",
       "       'заняться образованием', 'сделка с подержанным автомобилем',\n",
       "       'получение образования', 'автомобиль', 'свадьба',\n",
       "       'получение дополнительного образования', 'покупка своего жилья',\n",
       "       'операции с недвижимостью', 'получение высшего образования',\n",
       "       'свой автомобиль', 'сделка с автомобилем',\n",
       "       'профильное образование', 'высшее образование',\n",
       "       'покупка жилья для сдачи', 'на покупку автомобиля', 'ремонт жилью',\n",
       "       'заняться высшим образованием'], dtype=object)"
      ]
     },
     "metadata": {},
     "output_type": "display_data"
    }
   ],
   "source": [
    "data['purpose'].unique()"
   ]
  },
  {
   "cell_type": "markdown",
   "metadata": {},
   "source": [
    "**Приведем значение столбцов`family_status` и `education` к нижнему регистру:**"
   ]
  },
  {
   "cell_type": "code",
   "execution_count": 25,
   "metadata": {},
   "outputs": [],
   "source": [
    "data['family_status'] = data['family_status'].str.lower()"
   ]
  },
  {
   "cell_type": "markdown",
   "metadata": {},
   "source": [
    "**Проверим полученный результат:**"
   ]
  },
  {
   "cell_type": "code",
   "execution_count": 26,
   "metadata": {},
   "outputs": [
    {
     "data": {
      "text/plain": [
       "array(['женат / замужем', 'гражданский брак', 'вдовец / вдова',\n",
       "       'в разводе', 'не женат / не замужем'], dtype=object)"
      ]
     },
     "metadata": {},
     "output_type": "display_data"
    }
   ],
   "source": [
    "data['family_status'].unique()"
   ]
  },
  {
   "cell_type": "code",
   "execution_count": 27,
   "metadata": {},
   "outputs": [],
   "source": [
    "data['education'] = data['education'].str.lower()"
   ]
  },
  {
   "cell_type": "markdown",
   "metadata": {},
   "source": [
    "**Проверим полученный результат:**"
   ]
  },
  {
   "cell_type": "code",
   "execution_count": 28,
   "metadata": {},
   "outputs": [
    {
     "data": {
      "text/plain": [
       "array(['высшее', 'среднее', 'неоконченное высшее', 'начальное',\n",
       "       'ученая степень'], dtype=object)"
      ]
     },
     "metadata": {},
     "output_type": "display_data"
    }
   ],
   "source": [
    "data['education'].unique()"
   ]
  },
  {
   "cell_type": "code",
   "execution_count": 29,
   "metadata": {},
   "outputs": [],
   "source": [
    "data['gender'] = data['gender'].replace('XNA', 'unknown')"
   ]
  },
  {
   "cell_type": "code",
   "execution_count": 30,
   "metadata": {},
   "outputs": [
    {
     "data": {
      "text/plain": [
       "array(['F', 'M', 'unknown'], dtype=object)"
      ]
     },
     "metadata": {},
     "output_type": "display_data"
    }
   ],
   "source": [
    "data['gender'].unique()"
   ]
  },
  {
   "cell_type": "markdown",
   "metadata": {},
   "source": [
    "**Проверим данные на наличие явных дубликатов:**"
   ]
  },
  {
   "cell_type": "code",
   "execution_count": 31,
   "metadata": {},
   "outputs": [
    {
     "data": {
      "text/plain": [
       "71"
      ]
     },
     "execution_count": 31,
     "metadata": {},
     "output_type": "execute_result"
    }
   ],
   "source": [
    "data.duplicated().sum()"
   ]
  },
  {
   "cell_type": "markdown",
   "metadata": {},
   "source": [
    "**Удалим все явные дубликаты:**"
   ]
  },
  {
   "cell_type": "code",
   "execution_count": 32,
   "metadata": {},
   "outputs": [],
   "source": [
    "data = data.drop_duplicates().reset_index(drop=True)"
   ]
  },
  {
   "cell_type": "markdown",
   "metadata": {},
   "source": [
    "**Вывод:**\n",
    "* С целью выявления неявных дубликатов использовала метод `unique()` в каждом столбце. В столбце `gender` выявлено неверное значение `XNA`, однако оно не влияют на исследование. Достаточно заменить его явным обозначением. Заменим значение `XNA` в столбце `gender` на строку `unknown`. С целью удаления неявных дубликатов в строковых данных применила метод `str.lower()`\n",
    "\n"
   ]
  },
  {
   "cell_type": "markdown",
   "metadata": {},
   "source": [
    "### Лемматизация"
   ]
  },
  {
   "cell_type": "markdown",
   "metadata": {},
   "source": [
    "**Определим какие значения встречаются в столбце purpose, сколько их, какие самые популярные и тд. используя метод value_counts():**"
   ]
  },
  {
   "cell_type": "code",
   "execution_count": 33,
   "metadata": {},
   "outputs": [
    {
     "data": {
      "text/plain": [
       "свадьба                                   791\n",
       "на проведение свадьбы                     768\n",
       "сыграть свадьбу                           765\n",
       "операции с недвижимостью                  675\n",
       "покупка коммерческой недвижимости         661\n",
       "операции с жильем                         652\n",
       "покупка жилья для сдачи                   651\n",
       "операции с коммерческой недвижимостью     650\n",
       "покупка жилья                             646\n",
       "жилье                                     646\n",
       "покупка жилья для семьи                   638\n",
       "строительство собственной недвижимости    635\n",
       "недвижимость                              633\n",
       "операции со своей недвижимостью           627\n",
       "строительство жилой недвижимости          624\n",
       "покупка недвижимости                      621\n",
       "покупка своего жилья                      620\n",
       "строительство недвижимости                619\n",
       "ремонт жилью                              607\n",
       "покупка жилой недвижимости                606\n",
       "на покупку своего автомобиля              505\n",
       "заняться высшим образованием              496\n",
       "автомобиль                                494\n",
       "сделка с подержанным автомобилем          486\n",
       "на покупку подержанного автомобиля        478\n",
       "свой автомобиль                           478\n",
       "автомобили                                478\n",
       "на покупку автомобиля                     471\n",
       "приобретение автомобиля                   461\n",
       "дополнительное образование                460\n",
       "сделка с автомобилем                      455\n",
       "высшее образование                        452\n",
       "образование                               447\n",
       "получение дополнительного образования     446\n",
       "получение образования                     442\n",
       "профильное образование                    436\n",
       "получение высшего образования             426\n",
       "заняться образованием                     408\n",
       "Name: purpose, dtype: int64"
      ]
     },
     "execution_count": 33,
     "metadata": {},
     "output_type": "execute_result"
    }
   ],
   "source": [
    "data['purpose'].value_counts()"
   ]
  },
  {
   "cell_type": "markdown",
   "metadata": {},
   "source": [
    "**Создадим функцию для лемматизации, используя программу`pymystem3`:**"
   ]
  },
  {
   "cell_type": "code",
   "execution_count": 34,
   "metadata": {},
   "outputs": [],
   "source": [
    "from pymystem3 import Mystem\n",
    "m = Mystem()\n",
    "\n",
    "def create_category_purpose(row):\n",
    "    lem_purpose = m.lemmatize(row['purpose'])\n",
    "    if 'автомобиль' in lem_purpose:\n",
    "        return 'автомобиль'\n",
    "    if ('жилье' in lem_purpose) or ('недвижимость' in lem_purpose ):\n",
    "        return 'недвижимость'\n",
    "    if 'образование' in lem_purpose:\n",
    "        return 'образование'\n",
    "    if 'свадьба'in lem_purpose:\n",
    "        return 'свадьба'"
   ]
  },
  {
   "cell_type": "code",
   "execution_count": 35,
   "metadata": {},
   "outputs": [],
   "source": [
    "data['purpose_category'] = data.apply(create_category_purpose, axis=1)"
   ]
  },
  {
   "cell_type": "markdown",
   "metadata": {},
   "source": [
    "**Изучим полученный результат:**"
   ]
  },
  {
   "cell_type": "code",
   "execution_count": 36,
   "metadata": {},
   "outputs": [
    {
     "data": {
      "text/html": [
       "<div>\n",
       "<style scoped>\n",
       "    .dataframe tbody tr th:only-of-type {\n",
       "        vertical-align: middle;\n",
       "    }\n",
       "\n",
       "    .dataframe tbody tr th {\n",
       "        vertical-align: top;\n",
       "    }\n",
       "\n",
       "    .dataframe thead th {\n",
       "        text-align: right;\n",
       "    }\n",
       "</style>\n",
       "<table border=\"1\" class=\"dataframe\">\n",
       "  <thead>\n",
       "    <tr style=\"text-align: right;\">\n",
       "      <th></th>\n",
       "      <th>children</th>\n",
       "      <th>days_employed</th>\n",
       "      <th>dob_years</th>\n",
       "      <th>education</th>\n",
       "      <th>education_id</th>\n",
       "      <th>family_status</th>\n",
       "      <th>family_status_id</th>\n",
       "      <th>gender</th>\n",
       "      <th>income_type</th>\n",
       "      <th>debt</th>\n",
       "      <th>total_income</th>\n",
       "      <th>purpose</th>\n",
       "      <th>purpose_category</th>\n",
       "    </tr>\n",
       "  </thead>\n",
       "  <tbody>\n",
       "    <tr>\n",
       "      <td>0</td>\n",
       "      <td>1</td>\n",
       "      <td>8437.673028</td>\n",
       "      <td>42</td>\n",
       "      <td>высшее</td>\n",
       "      <td>0</td>\n",
       "      <td>женат / замужем</td>\n",
       "      <td>0</td>\n",
       "      <td>F</td>\n",
       "      <td>сотрудник</td>\n",
       "      <td>0</td>\n",
       "      <td>253875</td>\n",
       "      <td>покупка жилья</td>\n",
       "      <td>недвижимость</td>\n",
       "    </tr>\n",
       "    <tr>\n",
       "      <td>1</td>\n",
       "      <td>1</td>\n",
       "      <td>4024.803754</td>\n",
       "      <td>36</td>\n",
       "      <td>среднее</td>\n",
       "      <td>1</td>\n",
       "      <td>женат / замужем</td>\n",
       "      <td>0</td>\n",
       "      <td>F</td>\n",
       "      <td>сотрудник</td>\n",
       "      <td>0</td>\n",
       "      <td>112080</td>\n",
       "      <td>приобретение автомобиля</td>\n",
       "      <td>автомобиль</td>\n",
       "    </tr>\n",
       "    <tr>\n",
       "      <td>2</td>\n",
       "      <td>0</td>\n",
       "      <td>5623.422610</td>\n",
       "      <td>33</td>\n",
       "      <td>среднее</td>\n",
       "      <td>1</td>\n",
       "      <td>женат / замужем</td>\n",
       "      <td>0</td>\n",
       "      <td>M</td>\n",
       "      <td>сотрудник</td>\n",
       "      <td>0</td>\n",
       "      <td>145885</td>\n",
       "      <td>покупка жилья</td>\n",
       "      <td>недвижимость</td>\n",
       "    </tr>\n",
       "    <tr>\n",
       "      <td>3</td>\n",
       "      <td>3</td>\n",
       "      <td>4124.747207</td>\n",
       "      <td>32</td>\n",
       "      <td>среднее</td>\n",
       "      <td>1</td>\n",
       "      <td>женат / замужем</td>\n",
       "      <td>0</td>\n",
       "      <td>M</td>\n",
       "      <td>сотрудник</td>\n",
       "      <td>0</td>\n",
       "      <td>267628</td>\n",
       "      <td>дополнительное образование</td>\n",
       "      <td>образование</td>\n",
       "    </tr>\n",
       "    <tr>\n",
       "      <td>4</td>\n",
       "      <td>0</td>\n",
       "      <td>340266.072047</td>\n",
       "      <td>53</td>\n",
       "      <td>среднее</td>\n",
       "      <td>1</td>\n",
       "      <td>гражданский брак</td>\n",
       "      <td>1</td>\n",
       "      <td>F</td>\n",
       "      <td>пенсионер</td>\n",
       "      <td>0</td>\n",
       "      <td>158616</td>\n",
       "      <td>сыграть свадьбу</td>\n",
       "      <td>свадьба</td>\n",
       "    </tr>\n",
       "    <tr>\n",
       "      <td>5</td>\n",
       "      <td>0</td>\n",
       "      <td>926.185831</td>\n",
       "      <td>27</td>\n",
       "      <td>высшее</td>\n",
       "      <td>0</td>\n",
       "      <td>гражданский брак</td>\n",
       "      <td>1</td>\n",
       "      <td>M</td>\n",
       "      <td>компаньон</td>\n",
       "      <td>0</td>\n",
       "      <td>255763</td>\n",
       "      <td>покупка жилья</td>\n",
       "      <td>недвижимость</td>\n",
       "    </tr>\n",
       "    <tr>\n",
       "      <td>6</td>\n",
       "      <td>0</td>\n",
       "      <td>2879.202052</td>\n",
       "      <td>43</td>\n",
       "      <td>высшее</td>\n",
       "      <td>0</td>\n",
       "      <td>женат / замужем</td>\n",
       "      <td>0</td>\n",
       "      <td>F</td>\n",
       "      <td>компаньон</td>\n",
       "      <td>0</td>\n",
       "      <td>240525</td>\n",
       "      <td>операции с жильем</td>\n",
       "      <td>недвижимость</td>\n",
       "    </tr>\n",
       "    <tr>\n",
       "      <td>7</td>\n",
       "      <td>0</td>\n",
       "      <td>152.779569</td>\n",
       "      <td>50</td>\n",
       "      <td>среднее</td>\n",
       "      <td>1</td>\n",
       "      <td>женат / замужем</td>\n",
       "      <td>0</td>\n",
       "      <td>M</td>\n",
       "      <td>сотрудник</td>\n",
       "      <td>0</td>\n",
       "      <td>135823</td>\n",
       "      <td>образование</td>\n",
       "      <td>образование</td>\n",
       "    </tr>\n",
       "    <tr>\n",
       "      <td>8</td>\n",
       "      <td>2</td>\n",
       "      <td>6929.865299</td>\n",
       "      <td>35</td>\n",
       "      <td>высшее</td>\n",
       "      <td>0</td>\n",
       "      <td>гражданский брак</td>\n",
       "      <td>1</td>\n",
       "      <td>F</td>\n",
       "      <td>сотрудник</td>\n",
       "      <td>0</td>\n",
       "      <td>95856</td>\n",
       "      <td>на проведение свадьбы</td>\n",
       "      <td>свадьба</td>\n",
       "    </tr>\n",
       "    <tr>\n",
       "      <td>9</td>\n",
       "      <td>0</td>\n",
       "      <td>2188.756445</td>\n",
       "      <td>41</td>\n",
       "      <td>среднее</td>\n",
       "      <td>1</td>\n",
       "      <td>женат / замужем</td>\n",
       "      <td>0</td>\n",
       "      <td>M</td>\n",
       "      <td>сотрудник</td>\n",
       "      <td>0</td>\n",
       "      <td>144425</td>\n",
       "      <td>покупка жилья для семьи</td>\n",
       "      <td>недвижимость</td>\n",
       "    </tr>\n",
       "  </tbody>\n",
       "</table>\n",
       "</div>"
      ],
      "text/plain": [
       "   children  days_employed  dob_years education  education_id  \\\n",
       "0         1    8437.673028         42    высшее             0   \n",
       "1         1    4024.803754         36   среднее             1   \n",
       "2         0    5623.422610         33   среднее             1   \n",
       "3         3    4124.747207         32   среднее             1   \n",
       "4         0  340266.072047         53   среднее             1   \n",
       "5         0     926.185831         27    высшее             0   \n",
       "6         0    2879.202052         43    высшее             0   \n",
       "7         0     152.779569         50   среднее             1   \n",
       "8         2    6929.865299         35    высшее             0   \n",
       "9         0    2188.756445         41   среднее             1   \n",
       "\n",
       "      family_status  family_status_id gender income_type  debt  total_income  \\\n",
       "0   женат / замужем                 0      F   сотрудник     0        253875   \n",
       "1   женат / замужем                 0      F   сотрудник     0        112080   \n",
       "2   женат / замужем                 0      M   сотрудник     0        145885   \n",
       "3   женат / замужем                 0      M   сотрудник     0        267628   \n",
       "4  гражданский брак                 1      F   пенсионер     0        158616   \n",
       "5  гражданский брак                 1      M   компаньон     0        255763   \n",
       "6   женат / замужем                 0      F   компаньон     0        240525   \n",
       "7   женат / замужем                 0      M   сотрудник     0        135823   \n",
       "8  гражданский брак                 1      F   сотрудник     0         95856   \n",
       "9   женат / замужем                 0      M   сотрудник     0        144425   \n",
       "\n",
       "                      purpose purpose_category  \n",
       "0               покупка жилья     недвижимость  \n",
       "1     приобретение автомобиля       автомобиль  \n",
       "2               покупка жилья     недвижимость  \n",
       "3  дополнительное образование      образование  \n",
       "4             сыграть свадьбу          свадьба  \n",
       "5               покупка жилья     недвижимость  \n",
       "6           операции с жильем     недвижимость  \n",
       "7                 образование      образование  \n",
       "8       на проведение свадьбы          свадьба  \n",
       "9     покупка жилья для семьи     недвижимость  "
      ]
     },
     "metadata": {},
     "output_type": "display_data"
    }
   ],
   "source": [
    "display(data.head(10))"
   ]
  },
  {
   "cell_type": "markdown",
   "metadata": {},
   "source": [
    "**Вывод:**\n",
    "* Для удаления дубликатов слов, записанных в разной форме применили метод лемматизации к столбцу `purpose` и записали результат в новый столбец - `purpose_category`."
   ]
  },
  {
   "cell_type": "markdown",
   "metadata": {},
   "source": [
    "### Категоризация данных"
   ]
  },
  {
   "cell_type": "markdown",
   "metadata": {},
   "source": [
    "**Выделим минимальное, среднее и максимальное значение дохода в столбце `total_income`, применияя функции `min(),max() и mean()`. Затем, используя функцию и метод `apply()` произведем категоризацию  дохода на низкий, средний и высокий. Результат запишем в столбце `income_category`.**"
   ]
  },
  {
   "cell_type": "code",
   "execution_count": 37,
   "metadata": {},
   "outputs": [
    {
     "data": {
      "text/plain": [
       "20667"
      ]
     },
     "metadata": {},
     "output_type": "display_data"
    }
   ],
   "source": [
    "data['total_income'].min()"
   ]
  },
  {
   "cell_type": "code",
   "execution_count": 38,
   "metadata": {},
   "outputs": [
    {
     "data": {
      "text/plain": [
       "2265604"
      ]
     },
     "metadata": {},
     "output_type": "display_data"
    }
   ],
   "source": [
    "data['total_income'].max()"
   ]
  },
  {
   "cell_type": "code",
   "execution_count": 39,
   "metadata": {},
   "outputs": [
    {
     "data": {
      "text/plain": [
       "165319"
      ]
     },
     "metadata": {},
     "output_type": "display_data"
    }
   ],
   "source": [
    "data['total_income'].mean().astype('int64')"
   ]
  },
  {
   "cell_type": "code",
   "execution_count": 40,
   "metadata": {},
   "outputs": [
    {
     "data": {
      "text/plain": [
       "142594"
      ]
     },
     "metadata": {},
     "output_type": "display_data"
    }
   ],
   "source": [
    "data['total_income'].median().astype('int64')"
   ]
  },
  {
   "cell_type": "code",
   "execution_count": 41,
   "metadata": {},
   "outputs": [],
   "source": [
    "def total_income_group(total_income):\n",
    "    if total_income <= 100000:\n",
    "        return 'низкий'\n",
    "    if total_income <= 170000:\n",
    "        return 'средний'\n",
    "    return 'высокий'\n",
    "data['income_category'] = data['total_income'].apply(total_income_group)"
   ]
  },
  {
   "cell_type": "code",
   "execution_count": 42,
   "metadata": {},
   "outputs": [
    {
     "data": {
      "text/plain": [
       "средний    9273\n",
       "высокий    7718\n",
       "низкий     4463\n",
       "Name: income_category, dtype: int64"
      ]
     },
     "execution_count": 42,
     "metadata": {},
     "output_type": "execute_result"
    }
   ],
   "source": [
    "data['income_category'].value_counts()"
   ]
  },
  {
   "cell_type": "markdown",
   "metadata": {},
   "source": [
    "**Для более точного распределения по категориям подойдет функция `percentile` из библиотеки `numpy`:**"
   ]
  },
  {
   "cell_type": "code",
   "execution_count": 63,
   "metadata": {},
   "outputs": [
    {
     "data": {
      "text/plain": [
       "array([107623.  , 142594.  , 195820.25])"
      ]
     },
     "execution_count": 63,
     "metadata": {},
     "output_type": "execute_result"
    }
   ],
   "source": [
    "import numpy as np\n",
    "np.percentile(data['total_income'], q=[25,50,75])"
   ]
  },
  {
   "cell_type": "markdown",
   "metadata": {},
   "source": [
    "**Полученные числа можно использовать как границы интервалов в функции `total_income_group` для более точного распределеия по категориям.**\n"
   ]
  },
  {
   "cell_type": "code",
   "execution_count": 43,
   "metadata": {},
   "outputs": [
    {
     "data": {
      "text/html": [
       "<div>\n",
       "<style scoped>\n",
       "    .dataframe tbody tr th:only-of-type {\n",
       "        vertical-align: middle;\n",
       "    }\n",
       "\n",
       "    .dataframe tbody tr th {\n",
       "        vertical-align: top;\n",
       "    }\n",
       "\n",
       "    .dataframe thead th {\n",
       "        text-align: right;\n",
       "    }\n",
       "</style>\n",
       "<table border=\"1\" class=\"dataframe\">\n",
       "  <thead>\n",
       "    <tr style=\"text-align: right;\">\n",
       "      <th></th>\n",
       "      <th>children</th>\n",
       "      <th>days_employed</th>\n",
       "      <th>dob_years</th>\n",
       "      <th>education</th>\n",
       "      <th>education_id</th>\n",
       "      <th>family_status</th>\n",
       "      <th>family_status_id</th>\n",
       "      <th>gender</th>\n",
       "      <th>income_type</th>\n",
       "      <th>debt</th>\n",
       "      <th>total_income</th>\n",
       "      <th>purpose</th>\n",
       "      <th>purpose_category</th>\n",
       "      <th>income_category</th>\n",
       "    </tr>\n",
       "  </thead>\n",
       "  <tbody>\n",
       "    <tr>\n",
       "      <td>0</td>\n",
       "      <td>1</td>\n",
       "      <td>8437.673028</td>\n",
       "      <td>42</td>\n",
       "      <td>высшее</td>\n",
       "      <td>0</td>\n",
       "      <td>женат / замужем</td>\n",
       "      <td>0</td>\n",
       "      <td>F</td>\n",
       "      <td>сотрудник</td>\n",
       "      <td>0</td>\n",
       "      <td>253875</td>\n",
       "      <td>покупка жилья</td>\n",
       "      <td>недвижимость</td>\n",
       "      <td>высокий</td>\n",
       "    </tr>\n",
       "    <tr>\n",
       "      <td>1</td>\n",
       "      <td>1</td>\n",
       "      <td>4024.803754</td>\n",
       "      <td>36</td>\n",
       "      <td>среднее</td>\n",
       "      <td>1</td>\n",
       "      <td>женат / замужем</td>\n",
       "      <td>0</td>\n",
       "      <td>F</td>\n",
       "      <td>сотрудник</td>\n",
       "      <td>0</td>\n",
       "      <td>112080</td>\n",
       "      <td>приобретение автомобиля</td>\n",
       "      <td>автомобиль</td>\n",
       "      <td>средний</td>\n",
       "    </tr>\n",
       "    <tr>\n",
       "      <td>2</td>\n",
       "      <td>0</td>\n",
       "      <td>5623.422610</td>\n",
       "      <td>33</td>\n",
       "      <td>среднее</td>\n",
       "      <td>1</td>\n",
       "      <td>женат / замужем</td>\n",
       "      <td>0</td>\n",
       "      <td>M</td>\n",
       "      <td>сотрудник</td>\n",
       "      <td>0</td>\n",
       "      <td>145885</td>\n",
       "      <td>покупка жилья</td>\n",
       "      <td>недвижимость</td>\n",
       "      <td>средний</td>\n",
       "    </tr>\n",
       "    <tr>\n",
       "      <td>3</td>\n",
       "      <td>3</td>\n",
       "      <td>4124.747207</td>\n",
       "      <td>32</td>\n",
       "      <td>среднее</td>\n",
       "      <td>1</td>\n",
       "      <td>женат / замужем</td>\n",
       "      <td>0</td>\n",
       "      <td>M</td>\n",
       "      <td>сотрудник</td>\n",
       "      <td>0</td>\n",
       "      <td>267628</td>\n",
       "      <td>дополнительное образование</td>\n",
       "      <td>образование</td>\n",
       "      <td>высокий</td>\n",
       "    </tr>\n",
       "    <tr>\n",
       "      <td>4</td>\n",
       "      <td>0</td>\n",
       "      <td>340266.072047</td>\n",
       "      <td>53</td>\n",
       "      <td>среднее</td>\n",
       "      <td>1</td>\n",
       "      <td>гражданский брак</td>\n",
       "      <td>1</td>\n",
       "      <td>F</td>\n",
       "      <td>пенсионер</td>\n",
       "      <td>0</td>\n",
       "      <td>158616</td>\n",
       "      <td>сыграть свадьбу</td>\n",
       "      <td>свадьба</td>\n",
       "      <td>средний</td>\n",
       "    </tr>\n",
       "    <tr>\n",
       "      <td>5</td>\n",
       "      <td>0</td>\n",
       "      <td>926.185831</td>\n",
       "      <td>27</td>\n",
       "      <td>высшее</td>\n",
       "      <td>0</td>\n",
       "      <td>гражданский брак</td>\n",
       "      <td>1</td>\n",
       "      <td>M</td>\n",
       "      <td>компаньон</td>\n",
       "      <td>0</td>\n",
       "      <td>255763</td>\n",
       "      <td>покупка жилья</td>\n",
       "      <td>недвижимость</td>\n",
       "      <td>высокий</td>\n",
       "    </tr>\n",
       "    <tr>\n",
       "      <td>6</td>\n",
       "      <td>0</td>\n",
       "      <td>2879.202052</td>\n",
       "      <td>43</td>\n",
       "      <td>высшее</td>\n",
       "      <td>0</td>\n",
       "      <td>женат / замужем</td>\n",
       "      <td>0</td>\n",
       "      <td>F</td>\n",
       "      <td>компаньон</td>\n",
       "      <td>0</td>\n",
       "      <td>240525</td>\n",
       "      <td>операции с жильем</td>\n",
       "      <td>недвижимость</td>\n",
       "      <td>высокий</td>\n",
       "    </tr>\n",
       "    <tr>\n",
       "      <td>7</td>\n",
       "      <td>0</td>\n",
       "      <td>152.779569</td>\n",
       "      <td>50</td>\n",
       "      <td>среднее</td>\n",
       "      <td>1</td>\n",
       "      <td>женат / замужем</td>\n",
       "      <td>0</td>\n",
       "      <td>M</td>\n",
       "      <td>сотрудник</td>\n",
       "      <td>0</td>\n",
       "      <td>135823</td>\n",
       "      <td>образование</td>\n",
       "      <td>образование</td>\n",
       "      <td>средний</td>\n",
       "    </tr>\n",
       "    <tr>\n",
       "      <td>8</td>\n",
       "      <td>2</td>\n",
       "      <td>6929.865299</td>\n",
       "      <td>35</td>\n",
       "      <td>высшее</td>\n",
       "      <td>0</td>\n",
       "      <td>гражданский брак</td>\n",
       "      <td>1</td>\n",
       "      <td>F</td>\n",
       "      <td>сотрудник</td>\n",
       "      <td>0</td>\n",
       "      <td>95856</td>\n",
       "      <td>на проведение свадьбы</td>\n",
       "      <td>свадьба</td>\n",
       "      <td>низкий</td>\n",
       "    </tr>\n",
       "    <tr>\n",
       "      <td>9</td>\n",
       "      <td>0</td>\n",
       "      <td>2188.756445</td>\n",
       "      <td>41</td>\n",
       "      <td>среднее</td>\n",
       "      <td>1</td>\n",
       "      <td>женат / замужем</td>\n",
       "      <td>0</td>\n",
       "      <td>M</td>\n",
       "      <td>сотрудник</td>\n",
       "      <td>0</td>\n",
       "      <td>144425</td>\n",
       "      <td>покупка жилья для семьи</td>\n",
       "      <td>недвижимость</td>\n",
       "      <td>средний</td>\n",
       "    </tr>\n",
       "  </tbody>\n",
       "</table>\n",
       "</div>"
      ],
      "text/plain": [
       "   children  days_employed  dob_years education  education_id  \\\n",
       "0         1    8437.673028         42    высшее             0   \n",
       "1         1    4024.803754         36   среднее             1   \n",
       "2         0    5623.422610         33   среднее             1   \n",
       "3         3    4124.747207         32   среднее             1   \n",
       "4         0  340266.072047         53   среднее             1   \n",
       "5         0     926.185831         27    высшее             0   \n",
       "6         0    2879.202052         43    высшее             0   \n",
       "7         0     152.779569         50   среднее             1   \n",
       "8         2    6929.865299         35    высшее             0   \n",
       "9         0    2188.756445         41   среднее             1   \n",
       "\n",
       "      family_status  family_status_id gender income_type  debt  total_income  \\\n",
       "0   женат / замужем                 0      F   сотрудник     0        253875   \n",
       "1   женат / замужем                 0      F   сотрудник     0        112080   \n",
       "2   женат / замужем                 0      M   сотрудник     0        145885   \n",
       "3   женат / замужем                 0      M   сотрудник     0        267628   \n",
       "4  гражданский брак                 1      F   пенсионер     0        158616   \n",
       "5  гражданский брак                 1      M   компаньон     0        255763   \n",
       "6   женат / замужем                 0      F   компаньон     0        240525   \n",
       "7   женат / замужем                 0      M   сотрудник     0        135823   \n",
       "8  гражданский брак                 1      F   сотрудник     0         95856   \n",
       "9   женат / замужем                 0      M   сотрудник     0        144425   \n",
       "\n",
       "                      purpose purpose_category income_category  \n",
       "0               покупка жилья     недвижимость         высокий  \n",
       "1     приобретение автомобиля       автомобиль         средний  \n",
       "2               покупка жилья     недвижимость         средний  \n",
       "3  дополнительное образование      образование         высокий  \n",
       "4             сыграть свадьбу          свадьба         средний  \n",
       "5               покупка жилья     недвижимость         высокий  \n",
       "6           операции с жильем     недвижимость         высокий  \n",
       "7                 образование      образование         средний  \n",
       "8       на проведение свадьбы          свадьба          низкий  \n",
       "9     покупка жилья для семьи     недвижимость         средний  "
      ]
     },
     "metadata": {},
     "output_type": "display_data"
    }
   ],
   "source": [
    "data.head(10)"
   ]
  },
  {
   "cell_type": "markdown",
   "metadata": {},
   "source": [
    "**Категоризируем столбец `children` на две категории: дети есть и нет. Результат поместим в столбец `children_category`.**"
   ]
  },
  {
   "cell_type": "code",
   "execution_count": 44,
   "metadata": {},
   "outputs": [],
   "source": [
    "def children_group(children):\n",
    "    if children > 0:\n",
    "        return 'есть'\n",
    "    return 'нет'\n",
    "data['children_category'] = data['children'].apply(children_group)"
   ]
  },
  {
   "cell_type": "markdown",
   "metadata": {},
   "source": [
    "**Изучим полученный результат**"
   ]
  },
  {
   "cell_type": "code",
   "execution_count": 45,
   "metadata": {},
   "outputs": [
    {
     "data": {
      "text/html": [
       "<div>\n",
       "<style scoped>\n",
       "    .dataframe tbody tr th:only-of-type {\n",
       "        vertical-align: middle;\n",
       "    }\n",
       "\n",
       "    .dataframe tbody tr th {\n",
       "        vertical-align: top;\n",
       "    }\n",
       "\n",
       "    .dataframe thead th {\n",
       "        text-align: right;\n",
       "    }\n",
       "</style>\n",
       "<table border=\"1\" class=\"dataframe\">\n",
       "  <thead>\n",
       "    <tr style=\"text-align: right;\">\n",
       "      <th></th>\n",
       "      <th>children</th>\n",
       "      <th>days_employed</th>\n",
       "      <th>dob_years</th>\n",
       "      <th>education</th>\n",
       "      <th>education_id</th>\n",
       "      <th>family_status</th>\n",
       "      <th>family_status_id</th>\n",
       "      <th>gender</th>\n",
       "      <th>income_type</th>\n",
       "      <th>debt</th>\n",
       "      <th>total_income</th>\n",
       "      <th>purpose</th>\n",
       "      <th>purpose_category</th>\n",
       "      <th>income_category</th>\n",
       "      <th>children_category</th>\n",
       "    </tr>\n",
       "  </thead>\n",
       "  <tbody>\n",
       "    <tr>\n",
       "      <td>0</td>\n",
       "      <td>1</td>\n",
       "      <td>8437.673028</td>\n",
       "      <td>42</td>\n",
       "      <td>высшее</td>\n",
       "      <td>0</td>\n",
       "      <td>женат / замужем</td>\n",
       "      <td>0</td>\n",
       "      <td>F</td>\n",
       "      <td>сотрудник</td>\n",
       "      <td>0</td>\n",
       "      <td>253875</td>\n",
       "      <td>покупка жилья</td>\n",
       "      <td>недвижимость</td>\n",
       "      <td>высокий</td>\n",
       "      <td>есть</td>\n",
       "    </tr>\n",
       "    <tr>\n",
       "      <td>1</td>\n",
       "      <td>1</td>\n",
       "      <td>4024.803754</td>\n",
       "      <td>36</td>\n",
       "      <td>среднее</td>\n",
       "      <td>1</td>\n",
       "      <td>женат / замужем</td>\n",
       "      <td>0</td>\n",
       "      <td>F</td>\n",
       "      <td>сотрудник</td>\n",
       "      <td>0</td>\n",
       "      <td>112080</td>\n",
       "      <td>приобретение автомобиля</td>\n",
       "      <td>автомобиль</td>\n",
       "      <td>средний</td>\n",
       "      <td>есть</td>\n",
       "    </tr>\n",
       "    <tr>\n",
       "      <td>2</td>\n",
       "      <td>0</td>\n",
       "      <td>5623.422610</td>\n",
       "      <td>33</td>\n",
       "      <td>среднее</td>\n",
       "      <td>1</td>\n",
       "      <td>женат / замужем</td>\n",
       "      <td>0</td>\n",
       "      <td>M</td>\n",
       "      <td>сотрудник</td>\n",
       "      <td>0</td>\n",
       "      <td>145885</td>\n",
       "      <td>покупка жилья</td>\n",
       "      <td>недвижимость</td>\n",
       "      <td>средний</td>\n",
       "      <td>нет</td>\n",
       "    </tr>\n",
       "    <tr>\n",
       "      <td>3</td>\n",
       "      <td>3</td>\n",
       "      <td>4124.747207</td>\n",
       "      <td>32</td>\n",
       "      <td>среднее</td>\n",
       "      <td>1</td>\n",
       "      <td>женат / замужем</td>\n",
       "      <td>0</td>\n",
       "      <td>M</td>\n",
       "      <td>сотрудник</td>\n",
       "      <td>0</td>\n",
       "      <td>267628</td>\n",
       "      <td>дополнительное образование</td>\n",
       "      <td>образование</td>\n",
       "      <td>высокий</td>\n",
       "      <td>есть</td>\n",
       "    </tr>\n",
       "    <tr>\n",
       "      <td>4</td>\n",
       "      <td>0</td>\n",
       "      <td>340266.072047</td>\n",
       "      <td>53</td>\n",
       "      <td>среднее</td>\n",
       "      <td>1</td>\n",
       "      <td>гражданский брак</td>\n",
       "      <td>1</td>\n",
       "      <td>F</td>\n",
       "      <td>пенсионер</td>\n",
       "      <td>0</td>\n",
       "      <td>158616</td>\n",
       "      <td>сыграть свадьбу</td>\n",
       "      <td>свадьба</td>\n",
       "      <td>средний</td>\n",
       "      <td>нет</td>\n",
       "    </tr>\n",
       "    <tr>\n",
       "      <td>5</td>\n",
       "      <td>0</td>\n",
       "      <td>926.185831</td>\n",
       "      <td>27</td>\n",
       "      <td>высшее</td>\n",
       "      <td>0</td>\n",
       "      <td>гражданский брак</td>\n",
       "      <td>1</td>\n",
       "      <td>M</td>\n",
       "      <td>компаньон</td>\n",
       "      <td>0</td>\n",
       "      <td>255763</td>\n",
       "      <td>покупка жилья</td>\n",
       "      <td>недвижимость</td>\n",
       "      <td>высокий</td>\n",
       "      <td>нет</td>\n",
       "    </tr>\n",
       "    <tr>\n",
       "      <td>6</td>\n",
       "      <td>0</td>\n",
       "      <td>2879.202052</td>\n",
       "      <td>43</td>\n",
       "      <td>высшее</td>\n",
       "      <td>0</td>\n",
       "      <td>женат / замужем</td>\n",
       "      <td>0</td>\n",
       "      <td>F</td>\n",
       "      <td>компаньон</td>\n",
       "      <td>0</td>\n",
       "      <td>240525</td>\n",
       "      <td>операции с жильем</td>\n",
       "      <td>недвижимость</td>\n",
       "      <td>высокий</td>\n",
       "      <td>нет</td>\n",
       "    </tr>\n",
       "    <tr>\n",
       "      <td>7</td>\n",
       "      <td>0</td>\n",
       "      <td>152.779569</td>\n",
       "      <td>50</td>\n",
       "      <td>среднее</td>\n",
       "      <td>1</td>\n",
       "      <td>женат / замужем</td>\n",
       "      <td>0</td>\n",
       "      <td>M</td>\n",
       "      <td>сотрудник</td>\n",
       "      <td>0</td>\n",
       "      <td>135823</td>\n",
       "      <td>образование</td>\n",
       "      <td>образование</td>\n",
       "      <td>средний</td>\n",
       "      <td>нет</td>\n",
       "    </tr>\n",
       "    <tr>\n",
       "      <td>8</td>\n",
       "      <td>2</td>\n",
       "      <td>6929.865299</td>\n",
       "      <td>35</td>\n",
       "      <td>высшее</td>\n",
       "      <td>0</td>\n",
       "      <td>гражданский брак</td>\n",
       "      <td>1</td>\n",
       "      <td>F</td>\n",
       "      <td>сотрудник</td>\n",
       "      <td>0</td>\n",
       "      <td>95856</td>\n",
       "      <td>на проведение свадьбы</td>\n",
       "      <td>свадьба</td>\n",
       "      <td>низкий</td>\n",
       "      <td>есть</td>\n",
       "    </tr>\n",
       "    <tr>\n",
       "      <td>9</td>\n",
       "      <td>0</td>\n",
       "      <td>2188.756445</td>\n",
       "      <td>41</td>\n",
       "      <td>среднее</td>\n",
       "      <td>1</td>\n",
       "      <td>женат / замужем</td>\n",
       "      <td>0</td>\n",
       "      <td>M</td>\n",
       "      <td>сотрудник</td>\n",
       "      <td>0</td>\n",
       "      <td>144425</td>\n",
       "      <td>покупка жилья для семьи</td>\n",
       "      <td>недвижимость</td>\n",
       "      <td>средний</td>\n",
       "      <td>нет</td>\n",
       "    </tr>\n",
       "  </tbody>\n",
       "</table>\n",
       "</div>"
      ],
      "text/plain": [
       "   children  days_employed  dob_years education  education_id  \\\n",
       "0         1    8437.673028         42    высшее             0   \n",
       "1         1    4024.803754         36   среднее             1   \n",
       "2         0    5623.422610         33   среднее             1   \n",
       "3         3    4124.747207         32   среднее             1   \n",
       "4         0  340266.072047         53   среднее             1   \n",
       "5         0     926.185831         27    высшее             0   \n",
       "6         0    2879.202052         43    высшее             0   \n",
       "7         0     152.779569         50   среднее             1   \n",
       "8         2    6929.865299         35    высшее             0   \n",
       "9         0    2188.756445         41   среднее             1   \n",
       "\n",
       "      family_status  family_status_id gender income_type  debt  total_income  \\\n",
       "0   женат / замужем                 0      F   сотрудник     0        253875   \n",
       "1   женат / замужем                 0      F   сотрудник     0        112080   \n",
       "2   женат / замужем                 0      M   сотрудник     0        145885   \n",
       "3   женат / замужем                 0      M   сотрудник     0        267628   \n",
       "4  гражданский брак                 1      F   пенсионер     0        158616   \n",
       "5  гражданский брак                 1      M   компаньон     0        255763   \n",
       "6   женат / замужем                 0      F   компаньон     0        240525   \n",
       "7   женат / замужем                 0      M   сотрудник     0        135823   \n",
       "8  гражданский брак                 1      F   сотрудник     0         95856   \n",
       "9   женат / замужем                 0      M   сотрудник     0        144425   \n",
       "\n",
       "                      purpose purpose_category income_category  \\\n",
       "0               покупка жилья     недвижимость         высокий   \n",
       "1     приобретение автомобиля       автомобиль         средний   \n",
       "2               покупка жилья     недвижимость         средний   \n",
       "3  дополнительное образование      образование         высокий   \n",
       "4             сыграть свадьбу          свадьба         средний   \n",
       "5               покупка жилья     недвижимость         высокий   \n",
       "6           операции с жильем     недвижимость         высокий   \n",
       "7                 образование      образование         средний   \n",
       "8       на проведение свадьбы          свадьба          низкий   \n",
       "9     покупка жилья для семьи     недвижимость         средний   \n",
       "\n",
       "  children_category  \n",
       "0              есть  \n",
       "1              есть  \n",
       "2               нет  \n",
       "3              есть  \n",
       "4               нет  \n",
       "5               нет  \n",
       "6               нет  \n",
       "7               нет  \n",
       "8              есть  \n",
       "9               нет  "
      ]
     },
     "metadata": {},
     "output_type": "display_data"
    }
   ],
   "source": [
    "data.head(10)"
   ]
  },
  {
   "cell_type": "markdown",
   "metadata": {},
   "source": [
    "**Категоризируем столбец `family_status` на две категории: 0 - женат / замужем; 1 - не женат / не замужем.  Определим значение 'гражданский брак', 'вдовец / вдова', 'в разводе'- как 'не женат / не замужем' и отнесем к 1 категории. Результат поместим в столбец `family_status_id.`**"
   ]
  },
  {
   "cell_type": "code",
   "execution_count": 46,
   "metadata": {},
   "outputs": [
    {
     "data": {
      "text/html": [
       "<div>\n",
       "<style scoped>\n",
       "    .dataframe tbody tr th:only-of-type {\n",
       "        vertical-align: middle;\n",
       "    }\n",
       "\n",
       "    .dataframe tbody tr th {\n",
       "        vertical-align: top;\n",
       "    }\n",
       "\n",
       "    .dataframe thead th {\n",
       "        text-align: right;\n",
       "    }\n",
       "</style>\n",
       "<table border=\"1\" class=\"dataframe\">\n",
       "  <thead>\n",
       "    <tr style=\"text-align: right;\">\n",
       "      <th></th>\n",
       "      <th>children</th>\n",
       "      <th>days_employed</th>\n",
       "      <th>dob_years</th>\n",
       "      <th>education</th>\n",
       "      <th>education_id</th>\n",
       "      <th>family_status</th>\n",
       "      <th>family_status_id</th>\n",
       "      <th>gender</th>\n",
       "      <th>income_type</th>\n",
       "      <th>debt</th>\n",
       "      <th>total_income</th>\n",
       "      <th>purpose</th>\n",
       "      <th>purpose_category</th>\n",
       "      <th>income_category</th>\n",
       "      <th>children_category</th>\n",
       "    </tr>\n",
       "  </thead>\n",
       "  <tbody>\n",
       "    <tr>\n",
       "      <td>0</td>\n",
       "      <td>1</td>\n",
       "      <td>8437.673028</td>\n",
       "      <td>42</td>\n",
       "      <td>высшее</td>\n",
       "      <td>0</td>\n",
       "      <td>женат / замужем</td>\n",
       "      <td>0</td>\n",
       "      <td>F</td>\n",
       "      <td>сотрудник</td>\n",
       "      <td>0</td>\n",
       "      <td>253875</td>\n",
       "      <td>покупка жилья</td>\n",
       "      <td>недвижимость</td>\n",
       "      <td>высокий</td>\n",
       "      <td>есть</td>\n",
       "    </tr>\n",
       "    <tr>\n",
       "      <td>1</td>\n",
       "      <td>1</td>\n",
       "      <td>4024.803754</td>\n",
       "      <td>36</td>\n",
       "      <td>среднее</td>\n",
       "      <td>1</td>\n",
       "      <td>женат / замужем</td>\n",
       "      <td>0</td>\n",
       "      <td>F</td>\n",
       "      <td>сотрудник</td>\n",
       "      <td>0</td>\n",
       "      <td>112080</td>\n",
       "      <td>приобретение автомобиля</td>\n",
       "      <td>автомобиль</td>\n",
       "      <td>средний</td>\n",
       "      <td>есть</td>\n",
       "    </tr>\n",
       "    <tr>\n",
       "      <td>2</td>\n",
       "      <td>0</td>\n",
       "      <td>5623.422610</td>\n",
       "      <td>33</td>\n",
       "      <td>среднее</td>\n",
       "      <td>1</td>\n",
       "      <td>женат / замужем</td>\n",
       "      <td>0</td>\n",
       "      <td>M</td>\n",
       "      <td>сотрудник</td>\n",
       "      <td>0</td>\n",
       "      <td>145885</td>\n",
       "      <td>покупка жилья</td>\n",
       "      <td>недвижимость</td>\n",
       "      <td>средний</td>\n",
       "      <td>нет</td>\n",
       "    </tr>\n",
       "    <tr>\n",
       "      <td>3</td>\n",
       "      <td>3</td>\n",
       "      <td>4124.747207</td>\n",
       "      <td>32</td>\n",
       "      <td>среднее</td>\n",
       "      <td>1</td>\n",
       "      <td>женат / замужем</td>\n",
       "      <td>0</td>\n",
       "      <td>M</td>\n",
       "      <td>сотрудник</td>\n",
       "      <td>0</td>\n",
       "      <td>267628</td>\n",
       "      <td>дополнительное образование</td>\n",
       "      <td>образование</td>\n",
       "      <td>высокий</td>\n",
       "      <td>есть</td>\n",
       "    </tr>\n",
       "    <tr>\n",
       "      <td>4</td>\n",
       "      <td>0</td>\n",
       "      <td>340266.072047</td>\n",
       "      <td>53</td>\n",
       "      <td>среднее</td>\n",
       "      <td>1</td>\n",
       "      <td>гражданский брак</td>\n",
       "      <td>1</td>\n",
       "      <td>F</td>\n",
       "      <td>пенсионер</td>\n",
       "      <td>0</td>\n",
       "      <td>158616</td>\n",
       "      <td>сыграть свадьбу</td>\n",
       "      <td>свадьба</td>\n",
       "      <td>средний</td>\n",
       "      <td>нет</td>\n",
       "    </tr>\n",
       "    <tr>\n",
       "      <td>5</td>\n",
       "      <td>0</td>\n",
       "      <td>926.185831</td>\n",
       "      <td>27</td>\n",
       "      <td>высшее</td>\n",
       "      <td>0</td>\n",
       "      <td>гражданский брак</td>\n",
       "      <td>1</td>\n",
       "      <td>M</td>\n",
       "      <td>компаньон</td>\n",
       "      <td>0</td>\n",
       "      <td>255763</td>\n",
       "      <td>покупка жилья</td>\n",
       "      <td>недвижимость</td>\n",
       "      <td>высокий</td>\n",
       "      <td>нет</td>\n",
       "    </tr>\n",
       "    <tr>\n",
       "      <td>6</td>\n",
       "      <td>0</td>\n",
       "      <td>2879.202052</td>\n",
       "      <td>43</td>\n",
       "      <td>высшее</td>\n",
       "      <td>0</td>\n",
       "      <td>женат / замужем</td>\n",
       "      <td>0</td>\n",
       "      <td>F</td>\n",
       "      <td>компаньон</td>\n",
       "      <td>0</td>\n",
       "      <td>240525</td>\n",
       "      <td>операции с жильем</td>\n",
       "      <td>недвижимость</td>\n",
       "      <td>высокий</td>\n",
       "      <td>нет</td>\n",
       "    </tr>\n",
       "    <tr>\n",
       "      <td>7</td>\n",
       "      <td>0</td>\n",
       "      <td>152.779569</td>\n",
       "      <td>50</td>\n",
       "      <td>среднее</td>\n",
       "      <td>1</td>\n",
       "      <td>женат / замужем</td>\n",
       "      <td>0</td>\n",
       "      <td>M</td>\n",
       "      <td>сотрудник</td>\n",
       "      <td>0</td>\n",
       "      <td>135823</td>\n",
       "      <td>образование</td>\n",
       "      <td>образование</td>\n",
       "      <td>средний</td>\n",
       "      <td>нет</td>\n",
       "    </tr>\n",
       "    <tr>\n",
       "      <td>8</td>\n",
       "      <td>2</td>\n",
       "      <td>6929.865299</td>\n",
       "      <td>35</td>\n",
       "      <td>высшее</td>\n",
       "      <td>0</td>\n",
       "      <td>гражданский брак</td>\n",
       "      <td>1</td>\n",
       "      <td>F</td>\n",
       "      <td>сотрудник</td>\n",
       "      <td>0</td>\n",
       "      <td>95856</td>\n",
       "      <td>на проведение свадьбы</td>\n",
       "      <td>свадьба</td>\n",
       "      <td>низкий</td>\n",
       "      <td>есть</td>\n",
       "    </tr>\n",
       "    <tr>\n",
       "      <td>9</td>\n",
       "      <td>0</td>\n",
       "      <td>2188.756445</td>\n",
       "      <td>41</td>\n",
       "      <td>среднее</td>\n",
       "      <td>1</td>\n",
       "      <td>женат / замужем</td>\n",
       "      <td>0</td>\n",
       "      <td>M</td>\n",
       "      <td>сотрудник</td>\n",
       "      <td>0</td>\n",
       "      <td>144425</td>\n",
       "      <td>покупка жилья для семьи</td>\n",
       "      <td>недвижимость</td>\n",
       "      <td>средний</td>\n",
       "      <td>нет</td>\n",
       "    </tr>\n",
       "    <tr>\n",
       "      <td>10</td>\n",
       "      <td>2</td>\n",
       "      <td>4171.483647</td>\n",
       "      <td>36</td>\n",
       "      <td>высшее</td>\n",
       "      <td>0</td>\n",
       "      <td>женат / замужем</td>\n",
       "      <td>0</td>\n",
       "      <td>M</td>\n",
       "      <td>компаньон</td>\n",
       "      <td>0</td>\n",
       "      <td>113943</td>\n",
       "      <td>покупка недвижимости</td>\n",
       "      <td>недвижимость</td>\n",
       "      <td>средний</td>\n",
       "      <td>есть</td>\n",
       "    </tr>\n",
       "    <tr>\n",
       "      <td>11</td>\n",
       "      <td>0</td>\n",
       "      <td>792.701887</td>\n",
       "      <td>40</td>\n",
       "      <td>среднее</td>\n",
       "      <td>1</td>\n",
       "      <td>женат / замужем</td>\n",
       "      <td>0</td>\n",
       "      <td>F</td>\n",
       "      <td>сотрудник</td>\n",
       "      <td>0</td>\n",
       "      <td>77069</td>\n",
       "      <td>покупка коммерческой недвижимости</td>\n",
       "      <td>недвижимость</td>\n",
       "      <td>низкий</td>\n",
       "      <td>нет</td>\n",
       "    </tr>\n",
       "    <tr>\n",
       "      <td>12</td>\n",
       "      <td>0</td>\n",
       "      <td>-100.000000</td>\n",
       "      <td>65</td>\n",
       "      <td>среднее</td>\n",
       "      <td>1</td>\n",
       "      <td>гражданский брак</td>\n",
       "      <td>1</td>\n",
       "      <td>M</td>\n",
       "      <td>пенсионер</td>\n",
       "      <td>0</td>\n",
       "      <td>118514</td>\n",
       "      <td>сыграть свадьбу</td>\n",
       "      <td>свадьба</td>\n",
       "      <td>средний</td>\n",
       "      <td>нет</td>\n",
       "    </tr>\n",
       "    <tr>\n",
       "      <td>13</td>\n",
       "      <td>0</td>\n",
       "      <td>1846.641941</td>\n",
       "      <td>54</td>\n",
       "      <td>неоконченное высшее</td>\n",
       "      <td>2</td>\n",
       "      <td>женат / замужем</td>\n",
       "      <td>0</td>\n",
       "      <td>F</td>\n",
       "      <td>сотрудник</td>\n",
       "      <td>0</td>\n",
       "      <td>130458</td>\n",
       "      <td>приобретение автомобиля</td>\n",
       "      <td>автомобиль</td>\n",
       "      <td>средний</td>\n",
       "      <td>нет</td>\n",
       "    </tr>\n",
       "    <tr>\n",
       "      <td>14</td>\n",
       "      <td>0</td>\n",
       "      <td>1844.956182</td>\n",
       "      <td>56</td>\n",
       "      <td>высшее</td>\n",
       "      <td>0</td>\n",
       "      <td>гражданский брак</td>\n",
       "      <td>1</td>\n",
       "      <td>F</td>\n",
       "      <td>компаньон</td>\n",
       "      <td>1</td>\n",
       "      <td>165127</td>\n",
       "      <td>покупка жилой недвижимости</td>\n",
       "      <td>недвижимость</td>\n",
       "      <td>средний</td>\n",
       "      <td>нет</td>\n",
       "    </tr>\n",
       "    <tr>\n",
       "      <td>15</td>\n",
       "      <td>1</td>\n",
       "      <td>972.364419</td>\n",
       "      <td>26</td>\n",
       "      <td>среднее</td>\n",
       "      <td>1</td>\n",
       "      <td>женат / замужем</td>\n",
       "      <td>0</td>\n",
       "      <td>F</td>\n",
       "      <td>сотрудник</td>\n",
       "      <td>0</td>\n",
       "      <td>116820</td>\n",
       "      <td>строительство собственной недвижимости</td>\n",
       "      <td>недвижимость</td>\n",
       "      <td>средний</td>\n",
       "      <td>есть</td>\n",
       "    </tr>\n",
       "    <tr>\n",
       "      <td>16</td>\n",
       "      <td>0</td>\n",
       "      <td>1719.934226</td>\n",
       "      <td>35</td>\n",
       "      <td>среднее</td>\n",
       "      <td>1</td>\n",
       "      <td>женат / замужем</td>\n",
       "      <td>0</td>\n",
       "      <td>F</td>\n",
       "      <td>сотрудник</td>\n",
       "      <td>0</td>\n",
       "      <td>289202</td>\n",
       "      <td>недвижимость</td>\n",
       "      <td>недвижимость</td>\n",
       "      <td>высокий</td>\n",
       "      <td>нет</td>\n",
       "    </tr>\n",
       "    <tr>\n",
       "      <td>17</td>\n",
       "      <td>0</td>\n",
       "      <td>2369.999720</td>\n",
       "      <td>33</td>\n",
       "      <td>высшее</td>\n",
       "      <td>0</td>\n",
       "      <td>гражданский брак</td>\n",
       "      <td>1</td>\n",
       "      <td>M</td>\n",
       "      <td>сотрудник</td>\n",
       "      <td>0</td>\n",
       "      <td>90410</td>\n",
       "      <td>строительство недвижимости</td>\n",
       "      <td>недвижимость</td>\n",
       "      <td>низкий</td>\n",
       "      <td>нет</td>\n",
       "    </tr>\n",
       "    <tr>\n",
       "      <td>18</td>\n",
       "      <td>0</td>\n",
       "      <td>400281.136913</td>\n",
       "      <td>53</td>\n",
       "      <td>среднее</td>\n",
       "      <td>1</td>\n",
       "      <td>вдовец / вдова</td>\n",
       "      <td>1</td>\n",
       "      <td>F</td>\n",
       "      <td>пенсионер</td>\n",
       "      <td>0</td>\n",
       "      <td>56823</td>\n",
       "      <td>на покупку подержанного автомобиля</td>\n",
       "      <td>автомобиль</td>\n",
       "      <td>низкий</td>\n",
       "      <td>нет</td>\n",
       "    </tr>\n",
       "    <tr>\n",
       "      <td>19</td>\n",
       "      <td>0</td>\n",
       "      <td>10038.818549</td>\n",
       "      <td>48</td>\n",
       "      <td>среднее</td>\n",
       "      <td>1</td>\n",
       "      <td>в разводе</td>\n",
       "      <td>1</td>\n",
       "      <td>F</td>\n",
       "      <td>сотрудник</td>\n",
       "      <td>0</td>\n",
       "      <td>242831</td>\n",
       "      <td>на покупку своего автомобиля</td>\n",
       "      <td>автомобиль</td>\n",
       "      <td>высокий</td>\n",
       "      <td>нет</td>\n",
       "    </tr>\n",
       "    <tr>\n",
       "      <td>20</td>\n",
       "      <td>1</td>\n",
       "      <td>1311.604166</td>\n",
       "      <td>36</td>\n",
       "      <td>среднее</td>\n",
       "      <td>1</td>\n",
       "      <td>женат / замужем</td>\n",
       "      <td>0</td>\n",
       "      <td>M</td>\n",
       "      <td>сотрудник</td>\n",
       "      <td>0</td>\n",
       "      <td>209552</td>\n",
       "      <td>недвижимость</td>\n",
       "      <td>недвижимость</td>\n",
       "      <td>высокий</td>\n",
       "      <td>есть</td>\n",
       "    </tr>\n",
       "    <tr>\n",
       "      <td>21</td>\n",
       "      <td>1</td>\n",
       "      <td>253.685166</td>\n",
       "      <td>33</td>\n",
       "      <td>среднее</td>\n",
       "      <td>1</td>\n",
       "      <td>гражданский брак</td>\n",
       "      <td>1</td>\n",
       "      <td>F</td>\n",
       "      <td>сотрудник</td>\n",
       "      <td>0</td>\n",
       "      <td>131812</td>\n",
       "      <td>приобретение автомобиля</td>\n",
       "      <td>автомобиль</td>\n",
       "      <td>средний</td>\n",
       "      <td>есть</td>\n",
       "    </tr>\n",
       "    <tr>\n",
       "      <td>22</td>\n",
       "      <td>1</td>\n",
       "      <td>1766.644138</td>\n",
       "      <td>24</td>\n",
       "      <td>среднее</td>\n",
       "      <td>1</td>\n",
       "      <td>гражданский брак</td>\n",
       "      <td>1</td>\n",
       "      <td>F</td>\n",
       "      <td>сотрудник</td>\n",
       "      <td>0</td>\n",
       "      <td>149681</td>\n",
       "      <td>на покупку подержанного автомобиля</td>\n",
       "      <td>автомобиль</td>\n",
       "      <td>средний</td>\n",
       "      <td>есть</td>\n",
       "    </tr>\n",
       "    <tr>\n",
       "      <td>23</td>\n",
       "      <td>0</td>\n",
       "      <td>272.981385</td>\n",
       "      <td>21</td>\n",
       "      <td>высшее</td>\n",
       "      <td>0</td>\n",
       "      <td>гражданский брак</td>\n",
       "      <td>1</td>\n",
       "      <td>M</td>\n",
       "      <td>сотрудник</td>\n",
       "      <td>0</td>\n",
       "      <td>128265</td>\n",
       "      <td>сыграть свадьбу</td>\n",
       "      <td>свадьба</td>\n",
       "      <td>средний</td>\n",
       "      <td>нет</td>\n",
       "    </tr>\n",
       "    <tr>\n",
       "      <td>24</td>\n",
       "      <td>1</td>\n",
       "      <td>338551.952911</td>\n",
       "      <td>57</td>\n",
       "      <td>среднее</td>\n",
       "      <td>1</td>\n",
       "      <td>не женат / не замужем</td>\n",
       "      <td>1</td>\n",
       "      <td>F</td>\n",
       "      <td>пенсионер</td>\n",
       "      <td>0</td>\n",
       "      <td>290547</td>\n",
       "      <td>операции с коммерческой недвижимостью</td>\n",
       "      <td>недвижимость</td>\n",
       "      <td>высокий</td>\n",
       "      <td>есть</td>\n",
       "    </tr>\n",
       "    <tr>\n",
       "      <td>25</td>\n",
       "      <td>0</td>\n",
       "      <td>363548.489348</td>\n",
       "      <td>67</td>\n",
       "      <td>среднее</td>\n",
       "      <td>1</td>\n",
       "      <td>женат / замужем</td>\n",
       "      <td>0</td>\n",
       "      <td>M</td>\n",
       "      <td>пенсионер</td>\n",
       "      <td>0</td>\n",
       "      <td>55112</td>\n",
       "      <td>покупка недвижимости</td>\n",
       "      <td>недвижимость</td>\n",
       "      <td>низкий</td>\n",
       "      <td>нет</td>\n",
       "    </tr>\n",
       "    <tr>\n",
       "      <td>26</td>\n",
       "      <td>0</td>\n",
       "      <td>-100.000000</td>\n",
       "      <td>41</td>\n",
       "      <td>среднее</td>\n",
       "      <td>1</td>\n",
       "      <td>женат / замужем</td>\n",
       "      <td>0</td>\n",
       "      <td>M</td>\n",
       "      <td>госслужащий</td>\n",
       "      <td>0</td>\n",
       "      <td>150447</td>\n",
       "      <td>образование</td>\n",
       "      <td>образование</td>\n",
       "      <td>средний</td>\n",
       "      <td>нет</td>\n",
       "    </tr>\n",
       "    <tr>\n",
       "      <td>27</td>\n",
       "      <td>0</td>\n",
       "      <td>529.191635</td>\n",
       "      <td>28</td>\n",
       "      <td>высшее</td>\n",
       "      <td>0</td>\n",
       "      <td>женат / замужем</td>\n",
       "      <td>0</td>\n",
       "      <td>M</td>\n",
       "      <td>сотрудник</td>\n",
       "      <td>0</td>\n",
       "      <td>308848</td>\n",
       "      <td>строительство собственной недвижимости</td>\n",
       "      <td>недвижимость</td>\n",
       "      <td>высокий</td>\n",
       "      <td>нет</td>\n",
       "    </tr>\n",
       "    <tr>\n",
       "      <td>28</td>\n",
       "      <td>1</td>\n",
       "      <td>717.274324</td>\n",
       "      <td>26</td>\n",
       "      <td>высшее</td>\n",
       "      <td>0</td>\n",
       "      <td>женат / замужем</td>\n",
       "      <td>0</td>\n",
       "      <td>F</td>\n",
       "      <td>сотрудник</td>\n",
       "      <td>0</td>\n",
       "      <td>187863</td>\n",
       "      <td>строительство собственной недвижимости</td>\n",
       "      <td>недвижимость</td>\n",
       "      <td>высокий</td>\n",
       "      <td>есть</td>\n",
       "    </tr>\n",
       "    <tr>\n",
       "      <td>29</td>\n",
       "      <td>0</td>\n",
       "      <td>-100.000000</td>\n",
       "      <td>63</td>\n",
       "      <td>среднее</td>\n",
       "      <td>1</td>\n",
       "      <td>не женат / не замужем</td>\n",
       "      <td>1</td>\n",
       "      <td>F</td>\n",
       "      <td>пенсионер</td>\n",
       "      <td>0</td>\n",
       "      <td>118514</td>\n",
       "      <td>строительство жилой недвижимости</td>\n",
       "      <td>недвижимость</td>\n",
       "      <td>средний</td>\n",
       "      <td>нет</td>\n",
       "    </tr>\n",
       "  </tbody>\n",
       "</table>\n",
       "</div>"
      ],
      "text/plain": [
       "    children  days_employed  dob_years            education  education_id  \\\n",
       "0          1    8437.673028         42               высшее             0   \n",
       "1          1    4024.803754         36              среднее             1   \n",
       "2          0    5623.422610         33              среднее             1   \n",
       "3          3    4124.747207         32              среднее             1   \n",
       "4          0  340266.072047         53              среднее             1   \n",
       "5          0     926.185831         27               высшее             0   \n",
       "6          0    2879.202052         43               высшее             0   \n",
       "7          0     152.779569         50              среднее             1   \n",
       "8          2    6929.865299         35               высшее             0   \n",
       "9          0    2188.756445         41              среднее             1   \n",
       "10         2    4171.483647         36               высшее             0   \n",
       "11         0     792.701887         40              среднее             1   \n",
       "12         0    -100.000000         65              среднее             1   \n",
       "13         0    1846.641941         54  неоконченное высшее             2   \n",
       "14         0    1844.956182         56               высшее             0   \n",
       "15         1     972.364419         26              среднее             1   \n",
       "16         0    1719.934226         35              среднее             1   \n",
       "17         0    2369.999720         33               высшее             0   \n",
       "18         0  400281.136913         53              среднее             1   \n",
       "19         0   10038.818549         48              среднее             1   \n",
       "20         1    1311.604166         36              среднее             1   \n",
       "21         1     253.685166         33              среднее             1   \n",
       "22         1    1766.644138         24              среднее             1   \n",
       "23         0     272.981385         21               высшее             0   \n",
       "24         1  338551.952911         57              среднее             1   \n",
       "25         0  363548.489348         67              среднее             1   \n",
       "26         0    -100.000000         41              среднее             1   \n",
       "27         0     529.191635         28               высшее             0   \n",
       "28         1     717.274324         26               высшее             0   \n",
       "29         0    -100.000000         63              среднее             1   \n",
       "\n",
       "            family_status  family_status_id gender  income_type  debt  \\\n",
       "0         женат / замужем                 0      F    сотрудник     0   \n",
       "1         женат / замужем                 0      F    сотрудник     0   \n",
       "2         женат / замужем                 0      M    сотрудник     0   \n",
       "3         женат / замужем                 0      M    сотрудник     0   \n",
       "4        гражданский брак                 1      F    пенсионер     0   \n",
       "5        гражданский брак                 1      M    компаньон     0   \n",
       "6         женат / замужем                 0      F    компаньон     0   \n",
       "7         женат / замужем                 0      M    сотрудник     0   \n",
       "8        гражданский брак                 1      F    сотрудник     0   \n",
       "9         женат / замужем                 0      M    сотрудник     0   \n",
       "10        женат / замужем                 0      M    компаньон     0   \n",
       "11        женат / замужем                 0      F    сотрудник     0   \n",
       "12       гражданский брак                 1      M    пенсионер     0   \n",
       "13        женат / замужем                 0      F    сотрудник     0   \n",
       "14       гражданский брак                 1      F    компаньон     1   \n",
       "15        женат / замужем                 0      F    сотрудник     0   \n",
       "16        женат / замужем                 0      F    сотрудник     0   \n",
       "17       гражданский брак                 1      M    сотрудник     0   \n",
       "18         вдовец / вдова                 1      F    пенсионер     0   \n",
       "19              в разводе                 1      F    сотрудник     0   \n",
       "20        женат / замужем                 0      M    сотрудник     0   \n",
       "21       гражданский брак                 1      F    сотрудник     0   \n",
       "22       гражданский брак                 1      F    сотрудник     0   \n",
       "23       гражданский брак                 1      M    сотрудник     0   \n",
       "24  не женат / не замужем                 1      F    пенсионер     0   \n",
       "25        женат / замужем                 0      M    пенсионер     0   \n",
       "26        женат / замужем                 0      M  госслужащий     0   \n",
       "27        женат / замужем                 0      M    сотрудник     0   \n",
       "28        женат / замужем                 0      F    сотрудник     0   \n",
       "29  не женат / не замужем                 1      F    пенсионер     0   \n",
       "\n",
       "    total_income                                 purpose purpose_category  \\\n",
       "0         253875                           покупка жилья     недвижимость   \n",
       "1         112080                 приобретение автомобиля       автомобиль   \n",
       "2         145885                           покупка жилья     недвижимость   \n",
       "3         267628              дополнительное образование      образование   \n",
       "4         158616                         сыграть свадьбу          свадьба   \n",
       "5         255763                           покупка жилья     недвижимость   \n",
       "6         240525                       операции с жильем     недвижимость   \n",
       "7         135823                             образование      образование   \n",
       "8          95856                   на проведение свадьбы          свадьба   \n",
       "9         144425                 покупка жилья для семьи     недвижимость   \n",
       "10        113943                    покупка недвижимости     недвижимость   \n",
       "11         77069       покупка коммерческой недвижимости     недвижимость   \n",
       "12        118514                         сыграть свадьбу          свадьба   \n",
       "13        130458                 приобретение автомобиля       автомобиль   \n",
       "14        165127              покупка жилой недвижимости     недвижимость   \n",
       "15        116820  строительство собственной недвижимости     недвижимость   \n",
       "16        289202                            недвижимость     недвижимость   \n",
       "17         90410              строительство недвижимости     недвижимость   \n",
       "18         56823      на покупку подержанного автомобиля       автомобиль   \n",
       "19        242831            на покупку своего автомобиля       автомобиль   \n",
       "20        209552                            недвижимость     недвижимость   \n",
       "21        131812                 приобретение автомобиля       автомобиль   \n",
       "22        149681      на покупку подержанного автомобиля       автомобиль   \n",
       "23        128265                         сыграть свадьбу          свадьба   \n",
       "24        290547   операции с коммерческой недвижимостью     недвижимость   \n",
       "25         55112                    покупка недвижимости     недвижимость   \n",
       "26        150447                             образование      образование   \n",
       "27        308848  строительство собственной недвижимости     недвижимость   \n",
       "28        187863  строительство собственной недвижимости     недвижимость   \n",
       "29        118514        строительство жилой недвижимости     недвижимость   \n",
       "\n",
       "   income_category children_category  \n",
       "0          высокий              есть  \n",
       "1          средний              есть  \n",
       "2          средний               нет  \n",
       "3          высокий              есть  \n",
       "4          средний               нет  \n",
       "5          высокий               нет  \n",
       "6          высокий               нет  \n",
       "7          средний               нет  \n",
       "8           низкий              есть  \n",
       "9          средний               нет  \n",
       "10         средний              есть  \n",
       "11          низкий               нет  \n",
       "12         средний               нет  \n",
       "13         средний               нет  \n",
       "14         средний               нет  \n",
       "15         средний              есть  \n",
       "16         высокий               нет  \n",
       "17          низкий               нет  \n",
       "18          низкий               нет  \n",
       "19         высокий               нет  \n",
       "20         высокий              есть  \n",
       "21         средний              есть  \n",
       "22         средний              есть  \n",
       "23         средний               нет  \n",
       "24         высокий              есть  \n",
       "25          низкий               нет  \n",
       "26         средний               нет  \n",
       "27         высокий               нет  \n",
       "28         высокий              есть  \n",
       "29         средний               нет  "
      ]
     },
     "metadata": {},
     "output_type": "display_data"
    }
   ],
   "source": [
    "def family_status(elem):\n",
    "    if elem > 0:\n",
    "        return 1\n",
    "    return 0\n",
    "data['family_status_id'] = data['family_status_id'].apply(family_status)\n",
    "data.head(30)"
   ]
  },
  {
   "cell_type": "markdown",
   "metadata": {},
   "source": [
    "**Вывод: выполнив категоризации можно приступать к созданию сводных таблиц для решения поставленных задач.**"
   ]
  },
  {
   "cell_type": "markdown",
   "metadata": {},
   "source": [
    "## Этап 3. Ответьте на вопросы"
   ]
  },
  {
   "cell_type": "markdown",
   "metadata": {},
   "source": [
    "**1. Есть ли зависимость между наличием детей и возвратом кредита в срок?**"
   ]
  },
  {
   "cell_type": "code",
   "execution_count": 47,
   "metadata": {},
   "outputs": [
    {
     "data": {
      "text/html": [
       "<div>\n",
       "<style scoped>\n",
       "    .dataframe tbody tr th:only-of-type {\n",
       "        vertical-align: middle;\n",
       "    }\n",
       "\n",
       "    .dataframe tbody tr th {\n",
       "        vertical-align: top;\n",
       "    }\n",
       "\n",
       "    .dataframe thead th {\n",
       "        text-align: right;\n",
       "    }\n",
       "</style>\n",
       "<table border=\"1\" class=\"dataframe\">\n",
       "  <thead>\n",
       "    <tr style=\"text-align: right;\">\n",
       "      <th>debt</th>\n",
       "      <th>0</th>\n",
       "      <th>1</th>\n",
       "    </tr>\n",
       "    <tr>\n",
       "      <th>children_category</th>\n",
       "      <th></th>\n",
       "      <th></th>\n",
       "    </tr>\n",
       "  </thead>\n",
       "  <tbody>\n",
       "    <tr>\n",
       "      <td>есть</td>\n",
       "      <td>6685</td>\n",
       "      <td>678</td>\n",
       "    </tr>\n",
       "    <tr>\n",
       "      <td>нет</td>\n",
       "      <td>13028</td>\n",
       "      <td>1063</td>\n",
       "    </tr>\n",
       "  </tbody>\n",
       "</table>\n",
       "</div>"
      ],
      "text/plain": [
       "debt                   0     1\n",
       "children_category             \n",
       "есть                6685   678\n",
       "нет                13028  1063"
      ]
     },
     "metadata": {},
     "output_type": "display_data"
    }
   ],
   "source": [
    "pivot_table_children = data.pivot_table(index='children_category', columns= 'debt', values='days_employed', aggfunc='count')\n",
    "display(pivot_table_children.head())"
   ]
  },
  {
   "cell_type": "code",
   "execution_count": 48,
   "metadata": {},
   "outputs": [
    {
     "data": {
      "text/html": [
       "<div>\n",
       "<style scoped>\n",
       "    .dataframe tbody tr th:only-of-type {\n",
       "        vertical-align: middle;\n",
       "    }\n",
       "\n",
       "    .dataframe tbody tr th {\n",
       "        vertical-align: top;\n",
       "    }\n",
       "\n",
       "    .dataframe thead th {\n",
       "        text-align: right;\n",
       "    }\n",
       "</style>\n",
       "<table border=\"1\" class=\"dataframe\">\n",
       "  <thead>\n",
       "    <tr style=\"text-align: right;\">\n",
       "      <th>debt</th>\n",
       "      <th>0</th>\n",
       "      <th>1</th>\n",
       "      <th>percent_1</th>\n",
       "    </tr>\n",
       "    <tr>\n",
       "      <th>children_category</th>\n",
       "      <th></th>\n",
       "      <th></th>\n",
       "      <th></th>\n",
       "    </tr>\n",
       "  </thead>\n",
       "  <tbody>\n",
       "    <tr>\n",
       "      <td>есть</td>\n",
       "      <td>6685</td>\n",
       "      <td>678</td>\n",
       "      <td>9.208203</td>\n",
       "    </tr>\n",
       "    <tr>\n",
       "      <td>нет</td>\n",
       "      <td>13028</td>\n",
       "      <td>1063</td>\n",
       "      <td>7.543822</td>\n",
       "    </tr>\n",
       "  </tbody>\n",
       "</table>\n",
       "</div>"
      ],
      "text/plain": [
       "debt                   0     1  percent_1\n",
       "children_category                        \n",
       "есть                6685   678   9.208203\n",
       "нет                13028  1063   7.543822"
      ]
     },
     "metadata": {},
     "output_type": "display_data"
    }
   ],
   "source": [
    "pivot_table_children['percent_1'] = pivot_table_children[1] / (pivot_table_children[1] + pivot_table_children[0]) * 100\n",
    "display(pivot_table_children.head())"
   ]
  },
  {
   "cell_type": "code",
   "execution_count": 49,
   "metadata": {},
   "outputs": [
    {
     "data": {
      "text/html": [
       "<div>\n",
       "<style scoped>\n",
       "    .dataframe tbody tr th:only-of-type {\n",
       "        vertical-align: middle;\n",
       "    }\n",
       "\n",
       "    .dataframe tbody tr th {\n",
       "        vertical-align: top;\n",
       "    }\n",
       "\n",
       "    .dataframe thead th {\n",
       "        text-align: right;\n",
       "    }\n",
       "</style>\n",
       "<table border=\"1\" class=\"dataframe\">\n",
       "  <thead>\n",
       "    <tr style=\"text-align: right;\">\n",
       "      <th>debt</th>\n",
       "      <th>0</th>\n",
       "      <th>1</th>\n",
       "    </tr>\n",
       "    <tr>\n",
       "      <th>children</th>\n",
       "      <th></th>\n",
       "      <th></th>\n",
       "    </tr>\n",
       "  </thead>\n",
       "  <tbody>\n",
       "    <tr>\n",
       "      <td>0</td>\n",
       "      <td>13028.0</td>\n",
       "      <td>1063.0</td>\n",
       "    </tr>\n",
       "    <tr>\n",
       "      <td>1</td>\n",
       "      <td>4410.0</td>\n",
       "      <td>445.0</td>\n",
       "    </tr>\n",
       "    <tr>\n",
       "      <td>2</td>\n",
       "      <td>1926.0</td>\n",
       "      <td>202.0</td>\n",
       "    </tr>\n",
       "    <tr>\n",
       "      <td>3</td>\n",
       "      <td>303.0</td>\n",
       "      <td>27.0</td>\n",
       "    </tr>\n",
       "    <tr>\n",
       "      <td>4</td>\n",
       "      <td>37.0</td>\n",
       "      <td>4.0</td>\n",
       "    </tr>\n",
       "    <tr>\n",
       "      <td>5</td>\n",
       "      <td>9.0</td>\n",
       "      <td>NaN</td>\n",
       "    </tr>\n",
       "  </tbody>\n",
       "</table>\n",
       "</div>"
      ],
      "text/plain": [
       "debt            0       1\n",
       "children                 \n",
       "0         13028.0  1063.0\n",
       "1          4410.0   445.0\n",
       "2          1926.0   202.0\n",
       "3           303.0    27.0\n",
       "4            37.0     4.0\n",
       "5             9.0     NaN"
      ]
     },
     "metadata": {},
     "output_type": "display_data"
    }
   ],
   "source": [
    "pivot_table_children = data.pivot_table(index='children', columns= 'debt', values='days_employed', aggfunc='count')\n",
    "display(pivot_table_children.head(10))"
   ]
  },
  {
   "cell_type": "code",
   "execution_count": 50,
   "metadata": {},
   "outputs": [
    {
     "data": {
      "text/html": [
       "<div>\n",
       "<style scoped>\n",
       "    .dataframe tbody tr th:only-of-type {\n",
       "        vertical-align: middle;\n",
       "    }\n",
       "\n",
       "    .dataframe tbody tr th {\n",
       "        vertical-align: top;\n",
       "    }\n",
       "\n",
       "    .dataframe thead th {\n",
       "        text-align: right;\n",
       "    }\n",
       "</style>\n",
       "<table border=\"1\" class=\"dataframe\">\n",
       "  <thead>\n",
       "    <tr style=\"text-align: right;\">\n",
       "      <th>debt</th>\n",
       "      <th>0</th>\n",
       "      <th>1</th>\n",
       "      <th>percent_1</th>\n",
       "    </tr>\n",
       "    <tr>\n",
       "      <th>children</th>\n",
       "      <th></th>\n",
       "      <th></th>\n",
       "      <th></th>\n",
       "    </tr>\n",
       "  </thead>\n",
       "  <tbody>\n",
       "    <tr>\n",
       "      <td>0</td>\n",
       "      <td>13028.0</td>\n",
       "      <td>1063.0</td>\n",
       "      <td>7.543822</td>\n",
       "    </tr>\n",
       "    <tr>\n",
       "      <td>1</td>\n",
       "      <td>4410.0</td>\n",
       "      <td>445.0</td>\n",
       "      <td>9.165808</td>\n",
       "    </tr>\n",
       "    <tr>\n",
       "      <td>2</td>\n",
       "      <td>1926.0</td>\n",
       "      <td>202.0</td>\n",
       "      <td>9.492481</td>\n",
       "    </tr>\n",
       "    <tr>\n",
       "      <td>3</td>\n",
       "      <td>303.0</td>\n",
       "      <td>27.0</td>\n",
       "      <td>8.181818</td>\n",
       "    </tr>\n",
       "    <tr>\n",
       "      <td>4</td>\n",
       "      <td>37.0</td>\n",
       "      <td>4.0</td>\n",
       "      <td>9.756098</td>\n",
       "    </tr>\n",
       "    <tr>\n",
       "      <td>5</td>\n",
       "      <td>9.0</td>\n",
       "      <td>NaN</td>\n",
       "      <td>NaN</td>\n",
       "    </tr>\n",
       "  </tbody>\n",
       "</table>\n",
       "</div>"
      ],
      "text/plain": [
       "debt            0       1  percent_1\n",
       "children                            \n",
       "0         13028.0  1063.0   7.543822\n",
       "1          4410.0   445.0   9.165808\n",
       "2          1926.0   202.0   9.492481\n",
       "3           303.0    27.0   8.181818\n",
       "4            37.0     4.0   9.756098\n",
       "5             9.0     NaN        NaN"
      ]
     },
     "metadata": {},
     "output_type": "display_data"
    }
   ],
   "source": [
    "pivot_table_children['percent_1'] = pivot_table_children[1] / (pivot_table_children[1] + pivot_table_children[0]) * 100\n",
    "display(pivot_table_children.head(10))"
   ]
  },
  {
   "cell_type": "code",
   "execution_count": 51,
   "metadata": {},
   "outputs": [
    {
     "data": {
      "text/html": [
       "<div>\n",
       "<style scoped>\n",
       "    .dataframe tbody tr th:only-of-type {\n",
       "        vertical-align: middle;\n",
       "    }\n",
       "\n",
       "    .dataframe tbody tr th {\n",
       "        vertical-align: top;\n",
       "    }\n",
       "\n",
       "    .dataframe thead th {\n",
       "        text-align: right;\n",
       "    }\n",
       "</style>\n",
       "<table border=\"1\" class=\"dataframe\">\n",
       "  <thead>\n",
       "    <tr style=\"text-align: right;\">\n",
       "      <th></th>\n",
       "      <th>children</th>\n",
       "      <th>days_employed</th>\n",
       "      <th>dob_years</th>\n",
       "      <th>education</th>\n",
       "      <th>education_id</th>\n",
       "      <th>family_status</th>\n",
       "      <th>family_status_id</th>\n",
       "      <th>gender</th>\n",
       "      <th>income_type</th>\n",
       "      <th>debt</th>\n",
       "      <th>total_income</th>\n",
       "      <th>purpose</th>\n",
       "      <th>purpose_category</th>\n",
       "      <th>income_category</th>\n",
       "      <th>children_category</th>\n",
       "    </tr>\n",
       "  </thead>\n",
       "  <tbody>\n",
       "    <tr>\n",
       "      <td>3977</td>\n",
       "      <td>5</td>\n",
       "      <td>-100.000000</td>\n",
       "      <td>42</td>\n",
       "      <td>среднее</td>\n",
       "      <td>1</td>\n",
       "      <td>гражданский брак</td>\n",
       "      <td>1</td>\n",
       "      <td>M</td>\n",
       "      <td>сотрудник</td>\n",
       "      <td>0</td>\n",
       "      <td>142594</td>\n",
       "      <td>на покупку своего автомобиля</td>\n",
       "      <td>автомобиль</td>\n",
       "      <td>средний</td>\n",
       "      <td>есть</td>\n",
       "    </tr>\n",
       "    <tr>\n",
       "      <td>4394</td>\n",
       "      <td>5</td>\n",
       "      <td>3248.839837</td>\n",
       "      <td>36</td>\n",
       "      <td>среднее</td>\n",
       "      <td>1</td>\n",
       "      <td>женат / замужем</td>\n",
       "      <td>0</td>\n",
       "      <td>F</td>\n",
       "      <td>компаньон</td>\n",
       "      <td>0</td>\n",
       "      <td>168460</td>\n",
       "      <td>операции с недвижимостью</td>\n",
       "      <td>недвижимость</td>\n",
       "      <td>средний</td>\n",
       "      <td>есть</td>\n",
       "    </tr>\n",
       "    <tr>\n",
       "      <td>7859</td>\n",
       "      <td>5</td>\n",
       "      <td>773.124856</td>\n",
       "      <td>36</td>\n",
       "      <td>среднее</td>\n",
       "      <td>1</td>\n",
       "      <td>женат / замужем</td>\n",
       "      <td>0</td>\n",
       "      <td>F</td>\n",
       "      <td>сотрудник</td>\n",
       "      <td>0</td>\n",
       "      <td>48772</td>\n",
       "      <td>операции с жильем</td>\n",
       "      <td>недвижимость</td>\n",
       "      <td>низкий</td>\n",
       "      <td>есть</td>\n",
       "    </tr>\n",
       "    <tr>\n",
       "      <td>15787</td>\n",
       "      <td>5</td>\n",
       "      <td>418.199982</td>\n",
       "      <td>31</td>\n",
       "      <td>среднее</td>\n",
       "      <td>1</td>\n",
       "      <td>женат / замужем</td>\n",
       "      <td>0</td>\n",
       "      <td>F</td>\n",
       "      <td>сотрудник</td>\n",
       "      <td>0</td>\n",
       "      <td>77552</td>\n",
       "      <td>сделка с подержанным автомобилем</td>\n",
       "      <td>автомобиль</td>\n",
       "      <td>низкий</td>\n",
       "      <td>есть</td>\n",
       "    </tr>\n",
       "    <tr>\n",
       "      <td>15881</td>\n",
       "      <td>5</td>\n",
       "      <td>2286.262752</td>\n",
       "      <td>37</td>\n",
       "      <td>среднее</td>\n",
       "      <td>1</td>\n",
       "      <td>женат / замужем</td>\n",
       "      <td>0</td>\n",
       "      <td>F</td>\n",
       "      <td>сотрудник</td>\n",
       "      <td>0</td>\n",
       "      <td>256698</td>\n",
       "      <td>покупка недвижимости</td>\n",
       "      <td>недвижимость</td>\n",
       "      <td>высокий</td>\n",
       "      <td>есть</td>\n",
       "    </tr>\n",
       "    <tr>\n",
       "      <td>16173</td>\n",
       "      <td>5</td>\n",
       "      <td>387.317579</td>\n",
       "      <td>35</td>\n",
       "      <td>среднее</td>\n",
       "      <td>1</td>\n",
       "      <td>гражданский брак</td>\n",
       "      <td>1</td>\n",
       "      <td>F</td>\n",
       "      <td>госслужащий</td>\n",
       "      <td>0</td>\n",
       "      <td>126102</td>\n",
       "      <td>на проведение свадьбы</td>\n",
       "      <td>свадьба</td>\n",
       "      <td>средний</td>\n",
       "      <td>есть</td>\n",
       "    </tr>\n",
       "    <tr>\n",
       "      <td>20387</td>\n",
       "      <td>5</td>\n",
       "      <td>268.425464</td>\n",
       "      <td>38</td>\n",
       "      <td>начальное</td>\n",
       "      <td>3</td>\n",
       "      <td>женат / замужем</td>\n",
       "      <td>0</td>\n",
       "      <td>F</td>\n",
       "      <td>сотрудник</td>\n",
       "      <td>0</td>\n",
       "      <td>212545</td>\n",
       "      <td>заняться высшим образованием</td>\n",
       "      <td>образование</td>\n",
       "      <td>высокий</td>\n",
       "      <td>есть</td>\n",
       "    </tr>\n",
       "    <tr>\n",
       "      <td>20770</td>\n",
       "      <td>5</td>\n",
       "      <td>2386.600221</td>\n",
       "      <td>35</td>\n",
       "      <td>среднее</td>\n",
       "      <td>1</td>\n",
       "      <td>женат / замужем</td>\n",
       "      <td>0</td>\n",
       "      <td>F</td>\n",
       "      <td>компаньон</td>\n",
       "      <td>0</td>\n",
       "      <td>204241</td>\n",
       "      <td>жилье</td>\n",
       "      <td>недвижимость</td>\n",
       "      <td>высокий</td>\n",
       "      <td>есть</td>\n",
       "    </tr>\n",
       "    <tr>\n",
       "      <td>21087</td>\n",
       "      <td>5</td>\n",
       "      <td>1690.018117</td>\n",
       "      <td>59</td>\n",
       "      <td>среднее</td>\n",
       "      <td>1</td>\n",
       "      <td>женат / замужем</td>\n",
       "      <td>0</td>\n",
       "      <td>M</td>\n",
       "      <td>сотрудник</td>\n",
       "      <td>0</td>\n",
       "      <td>269068</td>\n",
       "      <td>операции со своей недвижимостью</td>\n",
       "      <td>недвижимость</td>\n",
       "      <td>высокий</td>\n",
       "      <td>есть</td>\n",
       "    </tr>\n",
       "  </tbody>\n",
       "</table>\n",
       "</div>"
      ],
      "text/plain": [
       "       children  days_employed  dob_years  education  education_id  \\\n",
       "3977          5    -100.000000         42    среднее             1   \n",
       "4394          5    3248.839837         36    среднее             1   \n",
       "7859          5     773.124856         36    среднее             1   \n",
       "15787         5     418.199982         31    среднее             1   \n",
       "15881         5    2286.262752         37    среднее             1   \n",
       "16173         5     387.317579         35    среднее             1   \n",
       "20387         5     268.425464         38  начальное             3   \n",
       "20770         5    2386.600221         35    среднее             1   \n",
       "21087         5    1690.018117         59    среднее             1   \n",
       "\n",
       "          family_status  family_status_id gender  income_type  debt  \\\n",
       "3977   гражданский брак                 1      M    сотрудник     0   \n",
       "4394    женат / замужем                 0      F    компаньон     0   \n",
       "7859    женат / замужем                 0      F    сотрудник     0   \n",
       "15787   женат / замужем                 0      F    сотрудник     0   \n",
       "15881   женат / замужем                 0      F    сотрудник     0   \n",
       "16173  гражданский брак                 1      F  госслужащий     0   \n",
       "20387   женат / замужем                 0      F    сотрудник     0   \n",
       "20770   женат / замужем                 0      F    компаньон     0   \n",
       "21087   женат / замужем                 0      M    сотрудник     0   \n",
       "\n",
       "       total_income                           purpose purpose_category  \\\n",
       "3977         142594      на покупку своего автомобиля       автомобиль   \n",
       "4394         168460          операции с недвижимостью     недвижимость   \n",
       "7859          48772                 операции с жильем     недвижимость   \n",
       "15787         77552  сделка с подержанным автомобилем       автомобиль   \n",
       "15881        256698              покупка недвижимости     недвижимость   \n",
       "16173        126102             на проведение свадьбы          свадьба   \n",
       "20387        212545      заняться высшим образованием      образование   \n",
       "20770        204241                             жилье     недвижимость   \n",
       "21087        269068   операции со своей недвижимостью     недвижимость   \n",
       "\n",
       "      income_category children_category  \n",
       "3977          средний              есть  \n",
       "4394          средний              есть  \n",
       "7859           низкий              есть  \n",
       "15787          низкий              есть  \n",
       "15881         высокий              есть  \n",
       "16173         средний              есть  \n",
       "20387         высокий              есть  \n",
       "20770         высокий              есть  \n",
       "21087         высокий              есть  "
      ]
     },
     "execution_count": 51,
     "metadata": {},
     "output_type": "execute_result"
    }
   ],
   "source": [
    "data[data['children'] == 5]"
   ]
  },
  {
   "cell_type": "markdown",
   "metadata": {},
   "source": [
    "**Вывод**\n",
    "* Оказалось, что среди семей с 5 детьми нет ни одного должника! Однако, процент задолженнности у семей с детьми выше(9.1% и 9,5% при наличии одного и двух детей соответственно), чем у семей без детей(7.5%). Поэтому можно сделать вывод, что зависимости между наличием детей и возвратом кредита в срок нет."
   ]
  },
  {
   "cell_type": "markdown",
   "metadata": {},
   "source": [
    "**2. Есть ли зависимость между семейным положением и возвратом кредита в срок?**"
   ]
  },
  {
   "cell_type": "code",
   "execution_count": 52,
   "metadata": {},
   "outputs": [
    {
     "data": {
      "text/html": [
       "<div>\n",
       "<style scoped>\n",
       "    .dataframe tbody tr th:only-of-type {\n",
       "        vertical-align: middle;\n",
       "    }\n",
       "\n",
       "    .dataframe tbody tr th {\n",
       "        vertical-align: top;\n",
       "    }\n",
       "\n",
       "    .dataframe thead th {\n",
       "        text-align: right;\n",
       "    }\n",
       "</style>\n",
       "<table border=\"1\" class=\"dataframe\">\n",
       "  <thead>\n",
       "    <tr style=\"text-align: right;\">\n",
       "      <th>debt</th>\n",
       "      <th>0</th>\n",
       "      <th>1</th>\n",
       "    </tr>\n",
       "    <tr>\n",
       "      <th>family_status_id</th>\n",
       "      <th></th>\n",
       "      <th></th>\n",
       "    </tr>\n",
       "  </thead>\n",
       "  <tbody>\n",
       "    <tr>\n",
       "      <td>0</td>\n",
       "      <td>11408</td>\n",
       "      <td>931</td>\n",
       "    </tr>\n",
       "    <tr>\n",
       "      <td>1</td>\n",
       "      <td>8305</td>\n",
       "      <td>810</td>\n",
       "    </tr>\n",
       "  </tbody>\n",
       "</table>\n",
       "</div>"
      ],
      "text/plain": [
       "debt                  0    1\n",
       "family_status_id            \n",
       "0                 11408  931\n",
       "1                  8305  810"
      ]
     },
     "metadata": {},
     "output_type": "display_data"
    }
   ],
   "source": [
    "pivot_table_family_status = data.pivot_table(index='family_status_id', columns= 'debt', values='days_employed', aggfunc='count')\n",
    "display(pivot_table_family_status.head(10))"
   ]
  },
  {
   "cell_type": "code",
   "execution_count": 53,
   "metadata": {},
   "outputs": [
    {
     "data": {
      "text/html": [
       "<div>\n",
       "<style scoped>\n",
       "    .dataframe tbody tr th:only-of-type {\n",
       "        vertical-align: middle;\n",
       "    }\n",
       "\n",
       "    .dataframe tbody tr th {\n",
       "        vertical-align: top;\n",
       "    }\n",
       "\n",
       "    .dataframe thead th {\n",
       "        text-align: right;\n",
       "    }\n",
       "</style>\n",
       "<table border=\"1\" class=\"dataframe\">\n",
       "  <thead>\n",
       "    <tr style=\"text-align: right;\">\n",
       "      <th>debt</th>\n",
       "      <th>0</th>\n",
       "      <th>1</th>\n",
       "      <th>percent_1</th>\n",
       "    </tr>\n",
       "    <tr>\n",
       "      <th>family_status_id</th>\n",
       "      <th></th>\n",
       "      <th></th>\n",
       "      <th></th>\n",
       "    </tr>\n",
       "  </thead>\n",
       "  <tbody>\n",
       "    <tr>\n",
       "      <td>0</td>\n",
       "      <td>11408</td>\n",
       "      <td>931</td>\n",
       "      <td>7.545182</td>\n",
       "    </tr>\n",
       "    <tr>\n",
       "      <td>1</td>\n",
       "      <td>8305</td>\n",
       "      <td>810</td>\n",
       "      <td>8.886451</td>\n",
       "    </tr>\n",
       "  </tbody>\n",
       "</table>\n",
       "</div>"
      ],
      "text/plain": [
       "debt                  0    1  percent_1\n",
       "family_status_id                       \n",
       "0                 11408  931   7.545182\n",
       "1                  8305  810   8.886451"
      ]
     },
     "metadata": {},
     "output_type": "display_data"
    }
   ],
   "source": [
    "pivot_table_family_status['percent_1'] = pivot_table_family_status[1] / (pivot_table_family_status[1] + pivot_table_family_status[0]) * 100\n",
    "display(pivot_table_family_status.head(10))"
   ]
  },
  {
   "cell_type": "code",
   "execution_count": 54,
   "metadata": {},
   "outputs": [
    {
     "data": {
      "text/html": [
       "<div>\n",
       "<style scoped>\n",
       "    .dataframe tbody tr th:only-of-type {\n",
       "        vertical-align: middle;\n",
       "    }\n",
       "\n",
       "    .dataframe tbody tr th {\n",
       "        vertical-align: top;\n",
       "    }\n",
       "\n",
       "    .dataframe thead th {\n",
       "        text-align: right;\n",
       "    }\n",
       "</style>\n",
       "<table border=\"1\" class=\"dataframe\">\n",
       "  <thead>\n",
       "    <tr style=\"text-align: right;\">\n",
       "      <th>debt</th>\n",
       "      <th>0</th>\n",
       "      <th>1</th>\n",
       "    </tr>\n",
       "    <tr>\n",
       "      <th>family_status</th>\n",
       "      <th></th>\n",
       "      <th></th>\n",
       "    </tr>\n",
       "  </thead>\n",
       "  <tbody>\n",
       "    <tr>\n",
       "      <td>в разводе</td>\n",
       "      <td>1110</td>\n",
       "      <td>85</td>\n",
       "    </tr>\n",
       "    <tr>\n",
       "      <td>вдовец / вдова</td>\n",
       "      <td>896</td>\n",
       "      <td>63</td>\n",
       "    </tr>\n",
       "    <tr>\n",
       "      <td>гражданский брак</td>\n",
       "      <td>3763</td>\n",
       "      <td>388</td>\n",
       "    </tr>\n",
       "    <tr>\n",
       "      <td>женат / замужем</td>\n",
       "      <td>11408</td>\n",
       "      <td>931</td>\n",
       "    </tr>\n",
       "    <tr>\n",
       "      <td>не женат / не замужем</td>\n",
       "      <td>2536</td>\n",
       "      <td>274</td>\n",
       "    </tr>\n",
       "  </tbody>\n",
       "</table>\n",
       "</div>"
      ],
      "text/plain": [
       "debt                       0    1\n",
       "family_status                    \n",
       "в разводе               1110   85\n",
       "вдовец / вдова           896   63\n",
       "гражданский брак        3763  388\n",
       "женат / замужем        11408  931\n",
       "не женат / не замужем   2536  274"
      ]
     },
     "metadata": {},
     "output_type": "display_data"
    }
   ],
   "source": [
    "pivot_table_family_status = data.pivot_table(index='family_status', columns= 'debt', values='days_employed', aggfunc='count')\n",
    "display(pivot_table_family_status.head(10))"
   ]
  },
  {
   "cell_type": "code",
   "execution_count": 55,
   "metadata": {},
   "outputs": [
    {
     "data": {
      "text/html": [
       "<div>\n",
       "<style scoped>\n",
       "    .dataframe tbody tr th:only-of-type {\n",
       "        vertical-align: middle;\n",
       "    }\n",
       "\n",
       "    .dataframe tbody tr th {\n",
       "        vertical-align: top;\n",
       "    }\n",
       "\n",
       "    .dataframe thead th {\n",
       "        text-align: right;\n",
       "    }\n",
       "</style>\n",
       "<table border=\"1\" class=\"dataframe\">\n",
       "  <thead>\n",
       "    <tr style=\"text-align: right;\">\n",
       "      <th>debt</th>\n",
       "      <th>0</th>\n",
       "      <th>1</th>\n",
       "      <th>percent_1</th>\n",
       "    </tr>\n",
       "    <tr>\n",
       "      <th>family_status</th>\n",
       "      <th></th>\n",
       "      <th></th>\n",
       "      <th></th>\n",
       "    </tr>\n",
       "  </thead>\n",
       "  <tbody>\n",
       "    <tr>\n",
       "      <td>в разводе</td>\n",
       "      <td>1110</td>\n",
       "      <td>85</td>\n",
       "      <td>7.112971</td>\n",
       "    </tr>\n",
       "    <tr>\n",
       "      <td>вдовец / вдова</td>\n",
       "      <td>896</td>\n",
       "      <td>63</td>\n",
       "      <td>6.569343</td>\n",
       "    </tr>\n",
       "    <tr>\n",
       "      <td>гражданский брак</td>\n",
       "      <td>3763</td>\n",
       "      <td>388</td>\n",
       "      <td>9.347145</td>\n",
       "    </tr>\n",
       "    <tr>\n",
       "      <td>женат / замужем</td>\n",
       "      <td>11408</td>\n",
       "      <td>931</td>\n",
       "      <td>7.545182</td>\n",
       "    </tr>\n",
       "    <tr>\n",
       "      <td>не женат / не замужем</td>\n",
       "      <td>2536</td>\n",
       "      <td>274</td>\n",
       "      <td>9.750890</td>\n",
       "    </tr>\n",
       "  </tbody>\n",
       "</table>\n",
       "</div>"
      ],
      "text/plain": [
       "debt                       0    1  percent_1\n",
       "family_status                               \n",
       "в разводе               1110   85   7.112971\n",
       "вдовец / вдова           896   63   6.569343\n",
       "гражданский брак        3763  388   9.347145\n",
       "женат / замужем        11408  931   7.545182\n",
       "не женат / не замужем   2536  274   9.750890"
      ]
     },
     "metadata": {},
     "output_type": "display_data"
    }
   ],
   "source": [
    "pivot_table_family_status['percent_1'] = pivot_table_family_status[1] / (pivot_table_family_status[1] + pivot_table_family_status[0]) * 100\n",
    "display(pivot_table_family_status.head(10))"
   ]
  },
  {
   "cell_type": "markdown",
   "metadata": {},
   "source": [
    "**Вывод: можно сделать вывод, что зависимости между семейным положением и возвратом кредита в срок нет. Наибольший процент задолженнности наблюдается у людей в категории не 'женат /не замужем'. Однако, в сравнении с категорией 'женат/замужем', категория в 'разводе' и 'вдовец/вдова' имеют более низкий % задолженности.**"
   ]
  },
  {
   "cell_type": "markdown",
   "metadata": {},
   "source": [
    "**3. Есть ли зависимость между уровнем дохода и возвратом кредита в срок?**"
   ]
  },
  {
   "cell_type": "code",
   "execution_count": 56,
   "metadata": {},
   "outputs": [
    {
     "data": {
      "text/html": [
       "<div>\n",
       "<style scoped>\n",
       "    .dataframe tbody tr th:only-of-type {\n",
       "        vertical-align: middle;\n",
       "    }\n",
       "\n",
       "    .dataframe tbody tr th {\n",
       "        vertical-align: top;\n",
       "    }\n",
       "\n",
       "    .dataframe thead th {\n",
       "        text-align: right;\n",
       "    }\n",
       "</style>\n",
       "<table border=\"1\" class=\"dataframe\">\n",
       "  <thead>\n",
       "    <tr style=\"text-align: right;\">\n",
       "      <th>debt</th>\n",
       "      <th>0</th>\n",
       "      <th>1</th>\n",
       "    </tr>\n",
       "    <tr>\n",
       "      <th>income_category</th>\n",
       "      <th></th>\n",
       "      <th></th>\n",
       "    </tr>\n",
       "  </thead>\n",
       "  <tbody>\n",
       "    <tr>\n",
       "      <td>высокий</td>\n",
       "      <td>7141</td>\n",
       "      <td>577</td>\n",
       "    </tr>\n",
       "    <tr>\n",
       "      <td>низкий</td>\n",
       "      <td>4109</td>\n",
       "      <td>354</td>\n",
       "    </tr>\n",
       "    <tr>\n",
       "      <td>средний</td>\n",
       "      <td>8463</td>\n",
       "      <td>810</td>\n",
       "    </tr>\n",
       "  </tbody>\n",
       "</table>\n",
       "</div>"
      ],
      "text/plain": [
       "debt                0    1\n",
       "income_category           \n",
       "высокий          7141  577\n",
       "низкий           4109  354\n",
       "средний          8463  810"
      ]
     },
     "metadata": {},
     "output_type": "display_data"
    }
   ],
   "source": [
    "pivot_table_total_income = data.pivot_table(index='income_category', columns= 'debt', values='days_employed', aggfunc='count')\n",
    "display(pivot_table_total_income.head(10))"
   ]
  },
  {
   "cell_type": "code",
   "execution_count": 57,
   "metadata": {},
   "outputs": [
    {
     "data": {
      "text/html": [
       "<div>\n",
       "<style scoped>\n",
       "    .dataframe tbody tr th:only-of-type {\n",
       "        vertical-align: middle;\n",
       "    }\n",
       "\n",
       "    .dataframe tbody tr th {\n",
       "        vertical-align: top;\n",
       "    }\n",
       "\n",
       "    .dataframe thead th {\n",
       "        text-align: right;\n",
       "    }\n",
       "</style>\n",
       "<table border=\"1\" class=\"dataframe\">\n",
       "  <thead>\n",
       "    <tr style=\"text-align: right;\">\n",
       "      <th>debt</th>\n",
       "      <th>0</th>\n",
       "      <th>1</th>\n",
       "      <th>percent_1</th>\n",
       "    </tr>\n",
       "    <tr>\n",
       "      <th>income_category</th>\n",
       "      <th></th>\n",
       "      <th></th>\n",
       "      <th></th>\n",
       "    </tr>\n",
       "  </thead>\n",
       "  <tbody>\n",
       "    <tr>\n",
       "      <td>высокий</td>\n",
       "      <td>7141</td>\n",
       "      <td>577</td>\n",
       "      <td>7.476030</td>\n",
       "    </tr>\n",
       "    <tr>\n",
       "      <td>низкий</td>\n",
       "      <td>4109</td>\n",
       "      <td>354</td>\n",
       "      <td>7.931884</td>\n",
       "    </tr>\n",
       "    <tr>\n",
       "      <td>средний</td>\n",
       "      <td>8463</td>\n",
       "      <td>810</td>\n",
       "      <td>8.735037</td>\n",
       "    </tr>\n",
       "  </tbody>\n",
       "</table>\n",
       "</div>"
      ],
      "text/plain": [
       "debt                0    1  percent_1\n",
       "income_category                      \n",
       "высокий          7141  577   7.476030\n",
       "низкий           4109  354   7.931884\n",
       "средний          8463  810   8.735037"
      ]
     },
     "metadata": {},
     "output_type": "display_data"
    }
   ],
   "source": [
    "pivot_table_total_income['percent_1'] = pivot_table_total_income[1] / (pivot_table_total_income[1] + pivot_table_total_income[0]) * 100\n",
    "display(pivot_table_total_income.head(10))"
   ]
  },
  {
   "cell_type": "markdown",
   "metadata": {},
   "source": [
    "**Вывод: можно сделать вывод, что зависимость между уровнем дохода и возвратом кредита в срок есть. Наибольший процент задолженнности в категории со средним доходом, а наименьший - с высоким.**"
   ]
  },
  {
   "cell_type": "markdown",
   "metadata": {},
   "source": [
    "**4. Как разные цели кредита влияют на его возврат в срок?**"
   ]
  },
  {
   "cell_type": "code",
   "execution_count": 58,
   "metadata": {},
   "outputs": [
    {
     "data": {
      "text/html": [
       "<div>\n",
       "<style scoped>\n",
       "    .dataframe tbody tr th:only-of-type {\n",
       "        vertical-align: middle;\n",
       "    }\n",
       "\n",
       "    .dataframe tbody tr th {\n",
       "        vertical-align: top;\n",
       "    }\n",
       "\n",
       "    .dataframe thead th {\n",
       "        text-align: right;\n",
       "    }\n",
       "</style>\n",
       "<table border=\"1\" class=\"dataframe\">\n",
       "  <thead>\n",
       "    <tr style=\"text-align: right;\">\n",
       "      <th>debt</th>\n",
       "      <th>0</th>\n",
       "      <th>1</th>\n",
       "    </tr>\n",
       "    <tr>\n",
       "      <th>purpose_category</th>\n",
       "      <th></th>\n",
       "      <th></th>\n",
       "    </tr>\n",
       "  </thead>\n",
       "  <tbody>\n",
       "    <tr>\n",
       "      <td>автомобиль</td>\n",
       "      <td>3903</td>\n",
       "      <td>403</td>\n",
       "    </tr>\n",
       "    <tr>\n",
       "      <td>недвижимость</td>\n",
       "      <td>10029</td>\n",
       "      <td>782</td>\n",
       "    </tr>\n",
       "    <tr>\n",
       "      <td>образование</td>\n",
       "      <td>3643</td>\n",
       "      <td>370</td>\n",
       "    </tr>\n",
       "    <tr>\n",
       "      <td>свадьба</td>\n",
       "      <td>2138</td>\n",
       "      <td>186</td>\n",
       "    </tr>\n",
       "  </tbody>\n",
       "</table>\n",
       "</div>"
      ],
      "text/plain": [
       "debt                  0    1\n",
       "purpose_category            \n",
       "автомобиль         3903  403\n",
       "недвижимость      10029  782\n",
       "образование        3643  370\n",
       "свадьба            2138  186"
      ]
     },
     "metadata": {},
     "output_type": "display_data"
    }
   ],
   "source": [
    "pivot_table_purpose = data.pivot_table(index='purpose_category', columns= 'debt', values='days_employed', aggfunc='count')\n",
    "display(pivot_table_purpose.head(10))"
   ]
  },
  {
   "cell_type": "code",
   "execution_count": 59,
   "metadata": {},
   "outputs": [
    {
     "data": {
      "text/html": [
       "<div>\n",
       "<style scoped>\n",
       "    .dataframe tbody tr th:only-of-type {\n",
       "        vertical-align: middle;\n",
       "    }\n",
       "\n",
       "    .dataframe tbody tr th {\n",
       "        vertical-align: top;\n",
       "    }\n",
       "\n",
       "    .dataframe thead th {\n",
       "        text-align: right;\n",
       "    }\n",
       "</style>\n",
       "<table border=\"1\" class=\"dataframe\">\n",
       "  <thead>\n",
       "    <tr style=\"text-align: right;\">\n",
       "      <th>debt</th>\n",
       "      <th>0</th>\n",
       "      <th>1</th>\n",
       "      <th>percent_1</th>\n",
       "    </tr>\n",
       "    <tr>\n",
       "      <th>purpose_category</th>\n",
       "      <th></th>\n",
       "      <th></th>\n",
       "      <th></th>\n",
       "    </tr>\n",
       "  </thead>\n",
       "  <tbody>\n",
       "    <tr>\n",
       "      <td>автомобиль</td>\n",
       "      <td>3903</td>\n",
       "      <td>403</td>\n",
       "      <td>9.359034</td>\n",
       "    </tr>\n",
       "    <tr>\n",
       "      <td>недвижимость</td>\n",
       "      <td>10029</td>\n",
       "      <td>782</td>\n",
       "      <td>7.233373</td>\n",
       "    </tr>\n",
       "    <tr>\n",
       "      <td>образование</td>\n",
       "      <td>3643</td>\n",
       "      <td>370</td>\n",
       "      <td>9.220035</td>\n",
       "    </tr>\n",
       "    <tr>\n",
       "      <td>свадьба</td>\n",
       "      <td>2138</td>\n",
       "      <td>186</td>\n",
       "      <td>8.003442</td>\n",
       "    </tr>\n",
       "  </tbody>\n",
       "</table>\n",
       "</div>"
      ],
      "text/plain": [
       "debt                  0    1  percent_1\n",
       "purpose_category                       \n",
       "автомобиль         3903  403   9.359034\n",
       "недвижимость      10029  782   7.233373\n",
       "образование        3643  370   9.220035\n",
       "свадьба            2138  186   8.003442"
      ]
     },
     "metadata": {},
     "output_type": "display_data"
    }
   ],
   "source": [
    "pivot_table_purpose['percent_1'] = pivot_table_purpose[1] / (pivot_table_purpose[1] + pivot_table_purpose[0]) * 100\n",
    "display(pivot_table_purpose.head(10))"
   ]
  },
  {
   "cell_type": "markdown",
   "metadata": {},
   "source": [
    "**Вывод: можно сделать вывод, что разные цели кредита влияют на его возврат в срок. Наибольший процент задолженнности отмечается в категории с целью получения кредита - автомобиль, а наименьший - в категории недвижимость.**"
   ]
  },
  {
   "cell_type": "markdown",
   "metadata": {},
   "source": [
    "## Этап 4. Общий вывод\n",
    "**Наиболее платежеспособной является категория людей с семейным положением женат/замужем без детей с высоким доходом и с целью кредита - недвижимость.**"
   ]
  },
  {
   "cell_type": "code",
   "execution_count": null,
   "metadata": {},
   "outputs": [],
   "source": []
  }
 ],
 "metadata": {
  "ExecuteTimeLog": [
   {
    "duration": 708,
    "start_time": "2021-12-05T11:08:01.838Z"
   },
   {
    "duration": 48,
    "start_time": "2021-12-05T11:08:17.942Z"
   },
   {
    "duration": 389,
    "start_time": "2021-12-05T11:26:42.988Z"
   },
   {
    "duration": 54,
    "start_time": "2021-12-05T11:27:02.576Z"
   },
   {
    "duration": 15,
    "start_time": "2021-12-05T11:42:09.170Z"
   },
   {
    "duration": 264,
    "start_time": "2021-12-05T12:20:03.746Z"
   },
   {
    "duration": 7,
    "start_time": "2021-12-05T12:20:56.370Z"
   },
   {
    "duration": 6,
    "start_time": "2021-12-05T12:22:27.481Z"
   },
   {
    "duration": 13,
    "start_time": "2021-12-05T12:23:08.913Z"
   },
   {
    "duration": 272,
    "start_time": "2021-12-06T05:40:39.361Z"
   },
   {
    "duration": 627,
    "start_time": "2021-12-06T05:40:44.663Z"
   },
   {
    "duration": 277,
    "start_time": "2021-12-06T05:40:51.733Z"
   },
   {
    "duration": 247,
    "start_time": "2021-12-06T05:41:14.191Z"
   },
   {
    "duration": 233,
    "start_time": "2021-12-06T05:46:38.231Z"
   },
   {
    "duration": 10,
    "start_time": "2021-12-06T05:46:46.854Z"
   },
   {
    "duration": 2,
    "start_time": "2021-12-06T05:53:05.661Z"
   },
   {
    "duration": 3,
    "start_time": "2021-12-06T05:53:18.767Z"
   },
   {
    "duration": 3,
    "start_time": "2021-12-06T05:53:35.702Z"
   },
   {
    "duration": 9,
    "start_time": "2021-12-06T05:53:59.085Z"
   },
   {
    "duration": 237,
    "start_time": "2021-12-06T06:06:40.940Z"
   },
   {
    "duration": 6,
    "start_time": "2021-12-06T06:07:57.402Z"
   },
   {
    "duration": 284,
    "start_time": "2021-12-06T06:12:07.319Z"
   },
   {
    "duration": 230,
    "start_time": "2021-12-06T06:12:21.620Z"
   },
   {
    "duration": 254,
    "start_time": "2021-12-06T06:17:02.277Z"
   },
   {
    "duration": 311,
    "start_time": "2021-12-06T06:17:29.298Z"
   },
   {
    "duration": 268,
    "start_time": "2021-12-06T06:20:18.068Z"
   },
   {
    "duration": 6,
    "start_time": "2021-12-06T06:22:10.748Z"
   },
   {
    "duration": 13,
    "start_time": "2021-12-06T06:22:12.758Z"
   },
   {
    "duration": 6,
    "start_time": "2021-12-06T06:22:23.146Z"
   },
   {
    "duration": 12,
    "start_time": "2021-12-06T06:23:24.943Z"
   },
   {
    "duration": 4,
    "start_time": "2021-12-06T06:26:51.941Z"
   },
   {
    "duration": 11,
    "start_time": "2021-12-06T06:26:55.764Z"
   },
   {
    "duration": 4,
    "start_time": "2021-12-06T06:28:19.711Z"
   },
   {
    "duration": 11,
    "start_time": "2021-12-06T06:28:21.047Z"
   },
   {
    "duration": 234,
    "start_time": "2021-12-06T07:02:33.076Z"
   },
   {
    "duration": 5,
    "start_time": "2021-12-06T07:02:45.387Z"
   },
   {
    "duration": 5,
    "start_time": "2021-12-06T07:04:33.867Z"
   },
   {
    "duration": 5,
    "start_time": "2021-12-06T07:05:10.350Z"
   },
   {
    "duration": 5,
    "start_time": "2021-12-06T07:16:24.897Z"
   },
   {
    "duration": 5,
    "start_time": "2021-12-06T07:17:53.200Z"
   },
   {
    "duration": 6,
    "start_time": "2021-12-06T07:19:18.936Z"
   },
   {
    "duration": 13,
    "start_time": "2021-12-06T07:27:12.620Z"
   },
   {
    "duration": 5,
    "start_time": "2021-12-06T07:27:51.000Z"
   },
   {
    "duration": 11,
    "start_time": "2021-12-06T07:29:54.095Z"
   },
   {
    "duration": 7,
    "start_time": "2021-12-06T07:29:56.651Z"
   },
   {
    "duration": 5,
    "start_time": "2021-12-06T07:32:47.453Z"
   },
   {
    "duration": 5,
    "start_time": "2021-12-06T07:35:06.120Z"
   },
   {
    "duration": 4,
    "start_time": "2021-12-06T07:35:38.828Z"
   },
   {
    "duration": 5,
    "start_time": "2021-12-06T07:35:42.345Z"
   },
   {
    "duration": 5,
    "start_time": "2021-12-06T07:35:50.822Z"
   },
   {
    "duration": 5,
    "start_time": "2021-12-06T07:35:57.413Z"
   },
   {
    "duration": 13,
    "start_time": "2021-12-06T07:36:04.206Z"
   },
   {
    "duration": 7,
    "start_time": "2021-12-06T07:36:07.554Z"
   },
   {
    "duration": 11,
    "start_time": "2021-12-06T07:36:10.868Z"
   },
   {
    "duration": 6,
    "start_time": "2021-12-06T07:36:19.829Z"
   },
   {
    "duration": 18,
    "start_time": "2021-12-06T11:14:30.004Z"
   },
   {
    "duration": 5,
    "start_time": "2021-12-06T11:15:29.184Z"
   },
   {
    "duration": 15,
    "start_time": "2021-12-06T11:16:45.634Z"
   },
   {
    "duration": 5,
    "start_time": "2021-12-06T11:17:06.421Z"
   },
   {
    "duration": 5,
    "start_time": "2021-12-06T11:17:09.915Z"
   },
   {
    "duration": 6,
    "start_time": "2021-12-06T11:17:12.496Z"
   },
   {
    "duration": 5,
    "start_time": "2021-12-06T11:17:16.345Z"
   },
   {
    "duration": 6,
    "start_time": "2021-12-06T11:17:19.843Z"
   },
   {
    "duration": 13,
    "start_time": "2021-12-06T11:17:23.139Z"
   },
   {
    "duration": 6,
    "start_time": "2021-12-06T11:17:25.781Z"
   },
   {
    "duration": 11,
    "start_time": "2021-12-06T11:17:28.554Z"
   },
   {
    "duration": 7,
    "start_time": "2021-12-06T11:17:30.913Z"
   },
   {
    "duration": 15,
    "start_time": "2021-12-06T11:17:33.011Z"
   },
   {
    "duration": 84,
    "start_time": "2021-12-06T11:19:30.686Z"
   },
   {
    "duration": 84,
    "start_time": "2021-12-06T11:20:05.901Z"
   },
   {
    "duration": 5,
    "start_time": "2021-12-06T11:42:09.365Z"
   },
   {
    "duration": 10,
    "start_time": "2021-12-06T11:42:18.998Z"
   },
   {
    "duration": 10,
    "start_time": "2021-12-06T11:42:22.926Z"
   },
   {
    "duration": 12,
    "start_time": "2021-12-06T11:42:59.293Z"
   },
   {
    "duration": 10,
    "start_time": "2021-12-06T11:44:05.390Z"
   },
   {
    "duration": 5,
    "start_time": "2021-12-06T11:46:01.734Z"
   },
   {
    "duration": 7,
    "start_time": "2021-12-06T11:46:05.391Z"
   },
   {
    "duration": 18,
    "start_time": "2021-12-06T11:46:08.656Z"
   },
   {
    "duration": 5,
    "start_time": "2021-12-06T11:46:41.101Z"
   },
   {
    "duration": 6,
    "start_time": "2021-12-06T11:46:49.007Z"
   },
   {
    "duration": 14,
    "start_time": "2021-12-06T11:46:51.590Z"
   },
   {
    "duration": 4,
    "start_time": "2021-12-06T11:47:27.307Z"
   },
   {
    "duration": 6,
    "start_time": "2021-12-06T11:47:30.398Z"
   },
   {
    "duration": 13,
    "start_time": "2021-12-06T11:47:34.921Z"
   },
   {
    "duration": 10,
    "start_time": "2021-12-06T11:47:48.774Z"
   },
   {
    "duration": 5,
    "start_time": "2021-12-06T11:48:45.652Z"
   },
   {
    "duration": 8,
    "start_time": "2021-12-06T11:48:49.609Z"
   },
   {
    "duration": 13,
    "start_time": "2021-12-06T11:48:52.804Z"
   },
   {
    "duration": 52,
    "start_time": "2021-12-06T11:49:47.701Z"
   },
   {
    "duration": 6,
    "start_time": "2021-12-06T11:50:01.859Z"
   },
   {
    "duration": 9,
    "start_time": "2021-12-06T11:50:06.931Z"
   },
   {
    "duration": 6,
    "start_time": "2021-12-06T11:50:23.957Z"
   },
   {
    "duration": 9,
    "start_time": "2021-12-06T11:50:27.063Z"
   },
   {
    "duration": 13,
    "start_time": "2021-12-06T11:50:30.649Z"
   },
   {
    "duration": 11,
    "start_time": "2021-12-06T11:50:40.900Z"
   },
   {
    "duration": 11,
    "start_time": "2021-12-06T11:51:02.051Z"
   },
   {
    "duration": 5,
    "start_time": "2021-12-06T11:52:12.567Z"
   },
   {
    "duration": 7,
    "start_time": "2021-12-06T11:52:14.693Z"
   },
   {
    "duration": 10,
    "start_time": "2021-12-06T11:52:18.487Z"
   },
   {
    "duration": 12,
    "start_time": "2021-12-06T11:52:32.711Z"
   },
   {
    "duration": 23,
    "start_time": "2021-12-06T11:52:49.436Z"
   },
   {
    "duration": 11,
    "start_time": "2021-12-06T11:54:02.491Z"
   },
   {
    "duration": 16,
    "start_time": "2021-12-06T11:58:06.136Z"
   },
   {
    "duration": 10,
    "start_time": "2021-12-06T11:58:28.996Z"
   },
   {
    "duration": 4,
    "start_time": "2021-12-06T12:00:17.445Z"
   },
   {
    "duration": 6,
    "start_time": "2021-12-06T12:00:25.242Z"
   },
   {
    "duration": 15,
    "start_time": "2021-12-06T12:00:27.745Z"
   },
   {
    "duration": 4,
    "start_time": "2021-12-06T12:00:38.012Z"
   },
   {
    "duration": 6,
    "start_time": "2021-12-06T12:00:40.570Z"
   },
   {
    "duration": 16,
    "start_time": "2021-12-06T12:00:45.475Z"
   },
   {
    "duration": 52,
    "start_time": "2021-12-06T12:01:23.477Z"
   },
   {
    "duration": 6,
    "start_time": "2021-12-06T12:01:28.879Z"
   },
   {
    "duration": 9,
    "start_time": "2021-12-06T12:01:33.183Z"
   },
   {
    "duration": 4,
    "start_time": "2021-12-06T12:01:44.848Z"
   },
   {
    "duration": 7,
    "start_time": "2021-12-06T12:01:47.546Z"
   },
   {
    "duration": 16,
    "start_time": "2021-12-06T12:01:50.921Z"
   },
   {
    "duration": 10,
    "start_time": "2021-12-06T12:02:01.846Z"
   },
   {
    "duration": 14,
    "start_time": "2021-12-06T12:04:25.686Z"
   },
   {
    "duration": 9,
    "start_time": "2021-12-06T12:04:33.438Z"
   },
   {
    "duration": 4,
    "start_time": "2021-12-06T12:04:41.079Z"
   },
   {
    "duration": 11,
    "start_time": "2021-12-06T12:05:21.886Z"
   },
   {
    "duration": 11,
    "start_time": "2021-12-06T12:05:41.950Z"
   },
   {
    "duration": 4,
    "start_time": "2021-12-06T12:06:00.340Z"
   },
   {
    "duration": 12,
    "start_time": "2021-12-06T12:06:06.732Z"
   },
   {
    "duration": 12,
    "start_time": "2021-12-06T12:06:11.082Z"
   },
   {
    "duration": 4,
    "start_time": "2021-12-06T12:06:27.811Z"
   },
   {
    "duration": 5,
    "start_time": "2021-12-06T12:06:30.676Z"
   },
   {
    "duration": 5,
    "start_time": "2021-12-06T12:06:31.678Z"
   },
   {
    "duration": 4,
    "start_time": "2021-12-06T12:06:33.043Z"
   },
   {
    "duration": 5,
    "start_time": "2021-12-06T12:06:34.055Z"
   },
   {
    "duration": 5,
    "start_time": "2021-12-06T12:06:35.113Z"
   },
   {
    "duration": 12,
    "start_time": "2021-12-06T12:06:36.653Z"
   },
   {
    "duration": 7,
    "start_time": "2021-12-06T12:06:37.670Z"
   },
   {
    "duration": 11,
    "start_time": "2021-12-06T12:06:38.389Z"
   },
   {
    "duration": 6,
    "start_time": "2021-12-06T12:06:38.986Z"
   },
   {
    "duration": 86,
    "start_time": "2021-12-06T12:06:39.694Z"
   },
   {
    "duration": 4,
    "start_time": "2021-12-06T12:29:28.019Z"
   },
   {
    "duration": 4,
    "start_time": "2021-12-06T12:29:54.370Z"
   },
   {
    "duration": 232,
    "start_time": "2021-12-06T12:30:32.585Z"
   },
   {
    "duration": 55,
    "start_time": "2021-12-06T12:30:58.169Z"
   },
   {
    "duration": 6,
    "start_time": "2021-12-06T12:31:03.988Z"
   },
   {
    "duration": 10,
    "start_time": "2021-12-06T12:31:08.066Z"
   },
   {
    "duration": 227,
    "start_time": "2021-12-06T12:31:18.876Z"
   },
   {
    "duration": 4,
    "start_time": "2021-12-06T12:34:57.188Z"
   },
   {
    "duration": 4,
    "start_time": "2021-12-06T12:39:51.193Z"
   },
   {
    "duration": 7,
    "start_time": "2021-12-06T12:39:53.371Z"
   },
   {
    "duration": 14,
    "start_time": "2021-12-06T12:39:54.676Z"
   },
   {
    "duration": 10,
    "start_time": "2021-12-06T12:39:55.561Z"
   },
   {
    "duration": 4,
    "start_time": "2021-12-06T12:39:57.631Z"
   },
   {
    "duration": 11,
    "start_time": "2021-12-06T12:39:58.434Z"
   },
   {
    "duration": 11,
    "start_time": "2021-12-06T12:39:59.191Z"
   },
   {
    "duration": 4,
    "start_time": "2021-12-06T12:40:02.019Z"
   },
   {
    "duration": 5,
    "start_time": "2021-12-06T12:40:02.753Z"
   },
   {
    "duration": 5,
    "start_time": "2021-12-06T12:40:03.731Z"
   },
   {
    "duration": 5,
    "start_time": "2021-12-06T12:40:30.510Z"
   },
   {
    "duration": 5,
    "start_time": "2021-12-06T12:40:34.322Z"
   },
   {
    "duration": 6,
    "start_time": "2021-12-06T12:40:36.180Z"
   },
   {
    "duration": 14,
    "start_time": "2021-12-06T12:40:41.662Z"
   },
   {
    "duration": 8,
    "start_time": "2021-12-06T12:41:17.181Z"
   },
   {
    "duration": 4,
    "start_time": "2021-12-06T12:41:23.688Z"
   },
   {
    "duration": 4,
    "start_time": "2021-12-06T12:41:27.653Z"
   },
   {
    "duration": 7,
    "start_time": "2021-12-06T12:41:31.622Z"
   },
   {
    "duration": 6,
    "start_time": "2021-12-06T12:41:36.179Z"
   },
   {
    "duration": 13,
    "start_time": "2021-12-06T12:41:39.708Z"
   },
   {
    "duration": 8,
    "start_time": "2021-12-06T12:41:41.539Z"
   },
   {
    "duration": 10,
    "start_time": "2021-12-06T12:41:43.787Z"
   },
   {
    "duration": 7,
    "start_time": "2021-12-06T12:41:44.857Z"
   },
   {
    "duration": 4,
    "start_time": "2021-12-06T12:42:23.208Z"
   },
   {
    "duration": 4,
    "start_time": "2021-12-06T12:42:24.452Z"
   },
   {
    "duration": 894,
    "start_time": "2021-12-07T12:09:36.465Z"
   },
   {
    "duration": 17,
    "start_time": "2021-12-07T12:09:46.080Z"
   },
   {
    "duration": 12,
    "start_time": "2021-12-07T12:09:54.546Z"
   },
   {
    "duration": 505,
    "start_time": "2021-12-07T12:10:01.737Z"
   },
   {
    "duration": 5,
    "start_time": "2021-12-07T12:13:35.029Z"
   },
   {
    "duration": 12,
    "start_time": "2021-12-07T12:13:38.081Z"
   },
   {
    "duration": 26,
    "start_time": "2021-12-07T12:13:46.244Z"
   },
   {
    "duration": 24,
    "start_time": "2021-12-07T12:14:00.015Z"
   },
   {
    "duration": 5,
    "start_time": "2021-12-07T12:14:07.492Z"
   },
   {
    "duration": 19,
    "start_time": "2021-12-07T12:14:16.620Z"
   },
   {
    "duration": 15,
    "start_time": "2021-12-07T12:14:32.394Z"
   },
   {
    "duration": 7,
    "start_time": "2021-12-07T12:14:42.128Z"
   },
   {
    "duration": 7,
    "start_time": "2021-12-07T12:14:46.303Z"
   },
   {
    "duration": 6,
    "start_time": "2021-12-07T12:14:48.486Z"
   },
   {
    "duration": 6,
    "start_time": "2021-12-07T12:14:50.314Z"
   },
   {
    "duration": 8,
    "start_time": "2021-12-07T12:15:05.550Z"
   },
   {
    "duration": 20,
    "start_time": "2021-12-07T12:15:10.024Z"
   },
   {
    "duration": 11,
    "start_time": "2021-12-07T12:15:16.981Z"
   },
   {
    "duration": 16,
    "start_time": "2021-12-07T12:15:20.298Z"
   },
   {
    "duration": 8,
    "start_time": "2021-12-07T12:15:22.041Z"
   },
   {
    "duration": 6,
    "start_time": "2021-12-07T12:15:29.727Z"
   },
   {
    "duration": 6,
    "start_time": "2021-12-07T12:15:35.035Z"
   },
   {
    "duration": 12,
    "start_time": "2021-12-07T12:15:44.120Z"
   },
   {
    "duration": 6712,
    "start_time": "2021-12-07T12:15:46.003Z"
   },
   {
    "duration": 23,
    "start_time": "2021-12-07T12:16:46.409Z"
   },
   {
    "duration": 48,
    "start_time": "2021-12-07T13:16:07.221Z"
   },
   {
    "duration": 456,
    "start_time": "2021-12-07T13:16:53.610Z"
   },
   {
    "duration": 19,
    "start_time": "2021-12-07T13:17:08.138Z"
   },
   {
    "duration": 7,
    "start_time": "2021-12-07T16:25:11.018Z"
   },
   {
    "duration": 77,
    "start_time": "2021-12-07T16:25:32.634Z"
   },
   {
    "duration": 9,
    "start_time": "2021-12-07T16:25:37.778Z"
   },
   {
    "duration": 14,
    "start_time": "2021-12-07T16:25:46.381Z"
   },
   {
    "duration": 5,
    "start_time": "2021-12-07T16:25:49.689Z"
   },
   {
    "duration": 11,
    "start_time": "2021-12-07T16:25:50.197Z"
   },
   {
    "duration": 24,
    "start_time": "2021-12-07T16:25:51.255Z"
   },
   {
    "duration": 14,
    "start_time": "2021-12-07T16:25:52.053Z"
   },
   {
    "duration": 5,
    "start_time": "2021-12-07T16:25:54.501Z"
   },
   {
    "duration": 19,
    "start_time": "2021-12-07T16:25:55.684Z"
   },
   {
    "duration": 16,
    "start_time": "2021-12-07T16:25:56.634Z"
   },
   {
    "duration": 7,
    "start_time": "2021-12-07T16:26:00.334Z"
   },
   {
    "duration": 6,
    "start_time": "2021-12-07T16:26:01.326Z"
   },
   {
    "duration": 6,
    "start_time": "2021-12-07T16:26:02.353Z"
   },
   {
    "duration": 7,
    "start_time": "2021-12-07T16:26:03.247Z"
   },
   {
    "duration": 9,
    "start_time": "2021-12-07T16:26:04.220Z"
   },
   {
    "duration": 18,
    "start_time": "2021-12-07T16:26:05.102Z"
   },
   {
    "duration": 10,
    "start_time": "2021-12-07T16:26:05.906Z"
   },
   {
    "duration": 16,
    "start_time": "2021-12-07T16:26:06.448Z"
   },
   {
    "duration": 10,
    "start_time": "2021-12-07T16:26:07.102Z"
   },
   {
    "duration": 6,
    "start_time": "2021-12-07T16:26:08.593Z"
   },
   {
    "duration": 7,
    "start_time": "2021-12-07T16:26:09.333Z"
   },
   {
    "duration": 26,
    "start_time": "2021-12-07T16:26:11.640Z"
   },
   {
    "duration": 6546,
    "start_time": "2021-12-07T16:26:12.601Z"
   },
   {
    "duration": 22,
    "start_time": "2021-12-07T16:26:19.159Z"
   },
   {
    "duration": 14,
    "start_time": "2021-12-07T16:26:19.184Z"
   },
   {
    "duration": 6,
    "start_time": "2021-12-07T16:26:26.728Z"
   },
   {
    "duration": 6,
    "start_time": "2021-12-07T16:28:52.866Z"
   },
   {
    "duration": 6,
    "start_time": "2021-12-07T16:33:22.533Z"
   },
   {
    "duration": 6,
    "start_time": "2021-12-07T16:34:41.221Z"
   },
   {
    "duration": 6,
    "start_time": "2021-12-07T16:41:39.800Z"
   },
   {
    "duration": 7,
    "start_time": "2021-12-07T17:15:49.980Z"
   },
   {
    "duration": 6,
    "start_time": "2021-12-07T17:16:05.450Z"
   },
   {
    "duration": 12,
    "start_time": "2021-12-07T18:38:16.852Z"
   },
   {
    "duration": 21,
    "start_time": "2021-12-07T18:38:20.779Z"
   },
   {
    "duration": 11,
    "start_time": "2021-12-07T19:36:19.174Z"
   },
   {
    "duration": 25,
    "start_time": "2021-12-07T19:36:21.754Z"
   },
   {
    "duration": 30,
    "start_time": "2021-12-07T20:04:14.920Z"
   },
   {
    "duration": 29,
    "start_time": "2021-12-07T20:06:46.783Z"
   },
   {
    "duration": 28,
    "start_time": "2021-12-07T20:07:25.652Z"
   },
   {
    "duration": 12,
    "start_time": "2021-12-07T20:08:28.202Z"
   },
   {
    "duration": 27,
    "start_time": "2021-12-07T20:10:53.156Z"
   },
   {
    "duration": 25,
    "start_time": "2021-12-07T20:11:27.779Z"
   },
   {
    "duration": 485,
    "start_time": "2021-12-07T20:20:36.126Z"
   },
   {
    "duration": 50,
    "start_time": "2021-12-07T20:24:14.293Z"
   },
   {
    "duration": 26,
    "start_time": "2021-12-07T20:24:45.293Z"
   },
   {
    "duration": 24,
    "start_time": "2021-12-07T20:24:49.599Z"
   },
   {
    "duration": 26,
    "start_time": "2021-12-07T20:24:54.854Z"
   },
   {
    "duration": 24,
    "start_time": "2021-12-07T20:26:52.446Z"
   },
   {
    "duration": 12,
    "start_time": "2021-12-07T20:26:56.338Z"
   },
   {
    "duration": 648,
    "start_time": "2021-12-08T06:08:05.875Z"
   },
   {
    "duration": 12,
    "start_time": "2021-12-08T06:08:11.344Z"
   },
   {
    "duration": 11,
    "start_time": "2021-12-08T06:08:15.918Z"
   },
   {
    "duration": 4,
    "start_time": "2021-12-08T06:08:23.503Z"
   },
   {
    "duration": 8,
    "start_time": "2021-12-08T06:08:25.284Z"
   },
   {
    "duration": 17,
    "start_time": "2021-12-08T06:08:33.167Z"
   },
   {
    "duration": 12,
    "start_time": "2021-12-08T06:08:39.942Z"
   },
   {
    "duration": 4,
    "start_time": "2021-12-08T06:08:45.124Z"
   },
   {
    "duration": 13,
    "start_time": "2021-12-08T06:08:50.219Z"
   },
   {
    "duration": 13,
    "start_time": "2021-12-08T06:08:55.566Z"
   },
   {
    "duration": 5,
    "start_time": "2021-12-08T06:09:02.317Z"
   },
   {
    "duration": 5,
    "start_time": "2021-12-08T06:09:04.884Z"
   },
   {
    "duration": 5,
    "start_time": "2021-12-08T06:09:06.314Z"
   },
   {
    "duration": 5,
    "start_time": "2021-12-08T06:09:11.591Z"
   },
   {
    "duration": 6,
    "start_time": "2021-12-08T06:09:13.992Z"
   },
   {
    "duration": 13,
    "start_time": "2021-12-08T06:09:18.415Z"
   },
   {
    "duration": 7,
    "start_time": "2021-12-08T06:09:20.056Z"
   },
   {
    "duration": 12,
    "start_time": "2021-12-08T06:09:21.291Z"
   },
   {
    "duration": 7,
    "start_time": "2021-12-08T06:09:22.730Z"
   },
   {
    "duration": 5,
    "start_time": "2021-12-08T06:09:59.637Z"
   },
   {
    "duration": 6,
    "start_time": "2021-12-08T06:10:01.691Z"
   },
   {
    "duration": 9,
    "start_time": "2021-12-08T06:10:07.460Z"
   },
   {
    "duration": 4236,
    "start_time": "2021-12-08T06:10:09.116Z"
   },
   {
    "duration": 14,
    "start_time": "2021-12-08T06:10:14.503Z"
   },
   {
    "duration": 5,
    "start_time": "2021-12-08T06:10:22.037Z"
   },
   {
    "duration": 5,
    "start_time": "2021-12-08T06:10:23.190Z"
   },
   {
    "duration": 6,
    "start_time": "2021-12-08T06:10:24.090Z"
   },
   {
    "duration": 11,
    "start_time": "2021-12-08T06:10:27.489Z"
   },
   {
    "duration": 16,
    "start_time": "2021-12-08T06:10:29.159Z"
   },
   {
    "duration": 8,
    "start_time": "2021-12-08T06:10:35.617Z"
   },
   {
    "duration": 14,
    "start_time": "2021-12-08T06:10:38.257Z"
   },
   {
    "duration": 28,
    "start_time": "2021-12-08T06:10:44.005Z"
   },
   {
    "duration": 25,
    "start_time": "2021-12-08T06:10:56.702Z"
   },
   {
    "duration": 27,
    "start_time": "2021-12-08T06:11:02.252Z"
   },
   {
    "duration": 16,
    "start_time": "2021-12-08T06:11:07.938Z"
   },
   {
    "duration": 9,
    "start_time": "2021-12-08T06:11:27.490Z"
   },
   {
    "duration": 17,
    "start_time": "2021-12-08T06:11:36.383Z"
   },
   {
    "duration": 9,
    "start_time": "2021-12-08T06:11:52.025Z"
   },
   {
    "duration": 18,
    "start_time": "2021-12-08T06:28:18.870Z"
   },
   {
    "duration": 11,
    "start_time": "2021-12-08T06:28:22.929Z"
   },
   {
    "duration": 778,
    "start_time": "2021-12-08T17:34:29.628Z"
   },
   {
    "duration": 11,
    "start_time": "2021-12-08T17:34:30.408Z"
   },
   {
    "duration": 30,
    "start_time": "2021-12-08T17:34:30.421Z"
   },
   {
    "duration": 18,
    "start_time": "2021-12-08T17:34:30.453Z"
   },
   {
    "duration": 21,
    "start_time": "2021-12-08T17:34:30.472Z"
   },
   {
    "duration": 22,
    "start_time": "2021-12-08T17:34:30.495Z"
   },
   {
    "duration": 30,
    "start_time": "2021-12-08T17:34:30.519Z"
   },
   {
    "duration": 37,
    "start_time": "2021-12-08T17:34:30.551Z"
   },
   {
    "duration": 22,
    "start_time": "2021-12-08T17:34:30.591Z"
   },
   {
    "duration": 19,
    "start_time": "2021-12-08T17:34:30.615Z"
   },
   {
    "duration": 5,
    "start_time": "2021-12-08T17:34:30.636Z"
   },
   {
    "duration": 16,
    "start_time": "2021-12-08T17:34:30.642Z"
   },
   {
    "duration": 9,
    "start_time": "2021-12-08T17:34:30.660Z"
   },
   {
    "duration": 15,
    "start_time": "2021-12-08T17:34:30.671Z"
   },
   {
    "duration": 8,
    "start_time": "2021-12-08T17:34:30.689Z"
   },
   {
    "duration": 21,
    "start_time": "2021-12-08T17:34:30.699Z"
   },
   {
    "duration": 13,
    "start_time": "2021-12-08T17:34:30.722Z"
   },
   {
    "duration": 26,
    "start_time": "2021-12-08T17:34:30.737Z"
   },
   {
    "duration": 12,
    "start_time": "2021-12-08T17:34:30.765Z"
   },
   {
    "duration": 6,
    "start_time": "2021-12-08T17:34:30.779Z"
   },
   {
    "duration": 11,
    "start_time": "2021-12-08T17:34:30.787Z"
   },
   {
    "duration": 17,
    "start_time": "2021-12-08T17:34:30.800Z"
   },
   {
    "duration": 4704,
    "start_time": "2021-12-08T17:34:30.820Z"
   },
   {
    "duration": 17,
    "start_time": "2021-12-08T17:34:35.527Z"
   },
   {
    "duration": 5,
    "start_time": "2021-12-08T17:34:35.563Z"
   },
   {
    "duration": 6,
    "start_time": "2021-12-08T17:34:35.570Z"
   },
   {
    "duration": 9,
    "start_time": "2021-12-08T17:34:35.578Z"
   },
   {
    "duration": 14,
    "start_time": "2021-12-08T17:34:35.589Z"
   },
   {
    "duration": 21,
    "start_time": "2021-12-08T17:34:35.606Z"
   },
   {
    "duration": 41,
    "start_time": "2021-12-08T17:34:35.630Z"
   },
   {
    "duration": 23,
    "start_time": "2021-12-08T17:34:35.673Z"
   },
   {
    "duration": 67,
    "start_time": "2021-12-08T17:34:35.698Z"
   },
   {
    "duration": 35,
    "start_time": "2021-12-08T17:34:35.768Z"
   },
   {
    "duration": 17,
    "start_time": "2021-12-08T17:34:35.806Z"
   },
   {
    "duration": 44,
    "start_time": "2021-12-08T17:34:35.825Z"
   },
   {
    "duration": 12,
    "start_time": "2021-12-08T17:34:35.871Z"
   },
   {
    "duration": 29,
    "start_time": "2021-12-08T17:34:35.885Z"
   },
   {
    "duration": 11,
    "start_time": "2021-12-08T17:34:35.916Z"
   },
   {
    "duration": 51,
    "start_time": "2021-12-08T17:34:35.929Z"
   },
   {
    "duration": 12,
    "start_time": "2021-12-08T17:34:35.982Z"
   },
   {
    "duration": 4,
    "start_time": "2021-12-08T17:46:43.930Z"
   },
   {
    "duration": 958,
    "start_time": "2021-12-08T19:25:41.510Z"
   },
   {
    "duration": 16,
    "start_time": "2021-12-08T19:25:42.471Z"
   },
   {
    "duration": 26,
    "start_time": "2021-12-08T19:25:42.490Z"
   },
   {
    "duration": 5,
    "start_time": "2021-12-08T19:25:42.520Z"
   },
   {
    "duration": 16,
    "start_time": "2021-12-08T19:25:42.527Z"
   },
   {
    "duration": 36,
    "start_time": "2021-12-08T19:25:42.546Z"
   },
   {
    "duration": 42,
    "start_time": "2021-12-08T19:25:42.585Z"
   },
   {
    "duration": 6,
    "start_time": "2021-12-08T19:25:42.633Z"
   },
   {
    "duration": 20,
    "start_time": "2021-12-08T19:25:42.643Z"
   },
   {
    "duration": 62,
    "start_time": "2021-12-08T19:25:42.666Z"
   },
   {
    "duration": 9,
    "start_time": "2021-12-08T19:25:42.731Z"
   },
   {
    "duration": 7,
    "start_time": "2021-12-08T19:25:42.742Z"
   },
   {
    "duration": 9,
    "start_time": "2021-12-08T19:25:42.752Z"
   },
   {
    "duration": 57,
    "start_time": "2021-12-08T19:25:42.764Z"
   },
   {
    "duration": 11,
    "start_time": "2021-12-08T19:25:42.824Z"
   },
   {
    "duration": 25,
    "start_time": "2021-12-08T19:25:42.838Z"
   },
   {
    "duration": 28,
    "start_time": "2021-12-08T19:25:42.866Z"
   },
   {
    "duration": 39,
    "start_time": "2021-12-08T19:25:42.897Z"
   },
   {
    "duration": 12,
    "start_time": "2021-12-08T19:25:42.939Z"
   },
   {
    "duration": 15,
    "start_time": "2021-12-08T19:25:42.954Z"
   },
   {
    "duration": 28,
    "start_time": "2021-12-08T19:25:42.972Z"
   },
   {
    "duration": 19,
    "start_time": "2021-12-08T19:25:43.002Z"
   },
   {
    "duration": 6189,
    "start_time": "2021-12-08T19:25:43.028Z"
   },
   {
    "duration": 25,
    "start_time": "2021-12-08T19:25:49.221Z"
   },
   {
    "duration": 6,
    "start_time": "2021-12-08T19:25:49.248Z"
   },
   {
    "duration": 12,
    "start_time": "2021-12-08T19:25:49.257Z"
   },
   {
    "duration": 6,
    "start_time": "2021-12-08T19:25:49.272Z"
   },
   {
    "duration": 13,
    "start_time": "2021-12-08T19:25:49.317Z"
   },
   {
    "duration": 25,
    "start_time": "2021-12-08T19:25:49.332Z"
   },
   {
    "duration": 11,
    "start_time": "2021-12-08T19:25:49.359Z"
   },
   {
    "duration": 52,
    "start_time": "2021-12-08T19:25:49.373Z"
   },
   {
    "duration": 44,
    "start_time": "2021-12-08T19:25:49.428Z"
   },
   {
    "duration": 71,
    "start_time": "2021-12-08T19:25:49.474Z"
   },
   {
    "duration": 19,
    "start_time": "2021-12-08T19:25:49.548Z"
   },
   {
    "duration": 54,
    "start_time": "2021-12-08T19:25:49.569Z"
   },
   {
    "duration": 12,
    "start_time": "2021-12-08T19:25:49.626Z"
   },
   {
    "duration": 30,
    "start_time": "2021-12-08T19:25:49.641Z"
   },
   {
    "duration": 11,
    "start_time": "2021-12-08T19:25:49.674Z"
   },
   {
    "duration": 26,
    "start_time": "2021-12-08T19:25:49.718Z"
   },
   {
    "duration": 12,
    "start_time": "2021-12-08T19:25:49.747Z"
   },
   {
    "duration": 32,
    "start_time": "2021-12-08T19:31:09.723Z"
   },
   {
    "duration": 13,
    "start_time": "2021-12-08T19:33:57.212Z"
   },
   {
    "duration": 901,
    "start_time": "2021-12-09T06:38:13.947Z"
   },
   {
    "duration": 17,
    "start_time": "2021-12-09T06:38:19.478Z"
   },
   {
    "duration": 17,
    "start_time": "2021-12-09T06:40:03.303Z"
   },
   {
    "duration": 13,
    "start_time": "2021-12-09T06:40:10.260Z"
   },
   {
    "duration": 22,
    "start_time": "2021-12-09T06:42:33.596Z"
   },
   {
    "duration": 11,
    "start_time": "2021-12-09T06:45:11.982Z"
   },
   {
    "duration": 4,
    "start_time": "2021-12-09T06:45:50.299Z"
   },
   {
    "duration": 10,
    "start_time": "2021-12-09T06:45:53.354Z"
   },
   {
    "duration": 27,
    "start_time": "2021-12-09T06:46:01.777Z"
   },
   {
    "duration": 24,
    "start_time": "2021-12-09T06:46:08.821Z"
   },
   {
    "duration": 5,
    "start_time": "2021-12-09T06:46:39.302Z"
   },
   {
    "duration": 9,
    "start_time": "2021-12-09T06:46:44.283Z"
   },
   {
    "duration": 23,
    "start_time": "2021-12-09T06:46:54.230Z"
   },
   {
    "duration": 4,
    "start_time": "2021-12-09T06:47:19.608Z"
   },
   {
    "duration": 5004,
    "start_time": "2021-12-09T06:47:24.241Z"
   },
   {
    "duration": 4051,
    "start_time": "2021-12-09T06:48:45.714Z"
   },
   {
    "duration": 478,
    "start_time": "2021-12-09T06:49:22.976Z"
   },
   {
    "duration": 4366,
    "start_time": "2021-12-09T06:50:39.564Z"
   },
   {
    "duration": 6,
    "start_time": "2021-12-09T06:51:11.997Z"
   },
   {
    "duration": 3969,
    "start_time": "2021-12-09T06:51:25.529Z"
   },
   {
    "duration": 4178,
    "start_time": "2021-12-09T06:54:39.078Z"
   },
   {
    "duration": 4400,
    "start_time": "2021-12-09T06:55:58.564Z"
   },
   {
    "duration": 3971,
    "start_time": "2021-12-09T06:56:09.308Z"
   },
   {
    "duration": 376,
    "start_time": "2021-12-09T06:56:33.688Z"
   },
   {
    "duration": 62,
    "start_time": "2021-12-09T06:58:14.907Z"
   },
   {
    "duration": 17,
    "start_time": "2021-12-09T06:58:18.561Z"
   },
   {
    "duration": 8,
    "start_time": "2021-12-09T06:58:35.430Z"
   },
   {
    "duration": 15,
    "start_time": "2021-12-09T06:58:41.036Z"
   },
   {
    "duration": 13,
    "start_time": "2021-12-09T06:58:46.062Z"
   },
   {
    "duration": 5,
    "start_time": "2021-12-09T06:59:51.583Z"
   },
   {
    "duration": 5,
    "start_time": "2021-12-09T07:00:00.857Z"
   },
   {
    "duration": 11,
    "start_time": "2021-12-09T07:00:05.595Z"
   },
   {
    "duration": 24,
    "start_time": "2021-12-09T07:00:12.841Z"
   },
   {
    "duration": 14,
    "start_time": "2021-12-09T07:00:25.995Z"
   },
   {
    "duration": 5,
    "start_time": "2021-12-09T07:00:34.179Z"
   },
   {
    "duration": 18,
    "start_time": "2021-12-09T07:00:38.088Z"
   },
   {
    "duration": 37,
    "start_time": "2021-12-09T07:00:45.662Z"
   },
   {
    "duration": 26,
    "start_time": "2021-12-09T07:00:58.630Z"
   },
   {
    "duration": 29,
    "start_time": "2021-12-09T07:01:21.893Z"
   },
   {
    "duration": 27,
    "start_time": "2021-12-09T07:01:58.408Z"
   },
   {
    "duration": 8,
    "start_time": "2021-12-09T07:02:15.543Z"
   },
   {
    "duration": 6,
    "start_time": "2021-12-09T07:02:19.115Z"
   },
   {
    "duration": 7,
    "start_time": "2021-12-09T07:02:20.010Z"
   },
   {
    "duration": 7,
    "start_time": "2021-12-09T07:02:20.894Z"
   },
   {
    "duration": 8,
    "start_time": "2021-12-09T07:02:21.936Z"
   },
   {
    "duration": 18,
    "start_time": "2021-12-09T07:02:34.356Z"
   },
   {
    "duration": 10,
    "start_time": "2021-12-09T07:02:35.254Z"
   },
   {
    "duration": 16,
    "start_time": "2021-12-09T07:02:36.069Z"
   },
   {
    "duration": 8,
    "start_time": "2021-12-09T07:02:36.724Z"
   },
   {
    "duration": 6,
    "start_time": "2021-12-09T07:02:40.221Z"
   },
   {
    "duration": 7,
    "start_time": "2021-12-09T07:02:40.845Z"
   },
   {
    "duration": 392,
    "start_time": "2021-12-09T07:02:58.707Z"
   },
   {
    "duration": 10,
    "start_time": "2021-12-09T07:03:13.210Z"
   },
   {
    "duration": 12,
    "start_time": "2021-12-09T07:03:46.739Z"
   },
   {
    "duration": 5536,
    "start_time": "2021-12-09T07:03:47.992Z"
   },
   {
    "duration": 21,
    "start_time": "2021-12-09T07:03:56.671Z"
   },
   {
    "duration": 613,
    "start_time": "2021-12-09T15:18:01.046Z"
   },
   {
    "duration": 11,
    "start_time": "2021-12-09T15:18:05.364Z"
   },
   {
    "duration": 10,
    "start_time": "2021-12-09T15:18:12.365Z"
   },
   {
    "duration": 8,
    "start_time": "2021-12-09T15:18:18.573Z"
   },
   {
    "duration": 13,
    "start_time": "2021-12-09T15:18:24.611Z"
   },
   {
    "duration": 3,
    "start_time": "2021-12-09T15:18:34.489Z"
   },
   {
    "duration": 3,
    "start_time": "2021-12-09T15:18:36.177Z"
   },
   {
    "duration": 6,
    "start_time": "2021-12-09T15:18:37.440Z"
   },
   {
    "duration": 15,
    "start_time": "2021-12-09T15:18:43.521Z"
   },
   {
    "duration": 12,
    "start_time": "2021-12-09T15:18:54.489Z"
   },
   {
    "duration": 4,
    "start_time": "2021-12-09T15:19:04.509Z"
   },
   {
    "duration": 12,
    "start_time": "2021-12-09T15:19:08.687Z"
   },
   {
    "duration": 10,
    "start_time": "2021-12-09T15:19:26.039Z"
   },
   {
    "duration": 14,
    "start_time": "2021-12-09T15:19:31.204Z"
   },
   {
    "duration": 17,
    "start_time": "2021-12-09T15:19:32.773Z"
   },
   {
    "duration": 5,
    "start_time": "2021-12-09T15:19:34.155Z"
   },
   {
    "duration": 4,
    "start_time": "2021-12-09T15:19:40.561Z"
   },
   {
    "duration": 5,
    "start_time": "2021-12-09T15:19:41.731Z"
   },
   {
    "duration": 5,
    "start_time": "2021-12-09T15:19:42.752Z"
   },
   {
    "duration": 5,
    "start_time": "2021-12-09T15:19:44.044Z"
   },
   {
    "duration": 12,
    "start_time": "2021-12-09T15:19:50.898Z"
   },
   {
    "duration": 7,
    "start_time": "2021-12-09T15:19:52.033Z"
   },
   {
    "duration": 12,
    "start_time": "2021-12-09T15:19:53.467Z"
   },
   {
    "duration": 6,
    "start_time": "2021-12-09T15:19:55.550Z"
   },
   {
    "duration": 4,
    "start_time": "2021-12-09T15:20:02.560Z"
   },
   {
    "duration": 5,
    "start_time": "2021-12-09T15:20:03.418Z"
   },
   {
    "duration": 7,
    "start_time": "2021-12-09T15:20:12.865Z"
   },
   {
    "duration": 7,
    "start_time": "2021-12-09T15:20:20.066Z"
   },
   {
    "duration": 4029,
    "start_time": "2021-12-09T15:20:25.894Z"
   },
   {
    "duration": 12,
    "start_time": "2021-12-09T15:20:29.925Z"
   },
   {
    "duration": 4,
    "start_time": "2021-12-09T15:20:35.861Z"
   },
   {
    "duration": 4,
    "start_time": "2021-12-09T15:20:38.548Z"
   },
   {
    "duration": 4,
    "start_time": "2021-12-09T15:20:41.423Z"
   },
   {
    "duration": 5,
    "start_time": "2021-12-09T15:20:48.436Z"
   },
   {
    "duration": 8,
    "start_time": "2021-12-09T15:21:00.766Z"
   },
   {
    "duration": 7,
    "start_time": "2021-12-09T15:21:08.004Z"
   },
   {
    "duration": 12,
    "start_time": "2021-12-09T15:21:12.104Z"
   },
   {
    "duration": 8,
    "start_time": "2021-12-09T15:21:19.708Z"
   },
   {
    "duration": 13,
    "start_time": "2021-12-09T15:21:23.137Z"
   },
   {
    "duration": 35,
    "start_time": "2021-12-09T15:21:29.489Z"
   },
   {
    "duration": 21,
    "start_time": "2021-12-09T15:21:44.649Z"
   },
   {
    "duration": 8,
    "start_time": "2021-12-09T15:21:47.730Z"
   },
   {
    "duration": 16,
    "start_time": "2021-12-09T15:21:53.187Z"
   },
   {
    "duration": 8,
    "start_time": "2021-12-09T15:22:19.100Z"
   },
   {
    "duration": 5,
    "start_time": "2021-12-09T15:24:53.425Z"
   },
   {
    "duration": 4,
    "start_time": "2021-12-09T15:25:22.505Z"
   },
   {
    "duration": 6,
    "start_time": "2021-12-09T15:26:16.644Z"
   },
   {
    "duration": 4,
    "start_time": "2021-12-09T16:22:48.948Z"
   },
   {
    "duration": 4,
    "start_time": "2021-12-09T16:27:53.488Z"
   },
   {
    "duration": 4,
    "start_time": "2021-12-09T16:27:58.882Z"
   },
   {
    "duration": 3,
    "start_time": "2021-12-09T16:28:04.157Z"
   },
   {
    "duration": 5,
    "start_time": "2021-12-09T16:28:06.596Z"
   },
   {
    "duration": 23,
    "start_time": "2021-12-09T16:28:25.047Z"
   },
   {
    "duration": 5,
    "start_time": "2021-12-09T16:28:25.926Z"
   },
   {
    "duration": 4,
    "start_time": "2021-12-09T16:28:27.035Z"
   },
   {
    "duration": 4,
    "start_time": "2021-12-09T16:28:28.373Z"
   },
   {
    "duration": 5,
    "start_time": "2021-12-09T16:28:29.594Z"
   },
   {
    "duration": 6,
    "start_time": "2021-12-09T16:28:31.295Z"
   },
   {
    "duration": 13,
    "start_time": "2021-12-09T16:28:32.194Z"
   },
   {
    "duration": 6,
    "start_time": "2021-12-09T16:28:34.271Z"
   },
   {
    "duration": 11,
    "start_time": "2021-12-09T16:28:35.965Z"
   },
   {
    "duration": 6,
    "start_time": "2021-12-09T16:28:38.094Z"
   },
   {
    "duration": 5,
    "start_time": "2021-12-09T16:28:43.881Z"
   },
   {
    "duration": 5,
    "start_time": "2021-12-09T16:28:44.924Z"
   },
   {
    "duration": 18,
    "start_time": "2021-12-09T16:28:46.847Z"
   },
   {
    "duration": 23,
    "start_time": "2021-12-09T16:28:51.951Z"
   },
   {
    "duration": 7,
    "start_time": "2021-12-09T16:33:50.169Z"
   },
   {
    "duration": 18,
    "start_time": "2021-12-09T16:33:57.470Z"
   },
   {
    "duration": 3947,
    "start_time": "2021-12-09T16:34:00.058Z"
   },
   {
    "duration": 15,
    "start_time": "2021-12-09T16:34:06.414Z"
   },
   {
    "duration": 4,
    "start_time": "2021-12-09T16:34:12.533Z"
   },
   {
    "duration": 4,
    "start_time": "2021-12-09T16:34:14.953Z"
   },
   {
    "duration": 5,
    "start_time": "2021-12-09T16:34:19.519Z"
   },
   {
    "duration": 5,
    "start_time": "2021-12-09T16:34:22.795Z"
   },
   {
    "duration": 13,
    "start_time": "2021-12-09T16:46:32.040Z"
   },
   {
    "duration": 7,
    "start_time": "2021-12-09T16:46:43.416Z"
   },
   {
    "duration": 7,
    "start_time": "2021-12-09T16:46:48.299Z"
   },
   {
    "duration": 14,
    "start_time": "2021-12-09T16:46:53.138Z"
   },
   {
    "duration": 6,
    "start_time": "2021-12-09T16:46:58.107Z"
   },
   {
    "duration": 12,
    "start_time": "2021-12-09T16:47:04.960Z"
   },
   {
    "duration": 24,
    "start_time": "2021-12-09T16:47:10.154Z"
   },
   {
    "duration": 18,
    "start_time": "2021-12-09T16:47:25.880Z"
   },
   {
    "duration": 8,
    "start_time": "2021-12-09T16:47:28.810Z"
   },
   {
    "duration": 16,
    "start_time": "2021-12-09T16:47:31.514Z"
   },
   {
    "duration": 11,
    "start_time": "2021-12-09T16:47:54.548Z"
   },
   {
    "duration": 5,
    "start_time": "2021-12-09T16:49:40.404Z"
   },
   {
    "duration": 16,
    "start_time": "2021-12-09T16:56:26.236Z"
   },
   {
    "duration": 16,
    "start_time": "2021-12-09T16:56:29.186Z"
   },
   {
    "duration": 16,
    "start_time": "2021-12-09T16:56:34.579Z"
   },
   {
    "duration": 8,
    "start_time": "2021-12-09T16:56:38.653Z"
   },
   {
    "duration": 6,
    "start_time": "2021-12-09T17:43:50.454Z"
   },
   {
    "duration": 85,
    "start_time": "2021-12-09T18:09:36.762Z"
   },
   {
    "duration": 14,
    "start_time": "2021-12-09T18:09:51.212Z"
   },
   {
    "duration": 6164,
    "start_time": "2021-12-09T18:10:47.605Z"
   },
   {
    "duration": 79,
    "start_time": "2021-12-09T18:12:23.145Z"
   },
   {
    "duration": 14,
    "start_time": "2021-12-09T18:13:04.026Z"
   },
   {
    "duration": 15,
    "start_time": "2021-12-09T18:14:10.129Z"
   },
   {
    "duration": 597,
    "start_time": "2021-12-09T22:53:09.019Z"
   },
   {
    "duration": 11,
    "start_time": "2021-12-09T22:53:09.617Z"
   },
   {
    "duration": 11,
    "start_time": "2021-12-09T22:53:09.629Z"
   },
   {
    "duration": 10,
    "start_time": "2021-12-09T22:53:09.641Z"
   },
   {
    "duration": 3,
    "start_time": "2021-12-09T22:53:09.653Z"
   },
   {
    "duration": 38,
    "start_time": "2021-12-09T22:53:09.657Z"
   },
   {
    "duration": 3,
    "start_time": "2021-12-09T22:53:09.697Z"
   },
   {
    "duration": 6,
    "start_time": "2021-12-09T22:53:09.702Z"
   },
   {
    "duration": 9,
    "start_time": "2021-12-09T22:53:09.709Z"
   },
   {
    "duration": 15,
    "start_time": "2021-12-09T22:53:09.720Z"
   },
   {
    "duration": 9,
    "start_time": "2021-12-09T22:53:09.737Z"
   },
   {
    "duration": 3,
    "start_time": "2021-12-09T22:53:09.748Z"
   },
   {
    "duration": 46,
    "start_time": "2021-12-09T22:53:09.752Z"
   },
   {
    "duration": 13,
    "start_time": "2021-12-09T22:53:09.799Z"
   },
   {
    "duration": 4,
    "start_time": "2021-12-09T22:53:09.813Z"
   },
   {
    "duration": 4,
    "start_time": "2021-12-09T22:53:09.818Z"
   },
   {
    "duration": 5,
    "start_time": "2021-12-09T22:53:09.824Z"
   },
   {
    "duration": 7,
    "start_time": "2021-12-09T22:53:09.830Z"
   },
   {
    "duration": 5,
    "start_time": "2021-12-09T22:53:09.838Z"
   },
   {
    "duration": 5,
    "start_time": "2021-12-09T22:53:09.844Z"
   },
   {
    "duration": 42,
    "start_time": "2021-12-09T22:53:09.850Z"
   },
   {
    "duration": 5,
    "start_time": "2021-12-09T22:53:09.893Z"
   },
   {
    "duration": 5,
    "start_time": "2021-12-09T22:53:09.901Z"
   },
   {
    "duration": 6,
    "start_time": "2021-12-09T22:53:09.907Z"
   },
   {
    "duration": 13,
    "start_time": "2021-12-09T22:53:09.914Z"
   },
   {
    "duration": 9,
    "start_time": "2021-12-09T22:53:09.928Z"
   },
   {
    "duration": 12,
    "start_time": "2021-12-09T22:53:09.938Z"
   },
   {
    "duration": 40,
    "start_time": "2021-12-09T22:53:09.952Z"
   },
   {
    "duration": 5,
    "start_time": "2021-12-09T22:53:09.994Z"
   },
   {
    "duration": 7,
    "start_time": "2021-12-09T22:53:10.000Z"
   },
   {
    "duration": 19,
    "start_time": "2021-12-09T22:53:10.008Z"
   },
   {
    "duration": 20,
    "start_time": "2021-12-09T22:53:10.028Z"
   },
   {
    "duration": 7,
    "start_time": "2021-12-09T22:53:10.050Z"
   },
   {
    "duration": 35,
    "start_time": "2021-12-09T22:53:10.059Z"
   },
   {
    "duration": 3782,
    "start_time": "2021-12-09T22:53:10.096Z"
   },
   {
    "duration": 22,
    "start_time": "2021-12-09T22:53:13.880Z"
   },
   {
    "duration": 5,
    "start_time": "2021-12-09T22:53:13.904Z"
   },
   {
    "duration": 6,
    "start_time": "2021-12-09T22:53:13.911Z"
   },
   {
    "duration": 5,
    "start_time": "2021-12-09T22:53:13.918Z"
   },
   {
    "duration": 5,
    "start_time": "2021-12-09T22:53:13.924Z"
   },
   {
    "duration": 8,
    "start_time": "2021-12-09T22:53:13.930Z"
   },
   {
    "duration": 9,
    "start_time": "2021-12-09T22:53:13.940Z"
   },
   {
    "duration": 47,
    "start_time": "2021-12-09T22:53:13.951Z"
   },
   {
    "duration": 8,
    "start_time": "2021-12-09T22:53:14.000Z"
   },
   {
    "duration": 15,
    "start_time": "2021-12-09T22:53:14.009Z"
   },
   {
    "duration": 25,
    "start_time": "2021-12-09T22:53:14.026Z"
   },
   {
    "duration": 48,
    "start_time": "2021-12-09T22:53:14.053Z"
   },
   {
    "duration": 8,
    "start_time": "2021-12-09T22:53:14.102Z"
   },
   {
    "duration": 19,
    "start_time": "2021-12-09T22:53:14.112Z"
   },
   {
    "duration": 8,
    "start_time": "2021-12-09T22:53:14.132Z"
   },
   {
    "duration": 14,
    "start_time": "2021-12-09T22:53:14.142Z"
   },
   {
    "duration": 43,
    "start_time": "2021-12-09T22:53:14.157Z"
   },
   {
    "duration": 8,
    "start_time": "2021-12-09T22:53:14.202Z"
   },
   {
    "duration": 20,
    "start_time": "2021-12-09T22:53:14.212Z"
   },
   {
    "duration": 7,
    "start_time": "2021-12-09T22:53:14.233Z"
   },
   {
    "duration": 16,
    "start_time": "2021-12-09T22:53:14.242Z"
   },
   {
    "duration": 34,
    "start_time": "2021-12-09T22:53:14.259Z"
   },
   {
    "duration": 18,
    "start_time": "2021-12-09T22:53:14.294Z"
   },
   {
    "duration": 8,
    "start_time": "2021-12-09T22:53:14.314Z"
   },
   {
    "duration": 4,
    "start_time": "2021-12-09T22:53:37.990Z"
   },
   {
    "duration": 32,
    "start_time": "2021-12-09T22:59:54.487Z"
   },
   {
    "duration": 256,
    "start_time": "2021-12-09T23:05:07.582Z"
   },
   {
    "duration": 6,
    "start_time": "2021-12-09T23:05:18.914Z"
   }
  ],
  "kernelspec": {
   "display_name": "Python 3",
   "language": "python",
   "name": "python3"
  },
  "language_info": {
   "codemirror_mode": {
    "name": "ipython",
    "version": 3
   },
   "file_extension": ".py",
   "mimetype": "text/x-python",
   "name": "python",
   "nbconvert_exporter": "python",
   "pygments_lexer": "ipython3",
   "version": "3.8.8"
  },
  "toc": {
   "base_numbering": 1,
   "nav_menu": {},
   "number_sections": true,
   "sideBar": true,
   "skip_h1_title": true,
   "title_cell": "Table of Contents",
   "title_sidebar": "Contents",
   "toc_cell": false,
   "toc_position": {},
   "toc_section_display": true,
   "toc_window_display": false
  }
 },
 "nbformat": 4,
 "nbformat_minor": 2
}
