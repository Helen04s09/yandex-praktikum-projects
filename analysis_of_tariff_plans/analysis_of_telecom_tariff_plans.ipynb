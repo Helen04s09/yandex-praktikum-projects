{
 "cells": [
  {
   "cell_type": "markdown",
   "metadata": {},
   "source": [
    "## 1. Изучение данных из файла"
   ]
  },
  {
   "cell_type": "markdown",
   "metadata": {},
   "source": [
    "Изучим данные, предоставленные сервисом для проекта."
   ]
  },
  {
   "cell_type": "markdown",
   "metadata": {},
   "source": [
    "### Импорт библиотек"
   ]
  },
  {
   "cell_type": "code",
   "execution_count": 1,
   "metadata": {},
   "outputs": [],
   "source": [
    "import pandas as pd\n",
    "import matplotlib.pyplot as plt\n",
    "from scipy import stats as st\n",
    "import numpy as np\n",
    "import seaborn as sns\n",
    "\n"
   ]
  },
  {
   "cell_type": "code",
   "execution_count": 2,
   "metadata": {},
   "outputs": [],
   "source": [
    "data_calls = pd.read_csv('...csv')\n",
    "data_internet = pd.read_csv('...csv')\n",
    "data_messages = pd.read_csv('...csv')\n",
    "data_tariffs = pd.read_csv('...csv')\n",
    "data_users = pd.read_csv('...csv')\n"
   ]
  },
  {
   "cell_type": "markdown",
   "metadata": {},
   "source": [
    "Общая информацию о данных в таблице `data_calls`:"
   ]
  },
  {
   "cell_type": "code",
   "execution_count": 3,
   "metadata": {},
   "outputs": [
    {
     "name": "stdout",
     "output_type": "stream",
     "text": [
      "<class 'pandas.core.frame.DataFrame'>\n",
      "RangeIndex: 202607 entries, 0 to 202606\n",
      "Data columns (total 4 columns):\n",
      "id           202607 non-null object\n",
      "call_date    202607 non-null object\n",
      "duration     202607 non-null float64\n",
      "user_id      202607 non-null int64\n",
      "dtypes: float64(1), int64(1), object(2)\n",
      "memory usage: 6.2+ MB\n"
     ]
    }
   ],
   "source": [
    "data_calls.info()"
   ]
  },
  {
   "cell_type": "markdown",
   "metadata": {},
   "source": [
    "Выведем на экран первые десять строк таблицы:"
   ]
  },
  {
   "cell_type": "code",
   "execution_count": 4,
   "metadata": {},
   "outputs": [
    {
     "data": {
      "text/html": [
       "<div>\n",
       "<style scoped>\n",
       "    .dataframe tbody tr th:only-of-type {\n",
       "        vertical-align: middle;\n",
       "    }\n",
       "\n",
       "    .dataframe tbody tr th {\n",
       "        vertical-align: top;\n",
       "    }\n",
       "\n",
       "    .dataframe thead th {\n",
       "        text-align: right;\n",
       "    }\n",
       "</style>\n",
       "<table border=\"1\" class=\"dataframe\">\n",
       "  <thead>\n",
       "    <tr style=\"text-align: right;\">\n",
       "      <th></th>\n",
       "      <th>id</th>\n",
       "      <th>call_date</th>\n",
       "      <th>duration</th>\n",
       "      <th>user_id</th>\n",
       "    </tr>\n",
       "  </thead>\n",
       "  <tbody>\n",
       "    <tr>\n",
       "      <td>0</td>\n",
       "      <td>1000_0</td>\n",
       "      <td>2018-07-25</td>\n",
       "      <td>0.00</td>\n",
       "      <td>1000</td>\n",
       "    </tr>\n",
       "    <tr>\n",
       "      <td>1</td>\n",
       "      <td>1000_1</td>\n",
       "      <td>2018-08-17</td>\n",
       "      <td>0.00</td>\n",
       "      <td>1000</td>\n",
       "    </tr>\n",
       "    <tr>\n",
       "      <td>2</td>\n",
       "      <td>1000_2</td>\n",
       "      <td>2018-06-11</td>\n",
       "      <td>2.85</td>\n",
       "      <td>1000</td>\n",
       "    </tr>\n",
       "    <tr>\n",
       "      <td>3</td>\n",
       "      <td>1000_3</td>\n",
       "      <td>2018-09-21</td>\n",
       "      <td>13.80</td>\n",
       "      <td>1000</td>\n",
       "    </tr>\n",
       "    <tr>\n",
       "      <td>4</td>\n",
       "      <td>1000_4</td>\n",
       "      <td>2018-12-15</td>\n",
       "      <td>5.18</td>\n",
       "      <td>1000</td>\n",
       "    </tr>\n",
       "    <tr>\n",
       "      <td>5</td>\n",
       "      <td>1000_5</td>\n",
       "      <td>2018-11-02</td>\n",
       "      <td>0.00</td>\n",
       "      <td>1000</td>\n",
       "    </tr>\n",
       "    <tr>\n",
       "      <td>6</td>\n",
       "      <td>1000_6</td>\n",
       "      <td>2018-10-18</td>\n",
       "      <td>0.00</td>\n",
       "      <td>1000</td>\n",
       "    </tr>\n",
       "    <tr>\n",
       "      <td>7</td>\n",
       "      <td>1000_7</td>\n",
       "      <td>2018-08-22</td>\n",
       "      <td>18.31</td>\n",
       "      <td>1000</td>\n",
       "    </tr>\n",
       "    <tr>\n",
       "      <td>8</td>\n",
       "      <td>1000_8</td>\n",
       "      <td>2018-09-15</td>\n",
       "      <td>18.44</td>\n",
       "      <td>1000</td>\n",
       "    </tr>\n",
       "    <tr>\n",
       "      <td>9</td>\n",
       "      <td>1000_9</td>\n",
       "      <td>2018-08-15</td>\n",
       "      <td>0.00</td>\n",
       "      <td>1000</td>\n",
       "    </tr>\n",
       "  </tbody>\n",
       "</table>\n",
       "</div>"
      ],
      "text/plain": [
       "       id   call_date  duration  user_id\n",
       "0  1000_0  2018-07-25      0.00     1000\n",
       "1  1000_1  2018-08-17      0.00     1000\n",
       "2  1000_2  2018-06-11      2.85     1000\n",
       "3  1000_3  2018-09-21     13.80     1000\n",
       "4  1000_4  2018-12-15      5.18     1000\n",
       "5  1000_5  2018-11-02      0.00     1000\n",
       "6  1000_6  2018-10-18      0.00     1000\n",
       "7  1000_7  2018-08-22     18.31     1000\n",
       "8  1000_8  2018-09-15     18.44     1000\n",
       "9  1000_9  2018-08-15      0.00     1000"
      ]
     },
     "execution_count": 4,
     "metadata": {},
     "output_type": "execute_result"
    }
   ],
   "source": [
    "data_calls.head(10)"
   ]
  },
  {
   "cell_type": "code",
   "execution_count": 5,
   "metadata": {},
   "outputs": [
    {
     "data": {
      "text/plain": [
       "id           0\n",
       "call_date    0\n",
       "duration     0\n",
       "user_id      0\n",
       "dtype: int64"
      ]
     },
     "execution_count": 5,
     "metadata": {},
     "output_type": "execute_result"
    }
   ],
   "source": [
    "#для определения пропущенных значений используем метод isna()\n",
    "data_calls.isna().sum()"
   ]
  },
  {
   "cell_type": "markdown",
   "metadata": {},
   "source": [
    "* Вывод:\n",
    "* Данные содержатся в 4 столбцах и размещены на 202607 строках. Таблица содержит три типа данных(вещественный, целочисленный, строковый). Названия столбцов написаны согласно правилам хорошего стиля: в змеином регистре,строчными буквами, без дополнительных пробелов. Пропущенных значений нет."
   ]
  },
  {
   "cell_type": "markdown",
   "metadata": {},
   "source": [
    "Общая информацию о данных в таблице `data_internet`:"
   ]
  },
  {
   "cell_type": "code",
   "execution_count": 6,
   "metadata": {},
   "outputs": [
    {
     "name": "stdout",
     "output_type": "stream",
     "text": [
      "<class 'pandas.core.frame.DataFrame'>\n",
      "RangeIndex: 149396 entries, 0 to 149395\n",
      "Data columns (total 5 columns):\n",
      "Unnamed: 0      149396 non-null int64\n",
      "id              149396 non-null object\n",
      "mb_used         149396 non-null float64\n",
      "session_date    149396 non-null object\n",
      "user_id         149396 non-null int64\n",
      "dtypes: float64(1), int64(2), object(2)\n",
      "memory usage: 5.7+ MB\n"
     ]
    }
   ],
   "source": [
    "data_internet.info()"
   ]
  },
  {
   "cell_type": "markdown",
   "metadata": {},
   "source": [
    "Выведем на экран первые пять строк таблицы:"
   ]
  },
  {
   "cell_type": "code",
   "execution_count": 7,
   "metadata": {},
   "outputs": [
    {
     "data": {
      "text/html": [
       "<div>\n",
       "<style scoped>\n",
       "    .dataframe tbody tr th:only-of-type {\n",
       "        vertical-align: middle;\n",
       "    }\n",
       "\n",
       "    .dataframe tbody tr th {\n",
       "        vertical-align: top;\n",
       "    }\n",
       "\n",
       "    .dataframe thead th {\n",
       "        text-align: right;\n",
       "    }\n",
       "</style>\n",
       "<table border=\"1\" class=\"dataframe\">\n",
       "  <thead>\n",
       "    <tr style=\"text-align: right;\">\n",
       "      <th></th>\n",
       "      <th>Unnamed: 0</th>\n",
       "      <th>id</th>\n",
       "      <th>mb_used</th>\n",
       "      <th>session_date</th>\n",
       "      <th>user_id</th>\n",
       "    </tr>\n",
       "  </thead>\n",
       "  <tbody>\n",
       "    <tr>\n",
       "      <td>0</td>\n",
       "      <td>0</td>\n",
       "      <td>1000_0</td>\n",
       "      <td>112.95</td>\n",
       "      <td>2018-11-25</td>\n",
       "      <td>1000</td>\n",
       "    </tr>\n",
       "    <tr>\n",
       "      <td>1</td>\n",
       "      <td>1</td>\n",
       "      <td>1000_1</td>\n",
       "      <td>1052.81</td>\n",
       "      <td>2018-09-07</td>\n",
       "      <td>1000</td>\n",
       "    </tr>\n",
       "    <tr>\n",
       "      <td>2</td>\n",
       "      <td>2</td>\n",
       "      <td>1000_2</td>\n",
       "      <td>1197.26</td>\n",
       "      <td>2018-06-25</td>\n",
       "      <td>1000</td>\n",
       "    </tr>\n",
       "    <tr>\n",
       "      <td>3</td>\n",
       "      <td>3</td>\n",
       "      <td>1000_3</td>\n",
       "      <td>550.27</td>\n",
       "      <td>2018-08-22</td>\n",
       "      <td>1000</td>\n",
       "    </tr>\n",
       "    <tr>\n",
       "      <td>4</td>\n",
       "      <td>4</td>\n",
       "      <td>1000_4</td>\n",
       "      <td>302.56</td>\n",
       "      <td>2018-09-24</td>\n",
       "      <td>1000</td>\n",
       "    </tr>\n",
       "  </tbody>\n",
       "</table>\n",
       "</div>"
      ],
      "text/plain": [
       "   Unnamed: 0      id  mb_used session_date  user_id\n",
       "0           0  1000_0   112.95   2018-11-25     1000\n",
       "1           1  1000_1  1052.81   2018-09-07     1000\n",
       "2           2  1000_2  1197.26   2018-06-25     1000\n",
       "3           3  1000_3   550.27   2018-08-22     1000\n",
       "4           4  1000_4   302.56   2018-09-24     1000"
      ]
     },
     "execution_count": 7,
     "metadata": {},
     "output_type": "execute_result"
    }
   ],
   "source": [
    "data_internet.head()"
   ]
  },
  {
   "cell_type": "code",
   "execution_count": 8,
   "metadata": {},
   "outputs": [
    {
     "data": {
      "text/plain": [
       "Unnamed: 0      0\n",
       "id              0\n",
       "mb_used         0\n",
       "session_date    0\n",
       "user_id         0\n",
       "dtype: int64"
      ]
     },
     "execution_count": 8,
     "metadata": {},
     "output_type": "execute_result"
    }
   ],
   "source": [
    "#для определения пропущенных значений используем метод isna()\n",
    "data_internet.isna().sum()"
   ]
  },
  {
   "cell_type": "code",
   "execution_count": 9,
   "metadata": {},
   "outputs": [],
   "source": [
    "#удалим столбец Unnamed: 0, дублирующий индексы\n",
    "data_internet = data_internet.drop(['Unnamed: 0'], axis=1)"
   ]
  },
  {
   "cell_type": "markdown",
   "metadata": {},
   "source": [
    "Выведем на экран первые пять строк таблицы:"
   ]
  },
  {
   "cell_type": "code",
   "execution_count": 10,
   "metadata": {},
   "outputs": [
    {
     "data": {
      "text/html": [
       "<div>\n",
       "<style scoped>\n",
       "    .dataframe tbody tr th:only-of-type {\n",
       "        vertical-align: middle;\n",
       "    }\n",
       "\n",
       "    .dataframe tbody tr th {\n",
       "        vertical-align: top;\n",
       "    }\n",
       "\n",
       "    .dataframe thead th {\n",
       "        text-align: right;\n",
       "    }\n",
       "</style>\n",
       "<table border=\"1\" class=\"dataframe\">\n",
       "  <thead>\n",
       "    <tr style=\"text-align: right;\">\n",
       "      <th></th>\n",
       "      <th>id</th>\n",
       "      <th>mb_used</th>\n",
       "      <th>session_date</th>\n",
       "      <th>user_id</th>\n",
       "    </tr>\n",
       "  </thead>\n",
       "  <tbody>\n",
       "    <tr>\n",
       "      <td>0</td>\n",
       "      <td>1000_0</td>\n",
       "      <td>112.95</td>\n",
       "      <td>2018-11-25</td>\n",
       "      <td>1000</td>\n",
       "    </tr>\n",
       "    <tr>\n",
       "      <td>1</td>\n",
       "      <td>1000_1</td>\n",
       "      <td>1052.81</td>\n",
       "      <td>2018-09-07</td>\n",
       "      <td>1000</td>\n",
       "    </tr>\n",
       "    <tr>\n",
       "      <td>2</td>\n",
       "      <td>1000_2</td>\n",
       "      <td>1197.26</td>\n",
       "      <td>2018-06-25</td>\n",
       "      <td>1000</td>\n",
       "    </tr>\n",
       "    <tr>\n",
       "      <td>3</td>\n",
       "      <td>1000_3</td>\n",
       "      <td>550.27</td>\n",
       "      <td>2018-08-22</td>\n",
       "      <td>1000</td>\n",
       "    </tr>\n",
       "    <tr>\n",
       "      <td>4</td>\n",
       "      <td>1000_4</td>\n",
       "      <td>302.56</td>\n",
       "      <td>2018-09-24</td>\n",
       "      <td>1000</td>\n",
       "    </tr>\n",
       "  </tbody>\n",
       "</table>\n",
       "</div>"
      ],
      "text/plain": [
       "       id  mb_used session_date  user_id\n",
       "0  1000_0   112.95   2018-11-25     1000\n",
       "1  1000_1  1052.81   2018-09-07     1000\n",
       "2  1000_2  1197.26   2018-06-25     1000\n",
       "3  1000_3   550.27   2018-08-22     1000\n",
       "4  1000_4   302.56   2018-09-24     1000"
      ]
     },
     "execution_count": 10,
     "metadata": {},
     "output_type": "execute_result"
    }
   ],
   "source": [
    "data_internet.head()"
   ]
  },
  {
   "cell_type": "markdown",
   "metadata": {},
   "source": [
    "* Вывод:\n",
    "* Данные содержатся в 4 столбцах и размещены на 149396 строках. Таблица содержит три типа данных(вещественный, целочисленный, строковый). Названия столбцов написаны согласно правилам хорошего стиля: в змеином регистре,строчными буквами, без дополнительных пробелов. Пропущенных значений нет."
   ]
  },
  {
   "cell_type": "markdown",
   "metadata": {},
   "source": [
    "Общая информацию о данных в таблице `data_messages`:"
   ]
  },
  {
   "cell_type": "code",
   "execution_count": 11,
   "metadata": {},
   "outputs": [
    {
     "name": "stdout",
     "output_type": "stream",
     "text": [
      "<class 'pandas.core.frame.DataFrame'>\n",
      "RangeIndex: 123036 entries, 0 to 123035\n",
      "Data columns (total 3 columns):\n",
      "id              123036 non-null object\n",
      "message_date    123036 non-null object\n",
      "user_id         123036 non-null int64\n",
      "dtypes: int64(1), object(2)\n",
      "memory usage: 2.8+ MB\n"
     ]
    }
   ],
   "source": [
    "data_messages.info()"
   ]
  },
  {
   "cell_type": "markdown",
   "metadata": {},
   "source": [
    "Выведем на экран первые пять строк таблицы:"
   ]
  },
  {
   "cell_type": "code",
   "execution_count": 12,
   "metadata": {},
   "outputs": [
    {
     "data": {
      "text/html": [
       "<div>\n",
       "<style scoped>\n",
       "    .dataframe tbody tr th:only-of-type {\n",
       "        vertical-align: middle;\n",
       "    }\n",
       "\n",
       "    .dataframe tbody tr th {\n",
       "        vertical-align: top;\n",
       "    }\n",
       "\n",
       "    .dataframe thead th {\n",
       "        text-align: right;\n",
       "    }\n",
       "</style>\n",
       "<table border=\"1\" class=\"dataframe\">\n",
       "  <thead>\n",
       "    <tr style=\"text-align: right;\">\n",
       "      <th></th>\n",
       "      <th>id</th>\n",
       "      <th>message_date</th>\n",
       "      <th>user_id</th>\n",
       "    </tr>\n",
       "  </thead>\n",
       "  <tbody>\n",
       "    <tr>\n",
       "      <td>0</td>\n",
       "      <td>1000_0</td>\n",
       "      <td>2018-06-27</td>\n",
       "      <td>1000</td>\n",
       "    </tr>\n",
       "    <tr>\n",
       "      <td>1</td>\n",
       "      <td>1000_1</td>\n",
       "      <td>2018-10-08</td>\n",
       "      <td>1000</td>\n",
       "    </tr>\n",
       "    <tr>\n",
       "      <td>2</td>\n",
       "      <td>1000_2</td>\n",
       "      <td>2018-08-04</td>\n",
       "      <td>1000</td>\n",
       "    </tr>\n",
       "    <tr>\n",
       "      <td>3</td>\n",
       "      <td>1000_3</td>\n",
       "      <td>2018-06-16</td>\n",
       "      <td>1000</td>\n",
       "    </tr>\n",
       "    <tr>\n",
       "      <td>4</td>\n",
       "      <td>1000_4</td>\n",
       "      <td>2018-12-05</td>\n",
       "      <td>1000</td>\n",
       "    </tr>\n",
       "  </tbody>\n",
       "</table>\n",
       "</div>"
      ],
      "text/plain": [
       "       id message_date  user_id\n",
       "0  1000_0   2018-06-27     1000\n",
       "1  1000_1   2018-10-08     1000\n",
       "2  1000_2   2018-08-04     1000\n",
       "3  1000_3   2018-06-16     1000\n",
       "4  1000_4   2018-12-05     1000"
      ]
     },
     "execution_count": 12,
     "metadata": {},
     "output_type": "execute_result"
    }
   ],
   "source": [
    "data_messages.head()"
   ]
  },
  {
   "cell_type": "code",
   "execution_count": 13,
   "metadata": {},
   "outputs": [
    {
     "data": {
      "text/plain": [
       "id              0\n",
       "message_date    0\n",
       "user_id         0\n",
       "dtype: int64"
      ]
     },
     "execution_count": 13,
     "metadata": {},
     "output_type": "execute_result"
    }
   ],
   "source": [
    "#для определения пропущенных значений используем метод isna()\n",
    "data_messages.isna().sum()"
   ]
  },
  {
   "cell_type": "markdown",
   "metadata": {},
   "source": [
    "* Вывод:\n",
    "* Данные содержатся в 3 столбцах и размещены на 123036 строках. Таблица содержит три типа данных(вещественный, целочисленный, строковый). Названия столбцов написаны согласно правилам хорошего стиля: в змеином регистре,строчными буквами, без дополнительных пробелов. Пропущенных значений нет."
   ]
  },
  {
   "cell_type": "markdown",
   "metadata": {},
   "source": [
    "Общая информацию о данных в таблице `data_tariffs`:"
   ]
  },
  {
   "cell_type": "code",
   "execution_count": 14,
   "metadata": {},
   "outputs": [
    {
     "name": "stdout",
     "output_type": "stream",
     "text": [
      "<class 'pandas.core.frame.DataFrame'>\n",
      "RangeIndex: 2 entries, 0 to 1\n",
      "Data columns (total 8 columns):\n",
      "messages_included        2 non-null int64\n",
      "mb_per_month_included    2 non-null int64\n",
      "minutes_included         2 non-null int64\n",
      "rub_monthly_fee          2 non-null int64\n",
      "rub_per_gb               2 non-null int64\n",
      "rub_per_message          2 non-null int64\n",
      "rub_per_minute           2 non-null int64\n",
      "tariff_name              2 non-null object\n",
      "dtypes: int64(7), object(1)\n",
      "memory usage: 256.0+ bytes\n"
     ]
    }
   ],
   "source": [
    "data_tariffs.info()"
   ]
  },
  {
   "cell_type": "markdown",
   "metadata": {},
   "source": [
    "Выведем на экран первые пять строк таблицы:"
   ]
  },
  {
   "cell_type": "code",
   "execution_count": 15,
   "metadata": {},
   "outputs": [
    {
     "data": {
      "text/html": [
       "<div>\n",
       "<style scoped>\n",
       "    .dataframe tbody tr th:only-of-type {\n",
       "        vertical-align: middle;\n",
       "    }\n",
       "\n",
       "    .dataframe tbody tr th {\n",
       "        vertical-align: top;\n",
       "    }\n",
       "\n",
       "    .dataframe thead th {\n",
       "        text-align: right;\n",
       "    }\n",
       "</style>\n",
       "<table border=\"1\" class=\"dataframe\">\n",
       "  <thead>\n",
       "    <tr style=\"text-align: right;\">\n",
       "      <th></th>\n",
       "      <th>messages_included</th>\n",
       "      <th>mb_per_month_included</th>\n",
       "      <th>minutes_included</th>\n",
       "      <th>rub_monthly_fee</th>\n",
       "      <th>rub_per_gb</th>\n",
       "      <th>rub_per_message</th>\n",
       "      <th>rub_per_minute</th>\n",
       "      <th>tariff_name</th>\n",
       "    </tr>\n",
       "  </thead>\n",
       "  <tbody>\n",
       "    <tr>\n",
       "      <td>0</td>\n",
       "      <td>50</td>\n",
       "      <td>15360</td>\n",
       "      <td>500</td>\n",
       "      <td>550</td>\n",
       "      <td>200</td>\n",
       "      <td>3</td>\n",
       "      <td>3</td>\n",
       "      <td>smart</td>\n",
       "    </tr>\n",
       "    <tr>\n",
       "      <td>1</td>\n",
       "      <td>1000</td>\n",
       "      <td>30720</td>\n",
       "      <td>3000</td>\n",
       "      <td>1950</td>\n",
       "      <td>150</td>\n",
       "      <td>1</td>\n",
       "      <td>1</td>\n",
       "      <td>ultra</td>\n",
       "    </tr>\n",
       "  </tbody>\n",
       "</table>\n",
       "</div>"
      ],
      "text/plain": [
       "   messages_included  mb_per_month_included  minutes_included  \\\n",
       "0                 50                  15360               500   \n",
       "1               1000                  30720              3000   \n",
       "\n",
       "   rub_monthly_fee  rub_per_gb  rub_per_message  rub_per_minute tariff_name  \n",
       "0              550         200                3               3       smart  \n",
       "1             1950         150                1               1       ultra  "
      ]
     },
     "execution_count": 15,
     "metadata": {},
     "output_type": "execute_result"
    }
   ],
   "source": [
    "data_tariffs.head()"
   ]
  },
  {
   "cell_type": "code",
   "execution_count": 16,
   "metadata": {},
   "outputs": [],
   "source": [
    "#переименуем столбец 'tariff_name' для последующего объединения сводных таблиц\n",
    "data_tariffs = data_tariffs.rename(columns ={'tariff_name' : 'tariff'})"
   ]
  },
  {
   "cell_type": "code",
   "execution_count": 17,
   "metadata": {},
   "outputs": [
    {
     "data": {
      "text/html": [
       "<div>\n",
       "<style scoped>\n",
       "    .dataframe tbody tr th:only-of-type {\n",
       "        vertical-align: middle;\n",
       "    }\n",
       "\n",
       "    .dataframe tbody tr th {\n",
       "        vertical-align: top;\n",
       "    }\n",
       "\n",
       "    .dataframe thead th {\n",
       "        text-align: right;\n",
       "    }\n",
       "</style>\n",
       "<table border=\"1\" class=\"dataframe\">\n",
       "  <thead>\n",
       "    <tr style=\"text-align: right;\">\n",
       "      <th></th>\n",
       "      <th>messages_included</th>\n",
       "      <th>mb_per_month_included</th>\n",
       "      <th>minutes_included</th>\n",
       "      <th>rub_monthly_fee</th>\n",
       "      <th>rub_per_gb</th>\n",
       "      <th>rub_per_message</th>\n",
       "      <th>rub_per_minute</th>\n",
       "      <th>tariff</th>\n",
       "    </tr>\n",
       "  </thead>\n",
       "  <tbody>\n",
       "    <tr>\n",
       "      <td>0</td>\n",
       "      <td>50</td>\n",
       "      <td>15360</td>\n",
       "      <td>500</td>\n",
       "      <td>550</td>\n",
       "      <td>200</td>\n",
       "      <td>3</td>\n",
       "      <td>3</td>\n",
       "      <td>smart</td>\n",
       "    </tr>\n",
       "    <tr>\n",
       "      <td>1</td>\n",
       "      <td>1000</td>\n",
       "      <td>30720</td>\n",
       "      <td>3000</td>\n",
       "      <td>1950</td>\n",
       "      <td>150</td>\n",
       "      <td>1</td>\n",
       "      <td>1</td>\n",
       "      <td>ultra</td>\n",
       "    </tr>\n",
       "  </tbody>\n",
       "</table>\n",
       "</div>"
      ],
      "text/plain": [
       "   messages_included  mb_per_month_included  minutes_included  \\\n",
       "0                 50                  15360               500   \n",
       "1               1000                  30720              3000   \n",
       "\n",
       "   rub_monthly_fee  rub_per_gb  rub_per_message  rub_per_minute tariff  \n",
       "0              550         200                3               3  smart  \n",
       "1             1950         150                1               1  ultra  "
      ]
     },
     "execution_count": 17,
     "metadata": {},
     "output_type": "execute_result"
    }
   ],
   "source": [
    "data_tariffs.head()"
   ]
  },
  {
   "cell_type": "markdown",
   "metadata": {},
   "source": [
    "* Вывод:\n",
    "* Данные содержатся в 8 столбцах и размещены на 2 строках. Таблица содержит два типа данных(целочисленный и  строковый). Названия столбцов написаны согласно правилам хорошего стиля: в змеином регистре,строчными буквами, без дополнительных пробелов. Пропущенных значений нет."
   ]
  },
  {
   "cell_type": "markdown",
   "metadata": {},
   "source": [
    "Общая информацию о данных в таблице `data_users`:"
   ]
  },
  {
   "cell_type": "code",
   "execution_count": 18,
   "metadata": {},
   "outputs": [
    {
     "name": "stdout",
     "output_type": "stream",
     "text": [
      "<class 'pandas.core.frame.DataFrame'>\n",
      "RangeIndex: 500 entries, 0 to 499\n",
      "Data columns (total 8 columns):\n",
      "user_id       500 non-null int64\n",
      "age           500 non-null int64\n",
      "churn_date    38 non-null object\n",
      "city          500 non-null object\n",
      "first_name    500 non-null object\n",
      "last_name     500 non-null object\n",
      "reg_date      500 non-null object\n",
      "tariff        500 non-null object\n",
      "dtypes: int64(2), object(6)\n",
      "memory usage: 31.4+ KB\n"
     ]
    }
   ],
   "source": [
    "data_users.info()"
   ]
  },
  {
   "cell_type": "markdown",
   "metadata": {},
   "source": [
    "Выведем на экран первые десять строк таблицы:"
   ]
  },
  {
   "cell_type": "code",
   "execution_count": 19,
   "metadata": {},
   "outputs": [
    {
     "data": {
      "text/html": [
       "<div>\n",
       "<style scoped>\n",
       "    .dataframe tbody tr th:only-of-type {\n",
       "        vertical-align: middle;\n",
       "    }\n",
       "\n",
       "    .dataframe tbody tr th {\n",
       "        vertical-align: top;\n",
       "    }\n",
       "\n",
       "    .dataframe thead th {\n",
       "        text-align: right;\n",
       "    }\n",
       "</style>\n",
       "<table border=\"1\" class=\"dataframe\">\n",
       "  <thead>\n",
       "    <tr style=\"text-align: right;\">\n",
       "      <th></th>\n",
       "      <th>user_id</th>\n",
       "      <th>age</th>\n",
       "      <th>churn_date</th>\n",
       "      <th>city</th>\n",
       "      <th>first_name</th>\n",
       "      <th>last_name</th>\n",
       "      <th>reg_date</th>\n",
       "      <th>tariff</th>\n",
       "    </tr>\n",
       "  </thead>\n",
       "  <tbody>\n",
       "    <tr>\n",
       "      <td>0</td>\n",
       "      <td>1000</td>\n",
       "      <td>52</td>\n",
       "      <td>NaN</td>\n",
       "      <td>Краснодар</td>\n",
       "      <td>Рафаил</td>\n",
       "      <td>Верещагин</td>\n",
       "      <td>2018-05-25</td>\n",
       "      <td>ultra</td>\n",
       "    </tr>\n",
       "    <tr>\n",
       "      <td>1</td>\n",
       "      <td>1001</td>\n",
       "      <td>41</td>\n",
       "      <td>NaN</td>\n",
       "      <td>Москва</td>\n",
       "      <td>Иван</td>\n",
       "      <td>Ежов</td>\n",
       "      <td>2018-11-01</td>\n",
       "      <td>smart</td>\n",
       "    </tr>\n",
       "    <tr>\n",
       "      <td>2</td>\n",
       "      <td>1002</td>\n",
       "      <td>59</td>\n",
       "      <td>NaN</td>\n",
       "      <td>Стерлитамак</td>\n",
       "      <td>Евгений</td>\n",
       "      <td>Абрамович</td>\n",
       "      <td>2018-06-17</td>\n",
       "      <td>smart</td>\n",
       "    </tr>\n",
       "    <tr>\n",
       "      <td>3</td>\n",
       "      <td>1003</td>\n",
       "      <td>23</td>\n",
       "      <td>NaN</td>\n",
       "      <td>Москва</td>\n",
       "      <td>Белла</td>\n",
       "      <td>Белякова</td>\n",
       "      <td>2018-08-17</td>\n",
       "      <td>ultra</td>\n",
       "    </tr>\n",
       "    <tr>\n",
       "      <td>4</td>\n",
       "      <td>1004</td>\n",
       "      <td>68</td>\n",
       "      <td>NaN</td>\n",
       "      <td>Новокузнецк</td>\n",
       "      <td>Татьяна</td>\n",
       "      <td>Авдеенко</td>\n",
       "      <td>2018-05-14</td>\n",
       "      <td>ultra</td>\n",
       "    </tr>\n",
       "    <tr>\n",
       "      <td>5</td>\n",
       "      <td>1005</td>\n",
       "      <td>67</td>\n",
       "      <td>NaN</td>\n",
       "      <td>Набережные Челны</td>\n",
       "      <td>Афанасий</td>\n",
       "      <td>Горлов</td>\n",
       "      <td>2018-01-25</td>\n",
       "      <td>smart</td>\n",
       "    </tr>\n",
       "    <tr>\n",
       "      <td>6</td>\n",
       "      <td>1006</td>\n",
       "      <td>21</td>\n",
       "      <td>NaN</td>\n",
       "      <td>Ульяновск</td>\n",
       "      <td>Леонид</td>\n",
       "      <td>Ермолаев</td>\n",
       "      <td>2018-02-26</td>\n",
       "      <td>smart</td>\n",
       "    </tr>\n",
       "    <tr>\n",
       "      <td>7</td>\n",
       "      <td>1007</td>\n",
       "      <td>65</td>\n",
       "      <td>NaN</td>\n",
       "      <td>Москва</td>\n",
       "      <td>Юна</td>\n",
       "      <td>Березина</td>\n",
       "      <td>2018-04-19</td>\n",
       "      <td>smart</td>\n",
       "    </tr>\n",
       "    <tr>\n",
       "      <td>8</td>\n",
       "      <td>1008</td>\n",
       "      <td>63</td>\n",
       "      <td>NaN</td>\n",
       "      <td>Челябинск</td>\n",
       "      <td>Рустэм</td>\n",
       "      <td>Пономарёв</td>\n",
       "      <td>2018-12-19</td>\n",
       "      <td>smart</td>\n",
       "    </tr>\n",
       "    <tr>\n",
       "      <td>9</td>\n",
       "      <td>1009</td>\n",
       "      <td>24</td>\n",
       "      <td>NaN</td>\n",
       "      <td>Пермь</td>\n",
       "      <td>Василиса</td>\n",
       "      <td>Блинова</td>\n",
       "      <td>2018-03-22</td>\n",
       "      <td>smart</td>\n",
       "    </tr>\n",
       "  </tbody>\n",
       "</table>\n",
       "</div>"
      ],
      "text/plain": [
       "   user_id  age churn_date              city first_name  last_name  \\\n",
       "0     1000   52        NaN         Краснодар     Рафаил  Верещагин   \n",
       "1     1001   41        NaN            Москва       Иван       Ежов   \n",
       "2     1002   59        NaN       Стерлитамак    Евгений  Абрамович   \n",
       "3     1003   23        NaN            Москва      Белла   Белякова   \n",
       "4     1004   68        NaN       Новокузнецк    Татьяна   Авдеенко   \n",
       "5     1005   67        NaN  Набережные Челны   Афанасий     Горлов   \n",
       "6     1006   21        NaN         Ульяновск     Леонид   Ермолаев   \n",
       "7     1007   65        NaN            Москва        Юна   Березина   \n",
       "8     1008   63        NaN         Челябинск     Рустэм  Пономарёв   \n",
       "9     1009   24        NaN             Пермь   Василиса    Блинова   \n",
       "\n",
       "     reg_date tariff  \n",
       "0  2018-05-25  ultra  \n",
       "1  2018-11-01  smart  \n",
       "2  2018-06-17  smart  \n",
       "3  2018-08-17  ultra  \n",
       "4  2018-05-14  ultra  \n",
       "5  2018-01-25  smart  \n",
       "6  2018-02-26  smart  \n",
       "7  2018-04-19  smart  \n",
       "8  2018-12-19  smart  \n",
       "9  2018-03-22  smart  "
      ]
     },
     "execution_count": 19,
     "metadata": {},
     "output_type": "execute_result"
    }
   ],
   "source": [
    "data_users.head(10)"
   ]
  },
  {
   "cell_type": "code",
   "execution_count": 20,
   "metadata": {},
   "outputs": [
    {
     "data": {
      "text/plain": [
       "user_id         0\n",
       "age             0\n",
       "churn_date    462\n",
       "city            0\n",
       "first_name      0\n",
       "last_name       0\n",
       "reg_date        0\n",
       "tariff          0\n",
       "dtype: int64"
      ]
     },
     "execution_count": 20,
     "metadata": {},
     "output_type": "execute_result"
    }
   ],
   "source": [
    "#для определения пропущенных значений используем метод isna()\n",
    "data_users.isna().sum()"
   ]
  },
  {
   "cell_type": "markdown",
   "metadata": {},
   "source": [
    "* Вывод:\n",
    "* Данные содержатся в 8 столбцах и размещены на 500 строках. Таблица содержит два типа данных(целочисленный и строковый). Названия столбцов написаны согласно правилам хорошего стиля: в змеином регистре,строчными буквами, без дополнительных пробелов. Пропущенные значения в столбце churn_date(дата прекращения пользования тарифом) означают то, что тариф ещё действовал на момент выгрузки данных."
   ]
  },
  {
   "cell_type": "markdown",
   "metadata": {},
   "source": [
    "## 2. Предобработка данных"
   ]
  },
  {
   "cell_type": "markdown",
   "metadata": {},
   "source": [
    "### 2.1. Посчитаем для каждого пользователя количество сделанных звонков и израсходованных минут разговора по месяцам."
   ]
  },
  {
   "cell_type": "markdown",
   "metadata": {},
   "source": [
    "Изменим тип данных на целочисленный и округлим длительность звонков в большую сторону, применяя метод np.ceil"
   ]
  },
  {
   "cell_type": "code",
   "execution_count": 21,
   "metadata": {},
   "outputs": [],
   "source": [
    "#изменим тип данных на целочисленный и округлим длительность звонков в большую сторону, применяя метод np.ceil\n",
    "data_calls['duration'] = np.ceil(data_calls['duration']).astype(int)\n"
   ]
  },
  {
   "cell_type": "code",
   "execution_count": 22,
   "metadata": {},
   "outputs": [],
   "source": [
    "#получим отдельную часть даты\n",
    "data_calls['call_date'] = pd.DatetimeIndex(data_calls['call_date']).month"
   ]
  },
  {
   "cell_type": "code",
   "execution_count": 23,
   "metadata": {},
   "outputs": [
    {
     "data": {
      "text/html": [
       "<div>\n",
       "<style scoped>\n",
       "    .dataframe tbody tr th:only-of-type {\n",
       "        vertical-align: middle;\n",
       "    }\n",
       "\n",
       "    .dataframe tbody tr th {\n",
       "        vertical-align: top;\n",
       "    }\n",
       "\n",
       "    .dataframe thead th {\n",
       "        text-align: right;\n",
       "    }\n",
       "</style>\n",
       "<table border=\"1\" class=\"dataframe\">\n",
       "  <thead>\n",
       "    <tr style=\"text-align: right;\">\n",
       "      <th></th>\n",
       "      <th>id</th>\n",
       "      <th>call_date</th>\n",
       "      <th>duration</th>\n",
       "      <th>user_id</th>\n",
       "    </tr>\n",
       "  </thead>\n",
       "  <tbody>\n",
       "    <tr>\n",
       "      <td>0</td>\n",
       "      <td>1000_0</td>\n",
       "      <td>7</td>\n",
       "      <td>0</td>\n",
       "      <td>1000</td>\n",
       "    </tr>\n",
       "    <tr>\n",
       "      <td>1</td>\n",
       "      <td>1000_1</td>\n",
       "      <td>8</td>\n",
       "      <td>0</td>\n",
       "      <td>1000</td>\n",
       "    </tr>\n",
       "    <tr>\n",
       "      <td>2</td>\n",
       "      <td>1000_2</td>\n",
       "      <td>6</td>\n",
       "      <td>3</td>\n",
       "      <td>1000</td>\n",
       "    </tr>\n",
       "    <tr>\n",
       "      <td>3</td>\n",
       "      <td>1000_3</td>\n",
       "      <td>9</td>\n",
       "      <td>14</td>\n",
       "      <td>1000</td>\n",
       "    </tr>\n",
       "    <tr>\n",
       "      <td>4</td>\n",
       "      <td>1000_4</td>\n",
       "      <td>12</td>\n",
       "      <td>6</td>\n",
       "      <td>1000</td>\n",
       "    </tr>\n",
       "  </tbody>\n",
       "</table>\n",
       "</div>"
      ],
      "text/plain": [
       "       id  call_date  duration  user_id\n",
       "0  1000_0          7         0     1000\n",
       "1  1000_1          8         0     1000\n",
       "2  1000_2          6         3     1000\n",
       "3  1000_3          9        14     1000\n",
       "4  1000_4         12         6     1000"
      ]
     },
     "execution_count": 23,
     "metadata": {},
     "output_type": "execute_result"
    }
   ],
   "source": [
    "#выведем на экран первые пять строк таблицы:\n",
    "data_calls.head()"
   ]
  },
  {
   "cell_type": "markdown",
   "metadata": {},
   "source": [
    "#### 2.1.1. Для исключения аномалий, изучим  параметр -  длительность звонка."
   ]
  },
  {
   "cell_type": "code",
   "execution_count": 24,
   "metadata": {},
   "outputs": [
    {
     "data": {
      "text/plain": [
       "count    202607.000000\n",
       "mean          7.158198\n",
       "std           5.959173\n",
       "min           0.000000\n",
       "25%           2.000000\n",
       "50%           6.000000\n",
       "75%          11.000000\n",
       "max          38.000000\n",
       "Name: duration, dtype: float64"
      ]
     },
     "metadata": {},
     "output_type": "display_data"
    },
    {
     "data": {
      "image/png": "[encoded data removed]",
      "text/plain": [
       "<Figure size 432x288 with 1 Axes>"
      ]
     },
     "metadata": {
      "needs_background": "light"
     },
     "output_type": "display_data"
    }
   ],
   "source": [
    "#построим гистограмму для визуализации данных\n",
    "data_calls['duration'].hist()\n",
    "plt.xlabel(\"длительность звонка\")\n",
    "plt.ylabel(\"число пользователей\")\n",
    "display(data_calls['duration'].describe())"
   ]
  },
  {
   "cell_type": "code",
   "execution_count": 25,
   "metadata": {},
   "outputs": [
    {
     "data": {
      "image/png": "[encoded data removed]",
      "text/plain": [
       "<Figure size 432x288 with 1 Axes>"
      ]
     },
     "metadata": {
      "needs_background": "light"
     },
     "output_type": "display_data"
    }
   ],
   "source": [
    "data_calls['duration'].plot(kind='box')\n",
    "plt.xlabel(\"длительность звонка\")\n",
    "plt.show()"
   ]
  },
  {
   "cell_type": "code",
   "execution_count": 26,
   "metadata": {},
   "outputs": [],
   "source": [
    "#уберем редкие и выбивающиеся значения\n",
    "data_calls.drop(data_calls[data_calls['duration'] >= 25].index,inplace=True)"
   ]
  },
  {
   "cell_type": "code",
   "execution_count": 41,
   "metadata": {},
   "outputs": [
    {
     "data": {
      "image/png": "[encoded data removed]",
      "text/plain": [
       "<Figure size 432x288 with 1 Axes>"
      ]
     },
     "metadata": {
      "needs_background": "light"
     },
     "output_type": "display_data"
    }
   ],
   "source": [
    "data_calls['duration'].plot(kind='box')\n",
    "plt.xlabel(\"длительность звонка\")\n",
    "plt.show()"
   ]
  },
  {
   "cell_type": "code",
   "execution_count": 27,
   "metadata": {},
   "outputs": [],
   "source": [
    "#посчитаем для каждого пользователя количество сделанных звонков и израсходованных минут разговора по месяцам\n",
    "calls = data_calls.pivot_table(index=['user_id', 'call_date'], values='duration', aggfunc=('count', 'sum')).reset_index()"
   ]
  },
  {
   "cell_type": "code",
   "execution_count": 28,
   "metadata": {},
   "outputs": [],
   "source": [
    "#переименуем столбец 'call_date' для последующего объединения сводных таблиц\n",
    "calls = calls.rename(columns ={'call_date' : 'month'})"
   ]
  },
  {
   "cell_type": "code",
   "execution_count": 29,
   "metadata": {},
   "outputs": [
    {
     "data": {
      "text/html": [
       "<div>\n",
       "<style scoped>\n",
       "    .dataframe tbody tr th:only-of-type {\n",
       "        vertical-align: middle;\n",
       "    }\n",
       "\n",
       "    .dataframe tbody tr th {\n",
       "        vertical-align: top;\n",
       "    }\n",
       "\n",
       "    .dataframe thead th {\n",
       "        text-align: right;\n",
       "    }\n",
       "</style>\n",
       "<table border=\"1\" class=\"dataframe\">\n",
       "  <thead>\n",
       "    <tr style=\"text-align: right;\">\n",
       "      <th></th>\n",
       "      <th>user_id</th>\n",
       "      <th>month</th>\n",
       "      <th>count</th>\n",
       "      <th>sum</th>\n",
       "    </tr>\n",
       "  </thead>\n",
       "  <tbody>\n",
       "    <tr>\n",
       "      <td>0</td>\n",
       "      <td>1000</td>\n",
       "      <td>5</td>\n",
       "      <td>22</td>\n",
       "      <td>159</td>\n",
       "    </tr>\n",
       "    <tr>\n",
       "      <td>1</td>\n",
       "      <td>1000</td>\n",
       "      <td>6</td>\n",
       "      <td>43</td>\n",
       "      <td>172</td>\n",
       "    </tr>\n",
       "    <tr>\n",
       "      <td>2</td>\n",
       "      <td>1000</td>\n",
       "      <td>7</td>\n",
       "      <td>47</td>\n",
       "      <td>340</td>\n",
       "    </tr>\n",
       "    <tr>\n",
       "      <td>3</td>\n",
       "      <td>1000</td>\n",
       "      <td>8</td>\n",
       "      <td>52</td>\n",
       "      <td>408</td>\n",
       "    </tr>\n",
       "    <tr>\n",
       "      <td>4</td>\n",
       "      <td>1000</td>\n",
       "      <td>9</td>\n",
       "      <td>58</td>\n",
       "      <td>466</td>\n",
       "    </tr>\n",
       "  </tbody>\n",
       "</table>\n",
       "</div>"
      ],
      "text/plain": [
       "   user_id  month  count  sum\n",
       "0     1000      5     22  159\n",
       "1     1000      6     43  172\n",
       "2     1000      7     47  340\n",
       "3     1000      8     52  408\n",
       "4     1000      9     58  466"
      ]
     },
     "execution_count": 29,
     "metadata": {},
     "output_type": "execute_result"
    }
   ],
   "source": [
    "#выведем на экран первые пять строк таблицы:\n",
    "calls.head()"
   ]
  },
  {
   "cell_type": "markdown",
   "metadata": {},
   "source": [
    "### 2.2. Посчитаем для каждого пользователя количество отправленных сообщений по месяцам"
   ]
  },
  {
   "cell_type": "code",
   "execution_count": 30,
   "metadata": {},
   "outputs": [],
   "source": [
    "#получим отдельную часть даты\n",
    "data_messages['message_date'] = pd.DatetimeIndex(data_messages['message_date']).month"
   ]
  },
  {
   "cell_type": "markdown",
   "metadata": {},
   "source": [
    "Выведем на экран первые пять строк таблицы:"
   ]
  },
  {
   "cell_type": "code",
   "execution_count": 31,
   "metadata": {},
   "outputs": [
    {
     "data": {
      "text/html": [
       "<div>\n",
       "<style scoped>\n",
       "    .dataframe tbody tr th:only-of-type {\n",
       "        vertical-align: middle;\n",
       "    }\n",
       "\n",
       "    .dataframe tbody tr th {\n",
       "        vertical-align: top;\n",
       "    }\n",
       "\n",
       "    .dataframe thead th {\n",
       "        text-align: right;\n",
       "    }\n",
       "</style>\n",
       "<table border=\"1\" class=\"dataframe\">\n",
       "  <thead>\n",
       "    <tr style=\"text-align: right;\">\n",
       "      <th></th>\n",
       "      <th>id</th>\n",
       "      <th>message_date</th>\n",
       "      <th>user_id</th>\n",
       "    </tr>\n",
       "  </thead>\n",
       "  <tbody>\n",
       "    <tr>\n",
       "      <td>0</td>\n",
       "      <td>1000_0</td>\n",
       "      <td>6</td>\n",
       "      <td>1000</td>\n",
       "    </tr>\n",
       "    <tr>\n",
       "      <td>1</td>\n",
       "      <td>1000_1</td>\n",
       "      <td>10</td>\n",
       "      <td>1000</td>\n",
       "    </tr>\n",
       "    <tr>\n",
       "      <td>2</td>\n",
       "      <td>1000_2</td>\n",
       "      <td>8</td>\n",
       "      <td>1000</td>\n",
       "    </tr>\n",
       "    <tr>\n",
       "      <td>3</td>\n",
       "      <td>1000_3</td>\n",
       "      <td>6</td>\n",
       "      <td>1000</td>\n",
       "    </tr>\n",
       "    <tr>\n",
       "      <td>4</td>\n",
       "      <td>1000_4</td>\n",
       "      <td>12</td>\n",
       "      <td>1000</td>\n",
       "    </tr>\n",
       "  </tbody>\n",
       "</table>\n",
       "</div>"
      ],
      "text/plain": [
       "       id  message_date  user_id\n",
       "0  1000_0             6     1000\n",
       "1  1000_1            10     1000\n",
       "2  1000_2             8     1000\n",
       "3  1000_3             6     1000\n",
       "4  1000_4            12     1000"
      ]
     },
     "execution_count": 31,
     "metadata": {},
     "output_type": "execute_result"
    }
   ],
   "source": [
    "#выведем на экран первые пять строк таблицы:\n",
    "data_messages.head()"
   ]
  },
  {
   "cell_type": "code",
   "execution_count": 32,
   "metadata": {},
   "outputs": [],
   "source": [
    "#Посчитаем для каждого пользователя количество отправленных сообщений по месяцам\n",
    "messages = data_messages.pivot_table(index=['user_id', 'message_date'], values='id', aggfunc='count').reset_index()"
   ]
  },
  {
   "cell_type": "code",
   "execution_count": 33,
   "metadata": {},
   "outputs": [],
   "source": [
    "#переименуем столбец 'messages_date' для последующего объединения сводных таблиц\n",
    "messages = messages.rename(columns ={'message_date' : 'month'})"
   ]
  },
  {
   "cell_type": "code",
   "execution_count": 34,
   "metadata": {},
   "outputs": [
    {
     "data": {
      "text/html": [
       "<div>\n",
       "<style scoped>\n",
       "    .dataframe tbody tr th:only-of-type {\n",
       "        vertical-align: middle;\n",
       "    }\n",
       "\n",
       "    .dataframe tbody tr th {\n",
       "        vertical-align: top;\n",
       "    }\n",
       "\n",
       "    .dataframe thead th {\n",
       "        text-align: right;\n",
       "    }\n",
       "</style>\n",
       "<table border=\"1\" class=\"dataframe\">\n",
       "  <thead>\n",
       "    <tr style=\"text-align: right;\">\n",
       "      <th></th>\n",
       "      <th>user_id</th>\n",
       "      <th>month</th>\n",
       "      <th>id</th>\n",
       "    </tr>\n",
       "  </thead>\n",
       "  <tbody>\n",
       "    <tr>\n",
       "      <td>0</td>\n",
       "      <td>1000</td>\n",
       "      <td>5</td>\n",
       "      <td>22</td>\n",
       "    </tr>\n",
       "    <tr>\n",
       "      <td>1</td>\n",
       "      <td>1000</td>\n",
       "      <td>6</td>\n",
       "      <td>60</td>\n",
       "    </tr>\n",
       "    <tr>\n",
       "      <td>2</td>\n",
       "      <td>1000</td>\n",
       "      <td>7</td>\n",
       "      <td>75</td>\n",
       "    </tr>\n",
       "    <tr>\n",
       "      <td>3</td>\n",
       "      <td>1000</td>\n",
       "      <td>8</td>\n",
       "      <td>81</td>\n",
       "    </tr>\n",
       "    <tr>\n",
       "      <td>4</td>\n",
       "      <td>1000</td>\n",
       "      <td>9</td>\n",
       "      <td>57</td>\n",
       "    </tr>\n",
       "  </tbody>\n",
       "</table>\n",
       "</div>"
      ],
      "text/plain": [
       "   user_id  month  id\n",
       "0     1000      5  22\n",
       "1     1000      6  60\n",
       "2     1000      7  75\n",
       "3     1000      8  81\n",
       "4     1000      9  57"
      ]
     },
     "execution_count": 34,
     "metadata": {},
     "output_type": "execute_result"
    }
   ],
   "source": [
    "#выведем на экран первые пять строк таблицы:\n",
    "messages.head()"
   ]
  },
  {
   "cell_type": "markdown",
   "metadata": {},
   "source": [
    "#### 2.2.1. Для исключения аномалий, изучим  параметр -  количество отправленных сообщений в месяц."
   ]
  },
  {
   "cell_type": "code",
   "execution_count": 35,
   "metadata": {},
   "outputs": [
    {
     "data": {
      "text/plain": [
       "count    2717.000000\n",
       "mean       45.283769\n",
       "std        35.051363\n",
       "min         1.000000\n",
       "25%        19.000000\n",
       "50%        38.000000\n",
       "75%        63.000000\n",
       "max       224.000000\n",
       "Name: id, dtype: float64"
      ]
     },
     "metadata": {},
     "output_type": "display_data"
    },
    {
     "data": {
      "image/png": "[encoded data removed]",
      "text/plain": [
       "<Figure size 432x288 with 1 Axes>"
      ]
     },
     "metadata": {
      "needs_background": "light"
     },
     "output_type": "display_data"
    }
   ],
   "source": [
    "#построим гистограмму для визуализации данных\n",
    "messages['id'].hist()\n",
    "plt.xlabel(\"число сообщений в месяц\")\n",
    "plt.ylabel(\"число пользователей\")\n",
    "display(messages['id'].describe())"
   ]
  },
  {
   "cell_type": "code",
   "execution_count": 36,
   "metadata": {},
   "outputs": [
    {
     "data": {
      "image/png": "[encoded data removed]",
      "text/plain": [
       "<Figure size 432x288 with 1 Axes>"
      ]
     },
     "metadata": {
      "needs_background": "light"
     },
     "output_type": "display_data"
    }
   ],
   "source": [
    "messages['id'].plot(kind='box')\n",
    "plt.xlabel(\"число сообщений в месяц\")\n",
    "plt.show()"
   ]
  },
  {
   "cell_type": "code",
   "execution_count": 39,
   "metadata": {},
   "outputs": [],
   "source": [
    "#уберем редкие и выбивающиеся значения\n",
    "messages.drop(messages[messages['id'] >= 120].index,inplace=True)"
   ]
  },
  {
   "cell_type": "code",
   "execution_count": 40,
   "metadata": {},
   "outputs": [
    {
     "data": {
      "image/png": "[encoded data removed]",
      "text/plain": [
       "<Figure size 432x288 with 1 Axes>"
      ]
     },
     "metadata": {
      "needs_background": "light"
     },
     "output_type": "display_data"
    }
   ],
   "source": [
    "messages['id'].plot(kind='box')\n",
    "plt.xlabel(\"число сообщений в месяц\")\n",
    "plt.show()"
   ]
  },
  {
   "cell_type": "markdown",
   "metadata": {},
   "source": [
    "### 2.3.  Посчитаем для каждого пользователя объем израсходованного интернет-трафика по месяцам"
   ]
  },
  {
   "cell_type": "code",
   "execution_count": 42,
   "metadata": {},
   "outputs": [],
   "source": [
    "#получим отдельную часть даты\n",
    "data_internet['session_date'] = pd.DatetimeIndex(data_internet['session_date']).month"
   ]
  },
  {
   "cell_type": "code",
   "execution_count": 43,
   "metadata": {},
   "outputs": [
    {
     "data": {
      "text/html": [
       "<div>\n",
       "<style scoped>\n",
       "    .dataframe tbody tr th:only-of-type {\n",
       "        vertical-align: middle;\n",
       "    }\n",
       "\n",
       "    .dataframe tbody tr th {\n",
       "        vertical-align: top;\n",
       "    }\n",
       "\n",
       "    .dataframe thead th {\n",
       "        text-align: right;\n",
       "    }\n",
       "</style>\n",
       "<table border=\"1\" class=\"dataframe\">\n",
       "  <thead>\n",
       "    <tr style=\"text-align: right;\">\n",
       "      <th></th>\n",
       "      <th>id</th>\n",
       "      <th>mb_used</th>\n",
       "      <th>session_date</th>\n",
       "      <th>user_id</th>\n",
       "    </tr>\n",
       "  </thead>\n",
       "  <tbody>\n",
       "    <tr>\n",
       "      <td>0</td>\n",
       "      <td>1000_0</td>\n",
       "      <td>112.95</td>\n",
       "      <td>11</td>\n",
       "      <td>1000</td>\n",
       "    </tr>\n",
       "    <tr>\n",
       "      <td>1</td>\n",
       "      <td>1000_1</td>\n",
       "      <td>1052.81</td>\n",
       "      <td>9</td>\n",
       "      <td>1000</td>\n",
       "    </tr>\n",
       "    <tr>\n",
       "      <td>2</td>\n",
       "      <td>1000_2</td>\n",
       "      <td>1197.26</td>\n",
       "      <td>6</td>\n",
       "      <td>1000</td>\n",
       "    </tr>\n",
       "    <tr>\n",
       "      <td>3</td>\n",
       "      <td>1000_3</td>\n",
       "      <td>550.27</td>\n",
       "      <td>8</td>\n",
       "      <td>1000</td>\n",
       "    </tr>\n",
       "    <tr>\n",
       "      <td>4</td>\n",
       "      <td>1000_4</td>\n",
       "      <td>302.56</td>\n",
       "      <td>9</td>\n",
       "      <td>1000</td>\n",
       "    </tr>\n",
       "  </tbody>\n",
       "</table>\n",
       "</div>"
      ],
      "text/plain": [
       "       id  mb_used  session_date  user_id\n",
       "0  1000_0   112.95            11     1000\n",
       "1  1000_1  1052.81             9     1000\n",
       "2  1000_2  1197.26             6     1000\n",
       "3  1000_3   550.27             8     1000\n",
       "4  1000_4   302.56             9     1000"
      ]
     },
     "execution_count": 43,
     "metadata": {},
     "output_type": "execute_result"
    }
   ],
   "source": [
    "#выведем на экран первые пять строк таблицы:\n",
    "data_internet.head()"
   ]
  },
  {
   "cell_type": "markdown",
   "metadata": {},
   "source": [
    "#### 2.3.1. Для исключения аномалий, изучим  параметр -  объем израсходованного интернет-трафика в месяц."
   ]
  },
  {
   "cell_type": "code",
   "execution_count": 44,
   "metadata": {},
   "outputs": [
    {
     "data": {
      "text/plain": [
       "count    149396.000000\n",
       "mean        370.192426\n",
       "std         278.300951\n",
       "min           0.000000\n",
       "25%         138.187500\n",
       "50%         348.015000\n",
       "75%         559.552500\n",
       "max        1724.830000\n",
       "Name: mb_used, dtype: float64"
      ]
     },
     "metadata": {},
     "output_type": "display_data"
    },
    {
     "data": {
      "image/png": "[encoded data removed]",
      "text/plain": [
       "<Figure size 432x288 with 1 Axes>"
      ]
     },
     "metadata": {
      "needs_background": "light"
     },
     "output_type": "display_data"
    }
   ],
   "source": [
    "#построим гистограмму для визуализации данных\n",
    "data_internet['mb_used'].hist()\n",
    "plt.xlabel(\"объем израсходованного интернет-трафика в месяц\")\n",
    "plt.ylabel(\"число пользователей\")\n",
    "display(data_internet['mb_used'].describe())"
   ]
  },
  {
   "cell_type": "code",
   "execution_count": 46,
   "metadata": {},
   "outputs": [
    {
     "data": {
      "image/png": "[encoded data removed]",
      "text/plain": [
       "<Figure size 432x288 with 1 Axes>"
      ]
     },
     "metadata": {
      "needs_background": "light"
     },
     "output_type": "display_data"
    }
   ],
   "source": [
    "data_internet['mb_used'].plot(kind='box')\n",
    "plt.xlabel(\"объем израсходованного интернет-трафика в месяц\")\n",
    "plt.show()"
   ]
  },
  {
   "cell_type": "code",
   "execution_count": 50,
   "metadata": {},
   "outputs": [],
   "source": [
    "#уберем редкие и выбивающиеся значения\n",
    "data_internet.drop(data_internet[data_internet['mb_used'] >= 1180].index,inplace=True)"
   ]
  },
  {
   "cell_type": "code",
   "execution_count": 51,
   "metadata": {},
   "outputs": [
    {
     "data": {
      "image/png": "[encoded data removed]",
      "text/plain": [
       "<Figure size 432x288 with 1 Axes>"
      ]
     },
     "metadata": {
      "needs_background": "light"
     },
     "output_type": "display_data"
    }
   ],
   "source": [
    "data_internet['mb_used'].plot(kind='box')\n",
    "plt.xlabel(\"объем израсходованного интернет-трафика в месяц\")\n",
    "plt.show()"
   ]
  },
  {
   "cell_type": "code",
   "execution_count": 52,
   "metadata": {},
   "outputs": [],
   "source": [
    "#посчитаем для каждого пользователя объем израсходованного интернет-трафика по месяцам\n",
    "internet = data_internet.pivot_table(index=['user_id', 'session_date'], values='mb_used', aggfunc='sum').reset_index()\n"
   ]
  },
  {
   "cell_type": "code",
   "execution_count": 53,
   "metadata": {},
   "outputs": [
    {
     "data": {
      "text/html": [
       "<div>\n",
       "<style scoped>\n",
       "    .dataframe tbody tr th:only-of-type {\n",
       "        vertical-align: middle;\n",
       "    }\n",
       "\n",
       "    .dataframe tbody tr th {\n",
       "        vertical-align: top;\n",
       "    }\n",
       "\n",
       "    .dataframe thead th {\n",
       "        text-align: right;\n",
       "    }\n",
       "</style>\n",
       "<table border=\"1\" class=\"dataframe\">\n",
       "  <thead>\n",
       "    <tr style=\"text-align: right;\">\n",
       "      <th></th>\n",
       "      <th>user_id</th>\n",
       "      <th>session_date</th>\n",
       "      <th>mb_used</th>\n",
       "    </tr>\n",
       "  </thead>\n",
       "  <tbody>\n",
       "    <tr>\n",
       "      <td>0</td>\n",
       "      <td>1000</td>\n",
       "      <td>5</td>\n",
       "      <td>3</td>\n",
       "    </tr>\n",
       "    <tr>\n",
       "      <td>1</td>\n",
       "      <td>1000</td>\n",
       "      <td>6</td>\n",
       "      <td>22</td>\n",
       "    </tr>\n",
       "    <tr>\n",
       "      <td>2</td>\n",
       "      <td>1000</td>\n",
       "      <td>7</td>\n",
       "      <td>14</td>\n",
       "    </tr>\n",
       "    <tr>\n",
       "      <td>3</td>\n",
       "      <td>1000</td>\n",
       "      <td>8</td>\n",
       "      <td>14</td>\n",
       "    </tr>\n",
       "    <tr>\n",
       "      <td>4</td>\n",
       "      <td>1000</td>\n",
       "      <td>9</td>\n",
       "      <td>15</td>\n",
       "    </tr>\n",
       "  </tbody>\n",
       "</table>\n",
       "</div>"
      ],
      "text/plain": [
       "   user_id  session_date  mb_used\n",
       "0     1000             5        3\n",
       "1     1000             6       22\n",
       "2     1000             7       14\n",
       "3     1000             8       14\n",
       "4     1000             9       15"
      ]
     },
     "execution_count": 53,
     "metadata": {},
     "output_type": "execute_result"
    }
   ],
   "source": [
    "#изменим тип данных на целочисленный и округлим объем интернет-трафика применяя метод np.ceil\n",
    "internet['mb_used'] = np.ceil(internet['mb_used'] / 1024).astype(int)\n",
    "internet.head()"
   ]
  },
  {
   "cell_type": "code",
   "execution_count": 54,
   "metadata": {},
   "outputs": [],
   "source": [
    "#переименуем столбец 'session_date' для последующего объединения сводных таблиц\n",
    "internet = internet.rename(columns ={'session_date' : 'month'})"
   ]
  },
  {
   "cell_type": "code",
   "execution_count": 55,
   "metadata": {},
   "outputs": [
    {
     "data": {
      "text/html": [
       "<div>\n",
       "<style scoped>\n",
       "    .dataframe tbody tr th:only-of-type {\n",
       "        vertical-align: middle;\n",
       "    }\n",
       "\n",
       "    .dataframe tbody tr th {\n",
       "        vertical-align: top;\n",
       "    }\n",
       "\n",
       "    .dataframe thead th {\n",
       "        text-align: right;\n",
       "    }\n",
       "</style>\n",
       "<table border=\"1\" class=\"dataframe\">\n",
       "  <thead>\n",
       "    <tr style=\"text-align: right;\">\n",
       "      <th></th>\n",
       "      <th>user_id</th>\n",
       "      <th>month</th>\n",
       "      <th>mb_used</th>\n",
       "    </tr>\n",
       "  </thead>\n",
       "  <tbody>\n",
       "    <tr>\n",
       "      <td>0</td>\n",
       "      <td>1000</td>\n",
       "      <td>5</td>\n",
       "      <td>3</td>\n",
       "    </tr>\n",
       "    <tr>\n",
       "      <td>1</td>\n",
       "      <td>1000</td>\n",
       "      <td>6</td>\n",
       "      <td>22</td>\n",
       "    </tr>\n",
       "    <tr>\n",
       "      <td>2</td>\n",
       "      <td>1000</td>\n",
       "      <td>7</td>\n",
       "      <td>14</td>\n",
       "    </tr>\n",
       "    <tr>\n",
       "      <td>3</td>\n",
       "      <td>1000</td>\n",
       "      <td>8</td>\n",
       "      <td>14</td>\n",
       "    </tr>\n",
       "    <tr>\n",
       "      <td>4</td>\n",
       "      <td>1000</td>\n",
       "      <td>9</td>\n",
       "      <td>15</td>\n",
       "    </tr>\n",
       "  </tbody>\n",
       "</table>\n",
       "</div>"
      ],
      "text/plain": [
       "   user_id  month  mb_used\n",
       "0     1000      5        3\n",
       "1     1000      6       22\n",
       "2     1000      7       14\n",
       "3     1000      8       14\n",
       "4     1000      9       15"
      ]
     },
     "execution_count": 55,
     "metadata": {},
     "output_type": "execute_result"
    }
   ],
   "source": [
    "#выведем на экран первые пять строк таблицы:\n",
    "internet.head()"
   ]
  },
  {
   "cell_type": "markdown",
   "metadata": {},
   "source": [
    "### 2.4. Объеденим последовательно все сводные таблицы по услугам в одну, используя метод merge"
   ]
  },
  {
   "cell_type": "code",
   "execution_count": 56,
   "metadata": {},
   "outputs": [],
   "source": [
    "data_merge = calls.merge(messages, on=['user_id', 'month'], how='outer')"
   ]
  },
  {
   "cell_type": "code",
   "execution_count": 57,
   "metadata": {},
   "outputs": [],
   "source": [
    "data_merge = data_merge.merge(internet, on=['user_id', 'month'], how='outer')"
   ]
  },
  {
   "cell_type": "code",
   "execution_count": 58,
   "metadata": {},
   "outputs": [],
   "source": [
    "#добавим данные по пользователям\n",
    "data_merge = data_merge.merge(data_users, on='user_id', how='left')"
   ]
  },
  {
   "cell_type": "code",
   "execution_count": 59,
   "metadata": {},
   "outputs": [],
   "source": [
    "#добавим данные по тарифам\n",
    "data_merge = data_merge.merge(data_tariffs, on='tariff', how='left')"
   ]
  },
  {
   "cell_type": "markdown",
   "metadata": {},
   "source": [
    "Выведем на экран первые десять строк таблицы:"
   ]
  },
  {
   "cell_type": "code",
   "execution_count": 60,
   "metadata": {},
   "outputs": [
    {
     "data": {
      "text/html": [
       "<div>\n",
       "<style scoped>\n",
       "    .dataframe tbody tr th:only-of-type {\n",
       "        vertical-align: middle;\n",
       "    }\n",
       "\n",
       "    .dataframe tbody tr th {\n",
       "        vertical-align: top;\n",
       "    }\n",
       "\n",
       "    .dataframe thead th {\n",
       "        text-align: right;\n",
       "    }\n",
       "</style>\n",
       "<table border=\"1\" class=\"dataframe\">\n",
       "  <thead>\n",
       "    <tr style=\"text-align: right;\">\n",
       "      <th></th>\n",
       "      <th>user_id</th>\n",
       "      <th>month</th>\n",
       "      <th>count</th>\n",
       "      <th>sum</th>\n",
       "      <th>id</th>\n",
       "      <th>mb_used</th>\n",
       "      <th>age</th>\n",
       "      <th>churn_date</th>\n",
       "      <th>city</th>\n",
       "      <th>first_name</th>\n",
       "      <th>last_name</th>\n",
       "      <th>reg_date</th>\n",
       "      <th>tariff</th>\n",
       "      <th>messages_included</th>\n",
       "      <th>mb_per_month_included</th>\n",
       "      <th>minutes_included</th>\n",
       "      <th>rub_monthly_fee</th>\n",
       "      <th>rub_per_gb</th>\n",
       "      <th>rub_per_message</th>\n",
       "      <th>rub_per_minute</th>\n",
       "    </tr>\n",
       "  </thead>\n",
       "  <tbody>\n",
       "    <tr>\n",
       "      <td>0</td>\n",
       "      <td>1000</td>\n",
       "      <td>5</td>\n",
       "      <td>22.0</td>\n",
       "      <td>159.0</td>\n",
       "      <td>22.0</td>\n",
       "      <td>3.0</td>\n",
       "      <td>52</td>\n",
       "      <td>NaN</td>\n",
       "      <td>Краснодар</td>\n",
       "      <td>Рафаил</td>\n",
       "      <td>Верещагин</td>\n",
       "      <td>2018-05-25</td>\n",
       "      <td>ultra</td>\n",
       "      <td>1000</td>\n",
       "      <td>30720</td>\n",
       "      <td>3000</td>\n",
       "      <td>1950</td>\n",
       "      <td>150</td>\n",
       "      <td>1</td>\n",
       "      <td>1</td>\n",
       "    </tr>\n",
       "    <tr>\n",
       "      <td>1</td>\n",
       "      <td>1000</td>\n",
       "      <td>6</td>\n",
       "      <td>43.0</td>\n",
       "      <td>172.0</td>\n",
       "      <td>60.0</td>\n",
       "      <td>22.0</td>\n",
       "      <td>52</td>\n",
       "      <td>NaN</td>\n",
       "      <td>Краснодар</td>\n",
       "      <td>Рафаил</td>\n",
       "      <td>Верещагин</td>\n",
       "      <td>2018-05-25</td>\n",
       "      <td>ultra</td>\n",
       "      <td>1000</td>\n",
       "      <td>30720</td>\n",
       "      <td>3000</td>\n",
       "      <td>1950</td>\n",
       "      <td>150</td>\n",
       "      <td>1</td>\n",
       "      <td>1</td>\n",
       "    </tr>\n",
       "    <tr>\n",
       "      <td>2</td>\n",
       "      <td>1000</td>\n",
       "      <td>7</td>\n",
       "      <td>47.0</td>\n",
       "      <td>340.0</td>\n",
       "      <td>75.0</td>\n",
       "      <td>14.0</td>\n",
       "      <td>52</td>\n",
       "      <td>NaN</td>\n",
       "      <td>Краснодар</td>\n",
       "      <td>Рафаил</td>\n",
       "      <td>Верещагин</td>\n",
       "      <td>2018-05-25</td>\n",
       "      <td>ultra</td>\n",
       "      <td>1000</td>\n",
       "      <td>30720</td>\n",
       "      <td>3000</td>\n",
       "      <td>1950</td>\n",
       "      <td>150</td>\n",
       "      <td>1</td>\n",
       "      <td>1</td>\n",
       "    </tr>\n",
       "    <tr>\n",
       "      <td>3</td>\n",
       "      <td>1000</td>\n",
       "      <td>8</td>\n",
       "      <td>52.0</td>\n",
       "      <td>408.0</td>\n",
       "      <td>81.0</td>\n",
       "      <td>14.0</td>\n",
       "      <td>52</td>\n",
       "      <td>NaN</td>\n",
       "      <td>Краснодар</td>\n",
       "      <td>Рафаил</td>\n",
       "      <td>Верещагин</td>\n",
       "      <td>2018-05-25</td>\n",
       "      <td>ultra</td>\n",
       "      <td>1000</td>\n",
       "      <td>30720</td>\n",
       "      <td>3000</td>\n",
       "      <td>1950</td>\n",
       "      <td>150</td>\n",
       "      <td>1</td>\n",
       "      <td>1</td>\n",
       "    </tr>\n",
       "    <tr>\n",
       "      <td>4</td>\n",
       "      <td>1000</td>\n",
       "      <td>9</td>\n",
       "      <td>58.0</td>\n",
       "      <td>466.0</td>\n",
       "      <td>57.0</td>\n",
       "      <td>15.0</td>\n",
       "      <td>52</td>\n",
       "      <td>NaN</td>\n",
       "      <td>Краснодар</td>\n",
       "      <td>Рафаил</td>\n",
       "      <td>Верещагин</td>\n",
       "      <td>2018-05-25</td>\n",
       "      <td>ultra</td>\n",
       "      <td>1000</td>\n",
       "      <td>30720</td>\n",
       "      <td>3000</td>\n",
       "      <td>1950</td>\n",
       "      <td>150</td>\n",
       "      <td>1</td>\n",
       "      <td>1</td>\n",
       "    </tr>\n",
       "    <tr>\n",
       "      <td>5</td>\n",
       "      <td>1000</td>\n",
       "      <td>10</td>\n",
       "      <td>57.0</td>\n",
       "      <td>350.0</td>\n",
       "      <td>73.0</td>\n",
       "      <td>15.0</td>\n",
       "      <td>52</td>\n",
       "      <td>NaN</td>\n",
       "      <td>Краснодар</td>\n",
       "      <td>Рафаил</td>\n",
       "      <td>Верещагин</td>\n",
       "      <td>2018-05-25</td>\n",
       "      <td>ultra</td>\n",
       "      <td>1000</td>\n",
       "      <td>30720</td>\n",
       "      <td>3000</td>\n",
       "      <td>1950</td>\n",
       "      <td>150</td>\n",
       "      <td>1</td>\n",
       "      <td>1</td>\n",
       "    </tr>\n",
       "    <tr>\n",
       "      <td>6</td>\n",
       "      <td>1000</td>\n",
       "      <td>11</td>\n",
       "      <td>42.0</td>\n",
       "      <td>313.0</td>\n",
       "      <td>58.0</td>\n",
       "      <td>12.0</td>\n",
       "      <td>52</td>\n",
       "      <td>NaN</td>\n",
       "      <td>Краснодар</td>\n",
       "      <td>Рафаил</td>\n",
       "      <td>Верещагин</td>\n",
       "      <td>2018-05-25</td>\n",
       "      <td>ultra</td>\n",
       "      <td>1000</td>\n",
       "      <td>30720</td>\n",
       "      <td>3000</td>\n",
       "      <td>1950</td>\n",
       "      <td>150</td>\n",
       "      <td>1</td>\n",
       "      <td>1</td>\n",
       "    </tr>\n",
       "    <tr>\n",
       "      <td>7</td>\n",
       "      <td>1000</td>\n",
       "      <td>12</td>\n",
       "      <td>46.0</td>\n",
       "      <td>333.0</td>\n",
       "      <td>70.0</td>\n",
       "      <td>10.0</td>\n",
       "      <td>52</td>\n",
       "      <td>NaN</td>\n",
       "      <td>Краснодар</td>\n",
       "      <td>Рафаил</td>\n",
       "      <td>Верещагин</td>\n",
       "      <td>2018-05-25</td>\n",
       "      <td>ultra</td>\n",
       "      <td>1000</td>\n",
       "      <td>30720</td>\n",
       "      <td>3000</td>\n",
       "      <td>1950</td>\n",
       "      <td>150</td>\n",
       "      <td>1</td>\n",
       "      <td>1</td>\n",
       "    </tr>\n",
       "    <tr>\n",
       "      <td>8</td>\n",
       "      <td>1001</td>\n",
       "      <td>11</td>\n",
       "      <td>59.0</td>\n",
       "      <td>430.0</td>\n",
       "      <td>NaN</td>\n",
       "      <td>18.0</td>\n",
       "      <td>41</td>\n",
       "      <td>NaN</td>\n",
       "      <td>Москва</td>\n",
       "      <td>Иван</td>\n",
       "      <td>Ежов</td>\n",
       "      <td>2018-11-01</td>\n",
       "      <td>smart</td>\n",
       "      <td>50</td>\n",
       "      <td>15360</td>\n",
       "      <td>500</td>\n",
       "      <td>550</td>\n",
       "      <td>200</td>\n",
       "      <td>3</td>\n",
       "      <td>3</td>\n",
       "    </tr>\n",
       "    <tr>\n",
       "      <td>9</td>\n",
       "      <td>1001</td>\n",
       "      <td>12</td>\n",
       "      <td>63.0</td>\n",
       "      <td>414.0</td>\n",
       "      <td>NaN</td>\n",
       "      <td>14.0</td>\n",
       "      <td>41</td>\n",
       "      <td>NaN</td>\n",
       "      <td>Москва</td>\n",
       "      <td>Иван</td>\n",
       "      <td>Ежов</td>\n",
       "      <td>2018-11-01</td>\n",
       "      <td>smart</td>\n",
       "      <td>50</td>\n",
       "      <td>15360</td>\n",
       "      <td>500</td>\n",
       "      <td>550</td>\n",
       "      <td>200</td>\n",
       "      <td>3</td>\n",
       "      <td>3</td>\n",
       "    </tr>\n",
       "  </tbody>\n",
       "</table>\n",
       "</div>"
      ],
      "text/plain": [
       "   user_id  month  count    sum    id  mb_used  age churn_date       city  \\\n",
       "0     1000      5   22.0  159.0  22.0      3.0   52        NaN  Краснодар   \n",
       "1     1000      6   43.0  172.0  60.0     22.0   52        NaN  Краснодар   \n",
       "2     1000      7   47.0  340.0  75.0     14.0   52        NaN  Краснодар   \n",
       "3     1000      8   52.0  408.0  81.0     14.0   52        NaN  Краснодар   \n",
       "4     1000      9   58.0  466.0  57.0     15.0   52        NaN  Краснодар   \n",
       "5     1000     10   57.0  350.0  73.0     15.0   52        NaN  Краснодар   \n",
       "6     1000     11   42.0  313.0  58.0     12.0   52        NaN  Краснодар   \n",
       "7     1000     12   46.0  333.0  70.0     10.0   52        NaN  Краснодар   \n",
       "8     1001     11   59.0  430.0   NaN     18.0   41        NaN     Москва   \n",
       "9     1001     12   63.0  414.0   NaN     14.0   41        NaN     Москва   \n",
       "\n",
       "  first_name  last_name    reg_date tariff  messages_included  \\\n",
       "0     Рафаил  Верещагин  2018-05-25  ultra               1000   \n",
       "1     Рафаил  Верещагин  2018-05-25  ultra               1000   \n",
       "2     Рафаил  Верещагин  2018-05-25  ultra               1000   \n",
       "3     Рафаил  Верещагин  2018-05-25  ultra               1000   \n",
       "4     Рафаил  Верещагин  2018-05-25  ultra               1000   \n",
       "5     Рафаил  Верещагин  2018-05-25  ultra               1000   \n",
       "6     Рафаил  Верещагин  2018-05-25  ultra               1000   \n",
       "7     Рафаил  Верещагин  2018-05-25  ultra               1000   \n",
       "8       Иван       Ежов  2018-11-01  smart                 50   \n",
       "9       Иван       Ежов  2018-11-01  smart                 50   \n",
       "\n",
       "   mb_per_month_included  minutes_included  rub_monthly_fee  rub_per_gb  \\\n",
       "0                  30720              3000             1950         150   \n",
       "1                  30720              3000             1950         150   \n",
       "2                  30720              3000             1950         150   \n",
       "3                  30720              3000             1950         150   \n",
       "4                  30720              3000             1950         150   \n",
       "5                  30720              3000             1950         150   \n",
       "6                  30720              3000             1950         150   \n",
       "7                  30720              3000             1950         150   \n",
       "8                  15360               500              550         200   \n",
       "9                  15360               500              550         200   \n",
       "\n",
       "   rub_per_message  rub_per_minute  \n",
       "0                1               1  \n",
       "1                1               1  \n",
       "2                1               1  \n",
       "3                1               1  \n",
       "4                1               1  \n",
       "5                1               1  \n",
       "6                1               1  \n",
       "7                1               1  \n",
       "8                3               3  \n",
       "9                3               3  "
      ]
     },
     "execution_count": 60,
     "metadata": {},
     "output_type": "execute_result"
    }
   ],
   "source": [
    "data_merge.head(10)"
   ]
  },
  {
   "cell_type": "code",
   "execution_count": 61,
   "metadata": {},
   "outputs": [
    {
     "data": {
      "text/plain": [
       "user_id                     0\n",
       "month                       0\n",
       "count                      40\n",
       "sum                        40\n",
       "id                        610\n",
       "mb_used                    11\n",
       "age                         0\n",
       "churn_date               3027\n",
       "city                        0\n",
       "first_name                  0\n",
       "last_name                   0\n",
       "reg_date                    0\n",
       "tariff                      0\n",
       "messages_included           0\n",
       "mb_per_month_included       0\n",
       "minutes_included            0\n",
       "rub_monthly_fee             0\n",
       "rub_per_gb                  0\n",
       "rub_per_message             0\n",
       "rub_per_minute              0\n",
       "dtype: int64"
      ]
     },
     "execution_count": 61,
     "metadata": {},
     "output_type": "execute_result"
    }
   ],
   "source": [
    "#проверим метрики после объединения таблиц\n",
    "data_merge.isna().sum()"
   ]
  },
  {
   "cell_type": "markdown",
   "metadata": {},
   "source": [
    "#### Вывод: \n",
    "* Пропущенные значения в столбце churn_date(дата прекращения пользования тарифом) означают то, что тариф ещё действовал на момент выгрузки данных. Данные в столбцах id, count, sum, mb_used заполним нулями, т.к. очевидно, что некоторые пользователи не использовали звонки, сообщения или интернет в определенные месяцы. "
   ]
  },
  {
   "cell_type": "code",
   "execution_count": 62,
   "metadata": {},
   "outputs": [],
   "source": [
    "data_merge['count'] = data_merge['count'].fillna(0)"
   ]
  },
  {
   "cell_type": "code",
   "execution_count": 63,
   "metadata": {},
   "outputs": [],
   "source": [
    "data_merge['sum'] = data_merge['sum'].fillna(0)"
   ]
  },
  {
   "cell_type": "code",
   "execution_count": 64,
   "metadata": {},
   "outputs": [],
   "source": [
    "data_merge['id'] = data_merge['id'].fillna(0)"
   ]
  },
  {
   "cell_type": "code",
   "execution_count": 65,
   "metadata": {},
   "outputs": [],
   "source": [
    "data_merge['mb_used'] = data_merge['mb_used' ].fillna(0)"
   ]
  },
  {
   "cell_type": "code",
   "execution_count": 66,
   "metadata": {},
   "outputs": [
    {
     "data": {
      "text/plain": [
       "user_id                     0\n",
       "month                       0\n",
       "count                       0\n",
       "sum                         0\n",
       "id                          0\n",
       "mb_used                     0\n",
       "age                         0\n",
       "churn_date               3027\n",
       "city                        0\n",
       "first_name                  0\n",
       "last_name                   0\n",
       "reg_date                    0\n",
       "tariff                      0\n",
       "messages_included           0\n",
       "mb_per_month_included       0\n",
       "minutes_included            0\n",
       "rub_monthly_fee             0\n",
       "rub_per_gb                  0\n",
       "rub_per_message             0\n",
       "rub_per_minute              0\n",
       "dtype: int64"
      ]
     },
     "execution_count": 66,
     "metadata": {},
     "output_type": "execute_result"
    }
   ],
   "source": [
    "data_merge.isna().sum()"
   ]
  },
  {
   "cell_type": "markdown",
   "metadata": {},
   "source": [
    "### 2.5. Посчитаем для каждого пользователя помесячную выручку с каждого пользователя (вычетаем бесплатный лимит из суммарного количества звонков, сообщений и интернет-трафика; остаток умножаем на значение из тарифного плана; прибавляем абонентскую плату, соответствующую тарифному плану).\n"
   ]
  },
  {
   "cell_type": "code",
   "execution_count": 67,
   "metadata": {},
   "outputs": [],
   "source": [
    "#для наглядности переименуем названия столбцов в итоговой таблице\n",
    "data_merge = data_merge.rename(columns = {'sum' : 'minutes', 'id' : 'messages'})"
   ]
  },
  {
   "cell_type": "code",
   "execution_count": 68,
   "metadata": {},
   "outputs": [
    {
     "data": {
      "text/html": [
       "<div>\n",
       "<style scoped>\n",
       "    .dataframe tbody tr th:only-of-type {\n",
       "        vertical-align: middle;\n",
       "    }\n",
       "\n",
       "    .dataframe tbody tr th {\n",
       "        vertical-align: top;\n",
       "    }\n",
       "\n",
       "    .dataframe thead th {\n",
       "        text-align: right;\n",
       "    }\n",
       "</style>\n",
       "<table border=\"1\" class=\"dataframe\">\n",
       "  <thead>\n",
       "    <tr style=\"text-align: right;\">\n",
       "      <th></th>\n",
       "      <th>user_id</th>\n",
       "      <th>month</th>\n",
       "      <th>count</th>\n",
       "      <th>minutes</th>\n",
       "      <th>messages</th>\n",
       "      <th>mb_used</th>\n",
       "      <th>age</th>\n",
       "      <th>churn_date</th>\n",
       "      <th>city</th>\n",
       "      <th>first_name</th>\n",
       "      <th>last_name</th>\n",
       "      <th>reg_date</th>\n",
       "      <th>tariff</th>\n",
       "      <th>messages_included</th>\n",
       "      <th>mb_per_month_included</th>\n",
       "      <th>minutes_included</th>\n",
       "      <th>rub_monthly_fee</th>\n",
       "      <th>rub_per_gb</th>\n",
       "      <th>rub_per_message</th>\n",
       "      <th>rub_per_minute</th>\n",
       "    </tr>\n",
       "  </thead>\n",
       "  <tbody>\n",
       "    <tr>\n",
       "      <td>0</td>\n",
       "      <td>1000</td>\n",
       "      <td>5</td>\n",
       "      <td>22.0</td>\n",
       "      <td>159.0</td>\n",
       "      <td>22.0</td>\n",
       "      <td>3.0</td>\n",
       "      <td>52</td>\n",
       "      <td>NaN</td>\n",
       "      <td>Краснодар</td>\n",
       "      <td>Рафаил</td>\n",
       "      <td>Верещагин</td>\n",
       "      <td>2018-05-25</td>\n",
       "      <td>ultra</td>\n",
       "      <td>1000</td>\n",
       "      <td>30720</td>\n",
       "      <td>3000</td>\n",
       "      <td>1950</td>\n",
       "      <td>150</td>\n",
       "      <td>1</td>\n",
       "      <td>1</td>\n",
       "    </tr>\n",
       "    <tr>\n",
       "      <td>1</td>\n",
       "      <td>1000</td>\n",
       "      <td>6</td>\n",
       "      <td>43.0</td>\n",
       "      <td>172.0</td>\n",
       "      <td>60.0</td>\n",
       "      <td>22.0</td>\n",
       "      <td>52</td>\n",
       "      <td>NaN</td>\n",
       "      <td>Краснодар</td>\n",
       "      <td>Рафаил</td>\n",
       "      <td>Верещагин</td>\n",
       "      <td>2018-05-25</td>\n",
       "      <td>ultra</td>\n",
       "      <td>1000</td>\n",
       "      <td>30720</td>\n",
       "      <td>3000</td>\n",
       "      <td>1950</td>\n",
       "      <td>150</td>\n",
       "      <td>1</td>\n",
       "      <td>1</td>\n",
       "    </tr>\n",
       "    <tr>\n",
       "      <td>2</td>\n",
       "      <td>1000</td>\n",
       "      <td>7</td>\n",
       "      <td>47.0</td>\n",
       "      <td>340.0</td>\n",
       "      <td>75.0</td>\n",
       "      <td>14.0</td>\n",
       "      <td>52</td>\n",
       "      <td>NaN</td>\n",
       "      <td>Краснодар</td>\n",
       "      <td>Рафаил</td>\n",
       "      <td>Верещагин</td>\n",
       "      <td>2018-05-25</td>\n",
       "      <td>ultra</td>\n",
       "      <td>1000</td>\n",
       "      <td>30720</td>\n",
       "      <td>3000</td>\n",
       "      <td>1950</td>\n",
       "      <td>150</td>\n",
       "      <td>1</td>\n",
       "      <td>1</td>\n",
       "    </tr>\n",
       "    <tr>\n",
       "      <td>3</td>\n",
       "      <td>1000</td>\n",
       "      <td>8</td>\n",
       "      <td>52.0</td>\n",
       "      <td>408.0</td>\n",
       "      <td>81.0</td>\n",
       "      <td>14.0</td>\n",
       "      <td>52</td>\n",
       "      <td>NaN</td>\n",
       "      <td>Краснодар</td>\n",
       "      <td>Рафаил</td>\n",
       "      <td>Верещагин</td>\n",
       "      <td>2018-05-25</td>\n",
       "      <td>ultra</td>\n",
       "      <td>1000</td>\n",
       "      <td>30720</td>\n",
       "      <td>3000</td>\n",
       "      <td>1950</td>\n",
       "      <td>150</td>\n",
       "      <td>1</td>\n",
       "      <td>1</td>\n",
       "    </tr>\n",
       "    <tr>\n",
       "      <td>4</td>\n",
       "      <td>1000</td>\n",
       "      <td>9</td>\n",
       "      <td>58.0</td>\n",
       "      <td>466.0</td>\n",
       "      <td>57.0</td>\n",
       "      <td>15.0</td>\n",
       "      <td>52</td>\n",
       "      <td>NaN</td>\n",
       "      <td>Краснодар</td>\n",
       "      <td>Рафаил</td>\n",
       "      <td>Верещагин</td>\n",
       "      <td>2018-05-25</td>\n",
       "      <td>ultra</td>\n",
       "      <td>1000</td>\n",
       "      <td>30720</td>\n",
       "      <td>3000</td>\n",
       "      <td>1950</td>\n",
       "      <td>150</td>\n",
       "      <td>1</td>\n",
       "      <td>1</td>\n",
       "    </tr>\n",
       "  </tbody>\n",
       "</table>\n",
       "</div>"
      ],
      "text/plain": [
       "   user_id  month  count  minutes  messages  mb_used  age churn_date  \\\n",
       "0     1000      5   22.0    159.0      22.0      3.0   52        NaN   \n",
       "1     1000      6   43.0    172.0      60.0     22.0   52        NaN   \n",
       "2     1000      7   47.0    340.0      75.0     14.0   52        NaN   \n",
       "3     1000      8   52.0    408.0      81.0     14.0   52        NaN   \n",
       "4     1000      9   58.0    466.0      57.0     15.0   52        NaN   \n",
       "\n",
       "        city first_name  last_name    reg_date tariff  messages_included  \\\n",
       "0  Краснодар     Рафаил  Верещагин  2018-05-25  ultra               1000   \n",
       "1  Краснодар     Рафаил  Верещагин  2018-05-25  ultra               1000   \n",
       "2  Краснодар     Рафаил  Верещагин  2018-05-25  ultra               1000   \n",
       "3  Краснодар     Рафаил  Верещагин  2018-05-25  ultra               1000   \n",
       "4  Краснодар     Рафаил  Верещагин  2018-05-25  ultra               1000   \n",
       "\n",
       "   mb_per_month_included  minutes_included  rub_monthly_fee  rub_per_gb  \\\n",
       "0                  30720              3000             1950         150   \n",
       "1                  30720              3000             1950         150   \n",
       "2                  30720              3000             1950         150   \n",
       "3                  30720              3000             1950         150   \n",
       "4                  30720              3000             1950         150   \n",
       "\n",
       "   rub_per_message  rub_per_minute  \n",
       "0                1               1  \n",
       "1                1               1  \n",
       "2                1               1  \n",
       "3                1               1  \n",
       "4                1               1  "
      ]
     },
     "execution_count": 68,
     "metadata": {},
     "output_type": "execute_result"
    }
   ],
   "source": [
    "#выведем на экран первые пять строк таблицы:\n",
    "data_merge.head()"
   ]
  },
  {
   "cell_type": "code",
   "execution_count": 69,
   "metadata": {},
   "outputs": [],
   "source": [
    "#посчитаем перерасход по каждой услуге\n",
    "data_merge['minutes_overrun']  = data_merge['minutes'] - data_merge['minutes_included']\n",
    "data_merge['messages_overrun'] = data_merge['messages'] - data_merge['messages_included']\n",
    "data_merge['mb_used_overrun']  = data_merge['mb_used'] - data_merge['mb_per_month_included'] /1024"
   ]
  },
  {
   "cell_type": "code",
   "execution_count": 70,
   "metadata": {},
   "outputs": [
    {
     "data": {
      "text/html": [
       "<div>\n",
       "<style scoped>\n",
       "    .dataframe tbody tr th:only-of-type {\n",
       "        vertical-align: middle;\n",
       "    }\n",
       "\n",
       "    .dataframe tbody tr th {\n",
       "        vertical-align: top;\n",
       "    }\n",
       "\n",
       "    .dataframe thead th {\n",
       "        text-align: right;\n",
       "    }\n",
       "</style>\n",
       "<table border=\"1\" class=\"dataframe\">\n",
       "  <thead>\n",
       "    <tr style=\"text-align: right;\">\n",
       "      <th></th>\n",
       "      <th>user_id</th>\n",
       "      <th>month</th>\n",
       "      <th>count</th>\n",
       "      <th>minutes</th>\n",
       "      <th>messages</th>\n",
       "      <th>mb_used</th>\n",
       "      <th>age</th>\n",
       "      <th>churn_date</th>\n",
       "      <th>city</th>\n",
       "      <th>first_name</th>\n",
       "      <th>...</th>\n",
       "      <th>messages_included</th>\n",
       "      <th>mb_per_month_included</th>\n",
       "      <th>minutes_included</th>\n",
       "      <th>rub_monthly_fee</th>\n",
       "      <th>rub_per_gb</th>\n",
       "      <th>rub_per_message</th>\n",
       "      <th>rub_per_minute</th>\n",
       "      <th>minutes_overrun</th>\n",
       "      <th>messages_overrun</th>\n",
       "      <th>mb_used_overrun</th>\n",
       "    </tr>\n",
       "  </thead>\n",
       "  <tbody>\n",
       "    <tr>\n",
       "      <td>0</td>\n",
       "      <td>1000</td>\n",
       "      <td>5</td>\n",
       "      <td>22.0</td>\n",
       "      <td>159.0</td>\n",
       "      <td>22.0</td>\n",
       "      <td>3.0</td>\n",
       "      <td>52</td>\n",
       "      <td>NaN</td>\n",
       "      <td>Краснодар</td>\n",
       "      <td>Рафаил</td>\n",
       "      <td>...</td>\n",
       "      <td>1000</td>\n",
       "      <td>30720</td>\n",
       "      <td>3000</td>\n",
       "      <td>1950</td>\n",
       "      <td>150</td>\n",
       "      <td>1</td>\n",
       "      <td>1</td>\n",
       "      <td>-2841.0</td>\n",
       "      <td>-978.0</td>\n",
       "      <td>-27.0</td>\n",
       "    </tr>\n",
       "    <tr>\n",
       "      <td>1</td>\n",
       "      <td>1000</td>\n",
       "      <td>6</td>\n",
       "      <td>43.0</td>\n",
       "      <td>172.0</td>\n",
       "      <td>60.0</td>\n",
       "      <td>22.0</td>\n",
       "      <td>52</td>\n",
       "      <td>NaN</td>\n",
       "      <td>Краснодар</td>\n",
       "      <td>Рафаил</td>\n",
       "      <td>...</td>\n",
       "      <td>1000</td>\n",
       "      <td>30720</td>\n",
       "      <td>3000</td>\n",
       "      <td>1950</td>\n",
       "      <td>150</td>\n",
       "      <td>1</td>\n",
       "      <td>1</td>\n",
       "      <td>-2828.0</td>\n",
       "      <td>-940.0</td>\n",
       "      <td>-8.0</td>\n",
       "    </tr>\n",
       "    <tr>\n",
       "      <td>2</td>\n",
       "      <td>1000</td>\n",
       "      <td>7</td>\n",
       "      <td>47.0</td>\n",
       "      <td>340.0</td>\n",
       "      <td>75.0</td>\n",
       "      <td>14.0</td>\n",
       "      <td>52</td>\n",
       "      <td>NaN</td>\n",
       "      <td>Краснодар</td>\n",
       "      <td>Рафаил</td>\n",
       "      <td>...</td>\n",
       "      <td>1000</td>\n",
       "      <td>30720</td>\n",
       "      <td>3000</td>\n",
       "      <td>1950</td>\n",
       "      <td>150</td>\n",
       "      <td>1</td>\n",
       "      <td>1</td>\n",
       "      <td>-2660.0</td>\n",
       "      <td>-925.0</td>\n",
       "      <td>-16.0</td>\n",
       "    </tr>\n",
       "    <tr>\n",
       "      <td>3</td>\n",
       "      <td>1000</td>\n",
       "      <td>8</td>\n",
       "      <td>52.0</td>\n",
       "      <td>408.0</td>\n",
       "      <td>81.0</td>\n",
       "      <td>14.0</td>\n",
       "      <td>52</td>\n",
       "      <td>NaN</td>\n",
       "      <td>Краснодар</td>\n",
       "      <td>Рафаил</td>\n",
       "      <td>...</td>\n",
       "      <td>1000</td>\n",
       "      <td>30720</td>\n",
       "      <td>3000</td>\n",
       "      <td>1950</td>\n",
       "      <td>150</td>\n",
       "      <td>1</td>\n",
       "      <td>1</td>\n",
       "      <td>-2592.0</td>\n",
       "      <td>-919.0</td>\n",
       "      <td>-16.0</td>\n",
       "    </tr>\n",
       "    <tr>\n",
       "      <td>4</td>\n",
       "      <td>1000</td>\n",
       "      <td>9</td>\n",
       "      <td>58.0</td>\n",
       "      <td>466.0</td>\n",
       "      <td>57.0</td>\n",
       "      <td>15.0</td>\n",
       "      <td>52</td>\n",
       "      <td>NaN</td>\n",
       "      <td>Краснодар</td>\n",
       "      <td>Рафаил</td>\n",
       "      <td>...</td>\n",
       "      <td>1000</td>\n",
       "      <td>30720</td>\n",
       "      <td>3000</td>\n",
       "      <td>1950</td>\n",
       "      <td>150</td>\n",
       "      <td>1</td>\n",
       "      <td>1</td>\n",
       "      <td>-2534.0</td>\n",
       "      <td>-943.0</td>\n",
       "      <td>-15.0</td>\n",
       "    </tr>\n",
       "  </tbody>\n",
       "</table>\n",
       "<p>5 rows × 23 columns</p>\n",
       "</div>"
      ],
      "text/plain": [
       "   user_id  month  count  minutes  messages  mb_used  age churn_date  \\\n",
       "0     1000      5   22.0    159.0      22.0      3.0   52        NaN   \n",
       "1     1000      6   43.0    172.0      60.0     22.0   52        NaN   \n",
       "2     1000      7   47.0    340.0      75.0     14.0   52        NaN   \n",
       "3     1000      8   52.0    408.0      81.0     14.0   52        NaN   \n",
       "4     1000      9   58.0    466.0      57.0     15.0   52        NaN   \n",
       "\n",
       "        city first_name  ... messages_included mb_per_month_included  \\\n",
       "0  Краснодар     Рафаил  ...              1000                 30720   \n",
       "1  Краснодар     Рафаил  ...              1000                 30720   \n",
       "2  Краснодар     Рафаил  ...              1000                 30720   \n",
       "3  Краснодар     Рафаил  ...              1000                 30720   \n",
       "4  Краснодар     Рафаил  ...              1000                 30720   \n",
       "\n",
       "  minutes_included  rub_monthly_fee  rub_per_gb  rub_per_message  \\\n",
       "0             3000             1950         150                1   \n",
       "1             3000             1950         150                1   \n",
       "2             3000             1950         150                1   \n",
       "3             3000             1950         150                1   \n",
       "4             3000             1950         150                1   \n",
       "\n",
       "   rub_per_minute  minutes_overrun  messages_overrun  mb_used_overrun  \n",
       "0               1          -2841.0            -978.0            -27.0  \n",
       "1               1          -2828.0            -940.0             -8.0  \n",
       "2               1          -2660.0            -925.0            -16.0  \n",
       "3               1          -2592.0            -919.0            -16.0  \n",
       "4               1          -2534.0            -943.0            -15.0  \n",
       "\n",
       "[5 rows x 23 columns]"
      ]
     },
     "execution_count": 70,
     "metadata": {},
     "output_type": "execute_result"
    }
   ],
   "source": [
    "data_merge.head()"
   ]
  },
  {
   "cell_type": "code",
   "execution_count": 71,
   "metadata": {},
   "outputs": [],
   "source": [
    "# создадим функцию, которая считает выручку исходя из тарифа и потребляемых услуг\n",
    "def get_revenue(row):\n",
    "    revenue_by_minutes = 0\n",
    "    revenue_by_messages = 0\n",
    "    revenue_mb = 0\n",
    "\n",
    "    if row['minutes_overrun'] > 0:\n",
    "        revenue_by_minutes = row['minutes_overrun'] * row['rub_per_minute']\n",
    "\n",
    "    if row['messages_overrun'] > 0:\n",
    "        revenue_by_messages = row['messages_overrun'] * row['rub_per_message']\n",
    "        \n",
    "    if row['mb_used_overrun'] > 0:\n",
    "        revenue_mb = row['mb_used_overrun'] * row['rub_per_gb']          \n",
    "    return revenue_by_minutes + revenue_by_messages + revenue_mb + row['rub_monthly_fee']"
   ]
  },
  {
   "cell_type": "code",
   "execution_count": 72,
   "metadata": {},
   "outputs": [],
   "source": [
    "#добавим столбец, где и будет выручка по каждому пользователю за конкретный месяц с учетом стоимости перерасхода услуг и абонентской платы, соответствующей тарифному плану\n",
    "data_merge['revenue'] = data_merge.apply(get_revenue, axis=1)\n"
   ]
  },
  {
   "cell_type": "code",
   "execution_count": 73,
   "metadata": {},
   "outputs": [
    {
     "data": {
      "text/plain": [
       "array([1950., 1150.,  550., 1550.,  950., 1350.,  886., 1111.,  835.,\n",
       "        808.,  775.,  871.,  556., 1219.,  616.,  688.,  750.,  685.,\n",
       "        981., 1750.,  862.,  903.,  568., 2550., 2350., 1795., 1459.,\n",
       "       2553., 2150., 3350., 3150., 2750., 2153., 2559., 1019., 3040.,\n",
       "       1838., 3004., 1004., 1235., 1983., 1622., 1672., 3246., 3450.,\n",
       "       2850., 1906.,  694., 1009.,  739., 1064., 2919., 1998., 1913.,\n",
       "       1087., 1723.,  718.,  703.,  691.,  679.,  673., 1473.,  676.,\n",
       "        967.,  736.,  986., 1171., 2031., 2831., 1640., 2616., 1616.,\n",
       "       1697.,  553.,  589.,  562., 1359., 1112.,  840.,  976., 3233.,\n",
       "       5509., 2950., 2186., 1580.,  574., 1356., 1965.,  995.,  971.,\n",
       "       2189.,  756., 2213., 1685., 2040., 3500., 3985.,  601., 1951.,\n",
       "       2788., 2130., 2264., 1603., 1079., 1476., 1488., 1612., 1074.,\n",
       "       1911., 2141., 1014., 1471., 1025.,  924., 2363.,  921., 2210.,\n",
       "       1553., 2263., 2684., 1047., 2813., 1948., 1608., 2028., 3750.,\n",
       "       2367., 1539., 1214., 1867., 1556., 2601., 3375., 1807., 2605.,\n",
       "       3195., 1879., 2168., 2395., 3211.,  982.,  873., 1505., 2362.,\n",
       "        619.,  712.,  592.,  604.,  634., 2916., 3175., 2712., 2301.,\n",
       "       2972., 2201.,  849., 2190.,  819., 2106., 1858., 1975., 1724.,\n",
       "       2107.,  721., 2014., 1908., 3127.,  826.,  763.,  859.,  652.,\n",
       "        816., 1592., 1365., 1106., 1097., 1614.,  753.,  837.,  948.,\n",
       "        577., 2589., 1034., 2368., 2353., 2810., 2577., 1077., 2113.,\n",
       "       1516., 2420., 2382., 3290., 1270., 2035., 1870., 4814., 1246.,\n",
       "       1191.,  727., 1040.,  823.,  595.,  664.,  622., 1135., 1789.,\n",
       "       1954., 1392., 2193., 3210., 2837., 2646.,  962., 1057., 1410.,\n",
       "       3046.,  655.,  841.,  706., 2001., 1805.,  974., 1051., 1012.,\n",
       "        964.,  733., 1069., 1180.,  934., 1006.,  916., 1306.,  996.,\n",
       "       1018., 1489., 1810., 1348., 1193.,  751.,  928.,  953., 2783.,\n",
       "        927.,  643., 1205., 2288., 1133., 1284., 2069., 1423., 1216.,\n",
       "       1942., 4200., 2400., 3300., 2100.,  625.,  661., 1007., 1446.,\n",
       "        807.,  637., 1437., 1651., 1368.,  980., 2641.,  583., 1605.,\n",
       "       1263.,  882., 1202., 1045.,  994., 1571., 1404.,  586.,  963.,\n",
       "       1038.,  792., 1142., 1534., 1577., 3670., 4427., 2953., 3136.,\n",
       "       2631.,  900.,  959., 1625.,  640.,  804., 1198.,  580., 1109.,\n",
       "        697., 1993., 1002., 1461.,  834.,  787.,  772., 2097., 1679.,\n",
       "        670., 1436., 2076., 2250., 2273., 2855., 2697., 1831., 2622.,\n",
       "       2419.,  939., 3194.,  765.,  565.,  571.,  667.,  786., 5252.,\n",
       "       2700., 1072.,  832., 1036., 1078., 1398., 4350., 3950., 2261.,\n",
       "       3315., 2160., 2773., 3083., 2247., 1985., 1934.,  607., 1389.,\n",
       "        966.,  829., 1944., 1683., 1565.,  777., 1667.,  646.,  883.,\n",
       "        631., 1743., 3900.,  658.,  942., 3000.,  910., 1147., 1030.,\n",
       "       2007., 1790.,  989.,  613., 1900., 2526., 1554., 1089., 1137.,\n",
       "       2903., 1515., 1138., 2309., 1318.,  811., 2067., 2562.,  649.,\n",
       "       1768., 2022., 1190., 2064., 1628., 1380., 1662., 1531., 2256.,\n",
       "       1313.,  909., 2072., 1046., 1713.,  598.,  998., 4322., 1028.,\n",
       "        958.,  955.,  901., 1974., 2548., 2403., 2052., 1420., 2890.,\n",
       "       1856., 2643., 1936., 1288., 2725., 2877., 2510., 2744., 1416.,\n",
       "       1569., 2907., 1599.,  778., 3266., 3957., 2310., 1758., 2239.,\n",
       "       3612., 2065., 1814.,  628.,  798., 1448., 2043., 2361., 1794.,\n",
       "       3550.,  831., 1694., 2046., 3037., 1641., 2291., 2182., 2176.,\n",
       "       2947., 2431.,  888., 1279., 1834., 2688., 2852., 2270., 2897.,\n",
       "       2452., 2094., 3600., 2520., 2549., 1267., 1591., 1561., 4424.,\n",
       "       5510., 1606., 2068.,  931., 1108., 2766., 1822.,  724., 1315.,\n",
       "       1158., 1753., 1252., 1458., 1234., 1073., 2603.,  868., 1494.,\n",
       "       1826.,  793., 1500., 1964., 1312.,  895., 1261., 1212., 2609.,\n",
       "       1660., 1177., 1816., 1943., 1039., 2049.,  730.,  715.,  742.,\n",
       "       5243., 3574., 2170., 1498., 1482.,  700.,  940., 1082., 1162.,\n",
       "       1891., 1145., 1930., 1792., 3152., 2592.,  610., 1835., 2479.,\n",
       "       1440., 1631., 2606., 2185., 4550., 1549., 1584., 1439., 2087.,\n",
       "        783., 1449., 2489., 3331., 3342., 2414., 2608., 1153.,  769.,\n",
       "       2380., 1563., 1227., 1684., 1573., 1102., 2467., 2665., 1618.,\n",
       "       2585., 1777.,  709.,  977., 2180., 1285., 1969., 3446., 2054.,\n",
       "       3115., 2595., 3964., 1855.,  780.,  766., 1781., 1995., 2667.,\n",
       "       2101., 1455., 1464., 1752., 1559., 1962., 1956.,  965., 1395.,\n",
       "       1407., 3070., 3076.,  918.,  898.,  922.,  784.,  919., 1093.,\n",
       "       1063., 1673., 2629., 4318., 1467., 2165., 1168., 2365., 1381.,\n",
       "       1208., 1401., 1771., 1023., 2191., 1798.,  799., 2861., 2274.,\n",
       "       1504., 2571., 3251., 1669., 2096., 3759., 2568., 1340., 1820.,\n",
       "       1148., 1960., 1695., 1062., 1346.,  802., 2254., 1421., 1445.,\n",
       "       2017., 1761., 1131., 1353., 3125., 2295., 2122., 1092., 1828.,\n",
       "       1652., 1779., 2588., 1849., 1222., 2915.,  844., 2179.,  946.,\n",
       "       1468., 1156., 1043., 1362., 1415.,  847., 1959., 1339., 1523.,\n",
       "       1585., 1159., 1255., 1354., 1330., 1113., 1370., 1748., 2628.,\n",
       "       2137., 1300., 1094., 1649.,  858., 1237., 1682., 2587., 2433.,\n",
       "       2146., 1192., 1139.,  559., 2408., 2612., 1655., 1083., 1982.,\n",
       "       1049.,  984., 1806., 1824., 3073.,  936.,  993., 1923., 1634.,\n",
       "        891., 1597., 1587., 2882., 3117., 4146., 4240., 1236.,  956.,\n",
       "        805.,  870.,  796., 1502., 3174., 3406., 1637., 1732., 2142.,\n",
       "       1005., 1076., 2343., 1760., 3834., 1483., 1176., 2115., 1241.,\n",
       "       1574., 1450., 2704., 2705., 1055., 1566., 2252., 1527., 1898.,\n",
       "       2307., 2525., 2480., 2034., 2010., 3306., 2194., 3248., 2569.,\n",
       "       1570., 2378., 1413., 1010., 2148., 2522., 2152., 1289., 2323.,\n",
       "       1327., 5605., 6692., 1859., 2332., 3393., 3432., 2721., 1813.,\n",
       "       1715., 2521., 2231., 3036., 2386.])"
      ]
     },
     "metadata": {},
     "output_type": "display_data"
    }
   ],
   "source": [
    "#изучаем полученный столбец\n",
    "display(data_merge['revenue'].unique())"
   ]
  },
  {
   "cell_type": "markdown",
   "metadata": {},
   "source": [
    "### 2.6.  Вывод: \n",
    "* C целью подготовки данных к анализу были выполнены следующие шаги:\n",
    "1. Посчитали для каждого пользователя количество сделанных звонков и израсходованных минут разговора по месяцам. Проверили данные на наличие аномалий - удалили редкие и выбивающиеся значения.\n",
    "2. Посчитали для каждого пользователя объем израсходованного интернет-трафика по месяцам. Проверили данные на наличие аномалий - удалили редкие и выбивающиеся значения. \n",
    "3. Посчитали для каждого пользователя объем израсходованного интернет-трафика по месяцам. Проверили данные на наличие аномалий - удалили редкие и выбивающиеся значения.\n",
    "4. Объеденили последовательно все сводные таблицы по услугам в одну, используя метод merge.\n",
    "5. Проанализировали новую таблицу на наличие пропусков и заменили пропущенные значения.\n",
    "6. Посчитали для каждого пользователя помесячную выручку с каждого пользователя (вычетаем бесплатный лимит из суммарного количества звонков, сообщений и интернет-трафика; остаток умножаем на значение из тарифного плана; прибавляем абонентскую плату, соответствующую тарифному плану).\n",
    "7. Добавили столбец с выручкой в таблицу и проанализировали его содержимое."
   ]
  },
  {
   "cell_type": "markdown",
   "metadata": {},
   "source": [
    "## 3. Проанализируем данные"
   ]
  },
  {
   "cell_type": "markdown",
   "metadata": {},
   "source": [
    "### 3.1. Определим сколько минут разговора, сколько сообщений и какой объём интернет-трафика требуется пользователям каждого тарифа в месяц? Посчитаем среднее количество, дисперсию и стандартное отклонение."
   ]
  },
  {
   "cell_type": "code",
   "execution_count": 74,
   "metadata": {},
   "outputs": [
    {
     "data": {
      "text/plain": [
       "'Среднее количество, дисперсия и стандартное отклонение минут разговора в месяц'"
      ]
     },
     "metadata": {},
     "output_type": "display_data"
    },
    {
     "data": {
      "text/html": [
       "<div>\n",
       "<style scoped>\n",
       "    .dataframe tbody tr th:only-of-type {\n",
       "        vertical-align: middle;\n",
       "    }\n",
       "\n",
       "    .dataframe tbody tr th {\n",
       "        vertical-align: top;\n",
       "    }\n",
       "\n",
       "    .dataframe thead tr th {\n",
       "        text-align: left;\n",
       "    }\n",
       "\n",
       "    .dataframe thead tr:last-of-type th {\n",
       "        text-align: right;\n",
       "    }\n",
       "</style>\n",
       "<table border=\"1\" class=\"dataframe\">\n",
       "  <thead>\n",
       "    <tr>\n",
       "      <th></th>\n",
       "      <th>mean</th>\n",
       "      <th>var</th>\n",
       "      <th>std</th>\n",
       "    </tr>\n",
       "    <tr>\n",
       "      <th></th>\n",
       "      <th>minutes</th>\n",
       "      <th>minutes</th>\n",
       "      <th>minutes</th>\n",
       "    </tr>\n",
       "    <tr>\n",
       "      <th>tariff</th>\n",
       "      <th></th>\n",
       "      <th></th>\n",
       "      <th></th>\n",
       "    </tr>\n",
       "  </thead>\n",
       "  <tbody>\n",
       "    <tr>\n",
       "      <td>smart</td>\n",
       "      <td>410.063257</td>\n",
       "      <td>34889.719067</td>\n",
       "      <td>186.787899</td>\n",
       "    </tr>\n",
       "    <tr>\n",
       "      <td>ultra</td>\n",
       "      <td>516.169543</td>\n",
       "      <td>96947.665332</td>\n",
       "      <td>311.364200</td>\n",
       "    </tr>\n",
       "  </tbody>\n",
       "</table>\n",
       "</div>"
      ],
      "text/plain": [
       "              mean           var         std\n",
       "           minutes       minutes     minutes\n",
       "tariff                                      \n",
       "smart   410.063257  34889.719067  186.787899\n",
       "ultra   516.169543  96947.665332  311.364200"
      ]
     },
     "metadata": {},
     "output_type": "display_data"
    }
   ],
   "source": [
    "pivot_table_minutes = data_merge.pivot_table(index='tariff', values='minutes', aggfunc=['mean', 'var', 'std'])\n",
    "display('Среднее количество, дисперсия и стандартное отклонение минут разговора в месяц', pivot_table_minutes)\n"
   ]
  },
  {
   "cell_type": "markdown",
   "metadata": {},
   "source": [
    "#### Вывод:\n",
    "* Дисперсия и стандартное отклонение по тарифному плану ultra почти в 3 раза больше, чем по тарифу smart"
   ]
  },
  {
   "cell_type": "code",
   "execution_count": 75,
   "metadata": {},
   "outputs": [
    {
     "data": {
      "text/plain": [
       "'Среднее количество, дисперсия и стандартное отклонение числа сообщений в месяц'"
      ]
     },
     "metadata": {},
     "output_type": "display_data"
    },
    {
     "data": {
      "text/html": [
       "<div>\n",
       "<style scoped>\n",
       "    .dataframe tbody tr th:only-of-type {\n",
       "        vertical-align: middle;\n",
       "    }\n",
       "\n",
       "    .dataframe tbody tr th {\n",
       "        vertical-align: top;\n",
       "    }\n",
       "\n",
       "    .dataframe thead tr th {\n",
       "        text-align: left;\n",
       "    }\n",
       "\n",
       "    .dataframe thead tr:last-of-type th {\n",
       "        text-align: right;\n",
       "    }\n",
       "</style>\n",
       "<table border=\"1\" class=\"dataframe\">\n",
       "  <thead>\n",
       "    <tr>\n",
       "      <th></th>\n",
       "      <th>mean</th>\n",
       "      <th>var</th>\n",
       "      <th>std</th>\n",
       "    </tr>\n",
       "    <tr>\n",
       "      <th></th>\n",
       "      <th>messages</th>\n",
       "      <th>messages</th>\n",
       "      <th>messages</th>\n",
       "    </tr>\n",
       "    <tr>\n",
       "      <th>tariff</th>\n",
       "      <th></th>\n",
       "      <th></th>\n",
       "      <th></th>\n",
       "    </tr>\n",
       "  </thead>\n",
       "  <tbody>\n",
       "    <tr>\n",
       "      <td>smart</td>\n",
       "      <td>32.733961</td>\n",
       "      <td>753.925152</td>\n",
       "      <td>27.457698</td>\n",
       "    </tr>\n",
       "    <tr>\n",
       "      <td>ultra</td>\n",
       "      <td>33.786802</td>\n",
       "      <td>1181.913850</td>\n",
       "      <td>34.378974</td>\n",
       "    </tr>\n",
       "  </tbody>\n",
       "</table>\n",
       "</div>"
      ],
      "text/plain": [
       "             mean          var        std\n",
       "         messages     messages   messages\n",
       "tariff                                   \n",
       "smart   32.733961   753.925152  27.457698\n",
       "ultra   33.786802  1181.913850  34.378974"
      ]
     },
     "metadata": {},
     "output_type": "display_data"
    }
   ],
   "source": [
    "pivot_table_messages = data_merge.pivot_table(index='tariff', values='messages', aggfunc=['mean', 'var', 'std'])\n",
    "display('Среднее количество, дисперсия и стандартное отклонение числа сообщений в месяц', pivot_table_messages)\n"
   ]
  },
  {
   "cell_type": "markdown",
   "metadata": {},
   "source": [
    "#### Вывод:\n",
    "* Среднее количество числа сообщений и стандартное отклонение по тарифному плану ultra незначительно превышает аналогичные показатели по тарифу smart, а дисперсия почти в 1,5 раза больше соответственно."
   ]
  },
  {
   "cell_type": "code",
   "execution_count": 76,
   "metadata": {},
   "outputs": [
    {
     "data": {
      "text/plain": [
       "'Среднее количество, дисперсия и стандартное отклонение интернет-трафика в месяц'"
      ]
     },
     "metadata": {},
     "output_type": "display_data"
    },
    {
     "data": {
      "text/html": [
       "<div>\n",
       "<style scoped>\n",
       "    .dataframe tbody tr th:only-of-type {\n",
       "        vertical-align: middle;\n",
       "    }\n",
       "\n",
       "    .dataframe tbody tr th {\n",
       "        vertical-align: top;\n",
       "    }\n",
       "\n",
       "    .dataframe thead tr th {\n",
       "        text-align: left;\n",
       "    }\n",
       "\n",
       "    .dataframe thead tr:last-of-type th {\n",
       "        text-align: right;\n",
       "    }\n",
       "</style>\n",
       "<table border=\"1\" class=\"dataframe\">\n",
       "  <thead>\n",
       "    <tr>\n",
       "      <th></th>\n",
       "      <th>mean</th>\n",
       "      <th>var</th>\n",
       "      <th>std</th>\n",
       "    </tr>\n",
       "    <tr>\n",
       "      <th></th>\n",
       "      <th>mb_used</th>\n",
       "      <th>mb_used</th>\n",
       "      <th>mb_used</th>\n",
       "    </tr>\n",
       "    <tr>\n",
       "      <th>tariff</th>\n",
       "      <th></th>\n",
       "      <th></th>\n",
       "      <th></th>\n",
       "    </tr>\n",
       "  </thead>\n",
       "  <tbody>\n",
       "    <tr>\n",
       "      <td>smart</td>\n",
       "      <td>16.227008</td>\n",
       "      <td>32.711461</td>\n",
       "      <td>5.719393</td>\n",
       "    </tr>\n",
       "    <tr>\n",
       "      <td>ultra</td>\n",
       "      <td>18.946193</td>\n",
       "      <td>91.227793</td>\n",
       "      <td>9.551324</td>\n",
       "    </tr>\n",
       "  </tbody>\n",
       "</table>\n",
       "</div>"
      ],
      "text/plain": [
       "             mean        var       std\n",
       "          mb_used    mb_used   mb_used\n",
       "tariff                                \n",
       "smart   16.227008  32.711461  5.719393\n",
       "ultra   18.946193  91.227793  9.551324"
      ]
     },
     "metadata": {},
     "output_type": "display_data"
    }
   ],
   "source": [
    "pivot_table_mb_used = data_merge.pivot_table(index='tariff', values='mb_used', aggfunc=['mean', 'var', 'std'])\n",
    "display('Среднее количество, дисперсия и стандартное отклонение интернет-трафика в месяц', pivot_table_mb_used)\n"
   ]
  },
  {
   "cell_type": "markdown",
   "metadata": {},
   "source": [
    "####  Вывод:\n",
    "* Среднее количество интернет-трафика по тарифному плану ultra незначительно превышает; стандартное отклонение почти в 2 раза, а дисперсия почти в 3 раза больше по сравнению с тарифом smart."
   ]
  },
  {
   "cell_type": "markdown",
   "metadata": {},
   "source": [
    "### 3.2. Построим гистограммы."
   ]
  },
  {
   "cell_type": "code",
   "execution_count": 77,
   "metadata": {},
   "outputs": [],
   "source": [
    "#создадим срез данных по тарифному плану ultra\n",
    "ultra = data_merge[data_merge['tariff'] == 'ultra']"
   ]
  },
  {
   "cell_type": "code",
   "execution_count": 78,
   "metadata": {},
   "outputs": [],
   "source": [
    "##создадим срез данных по тарифному плану smart\n",
    "smart = data_merge[data_merge['tariff'] == 'smart']"
   ]
  },
  {
   "cell_type": "code",
   "execution_count": 79,
   "metadata": {},
   "outputs": [
    {
     "data": {
      "text/plain": [
       "Text(0, 0.5, 'число пользователей')"
      ]
     },
     "execution_count": 79,
     "metadata": {},
     "output_type": "execute_result"
    },
    {
     "data": {
      "image/png": "[encoded data removed]",
      "text/plain": [
       "<Figure size 432x288 with 1 Axes>"
      ]
     },
     "metadata": {
      "needs_background": "light"
     },
     "output_type": "display_data"
    }
   ],
   "source": [
    "ultra['minutes'].hist(alpha = 0.5)\n",
    "smart['minutes'].hist(alpha = 0.5)\n",
    "plt.title('Количество минут разговора пользователей каждого тарифа в месяц')\n",
    "plt.xlabel(\"количество минут разговора в месяц\")\n",
    "plt.ylabel(\"число пользователей\")\n",
    "\n"
   ]
  },
  {
   "cell_type": "code",
   "execution_count": 80,
   "metadata": {},
   "outputs": [
    {
     "data": {
      "text/plain": [
       "Text(0, 0.5, 'число пользователей')"
      ]
     },
     "execution_count": 80,
     "metadata": {},
     "output_type": "execute_result"
    },
    {
     "data": {
      "image/png": "[encoded data removed]",
      "text/plain": [
       "<Figure size 432x288 with 1 Axes>"
      ]
     },
     "metadata": {
      "needs_background": "light"
     },
     "output_type": "display_data"
    }
   ],
   "source": [
    "ultra['messages'].hist(alpha = 0.5)\n",
    "smart['messages'].hist(alpha = 0.5)\n",
    "plt.title('Количество сообщений пользователей каждого тарифа в месяц')\n",
    "plt.xlabel(\"количество сообщений в месяц\")\n",
    "plt.ylabel(\"число пользователей\")\n",
    "\n"
   ]
  },
  {
   "cell_type": "code",
   "execution_count": 81,
   "metadata": {},
   "outputs": [
    {
     "data": {
      "text/plain": [
       "Text(0, 0.5, 'число пользователей')"
      ]
     },
     "execution_count": 81,
     "metadata": {},
     "output_type": "execute_result"
    },
    {
     "data": {
      "image/png": "[encoded data removed]",
      "text/plain": [
       "<Figure size 432x288 with 1 Axes>"
      ]
     },
     "metadata": {
      "needs_background": "light"
     },
     "output_type": "display_data"
    }
   ],
   "source": [
    "ultra['mb_used'].hist(alpha = 0.5)\n",
    "smart['mb_used'].hist(alpha = 0.5)\n",
    "plt.title('Объем интернет-трафика пользователей каждого тарифа в месяц')\n",
    "plt.xlabel(\"объем интернет трафика в месяц\")\n",
    "plt.ylabel(\"число пользователей\")\n",
    "\n"
   ]
  },
  {
   "cell_type": "code",
   "execution_count": 82,
   "metadata": {},
   "outputs": [],
   "source": [
    "def box_plotting_1(cols, title_ylabel, suptitle):\n",
    "    fig = plt.figure(figsize=(25, 35))\n",
    "    for i, col in enumerate(cols):\n",
    "        if col in cols:\n",
    "            ax = plt.subplot(3, 3, i+1)\n",
    "            data_merge.boxplot(column=col, by='tariff', fontsize=20,\n",
    "                            ax=ax)\n",
    "    plt.show()"
   ]
  },
  {
   "cell_type": "code",
   "execution_count": 83,
   "metadata": {},
   "outputs": [],
   "source": [
    "cols = ['minutes', 'messages', 'mb_used'] \n",
    "title_ylabel = ['минут в месяц', 'сообщений в месяц','интернет-трафика в месяц']\n",
    "suptitle = 'сравнение тарифов Смарт и Ультра'"
   ]
  },
  {
   "cell_type": "code",
   "execution_count": 84,
   "metadata": {},
   "outputs": [
    {
     "name": "stderr",
     "output_type": "stream",
     "text": [
      "/opt/conda/lib/python3.7/site-packages/numpy/core/_asarray.py:83: VisibleDeprecationWarning: Creating an ndarray from ragged nested sequences (which is a list-or-tuple of lists-or-tuples-or ndarrays with different lengths or shapes) is deprecated. If you meant to do this, you must specify 'dtype=object' when creating the ndarray\n",
      "  return array(a, dtype, copy=False, order=order)\n",
      "/opt/conda/lib/python3.7/site-packages/numpy/core/_asarray.py:83: VisibleDeprecationWarning: Creating an ndarray from ragged nested sequences (which is a list-or-tuple of lists-or-tuples-or ndarrays with different lengths or shapes) is deprecated. If you meant to do this, you must specify 'dtype=object' when creating the ndarray\n",
      "  return array(a, dtype, copy=False, order=order)\n",
      "/opt/conda/lib/python3.7/site-packages/numpy/core/_asarray.py:83: VisibleDeprecationWarning: Creating an ndarray from ragged nested sequences (which is a list-or-tuple of lists-or-tuples-or ndarrays with different lengths or shapes) is deprecated. If you meant to do this, you must specify 'dtype=object' when creating the ndarray\n",
      "  return array(a, dtype, copy=False, order=order)\n"
     ]
    },
    {
     "data": {
      "image/png": "[encoded data removed]",
      "text/plain": [
       "<Figure size 1800x2520 with 3 Axes>"
      ]
     },
     "metadata": {
      "needs_background": "light"
     },
     "output_type": "display_data"
    }
   ],
   "source": [
    "box_plotting_1(cols, title_ylabel, suptitle)"
   ]
  },
  {
   "cell_type": "markdown",
   "metadata": {},
   "source": [
    "#### Вывод:\n",
    "* Пользователи тарифного плана ultra используют больше услуг тарифного плана, чем пользователи тарифа smart. Графики имеют нормальное распределение. Имеются незначительные выбросы в данных по тарифному плану smart, отмеченные точками на диаграмме."
   ]
  },
  {
   "cell_type": "markdown",
   "metadata": {},
   "source": [
    "## 4. Проверка гипотезы"
   ]
  },
  {
   "cell_type": "markdown",
   "metadata": {},
   "source": [
    "### 4.1. Проверим  гипотезу: средняя выручка пользователей тарифов «Ультра» и «Смарт» различаются"
   ]
  },
  {
   "cell_type": "markdown",
   "metadata": {},
   "source": [
    "* Сформулируем гипотезы для тарифов Смарт и Ультра:\n",
    " * H0 - средняя выручка пользователей тарифов «Ультра» и «Смарт» не различаются\n",
    " * H1 - средняя выручка пользователей тарифов «Ультра» и «Смарт» различаются"
   ]
  },
  {
   "cell_type": "code",
   "execution_count": 85,
   "metadata": {},
   "outputs": [],
   "source": [
    "#сохраним данные по выручке в соответствующие переменные\n",
    "revenue_ultra = ultra['revenue']\n",
    "revenue_smart = smart['revenue']"
   ]
  },
  {
   "cell_type": "code",
   "execution_count": 86,
   "metadata": {},
   "outputs": [
    {
     "name": "stdout",
     "output_type": "stream",
     "text": [
      "p-значение: 2.380134327341713e-278\n",
      "Отвергаем нулевую гипотезу\n"
     ]
    }
   ],
   "source": [
    "alpha = .05 # критический уровень статистической значимости\n",
    "# если p-value окажется меньше него - отвергнем гипотезу\n",
    "\n",
    "results = st.ttest_ind(revenue_ultra, revenue_smart, equal_var = False)\n",
    "\n",
    "print('p-значение:', results.pvalue)\n",
    "\n",
    "if results.pvalue < alpha:\n",
    "    print(\"Отвергаем нулевую гипотезу\")\n",
    "else:\n",
    "    print(\"Не получилось отвергнуть нулевую гипотезу\") \n"
   ]
  },
  {
   "cell_type": "code",
   "execution_count": 93,
   "metadata": {},
   "outputs": [],
   "source": [
    "#попробуем перепроверить результат проведения t-теста\n",
    "revenue_ultra = ultra['revenue'].mean()"
   ]
  },
  {
   "cell_type": "code",
   "execution_count": 95,
   "metadata": {},
   "outputs": [
    {
     "data": {
      "text/plain": [
       "2046.3959390862944"
      ]
     },
     "metadata": {},
     "output_type": "display_data"
    }
   ],
   "source": [
    "display(revenue_ultra)"
   ]
  },
  {
   "cell_type": "code",
   "execution_count": 96,
   "metadata": {},
   "outputs": [],
   "source": [
    "revenue_smart = smart['revenue'].mean()"
   ]
  },
  {
   "cell_type": "code",
   "execution_count": 97,
   "metadata": {},
   "outputs": [
    {
     "data": {
      "text/plain": [
       "1262.2131000448633"
      ]
     },
     "metadata": {},
     "output_type": "display_data"
    }
   ],
   "source": [
    "display(revenue_smart)"
   ]
  },
  {
   "cell_type": "code",
   "execution_count": 112,
   "metadata": {},
   "outputs": [
    {
     "data": {
      "text/plain": [
       "array([1950., 3450., 2850., 2550., 3750., 4200., 2400., 3300., 2100.,\n",
       "       2250., 3150., 2700., 3900., 3000., 3600.])"
      ]
     },
     "metadata": {},
     "output_type": "display_data"
    }
   ],
   "source": [
    "display(ultra['revenue'].unique())"
   ]
  },
  {
   "cell_type": "code",
   "execution_count": 113,
   "metadata": {},
   "outputs": [
    {
     "data": {
      "text/plain": [
       "array([1150.,  550., 1550.,  950., 1350.,  886., 1111.,  835.,  808.,\n",
       "        775.,  871.,  556., 1219.,  616.,  688.,  750.,  685.,  981.,\n",
       "       1750.,  862.,  903.,  568., 2550., 2350., 1950., 1795., 1459.,\n",
       "       2553., 2150., 3350., 3150., 2750., 2153., 2559., 1019., 3040.,\n",
       "       1838., 3004., 1004., 1235., 1983., 1622., 1672., 3246., 1906.,\n",
       "        694., 1009.,  739., 1064., 2919., 1998., 1913., 1087., 1723.,\n",
       "        718.,  703.,  691.,  679.,  673., 1473.,  676.,  967.,  736.,\n",
       "        986., 1171., 2031., 2831., 1640., 2616., 1616., 1697.,  553.,\n",
       "        589.,  562., 1359., 1112.,  840.,  976., 3233., 5509., 2950.,\n",
       "       2186., 1580.,  574., 1356., 1965.,  995.,  971., 2189.,  756.,\n",
       "       2213., 1685., 2040., 3500., 3985.,  601., 1951., 2788., 2130.,\n",
       "       2264., 1603., 1079., 1476., 1488., 1612., 1074., 1911., 2141.,\n",
       "       1014., 1471., 1025.,  924., 2363.,  921., 2210., 1553., 2263.,\n",
       "       2684., 1047., 2813., 1948., 1608., 2028., 2367., 1539., 1214.,\n",
       "       1867., 1556., 2601., 3375., 1807., 2605., 3195., 1879., 2168.,\n",
       "       2395., 3211.,  982.,  873., 1505., 2362.,  619.,  712.,  592.,\n",
       "        604.,  634., 2916., 3175., 2712., 2301., 2972., 2201.,  849.,\n",
       "       2190.,  819., 2106., 1858., 1975., 1724., 2107.,  721., 2014.,\n",
       "       1908., 3127.,  826.,  763.,  859.,  652.,  816., 1592., 1365.,\n",
       "       1106., 1097., 1614.,  753.,  837.,  948.,  577., 2589., 1034.,\n",
       "       2368., 2353., 2810., 2577., 1077., 2113., 1516., 2420., 2382.,\n",
       "       3290., 1270., 3750., 2035., 1870., 4814., 1246., 1191.,  727.,\n",
       "       1040.,  823.,  595.,  664.,  622., 1135., 1789., 1954., 1392.,\n",
       "       2193., 3210., 2837., 2646.,  962., 1057., 1410., 3046.,  655.,\n",
       "        841.,  706., 2001., 1805.,  974., 1051., 1012.,  964.,  733.,\n",
       "       1069., 1180.,  934., 1006.,  916., 1306.,  996., 1018., 1489.,\n",
       "       1810., 1348., 1193.,  751.,  928.,  953., 2783.,  927.,  643.,\n",
       "       1205., 2288., 1133., 1284., 2069., 1423., 1216., 1942.,  625.,\n",
       "        661., 1007., 1446.,  807.,  637., 1437., 1651., 1368.,  980.,\n",
       "       2641.,  583., 1605., 1263.,  882., 1202., 1045.,  994., 1571.,\n",
       "       1404.,  586.,  963., 1038.,  792., 1142., 1534., 1577., 3670.,\n",
       "       4427., 2953., 3136., 2631.,  900.,  959., 1625.,  640.,  804.,\n",
       "       1198.,  580., 1109.,  697., 1993., 1002., 1461.,  834.,  787.,\n",
       "        772., 2097., 1679.,  670., 1436., 2076., 2273., 2855., 2697.,\n",
       "       1831., 2622., 2419.,  939., 3194.,  765.,  565.,  571.,  667.,\n",
       "        786., 5252., 1072.,  832., 1036., 1078., 1398., 4350., 3950.,\n",
       "       2261., 3315., 2160., 2773., 3083., 2247., 1985., 1934.,  607.,\n",
       "       1389.,  966.,  829., 1944., 1683., 1565.,  777., 1667.,  646.,\n",
       "        883.,  631., 1743.,  658.,  942.,  910., 1147., 1030., 2007.,\n",
       "       1790.,  989.,  613., 1900., 2526., 1554., 1089., 1137., 2903.,\n",
       "       1515., 1138., 2309., 1318.,  811., 2067., 2562.,  649., 1768.,\n",
       "       2022., 1190., 2064., 1628., 1380., 1662., 1531., 2256., 1313.,\n",
       "        909., 2072., 1046., 1713.,  598.,  998., 4322., 1028.,  958.,\n",
       "        955.,  901., 1974., 2548., 2403., 2052., 1420., 2850., 2890.,\n",
       "       1856., 2643., 1936., 1288., 2725., 2877., 2510., 2744., 1416.,\n",
       "       1569., 2907., 1599.,  778., 3266., 3957., 2310., 1758., 2239.,\n",
       "       3612., 2065., 1814.,  628.,  798., 1448., 2043., 2361., 1794.,\n",
       "       3550.,  831., 1694., 2046., 3037., 1641., 2291., 2182., 2176.,\n",
       "       2947., 2431.,  888., 1279., 1834., 2688., 2852., 2270., 2897.,\n",
       "       2452., 2094., 2520., 2549., 1267., 1591., 1561., 4424., 5510.,\n",
       "       1606., 2068.,  931., 1108., 2766., 1822.,  724., 1315., 1158.,\n",
       "       1753., 1252., 1458., 1234., 1073., 2603.,  868., 1494., 1826.,\n",
       "        793., 1500., 1964., 1312.,  895., 1261., 1212., 2609., 1660.,\n",
       "       1177., 1816., 1943., 1039., 2049.,  730.,  715.,  742., 5243.,\n",
       "       3574., 2170., 1498., 1482.,  700.,  940., 1082., 1162., 1891.,\n",
       "       1145., 1930., 1792., 3152., 2592.,  610., 1835., 2479., 1440.,\n",
       "       1631., 2606., 2185., 4550., 1549., 1584., 1439., 2087.,  783.,\n",
       "       1449., 2489., 3331., 3342., 2414., 2608., 1153.,  769., 2380.,\n",
       "       1563., 1227., 1684., 1573., 1102., 2467., 2665., 1618., 2585.,\n",
       "       1777.,  709.,  977., 2180., 1285., 1969., 3446., 2054., 3115.,\n",
       "       2595., 3964., 1855.,  780.,  766., 1781., 1995., 2667., 2101.,\n",
       "       1455., 1464., 1752., 1559., 1962., 1956.,  965., 1395., 1407.,\n",
       "       3070., 3076.,  918.,  898.,  922.,  784.,  919., 1093., 1063.,\n",
       "       1673., 2629., 4318., 1467., 2165., 1168., 2365., 1381., 1208.,\n",
       "       1401., 1771., 1023., 2191., 1798.,  799., 2861., 2274., 1504.,\n",
       "       2571., 3251., 1669., 2096., 3759., 2568., 1340., 1820., 1148.,\n",
       "       1960., 1695., 1062., 1346.,  802., 2254., 1421., 1445., 2017.,\n",
       "       1761., 1131., 1353., 3125., 2295., 2122., 1092., 1828., 1652.,\n",
       "       1779., 2588., 1849., 1222., 2915.,  844., 2179.,  946., 1468.,\n",
       "       1156., 1043., 1362., 1415.,  847., 1959., 1339., 1523., 1585.,\n",
       "       1159., 1255., 1354., 1330., 1113., 1370., 1748., 2628., 2137.,\n",
       "       1300., 1094., 1649.,  858., 1237., 1682., 2587., 2433., 2146.,\n",
       "       1192., 1139.,  559., 2408., 2612., 1655., 1083., 1982., 1049.,\n",
       "        984., 1806., 1824., 3073.,  936.,  993., 1923., 1634.,  891.,\n",
       "       1597., 1587., 2882., 3117., 4146., 4240., 1236.,  956.,  805.,\n",
       "        870.,  796., 1502., 3174., 3406., 1637., 1732., 2142., 1005.,\n",
       "       1076., 2343., 1760., 3834., 1483., 1176., 2115., 1241., 1574.,\n",
       "       1450., 2704., 2705., 1055., 1566., 2252., 1527., 1898., 2307.,\n",
       "       2525., 2480., 2034., 2010., 3306., 2194., 3248., 2569., 1570.,\n",
       "       2378., 1413., 1010., 2148., 2522., 2152., 1289., 2323., 1327.,\n",
       "       5605., 6692., 1859., 2332., 3393., 3432., 2721., 1813., 1715.,\n",
       "       2521., 2231., 3036., 2386.])"
      ]
     },
     "metadata": {},
     "output_type": "display_data"
    }
   ],
   "source": [
    "display(smart['revenue'].unique())"
   ]
  },
  {
   "cell_type": "markdown",
   "metadata": {},
   "source": [
    "####  Вывод:\n",
    "* Cредняя выручка пользователей тарифов «Ультра» и «Смарт» различаются. Пользователи тарифного плана \"Ультра\" используют примерно в 1,5 раза больше услуг тарифного плана, однако средние выручки по тарифам различаются в основном за счет высокой абонентской платы тарифного плана \"Ультра\". "
   ]
  },
  {
   "cell_type": "markdown",
   "metadata": {},
   "source": [
    "### 4.2. Проверим гипотезу: средняя выручка пользователей из Москвы отличается от выручки пользователей из других регионов"
   ]
  },
  {
   "cell_type": "markdown",
   "metadata": {},
   "source": [
    "* Сформулируем гипотезы для пользователей из Москвы и других регионов:\n",
    "* H0 - средняя выручка пользователей из Москвы  не отличается от выручки пользователей из других регионов\n",
    "* H1 - средняя выручка пользователей из Москвы отличается от выручки пользователей из других регионов "
   ]
  },
  {
   "cell_type": "code",
   "execution_count": 87,
   "metadata": {},
   "outputs": [],
   "source": [
    "moscow = ultra.query('city == \"Москва\"')['revenue']\n",
    "regions  = ultra.query('city != \"Москва\"')['revenue']"
   ]
  },
  {
   "cell_type": "code",
   "execution_count": 88,
   "metadata": {},
   "outputs": [
    {
     "name": "stdout",
     "output_type": "stream",
     "text": [
      "p-значение: 0.8711549567730359\n",
      "Не получилось отвергнуть нулевую гипотезу\n"
     ]
    }
   ],
   "source": [
    "alpha = .05 # критический уровень статистической значимости\n",
    "# если p-value окажется меньше него - отвергнем гипотезу\n",
    "\n",
    "results = st.ttest_ind(moscow, regions, equal_var = False)\n",
    "\n",
    "print('p-значение:', results.pvalue)\n",
    "\n",
    "if results.pvalue < alpha:\n",
    "    print(\"Отвергаем нулевую гипотезу\")\n",
    "else:\n",
    "    print(\"Не получилось отвергнуть нулевую гипотезу\") \n"
   ]
  },
  {
   "cell_type": "code",
   "execution_count": 89,
   "metadata": {},
   "outputs": [],
   "source": [
    "#попробуем перепроверить результат проведения t-теста\n",
    "moscow = ultra.query('city == \"Москва\"')['revenue'].mean()"
   ]
  },
  {
   "cell_type": "code",
   "execution_count": 90,
   "metadata": {},
   "outputs": [
    {
     "data": {
      "text/plain": [
       "2049.3333333333335"
      ]
     },
     "metadata": {},
     "output_type": "display_data"
    }
   ],
   "source": [
    "display(moscow)"
   ]
  },
  {
   "cell_type": "code",
   "execution_count": 91,
   "metadata": {},
   "outputs": [],
   "source": [
    "regions  = ultra.query('city != \"Москва\"')['revenue'].mean()"
   ]
  },
  {
   "cell_type": "code",
   "execution_count": 92,
   "metadata": {},
   "outputs": [
    {
     "data": {
      "text/plain": [
       "2045.5263157894738"
      ]
     },
     "metadata": {},
     "output_type": "display_data"
    }
   ],
   "source": [
    "display(regions)"
   ]
  },
  {
   "cell_type": "markdown",
   "metadata": {},
   "source": [
    "* Вывод: \n",
    "* Средняя выручка пользователей из Москвы не отличается от выручки пользователей из других регионов."
   ]
  },
  {
   "cell_type": "markdown",
   "metadata": {},
   "source": [
    "## Общий вывод:"
   ]
  },
  {
   "cell_type": "markdown",
   "metadata": {},
   "source": [
    "1. Средняя выручка пользователей тарифов «Ультра» и «Смарт»  различаются. Пользователи пользуются услугами тарифов примерно одинаково.\n",
    "2. Средняя выручка пользователей из Москвы не отличается от выручки пользователей из других регионов. \n",
    "3. Для компании тариф \"Ультра\" приносит больше выручки за счет высокой абонентской платы. Однако, для клиентов считаю тариф \" Cмарт\" наиболее оптимальным, так как среднее количество минут и сообщений пользователей в месяц не превышает допустимый по тарифу лимит, превышение наблюдается по объему интернет-трафика в среднем на 2 ГБ в месяц, что состоавляет плюс 400 рублей к абонентской плате итого 950 рублей, что на 1000 рублей меньше стоимости тарифного плана \"Ультра\".\n",
    "\n"
   ]
  },
  {
   "cell_type": "code",
   "execution_count": null,
   "metadata": {},
   "outputs": [],
   "source": []
  }
 ],
 "metadata": {
  "ExecuteTimeLog": [
   {
    "duration": 1375,
    "start_time": "2022-01-11T20:29:21.260Z"
   },
   {
    "duration": 10,
    "start_time": "2022-01-11T20:29:36.770Z"
   },
   {
    "duration": 10,
    "start_time": "2022-01-11T20:30:06.655Z"
   },
   {
    "duration": 563,
    "start_time": "2022-01-11T20:32:10.757Z"
   },
   {
    "duration": 152,
    "start_time": "2022-01-11T20:32:28.660Z"
   },
   {
    "duration": 8,
    "start_time": "2022-01-11T20:32:30.999Z"
   },
   {
    "duration": 2928,
    "start_time": "2022-01-11T20:35:59.939Z"
   },
   {
    "duration": 556,
    "start_time": "2022-01-11T20:36:37.445Z"
   },
   {
    "duration": 9,
    "start_time": "2022-01-11T20:37:59.817Z"
   },
   {
    "duration": 8,
    "start_time": "2022-01-11T20:38:15.494Z"
   },
   {
    "duration": 8,
    "start_time": "2022-01-11T20:38:25.520Z"
   },
   {
    "duration": 10,
    "start_time": "2022-01-11T20:38:47.685Z"
   },
   {
    "duration": 1084,
    "start_time": "2022-01-12T08:29:48.782Z"
   },
   {
    "duration": 11,
    "start_time": "2022-01-12T08:29:49.983Z"
   },
   {
    "duration": 19,
    "start_time": "2022-01-12T08:29:53.574Z"
   },
   {
    "duration": 29,
    "start_time": "2022-01-12T08:37:57.497Z"
   },
   {
    "duration": 9,
    "start_time": "2022-01-12T08:39:30.111Z"
   },
   {
    "duration": 17,
    "start_time": "2022-01-12T08:39:49.016Z"
   },
   {
    "duration": 18,
    "start_time": "2022-01-12T08:41:09.693Z"
   },
   {
    "duration": 20,
    "start_time": "2022-01-12T08:41:37.297Z"
   },
   {
    "duration": 21,
    "start_time": "2022-01-12T08:41:51.074Z"
   },
   {
    "duration": 18,
    "start_time": "2022-01-12T08:43:10.049Z"
   },
   {
    "duration": 10,
    "start_time": "2022-01-12T08:43:13.688Z"
   },
   {
    "duration": 26,
    "start_time": "2022-01-12T08:43:55.892Z"
   },
   {
    "duration": 17,
    "start_time": "2022-01-12T08:44:18.148Z"
   },
   {
    "duration": 15,
    "start_time": "2022-01-12T08:47:22.682Z"
   },
   {
    "duration": 14,
    "start_time": "2022-01-12T08:49:30.014Z"
   },
   {
    "duration": 8,
    "start_time": "2022-01-12T08:51:30.788Z"
   },
   {
    "duration": 6,
    "start_time": "2022-01-12T08:52:41.427Z"
   },
   {
    "duration": 7,
    "start_time": "2022-01-12T08:54:41.369Z"
   },
   {
    "duration": 11,
    "start_time": "2022-01-12T08:54:51.934Z"
   },
   {
    "duration": 6,
    "start_time": "2022-01-12T08:55:39.865Z"
   },
   {
    "duration": 8,
    "start_time": "2022-01-12T09:02:46.570Z"
   },
   {
    "duration": 5,
    "start_time": "2022-01-12T09:02:47.765Z"
   },
   {
    "duration": 8,
    "start_time": "2022-01-12T09:02:49.560Z"
   },
   {
    "duration": 11,
    "start_time": "2022-01-12T09:02:50.455Z"
   },
   {
    "duration": 6,
    "start_time": "2022-01-12T09:02:51.297Z"
   },
   {
    "duration": 10,
    "start_time": "2022-01-12T11:42:33.589Z"
   },
   {
    "duration": 10,
    "start_time": "2022-01-12T11:46:04.078Z"
   },
   {
    "duration": 5,
    "start_time": "2022-01-12T11:46:46.024Z"
   },
   {
    "duration": 8,
    "start_time": "2022-01-12T11:47:13.766Z"
   },
   {
    "duration": 450,
    "start_time": "2022-01-12T13:50:26.528Z"
   },
   {
    "duration": 22,
    "start_time": "2022-01-12T13:50:28.332Z"
   },
   {
    "duration": 9,
    "start_time": "2022-01-12T13:50:29.345Z"
   },
   {
    "duration": 22,
    "start_time": "2022-01-12T13:50:30.122Z"
   },
   {
    "duration": 20,
    "start_time": "2022-01-12T13:50:31.674Z"
   },
   {
    "duration": 9,
    "start_time": "2022-01-12T13:50:32.357Z"
   },
   {
    "duration": 28,
    "start_time": "2022-01-12T13:50:33.038Z"
   },
   {
    "duration": 25,
    "start_time": "2022-01-12T13:50:34.258Z"
   },
   {
    "duration": 8,
    "start_time": "2022-01-12T13:50:34.807Z"
   },
   {
    "duration": 16,
    "start_time": "2022-01-12T13:50:35.366Z"
   },
   {
    "duration": 6,
    "start_time": "2022-01-12T13:50:36.488Z"
   },
   {
    "duration": 8,
    "start_time": "2022-01-12T13:50:37.079Z"
   },
   {
    "duration": 6,
    "start_time": "2022-01-12T13:50:37.669Z"
   },
   {
    "duration": 7,
    "start_time": "2022-01-12T13:50:38.793Z"
   },
   {
    "duration": 11,
    "start_time": "2022-01-12T13:50:39.326Z"
   },
   {
    "duration": 6,
    "start_time": "2022-01-12T13:50:39.859Z"
   },
   {
    "duration": 5,
    "start_time": "2022-01-12T13:50:41.559Z"
   },
   {
    "duration": 52,
    "start_time": "2022-01-12T13:50:43.922Z"
   },
   {
    "duration": 8,
    "start_time": "2022-01-12T13:50:45.791Z"
   },
   {
    "duration": 305,
    "start_time": "2022-01-12T13:59:49.956Z"
   },
   {
    "duration": 37,
    "start_time": "2022-01-12T14:01:17.862Z"
   },
   {
    "duration": 16,
    "start_time": "2022-01-12T14:02:09.763Z"
   },
   {
    "duration": 70,
    "start_time": "2022-01-12T14:09:54.398Z"
   },
   {
    "duration": 24,
    "start_time": "2022-01-12T14:09:58.462Z"
   },
   {
    "duration": 12,
    "start_time": "2022-01-12T14:10:37.340Z"
   },
   {
    "duration": 54,
    "start_time": "2022-01-12T14:32:03.886Z"
   },
   {
    "duration": 9,
    "start_time": "2022-01-12T14:32:05.868Z"
   },
   {
    "duration": 397,
    "start_time": "2022-01-12T15:24:25.738Z"
   },
   {
    "duration": 12,
    "start_time": "2022-01-12T15:24:52.302Z"
   },
   {
    "duration": 35,
    "start_time": "2022-01-12T15:26:59.472Z"
   },
   {
    "duration": 11,
    "start_time": "2022-01-12T15:27:00.547Z"
   },
   {
    "duration": 10,
    "start_time": "2022-01-12T16:19:07.595Z"
   },
   {
    "duration": 9,
    "start_time": "2022-01-12T16:19:45.002Z"
   },
   {
    "duration": 41,
    "start_time": "2022-01-12T16:22:31.793Z"
   },
   {
    "duration": 8,
    "start_time": "2022-01-12T16:22:33.210Z"
   },
   {
    "duration": 36,
    "start_time": "2022-01-12T16:33:46.841Z"
   },
   {
    "duration": 12,
    "start_time": "2022-01-12T16:34:09.452Z"
   },
   {
    "duration": 10,
    "start_time": "2022-01-12T17:32:36.996Z"
   },
   {
    "duration": 12,
    "start_time": "2022-01-12T17:33:11.525Z"
   },
   {
    "duration": 16,
    "start_time": "2022-01-12T17:46:27.430Z"
   },
   {
    "duration": 7,
    "start_time": "2022-01-12T17:46:34.825Z"
   },
   {
    "duration": 1406,
    "start_time": "2022-01-13T12:46:05.104Z"
   },
   {
    "duration": 28,
    "start_time": "2022-01-13T12:46:10.006Z"
   },
   {
    "duration": 16,
    "start_time": "2022-01-13T12:46:10.789Z"
   },
   {
    "duration": 26,
    "start_time": "2022-01-13T12:46:12.698Z"
   },
   {
    "duration": 23,
    "start_time": "2022-01-13T12:46:14.959Z"
   },
   {
    "duration": 18,
    "start_time": "2022-01-13T12:46:16.213Z"
   },
   {
    "duration": 25,
    "start_time": "2022-01-13T12:46:41.737Z"
   },
   {
    "duration": 20,
    "start_time": "2022-01-13T12:46:46.507Z"
   },
   {
    "duration": 13,
    "start_time": "2022-01-13T12:46:47.921Z"
   },
   {
    "duration": 18,
    "start_time": "2022-01-13T12:46:49.465Z"
   },
   {
    "duration": 9,
    "start_time": "2022-01-13T12:46:51.639Z"
   },
   {
    "duration": 12,
    "start_time": "2022-01-13T12:46:52.375Z"
   },
   {
    "duration": 8,
    "start_time": "2022-01-13T12:46:55.455Z"
   },
   {
    "duration": 9,
    "start_time": "2022-01-13T12:46:57.338Z"
   },
   {
    "duration": 17,
    "start_time": "2022-01-13T12:47:00.432Z"
   },
   {
    "duration": 8,
    "start_time": "2022-01-13T12:47:02.431Z"
   },
   {
    "duration": 8,
    "start_time": "2022-01-13T12:47:07.971Z"
   },
   {
    "duration": 77,
    "start_time": "2022-01-13T12:47:09.055Z"
   },
   {
    "duration": 13,
    "start_time": "2022-01-13T12:47:10.954Z"
   },
   {
    "duration": 75,
    "start_time": "2022-01-13T12:47:11.770Z"
   },
   {
    "duration": 19,
    "start_time": "2022-01-13T12:47:12.732Z"
   },
   {
    "duration": 56,
    "start_time": "2022-01-13T12:47:14.990Z"
   },
   {
    "duration": 14,
    "start_time": "2022-01-13T12:47:15.953Z"
   },
   {
    "duration": 74,
    "start_time": "2022-01-13T12:47:16.743Z"
   },
   {
    "duration": 16,
    "start_time": "2022-01-13T12:47:17.885Z"
   },
   {
    "duration": 55,
    "start_time": "2022-01-13T12:47:36.707Z"
   },
   {
    "duration": 12,
    "start_time": "2022-01-13T12:47:41.840Z"
   },
   {
    "duration": 38,
    "start_time": "2022-01-13T12:48:12.977Z"
   },
   {
    "duration": 17,
    "start_time": "2022-01-13T12:48:22.749Z"
   },
   {
    "duration": 9502,
    "start_time": "2022-01-13T12:50:27.943Z"
   },
   {
    "duration": 8814,
    "start_time": "2022-01-13T12:53:50.536Z"
   },
   {
    "duration": 11,
    "start_time": "2022-01-13T12:54:37.316Z"
   },
   {
    "duration": 8958,
    "start_time": "2022-01-13T12:55:10.109Z"
   },
   {
    "duration": 11083,
    "start_time": "2022-01-13T12:56:21.922Z"
   },
   {
    "duration": 9443,
    "start_time": "2022-01-13T12:58:19.427Z"
   },
   {
    "duration": 928,
    "start_time": "2022-01-13T13:43:55.147Z"
   },
   {
    "duration": 65,
    "start_time": "2022-01-13T13:44:13.060Z"
   },
   {
    "duration": 16,
    "start_time": "2022-01-13T13:44:14.747Z"
   },
   {
    "duration": 54,
    "start_time": "2022-01-13T13:44:35.207Z"
   },
   {
    "duration": 14,
    "start_time": "2022-01-13T13:44:40.497Z"
   },
   {
    "duration": 55,
    "start_time": "2022-01-13T13:45:09.143Z"
   },
   {
    "duration": 18,
    "start_time": "2022-01-13T13:45:11.006Z"
   },
   {
    "duration": 55,
    "start_time": "2022-01-13T13:45:24.645Z"
   },
   {
    "duration": 13,
    "start_time": "2022-01-13T13:45:27.145Z"
   },
   {
    "duration": 30,
    "start_time": "2022-01-13T13:49:10.375Z"
   },
   {
    "duration": 14,
    "start_time": "2022-01-13T13:49:13.811Z"
   },
   {
    "duration": 9781,
    "start_time": "2022-01-13T13:49:23.508Z"
   },
   {
    "duration": 21,
    "start_time": "2022-01-13T13:49:42.744Z"
   },
   {
    "duration": 140,
    "start_time": "2022-01-13T13:51:14.793Z"
   },
   {
    "duration": 41,
    "start_time": "2022-01-13T13:51:25.903Z"
   },
   {
    "duration": 14,
    "start_time": "2022-01-13T13:51:30.305Z"
   },
   {
    "duration": 783,
    "start_time": "2022-01-13T15:30:04.261Z"
   },
   {
    "duration": 32,
    "start_time": "2022-01-13T15:30:06.034Z"
   },
   {
    "duration": 13,
    "start_time": "2022-01-13T15:30:07.483Z"
   },
   {
    "duration": 26,
    "start_time": "2022-01-13T15:30:09.576Z"
   },
   {
    "duration": 27,
    "start_time": "2022-01-13T15:30:13.084Z"
   },
   {
    "duration": 15,
    "start_time": "2022-01-13T15:30:14.601Z"
   },
   {
    "duration": 22,
    "start_time": "2022-01-13T15:30:20.022Z"
   },
   {
    "duration": 10,
    "start_time": "2022-01-13T15:30:21.936Z"
   },
   {
    "duration": 13,
    "start_time": "2022-01-13T15:30:45.544Z"
   },
   {
    "duration": 17,
    "start_time": "2022-01-13T15:30:56.262Z"
   },
   {
    "duration": 12,
    "start_time": "2022-01-13T15:31:04.145Z"
   },
   {
    "duration": 19,
    "start_time": "2022-01-13T15:31:14.764Z"
   },
   {
    "duration": 21,
    "start_time": "2022-01-13T15:31:20.881Z"
   },
   {
    "duration": 11,
    "start_time": "2022-01-13T15:31:21.966Z"
   },
   {
    "duration": 18,
    "start_time": "2022-01-13T15:31:22.846Z"
   },
   {
    "duration": 10,
    "start_time": "2022-01-13T15:31:31.922Z"
   },
   {
    "duration": 19,
    "start_time": "2022-01-13T15:31:34.882Z"
   },
   {
    "duration": 11,
    "start_time": "2022-01-13T15:31:37.048Z"
   },
   {
    "duration": 13,
    "start_time": "2022-01-13T15:31:40.850Z"
   },
   {
    "duration": 7,
    "start_time": "2022-01-13T15:31:41.789Z"
   },
   {
    "duration": 11,
    "start_time": "2022-01-13T15:31:46.930Z"
   },
   {
    "duration": 25,
    "start_time": "2022-01-13T15:31:47.708Z"
   },
   {
    "duration": 9,
    "start_time": "2022-01-13T15:31:48.476Z"
   },
   {
    "duration": 6,
    "start_time": "2022-01-13T15:32:07.083Z"
   },
   {
    "duration": 74,
    "start_time": "2022-01-13T15:32:08.246Z"
   },
   {
    "duration": 12,
    "start_time": "2022-01-13T15:32:09.618Z"
   },
   {
    "duration": 45,
    "start_time": "2022-01-13T15:32:13.614Z"
   },
   {
    "duration": 16,
    "start_time": "2022-01-13T15:32:15.296Z"
   },
   {
    "duration": 6,
    "start_time": "2022-01-13T15:32:18.345Z"
   },
   {
    "duration": 10,
    "start_time": "2022-01-13T15:32:48.410Z"
   },
   {
    "duration": 47,
    "start_time": "2022-01-13T15:38:09.243Z"
   },
   {
    "duration": 11,
    "start_time": "2022-01-13T15:38:10.964Z"
   },
   {
    "duration": 440,
    "start_time": "2022-01-13T15:38:15.882Z"
   },
   {
    "duration": 16,
    "start_time": "2022-01-13T15:38:45.111Z"
   },
   {
    "duration": 15,
    "start_time": "2022-01-13T15:38:54.692Z"
   },
   {
    "duration": 384,
    "start_time": "2022-01-13T15:39:14.500Z"
   },
   {
    "duration": 19,
    "start_time": "2022-01-13T15:39:33.459Z"
   },
   {
    "duration": 383,
    "start_time": "2022-01-13T15:39:50.577Z"
   },
   {
    "duration": 31,
    "start_time": "2022-01-13T15:40:18.201Z"
   },
   {
    "duration": 14,
    "start_time": "2022-01-13T15:40:20.400Z"
   },
   {
    "duration": 6,
    "start_time": "2022-01-13T15:41:14.687Z"
   },
   {
    "duration": 13,
    "start_time": "2022-01-13T15:41:36.428Z"
   },
   {
    "duration": 5,
    "start_time": "2022-01-13T15:42:02.332Z"
   },
   {
    "duration": 9,
    "start_time": "2022-01-13T15:42:04.995Z"
   },
   {
    "duration": 5,
    "start_time": "2022-01-13T15:43:07.594Z"
   },
   {
    "duration": 10,
    "start_time": "2022-01-13T15:43:09.574Z"
   },
   {
    "duration": 89,
    "start_time": "2022-01-13T15:43:38.108Z"
   },
   {
    "duration": 15,
    "start_time": "2022-01-13T15:43:39.328Z"
   },
   {
    "duration": 40,
    "start_time": "2022-01-13T15:43:41.522Z"
   },
   {
    "duration": 19,
    "start_time": "2022-01-13T15:43:44.891Z"
   },
   {
    "duration": 16,
    "start_time": "2022-01-13T15:44:04.535Z"
   },
   {
    "duration": 7,
    "start_time": "2022-01-13T15:44:50.505Z"
   },
   {
    "duration": 11,
    "start_time": "2022-01-13T15:45:04.041Z"
   },
   {
    "duration": 27,
    "start_time": "2022-01-13T15:45:13.642Z"
   },
   {
    "duration": 11,
    "start_time": "2022-01-13T15:59:37.736Z"
   },
   {
    "duration": 16,
    "start_time": "2022-01-13T16:07:36.158Z"
   },
   {
    "duration": 27,
    "start_time": "2022-01-13T16:13:18.136Z"
   },
   {
    "duration": 16,
    "start_time": "2022-01-13T16:24:52.285Z"
   },
   {
    "duration": 380,
    "start_time": "2022-01-13T16:27:41.354Z"
   },
   {
    "duration": 13,
    "start_time": "2022-01-13T16:27:50.041Z"
   },
   {
    "duration": 11,
    "start_time": "2022-01-13T16:29:12.451Z"
   },
   {
    "duration": 11,
    "start_time": "2022-01-13T16:33:36.343Z"
   },
   {
    "duration": 380,
    "start_time": "2022-01-13T16:33:37.483Z"
   },
   {
    "duration": 380,
    "start_time": "2022-01-13T16:34:22.587Z"
   },
   {
    "duration": 597,
    "start_time": "2022-01-13T16:34:37.077Z"
   },
   {
    "duration": 4735,
    "start_time": "2022-01-13T16:35:22.407Z"
   },
   {
    "duration": 7,
    "start_time": "2022-01-13T16:44:31.019Z"
   },
   {
    "duration": 15,
    "start_time": "2022-01-13T16:44:58.153Z"
   },
   {
    "duration": 372,
    "start_time": "2022-01-13T16:45:29.430Z"
   },
   {
    "duration": 12,
    "start_time": "2022-01-13T16:45:37.572Z"
   },
   {
    "duration": 30,
    "start_time": "2022-01-13T16:45:57.177Z"
   },
   {
    "duration": 31,
    "start_time": "2022-01-13T16:59:47.387Z"
   },
   {
    "duration": 30,
    "start_time": "2022-01-13T17:00:01.005Z"
   },
   {
    "duration": 243,
    "start_time": "2022-01-14T08:11:49.746Z"
   },
   {
    "duration": 934,
    "start_time": "2022-01-14T08:12:24.988Z"
   },
   {
    "duration": 19,
    "start_time": "2022-01-14T08:12:26.956Z"
   },
   {
    "duration": 10,
    "start_time": "2022-01-14T08:12:27.877Z"
   },
   {
    "duration": 18,
    "start_time": "2022-01-14T08:12:28.622Z"
   },
   {
    "duration": 16,
    "start_time": "2022-01-14T08:12:30.067Z"
   },
   {
    "duration": 8,
    "start_time": "2022-01-14T08:12:30.796Z"
   },
   {
    "duration": 14,
    "start_time": "2022-01-14T08:12:31.805Z"
   },
   {
    "duration": 8,
    "start_time": "2022-01-14T08:12:32.556Z"
   },
   {
    "duration": 7,
    "start_time": "2022-01-14T08:12:33.180Z"
   },
   {
    "duration": 14,
    "start_time": "2022-01-14T08:12:34.587Z"
   },
   {
    "duration": 6,
    "start_time": "2022-01-14T08:12:35.410Z"
   },
   {
    "duration": 12,
    "start_time": "2022-01-14T08:12:36.156Z"
   },
   {
    "duration": 6,
    "start_time": "2022-01-14T08:12:37.582Z"
   },
   {
    "duration": 8,
    "start_time": "2022-01-14T08:12:38.303Z"
   },
   {
    "duration": 5,
    "start_time": "2022-01-14T08:12:39.024Z"
   },
   {
    "duration": 3,
    "start_time": "2022-01-14T08:12:39.693Z"
   },
   {
    "duration": 7,
    "start_time": "2022-01-14T08:12:40.348Z"
   },
   {
    "duration": 6,
    "start_time": "2022-01-14T08:12:41.704Z"
   },
   {
    "duration": 9,
    "start_time": "2022-01-14T08:12:43.116Z"
   },
   {
    "duration": 5,
    "start_time": "2022-01-14T08:12:43.127Z"
   },
   {
    "duration": 5,
    "start_time": "2022-01-14T08:12:45.786Z"
   },
   {
    "duration": 48,
    "start_time": "2022-01-14T08:12:46.522Z"
   },
   {
    "duration": 7,
    "start_time": "2022-01-14T08:12:47.242Z"
   },
   {
    "duration": 33,
    "start_time": "2022-01-14T08:12:47.961Z"
   },
   {
    "duration": 9,
    "start_time": "2022-01-14T08:12:48.591Z"
   },
   {
    "duration": 4,
    "start_time": "2022-01-14T08:12:49.236Z"
   },
   {
    "duration": 6,
    "start_time": "2022-01-14T08:12:50.086Z"
   },
   {
    "duration": 29,
    "start_time": "2022-01-14T08:12:51.468Z"
   },
   {
    "duration": 7,
    "start_time": "2022-01-14T08:12:52.179Z"
   },
   {
    "duration": 22,
    "start_time": "2022-01-14T08:12:53.147Z"
   },
   {
    "duration": 9,
    "start_time": "2022-01-14T08:12:53.901Z"
   },
   {
    "duration": 4,
    "start_time": "2022-01-14T08:12:57.893Z"
   },
   {
    "duration": 6,
    "start_time": "2022-01-14T08:12:59.666Z"
   },
   {
    "duration": 36,
    "start_time": "2022-01-14T08:13:03.060Z"
   },
   {
    "duration": 7,
    "start_time": "2022-01-14T08:13:03.852Z"
   },
   {
    "duration": 23,
    "start_time": "2022-01-14T08:13:05.113Z"
   },
   {
    "duration": 10,
    "start_time": "2022-01-14T08:13:06.092Z"
   },
   {
    "duration": 10,
    "start_time": "2022-01-14T08:13:07.353Z"
   },
   {
    "duration": 4,
    "start_time": "2022-01-14T08:13:08.662Z"
   },
   {
    "duration": 6,
    "start_time": "2022-01-14T08:13:09.558Z"
   },
   {
    "duration": 7,
    "start_time": "2022-01-14T08:13:10.189Z"
   },
   {
    "duration": 8,
    "start_time": "2022-01-14T08:13:25.157Z"
   },
   {
    "duration": 7,
    "start_time": "2022-01-14T08:13:26.417Z"
   },
   {
    "duration": 7,
    "start_time": "2022-01-14T08:13:27.540Z"
   },
   {
    "duration": 16,
    "start_time": "2022-01-14T08:13:28.666Z"
   },
   {
    "duration": 8,
    "start_time": "2022-01-14T08:13:30.055Z"
   },
   {
    "duration": 487,
    "start_time": "2022-01-14T08:41:54.463Z"
   },
   {
    "duration": 4,
    "start_time": "2022-01-14T08:42:09.618Z"
   },
   {
    "duration": 13,
    "start_time": "2022-01-14T08:42:40.083Z"
   },
   {
    "duration": 6,
    "start_time": "2022-01-14T08:44:10.757Z"
   },
   {
    "duration": 16,
    "start_time": "2022-01-14T08:44:22.909Z"
   },
   {
    "duration": 61,
    "start_time": "2022-01-14T08:58:25.648Z"
   },
   {
    "duration": 4,
    "start_time": "2022-01-14T08:59:33.413Z"
   },
   {
    "duration": 3,
    "start_time": "2022-01-14T09:02:20.158Z"
   },
   {
    "duration": 17,
    "start_time": "2022-01-14T09:02:50.248Z"
   },
   {
    "duration": 3,
    "start_time": "2022-01-14T09:28:02.265Z"
   },
   {
    "duration": 17,
    "start_time": "2022-01-14T09:28:06.186Z"
   },
   {
    "duration": 3,
    "start_time": "2022-01-14T09:34:27.374Z"
   },
   {
    "duration": 4,
    "start_time": "2022-01-14T09:40:13.784Z"
   },
   {
    "duration": 85,
    "start_time": "2022-01-14T12:25:39.052Z"
   },
   {
    "duration": 17,
    "start_time": "2022-01-14T12:25:46.674Z"
   },
   {
    "duration": 5,
    "start_time": "2022-01-14T12:26:19.188Z"
   },
   {
    "duration": 113,
    "start_time": "2022-01-14T12:26:21.195Z"
   },
   {
    "duration": 17,
    "start_time": "2022-01-14T12:26:26.114Z"
   },
   {
    "duration": 4,
    "start_time": "2022-01-14T12:49:49.705Z"
   },
   {
    "duration": 511,
    "start_time": "2022-01-14T12:49:51.636Z"
   },
   {
    "duration": 4,
    "start_time": "2022-01-14T12:50:49.980Z"
   },
   {
    "duration": 5585,
    "start_time": "2022-01-14T12:50:52.155Z"
   },
   {
    "duration": 3,
    "start_time": "2022-01-14T12:53:17.854Z"
   },
   {
    "duration": 6207,
    "start_time": "2022-01-14T12:53:22.553Z"
   },
   {
    "duration": 3,
    "start_time": "2022-01-14T12:57:18.262Z"
   },
   {
    "duration": 96,
    "start_time": "2022-01-14T12:57:23.404Z"
   },
   {
    "duration": 17,
    "start_time": "2022-01-14T12:57:28.258Z"
   },
   {
    "duration": 3,
    "start_time": "2022-01-14T12:58:13.740Z"
   },
   {
    "duration": 88,
    "start_time": "2022-01-14T12:58:16.644Z"
   },
   {
    "duration": 17,
    "start_time": "2022-01-14T12:58:20.473Z"
   },
   {
    "duration": 3,
    "start_time": "2022-01-14T13:15:08.451Z"
   },
   {
    "duration": 83,
    "start_time": "2022-01-14T13:15:11.967Z"
   },
   {
    "duration": 17,
    "start_time": "2022-01-14T13:15:16.249Z"
   },
   {
    "duration": 27,
    "start_time": "2022-01-14T13:19:51.234Z"
   },
   {
    "duration": 30,
    "start_time": "2022-01-14T13:20:50.002Z"
   },
   {
    "duration": 79,
    "start_time": "2022-01-14T13:21:05.615Z"
   },
   {
    "duration": 209,
    "start_time": "2022-01-14T13:21:53.714Z"
   },
   {
    "duration": 181,
    "start_time": "2022-01-14T13:22:50.047Z"
   },
   {
    "duration": 253,
    "start_time": "2022-01-14T13:23:48.160Z"
   },
   {
    "duration": 7,
    "start_time": "2022-01-14T13:24:00.293Z"
   },
   {
    "duration": 4,
    "start_time": "2022-01-14T15:21:34.539Z"
   },
   {
    "duration": 108,
    "start_time": "2022-01-14T15:21:38.495Z"
   },
   {
    "duration": 6,
    "start_time": "2022-01-14T15:21:41.252Z"
   },
   {
    "duration": 108,
    "start_time": "2022-01-14T15:24:00.105Z"
   },
   {
    "duration": 176,
    "start_time": "2022-01-14T15:42:14.484Z"
   },
   {
    "duration": 27,
    "start_time": "2022-01-14T15:42:42.804Z"
   },
   {
    "duration": 26,
    "start_time": "2022-01-14T15:59:51.310Z"
   },
   {
    "duration": 25,
    "start_time": "2022-01-14T16:08:34.312Z"
   },
   {
    "duration": 73,
    "start_time": "2022-01-14T16:09:02.853Z"
   },
   {
    "duration": 26,
    "start_time": "2022-01-14T16:09:20.426Z"
   },
   {
    "duration": 25,
    "start_time": "2022-01-14T16:11:48.485Z"
   },
   {
    "duration": 25,
    "start_time": "2022-01-14T16:12:28.588Z"
   },
   {
    "duration": 23,
    "start_time": "2022-01-14T16:28:44.832Z"
   },
   {
    "duration": 477,
    "start_time": "2022-01-14T17:11:14.052Z"
   },
   {
    "duration": 204,
    "start_time": "2022-01-14T17:16:30.528Z"
   },
   {
    "duration": 326,
    "start_time": "2022-01-14T17:18:28.570Z"
   },
   {
    "duration": 420,
    "start_time": "2022-01-14T17:21:20.459Z"
   },
   {
    "duration": 202,
    "start_time": "2022-01-14T17:21:41.343Z"
   },
   {
    "duration": 457,
    "start_time": "2022-01-14T17:50:19.636Z"
   },
   {
    "duration": 529,
    "start_time": "2022-01-14T17:50:56.616Z"
   },
   {
    "duration": 203,
    "start_time": "2022-01-14T17:52:26.324Z"
   },
   {
    "duration": 2088,
    "start_time": "2022-01-15T12:23:26.039Z"
   },
   {
    "duration": 30,
    "start_time": "2022-01-15T12:23:29.528Z"
   },
   {
    "duration": 16,
    "start_time": "2022-01-15T12:23:31.136Z"
   },
   {
    "duration": 26,
    "start_time": "2022-01-15T12:23:32.124Z"
   },
   {
    "duration": 24,
    "start_time": "2022-01-15T12:23:35.023Z"
   },
   {
    "duration": 13,
    "start_time": "2022-01-15T12:23:37.454Z"
   },
   {
    "duration": 21,
    "start_time": "2022-01-15T12:23:38.383Z"
   },
   {
    "duration": 11,
    "start_time": "2022-01-15T12:23:39.880Z"
   },
   {
    "duration": 12,
    "start_time": "2022-01-15T12:23:43.461Z"
   },
   {
    "duration": 22,
    "start_time": "2022-01-15T12:23:48.639Z"
   },
   {
    "duration": 11,
    "start_time": "2022-01-15T12:23:50.290Z"
   },
   {
    "duration": 20,
    "start_time": "2022-01-15T12:23:51.753Z"
   },
   {
    "duration": 8,
    "start_time": "2022-01-15T12:23:54.137Z"
   },
   {
    "duration": 11,
    "start_time": "2022-01-15T12:23:54.806Z"
   },
   {
    "duration": 7,
    "start_time": "2022-01-15T12:23:56.191Z"
   },
   {
    "duration": 5,
    "start_time": "2022-01-15T12:23:57.013Z"
   },
   {
    "duration": 13,
    "start_time": "2022-01-15T12:23:58.429Z"
   },
   {
    "duration": 9,
    "start_time": "2022-01-15T12:24:00.824Z"
   },
   {
    "duration": 17,
    "start_time": "2022-01-15T12:24:01.926Z"
   },
   {
    "duration": 8,
    "start_time": "2022-01-15T12:24:03.204Z"
   },
   {
    "duration": 7,
    "start_time": "2022-01-15T12:24:36.704Z"
   },
   {
    "duration": 74,
    "start_time": "2022-01-15T12:24:37.741Z"
   },
   {
    "duration": 10,
    "start_time": "2022-01-15T12:24:39.219Z"
   },
   {
    "duration": 51,
    "start_time": "2022-01-15T12:24:40.295Z"
   },
   {
    "duration": 15,
    "start_time": "2022-01-15T12:24:41.288Z"
   },
   {
    "duration": 5,
    "start_time": "2022-01-15T12:24:41.976Z"
   },
   {
    "duration": 9,
    "start_time": "2022-01-15T12:24:43.064Z"
   },
   {
    "duration": 45,
    "start_time": "2022-01-15T12:24:44.504Z"
   },
   {
    "duration": 11,
    "start_time": "2022-01-15T12:24:51.737Z"
   },
   {
    "duration": 31,
    "start_time": "2022-01-15T12:24:52.544Z"
   },
   {
    "duration": 13,
    "start_time": "2022-01-15T12:24:53.677Z"
   },
   {
    "duration": 5,
    "start_time": "2022-01-15T12:24:55.146Z"
   },
   {
    "duration": 9,
    "start_time": "2022-01-15T12:24:56.247Z"
   },
   {
    "duration": 57,
    "start_time": "2022-01-15T12:24:57.765Z"
   },
   {
    "duration": 10,
    "start_time": "2022-01-15T12:24:59.012Z"
   },
   {
    "duration": 32,
    "start_time": "2022-01-15T12:24:59.723Z"
   },
   {
    "duration": 15,
    "start_time": "2022-01-15T12:25:00.345Z"
   },
   {
    "duration": 23,
    "start_time": "2022-01-15T12:25:01.234Z"
   },
   {
    "duration": 5,
    "start_time": "2022-01-15T12:25:02.016Z"
   },
   {
    "duration": 9,
    "start_time": "2022-01-15T12:25:02.786Z"
   },
   {
    "duration": 11,
    "start_time": "2022-01-15T12:25:04.442Z"
   },
   {
    "duration": 12,
    "start_time": "2022-01-15T12:25:05.111Z"
   },
   {
    "duration": 10,
    "start_time": "2022-01-15T12:25:07.230Z"
   },
   {
    "duration": 11,
    "start_time": "2022-01-15T12:25:07.295Z"
   },
   {
    "duration": 27,
    "start_time": "2022-01-15T12:25:08.484Z"
   },
   {
    "duration": 7,
    "start_time": "2022-01-15T12:25:10.919Z"
   },
   {
    "duration": 24,
    "start_time": "2022-01-15T12:25:11.630Z"
   },
   {
    "duration": 8,
    "start_time": "2022-01-15T12:25:12.633Z"
   },
   {
    "duration": 34,
    "start_time": "2022-01-15T12:25:13.610Z"
   },
   {
    "duration": 5,
    "start_time": "2022-01-15T12:25:14.403Z"
   },
   {
    "duration": 183,
    "start_time": "2022-01-15T12:25:15.616Z"
   },
   {
    "duration": 10,
    "start_time": "2022-01-15T12:25:16.738Z"
   },
   {
    "duration": 42,
    "start_time": "2022-01-15T12:25:38.118Z"
   },
   {
    "duration": 43,
    "start_time": "2022-01-15T12:25:39.397Z"
   },
   {
    "duration": 41,
    "start_time": "2022-01-15T12:26:00.440Z"
   },
   {
    "duration": 41,
    "start_time": "2022-01-15T12:26:05.463Z"
   },
   {
    "duration": 45,
    "start_time": "2022-01-15T12:27:14.580Z"
   },
   {
    "duration": 7,
    "start_time": "2022-01-15T12:27:55.681Z"
   },
   {
    "duration": 4572,
    "start_time": "2022-01-15T12:28:55.049Z"
   },
   {
    "duration": 6,
    "start_time": "2022-01-15T12:33:26.742Z"
   },
   {
    "duration": 3095,
    "start_time": "2022-01-15T12:35:18.625Z"
   },
   {
    "duration": 333,
    "start_time": "2022-01-15T12:35:40.144Z"
   },
   {
    "duration": 117,
    "start_time": "2022-01-15T12:38:11.110Z"
   },
   {
    "duration": 572,
    "start_time": "2022-01-15T12:40:02.205Z"
   },
   {
    "duration": 337,
    "start_time": "2022-01-15T12:46:34.788Z"
   },
   {
    "duration": 358,
    "start_time": "2022-01-15T12:50:04.087Z"
   },
   {
    "duration": 12,
    "start_time": "2022-01-15T12:55:30.052Z"
   },
   {
    "duration": 11,
    "start_time": "2022-01-15T12:56:44.376Z"
   },
   {
    "duration": 353,
    "start_time": "2022-01-15T13:14:05.975Z"
   },
   {
    "duration": 345,
    "start_time": "2022-01-15T13:15:15.485Z"
   },
   {
    "duration": 489,
    "start_time": "2022-01-15T13:42:34.741Z"
   },
   {
    "duration": 1648,
    "start_time": "2022-01-16T12:45:12.777Z"
   },
   {
    "duration": 39,
    "start_time": "2022-01-16T12:45:15.667Z"
   },
   {
    "duration": 12,
    "start_time": "2022-01-16T12:45:16.999Z"
   },
   {
    "duration": 21,
    "start_time": "2022-01-16T12:45:18.213Z"
   },
   {
    "duration": 17,
    "start_time": "2022-01-16T12:45:19.804Z"
   },
   {
    "duration": 9,
    "start_time": "2022-01-16T12:45:20.493Z"
   },
   {
    "duration": 17,
    "start_time": "2022-01-16T12:45:21.306Z"
   },
   {
    "duration": 8,
    "start_time": "2022-01-16T12:45:22.042Z"
   },
   {
    "duration": 8,
    "start_time": "2022-01-16T12:45:22.828Z"
   },
   {
    "duration": 14,
    "start_time": "2022-01-16T12:45:24.330Z"
   },
   {
    "duration": 10,
    "start_time": "2022-01-16T12:45:25.098Z"
   },
   {
    "duration": 16,
    "start_time": "2022-01-16T12:45:25.860Z"
   },
   {
    "duration": 10,
    "start_time": "2022-01-16T12:45:27.174Z"
   },
   {
    "duration": 8,
    "start_time": "2022-01-16T12:45:27.798Z"
   },
   {
    "duration": 6,
    "start_time": "2022-01-16T12:45:28.483Z"
   },
   {
    "duration": 5,
    "start_time": "2022-01-16T12:45:29.316Z"
   },
   {
    "duration": 15,
    "start_time": "2022-01-16T12:45:30.265Z"
   },
   {
    "duration": 7,
    "start_time": "2022-01-16T12:45:31.981Z"
   },
   {
    "duration": 12,
    "start_time": "2022-01-16T12:45:32.677Z"
   },
   {
    "duration": 6,
    "start_time": "2022-01-16T12:45:33.340Z"
   },
   {
    "duration": 6,
    "start_time": "2022-01-16T12:45:36.154Z"
   },
   {
    "duration": 56,
    "start_time": "2022-01-16T12:45:36.823Z"
   },
   {
    "duration": 8,
    "start_time": "2022-01-16T12:45:37.495Z"
   },
   {
    "duration": 40,
    "start_time": "2022-01-16T12:45:38.181Z"
   },
   {
    "duration": 10,
    "start_time": "2022-01-16T12:45:38.732Z"
   },
   {
    "duration": 5,
    "start_time": "2022-01-16T12:45:39.433Z"
   },
   {
    "duration": 9,
    "start_time": "2022-01-16T12:45:40.260Z"
   },
   {
    "duration": 36,
    "start_time": "2022-01-16T12:45:41.591Z"
   },
   {
    "duration": 8,
    "start_time": "2022-01-16T12:45:42.337Z"
   },
   {
    "duration": 24,
    "start_time": "2022-01-16T12:45:43.084Z"
   },
   {
    "duration": 10,
    "start_time": "2022-01-16T12:45:43.710Z"
   },
   {
    "duration": 5,
    "start_time": "2022-01-16T12:45:44.553Z"
   },
   {
    "duration": 7,
    "start_time": "2022-01-16T12:45:45.183Z"
   },
   {
    "duration": 43,
    "start_time": "2022-01-16T12:45:46.753Z"
   },
   {
    "duration": 8,
    "start_time": "2022-01-16T12:45:47.440Z"
   },
   {
    "duration": 28,
    "start_time": "2022-01-16T12:45:48.150Z"
   },
   {
    "duration": 10,
    "start_time": "2022-01-16T12:45:48.880Z"
   },
   {
    "duration": 18,
    "start_time": "2022-01-16T12:45:49.514Z"
   },
   {
    "duration": 5,
    "start_time": "2022-01-16T12:45:50.309Z"
   },
   {
    "duration": 6,
    "start_time": "2022-01-16T12:45:50.938Z"
   },
   {
    "duration": 8,
    "start_time": "2022-01-16T12:45:52.247Z"
   },
   {
    "duration": 9,
    "start_time": "2022-01-16T12:45:52.920Z"
   },
   {
    "duration": 8,
    "start_time": "2022-01-16T12:45:53.533Z"
   },
   {
    "duration": 7,
    "start_time": "2022-01-16T12:45:54.084Z"
   },
   {
    "duration": 18,
    "start_time": "2022-01-16T12:45:54.707Z"
   },
   {
    "duration": 5,
    "start_time": "2022-01-16T12:45:55.852Z"
   },
   {
    "duration": 16,
    "start_time": "2022-01-16T12:45:56.507Z"
   },
   {
    "duration": 8,
    "start_time": "2022-01-16T12:45:57.057Z"
   },
   {
    "duration": 18,
    "start_time": "2022-01-16T12:45:57.793Z"
   },
   {
    "duration": 4,
    "start_time": "2022-01-16T12:45:58.341Z"
   },
   {
    "duration": 114,
    "start_time": "2022-01-16T12:45:58.926Z"
   },
   {
    "duration": 7,
    "start_time": "2022-01-16T12:45:59.529Z"
   },
   {
    "duration": 38,
    "start_time": "2022-01-16T12:46:01.449Z"
   },
   {
    "duration": 29,
    "start_time": "2022-01-16T12:46:02.875Z"
   },
   {
    "duration": 27,
    "start_time": "2022-01-16T12:46:04.228Z"
   },
   {
    "duration": 6,
    "start_time": "2022-01-16T12:46:06.060Z"
   },
   {
    "duration": 7,
    "start_time": "2022-01-16T12:46:06.666Z"
   },
   {
    "duration": 256,
    "start_time": "2022-01-16T12:46:07.324Z"
   },
   {
    "duration": 8,
    "start_time": "2022-01-16T12:46:08.025Z"
   },
   {
    "duration": 9,
    "start_time": "2022-01-16T12:46:08.753Z"
   },
   {
    "duration": 276,
    "start_time": "2022-01-16T12:46:10.151Z"
   },
   {
    "duration": 231,
    "start_time": "2022-01-16T12:46:10.821Z"
   },
   {
    "duration": 556,
    "start_time": "2022-01-16T12:47:58.741Z"
   },
   {
    "duration": 470,
    "start_time": "2022-01-16T12:51:40.839Z"
   },
   {
    "duration": 498,
    "start_time": "2022-01-16T12:52:07.333Z"
   },
   {
    "duration": 3,
    "start_time": "2022-01-16T13:02:49.533Z"
   },
   {
    "duration": 6,
    "start_time": "2022-01-16T13:03:25.984Z"
   },
   {
    "duration": 7,
    "start_time": "2022-01-16T13:15:44.242Z"
   },
   {
    "duration": 29,
    "start_time": "2022-01-16T13:18:40.655Z"
   },
   {
    "duration": 11,
    "start_time": "2022-01-16T13:19:06.878Z"
   },
   {
    "duration": 6,
    "start_time": "2022-01-16T13:25:44.993Z"
   },
   {
    "duration": 6,
    "start_time": "2022-01-16T13:29:00.283Z"
   },
   {
    "duration": 6,
    "start_time": "2022-01-16T13:29:20.050Z"
   },
   {
    "duration": 2001,
    "start_time": "2022-01-17T05:49:22.418Z"
   },
   {
    "duration": 30,
    "start_time": "2022-01-17T05:49:26.550Z"
   },
   {
    "duration": 17,
    "start_time": "2022-01-17T05:49:29.362Z"
   },
   {
    "duration": 26,
    "start_time": "2022-01-17T05:49:36.510Z"
   },
   {
    "duration": 23,
    "start_time": "2022-01-17T05:50:03.167Z"
   },
   {
    "duration": 12,
    "start_time": "2022-01-17T05:50:07.533Z"
   },
   {
    "duration": 21,
    "start_time": "2022-01-17T05:50:11.084Z"
   },
   {
    "duration": 12,
    "start_time": "2022-01-17T05:50:18.936Z"
   },
   {
    "duration": 12,
    "start_time": "2022-01-17T05:50:23.884Z"
   },
   {
    "duration": 18,
    "start_time": "2022-01-17T05:50:39.456Z"
   },
   {
    "duration": 10,
    "start_time": "2022-01-17T05:50:41.560Z"
   },
   {
    "duration": 18,
    "start_time": "2022-01-17T05:50:47.438Z"
   },
   {
    "duration": 11,
    "start_time": "2022-01-17T05:50:50.656Z"
   },
   {
    "duration": 12,
    "start_time": "2022-01-17T05:50:58.655Z"
   },
   {
    "duration": 8,
    "start_time": "2022-01-17T05:50:59.740Z"
   },
   {
    "duration": 5,
    "start_time": "2022-01-17T05:51:20.939Z"
   },
   {
    "duration": 12,
    "start_time": "2022-01-17T05:51:24.714Z"
   },
   {
    "duration": 9,
    "start_time": "2022-01-17T05:51:43.837Z"
   },
   {
    "duration": 17,
    "start_time": "2022-01-17T05:51:54.556Z"
   },
   {
    "duration": 7,
    "start_time": "2022-01-17T05:52:00.872Z"
   },
   {
    "duration": 7,
    "start_time": "2022-01-17T05:53:44.590Z"
   },
   {
    "duration": 93,
    "start_time": "2022-01-17T05:53:47.134Z"
   },
   {
    "duration": 10,
    "start_time": "2022-01-17T05:53:48.741Z"
   },
   {
    "duration": 57,
    "start_time": "2022-01-17T05:53:57.023Z"
   },
   {
    "duration": 15,
    "start_time": "2022-01-17T05:54:06.033Z"
   },
   {
    "duration": 5,
    "start_time": "2022-01-17T05:54:25.051Z"
   },
   {
    "duration": 10,
    "start_time": "2022-01-17T05:54:27.901Z"
   },
   {
    "duration": 47,
    "start_time": "2022-01-17T05:54:50.594Z"
   },
   {
    "duration": 11,
    "start_time": "2022-01-17T05:55:02.622Z"
   },
   {
    "duration": 34,
    "start_time": "2022-01-17T05:55:07.568Z"
   },
   {
    "duration": 6,
    "start_time": "2022-01-17T05:55:16.287Z"
   },
   {
    "duration": 10,
    "start_time": "2022-01-17T05:55:19.334Z"
   },
   {
    "duration": 56,
    "start_time": "2022-01-17T05:55:28.344Z"
   },
   {
    "duration": 13,
    "start_time": "2022-01-17T05:56:08.571Z"
   },
   {
    "duration": 36,
    "start_time": "2022-01-17T05:56:17.625Z"
   },
   {
    "duration": 20,
    "start_time": "2022-01-17T05:56:24.173Z"
   },
   {
    "duration": 14,
    "start_time": "2022-01-17T05:57:14.213Z"
   },
   {
    "duration": 5,
    "start_time": "2022-01-17T05:57:18.445Z"
   },
   {
    "duration": 9,
    "start_time": "2022-01-17T05:57:19.784Z"
   },
   {
    "duration": 372,
    "start_time": "2022-01-17T05:58:07.971Z"
   },
   {
    "duration": 12,
    "start_time": "2022-01-17T05:58:15.772Z"
   },
   {
    "duration": 11,
    "start_time": "2022-01-17T05:58:18.619Z"
   },
   {
    "duration": 10,
    "start_time": "2022-01-17T05:58:20.729Z"
   },
   {
    "duration": 12,
    "start_time": "2022-01-17T05:58:27.198Z"
   },
   {
    "duration": 29,
    "start_time": "2022-01-17T05:58:29.221Z"
   },
   {
    "duration": 10,
    "start_time": "2022-01-17T05:59:49.502Z"
   },
   {
    "duration": 23,
    "start_time": "2022-01-17T05:59:55.750Z"
   },
   {
    "duration": 8,
    "start_time": "2022-01-17T06:00:04.638Z"
   },
   {
    "duration": 30,
    "start_time": "2022-01-17T06:00:06.222Z"
   },
   {
    "duration": 5,
    "start_time": "2022-01-17T06:00:22.133Z"
   },
   {
    "duration": 183,
    "start_time": "2022-01-17T06:00:39.792Z"
   },
   {
    "duration": 9,
    "start_time": "2022-01-17T06:00:41.690Z"
   },
   {
    "duration": 40,
    "start_time": "2022-01-17T06:01:21.168Z"
   },
   {
    "duration": 6,
    "start_time": "2022-01-17T06:09:08.229Z"
   },
   {
    "duration": 12,
    "start_time": "2022-01-17T06:09:32.669Z"
   },
   {
    "duration": 6,
    "start_time": "2022-01-17T06:11:22.687Z"
   },
   {
    "duration": 372,
    "start_time": "2022-01-17T06:11:35.736Z"
   },
   {
    "duration": 4,
    "start_time": "2022-01-17T06:42:38.224Z"
   },
   {
    "duration": 4,
    "start_time": "2022-01-17T06:44:38.427Z"
   },
   {
    "duration": 260,
    "start_time": "2022-01-17T06:45:31.702Z"
   },
   {
    "duration": 7,
    "start_time": "2022-01-17T06:45:40.859Z"
   },
   {
    "duration": 10,
    "start_time": "2022-01-17T06:47:41.228Z"
   },
   {
    "duration": 14,
    "start_time": "2022-01-17T06:48:19.372Z"
   },
   {
    "duration": 9,
    "start_time": "2022-01-17T06:48:32.837Z"
   },
   {
    "duration": 7,
    "start_time": "2022-01-17T06:48:57.276Z"
   },
   {
    "duration": 7,
    "start_time": "2022-01-17T06:49:05.870Z"
   },
   {
    "duration": 6,
    "start_time": "2022-01-17T06:50:51.186Z"
   },
   {
    "duration": 11,
    "start_time": "2022-01-17T06:51:29.395Z"
   },
   {
    "duration": 6,
    "start_time": "2022-01-17T06:52:20.304Z"
   },
   {
    "duration": 295,
    "start_time": "2022-01-17T07:27:47.386Z"
   },
   {
    "duration": 12,
    "start_time": "2022-01-17T07:29:04.689Z"
   },
   {
    "duration": 8,
    "start_time": "2022-01-17T11:41:35.674Z"
   },
   {
    "duration": 32,
    "start_time": "2022-01-17T11:41:42.665Z"
   },
   {
    "duration": 6,
    "start_time": "2022-01-17T11:42:05.779Z"
   },
   {
    "duration": 186,
    "start_time": "2022-01-17T11:42:07.183Z"
   },
   {
    "duration": 11,
    "start_time": "2022-01-17T11:42:13.863Z"
   },
   {
    "duration": 580,
    "start_time": "2022-01-17T11:43:08.170Z"
   },
   {
    "duration": 27,
    "start_time": "2022-01-17T11:43:10.386Z"
   },
   {
    "duration": 13,
    "start_time": "2022-01-17T11:43:13.622Z"
   },
   {
    "duration": 27,
    "start_time": "2022-01-17T11:43:15.182Z"
   },
   {
    "duration": 23,
    "start_time": "2022-01-17T11:43:16.796Z"
   },
   {
    "duration": 16,
    "start_time": "2022-01-17T11:43:17.419Z"
   },
   {
    "duration": 23,
    "start_time": "2022-01-17T11:43:18.203Z"
   },
   {
    "duration": 10,
    "start_time": "2022-01-17T11:43:19.067Z"
   },
   {
    "duration": 12,
    "start_time": "2022-01-17T11:43:19.949Z"
   },
   {
    "duration": 19,
    "start_time": "2022-01-17T11:43:21.837Z"
   },
   {
    "duration": 11,
    "start_time": "2022-01-17T11:43:22.744Z"
   },
   {
    "duration": 20,
    "start_time": "2022-01-17T11:43:23.802Z"
   },
   {
    "duration": 10,
    "start_time": "2022-01-17T11:43:25.871Z"
   },
   {
    "duration": 12,
    "start_time": "2022-01-17T11:43:27.011Z"
   },
   {
    "duration": 5,
    "start_time": "2022-01-17T11:43:28.238Z"
   },
   {
    "duration": 12,
    "start_time": "2022-01-17T11:43:29.434Z"
   },
   {
    "duration": 9,
    "start_time": "2022-01-17T11:43:31.681Z"
   },
   {
    "duration": 17,
    "start_time": "2022-01-17T11:43:36.926Z"
   },
   {
    "duration": 9,
    "start_time": "2022-01-17T11:43:38.243Z"
   },
   {
    "duration": 7,
    "start_time": "2022-01-17T11:43:47.432Z"
   },
   {
    "duration": 75,
    "start_time": "2022-01-17T11:43:48.227Z"
   },
   {
    "duration": 11,
    "start_time": "2022-01-17T11:43:49.132Z"
   },
   {
    "duration": 48,
    "start_time": "2022-01-17T11:43:49.933Z"
   },
   {
    "duration": 6,
    "start_time": "2022-01-17T11:43:50.783Z"
   },
   {
    "duration": 10,
    "start_time": "2022-01-17T11:43:51.792Z"
   },
   {
    "duration": 47,
    "start_time": "2022-01-17T11:43:53.095Z"
   },
   {
    "duration": 11,
    "start_time": "2022-01-17T11:43:53.820Z"
   },
   {
    "duration": 33,
    "start_time": "2022-01-17T11:43:54.644Z"
   },
   {
    "duration": 6,
    "start_time": "2022-01-17T11:43:55.469Z"
   },
   {
    "duration": 11,
    "start_time": "2022-01-17T11:43:56.276Z"
   },
   {
    "duration": 56,
    "start_time": "2022-01-17T11:43:57.966Z"
   },
   {
    "duration": 11,
    "start_time": "2022-01-17T11:44:02.169Z"
   },
   {
    "duration": 30,
    "start_time": "2022-01-17T11:44:02.992Z"
   },
   {
    "duration": 12,
    "start_time": "2022-01-17T11:44:04.746Z"
   },
   {
    "duration": 6,
    "start_time": "2022-01-17T11:44:06.322Z"
   },
   {
    "duration": 10,
    "start_time": "2022-01-17T11:44:16.882Z"
   },
   {
    "duration": 14,
    "start_time": "2022-01-17T11:44:19.241Z"
   },
   {
    "duration": 16,
    "start_time": "2022-01-17T11:44:20.307Z"
   },
   {
    "duration": 13,
    "start_time": "2022-01-17T11:44:21.358Z"
   },
   {
    "duration": 14,
    "start_time": "2022-01-17T11:44:22.238Z"
   },
   {
    "duration": 30,
    "start_time": "2022-01-17T11:44:23.516Z"
   },
   {
    "duration": 7,
    "start_time": "2022-01-17T11:44:25.623Z"
   },
   {
    "duration": 25,
    "start_time": "2022-01-17T11:44:27.339Z"
   },
   {
    "duration": 8,
    "start_time": "2022-01-17T11:44:29.271Z"
   },
   {
    "duration": 30,
    "start_time": "2022-01-17T11:44:30.724Z"
   },
   {
    "duration": 6,
    "start_time": "2022-01-17T11:44:32.567Z"
   },
   {
    "duration": 212,
    "start_time": "2022-01-17T11:44:34.425Z"
   },
   {
    "duration": 15,
    "start_time": "2022-01-17T11:44:36.227Z"
   },
   {
    "duration": 13,
    "start_time": "2022-01-17T11:44:38.492Z"
   },
   {
    "duration": 43,
    "start_time": "2022-01-17T11:44:53.716Z"
   },
   {
    "duration": 54,
    "start_time": "2022-01-17T11:44:55.322Z"
   },
   {
    "duration": 44,
    "start_time": "2022-01-17T11:44:56.786Z"
   },
   {
    "duration": 7,
    "start_time": "2022-01-17T11:44:58.789Z"
   },
   {
    "duration": 12,
    "start_time": "2022-01-17T11:45:00.205Z"
   },
   {
    "duration": 6,
    "start_time": "2022-01-17T11:45:01.005Z"
   },
   {
    "duration": 411,
    "start_time": "2022-01-17T11:45:01.812Z"
   },
   {
    "duration": 465,
    "start_time": "2022-01-17T11:45:03.267Z"
   },
   {
    "duration": 368,
    "start_time": "2022-01-17T11:45:04.018Z"
   },
   {
    "duration": 5,
    "start_time": "2022-01-17T11:45:07.684Z"
   },
   {
    "duration": 6,
    "start_time": "2022-01-17T11:45:08.685Z"
   },
   {
    "duration": 7,
    "start_time": "2022-01-17T11:45:21.988Z"
   },
   {
    "duration": 266,
    "start_time": "2022-01-17T11:51:52.245Z"
   },
   {
    "duration": 310,
    "start_time": "2022-01-17T11:52:25.715Z"
   },
   {
    "duration": 8,
    "start_time": "2022-01-17T12:05:12.620Z"
   },
   {
    "duration": 12,
    "start_time": "2022-01-17T12:08:28.249Z"
   },
   {
    "duration": 237,
    "start_time": "2022-01-17T12:11:59.978Z"
   },
   {
    "duration": 12,
    "start_time": "2022-01-17T12:19:23.825Z"
   },
   {
    "duration": 11,
    "start_time": "2022-01-17T12:21:27.527Z"
   },
   {
    "duration": 10,
    "start_time": "2022-01-17T12:21:51.564Z"
   },
   {
    "duration": 6,
    "start_time": "2022-01-17T12:44:17.405Z"
   },
   {
    "duration": 96,
    "start_time": "2022-01-17T12:44:21.409Z"
   },
   {
    "duration": 4,
    "start_time": "2022-01-17T12:44:46.679Z"
   },
   {
    "duration": 1840,
    "start_time": "2022-01-17T12:44:48.253Z"
   },
   {
    "duration": 5,
    "start_time": "2022-01-17T12:45:13.021Z"
   },
   {
    "duration": 5,
    "start_time": "2022-01-17T12:45:14.613Z"
   },
   {
    "duration": 1941,
    "start_time": "2022-01-17T12:45:16.506Z"
   },
   {
    "duration": 5,
    "start_time": "2022-01-17T13:01:53.006Z"
   },
   {
    "duration": 4,
    "start_time": "2022-01-17T13:01:58.396Z"
   },
   {
    "duration": 4,
    "start_time": "2022-01-17T13:02:02.559Z"
   },
   {
    "duration": 2186,
    "start_time": "2022-01-17T13:02:04.152Z"
   },
   {
    "duration": 5,
    "start_time": "2022-01-17T13:02:27.499Z"
   },
   {
    "duration": 5,
    "start_time": "2022-01-17T13:02:29.062Z"
   },
   {
    "duration": 4,
    "start_time": "2022-01-17T13:02:29.921Z"
   },
   {
    "duration": 1812,
    "start_time": "2022-01-17T13:02:38.990Z"
   },
   {
    "duration": 390,
    "start_time": "2022-01-17T13:06:52.247Z"
   },
   {
    "duration": 1602,
    "start_time": "2022-01-20T14:30:22.381Z"
   },
   {
    "duration": 21,
    "start_time": "2022-01-20T14:30:23.985Z"
   },
   {
    "duration": 13,
    "start_time": "2022-01-20T14:30:24.010Z"
   },
   {
    "duration": 22,
    "start_time": "2022-01-20T14:30:24.025Z"
   },
   {
    "duration": 18,
    "start_time": "2022-01-20T14:30:24.048Z"
   },
   {
    "duration": 13,
    "start_time": "2022-01-20T14:30:24.068Z"
   },
   {
    "duration": 18,
    "start_time": "2022-01-20T14:30:24.099Z"
   },
   {
    "duration": 15,
    "start_time": "2022-01-20T14:30:24.119Z"
   },
   {
    "duration": 12,
    "start_time": "2022-01-20T14:30:24.137Z"
   },
   {
    "duration": 17,
    "start_time": "2022-01-20T14:30:24.150Z"
   },
   {
    "duration": 7,
    "start_time": "2022-01-20T14:30:24.168Z"
   },
   {
    "duration": 35,
    "start_time": "2022-01-20T14:30:24.176Z"
   },
   {
    "duration": 7,
    "start_time": "2022-01-20T14:30:24.213Z"
   },
   {
    "duration": 11,
    "start_time": "2022-01-20T14:30:24.222Z"
   },
   {
    "duration": 5,
    "start_time": "2022-01-20T14:30:24.235Z"
   },
   {
    "duration": 11,
    "start_time": "2022-01-20T14:30:24.242Z"
   },
   {
    "duration": 8,
    "start_time": "2022-01-20T14:30:24.255Z"
   },
   {
    "duration": 39,
    "start_time": "2022-01-20T14:30:24.265Z"
   },
   {
    "duration": 9,
    "start_time": "2022-01-20T14:30:24.306Z"
   },
   {
    "duration": 8,
    "start_time": "2022-01-20T14:30:24.317Z"
   },
   {
    "duration": 75,
    "start_time": "2022-01-20T14:30:24.327Z"
   },
   {
    "duration": 8,
    "start_time": "2022-01-20T14:30:24.404Z"
   },
   {
    "duration": 46,
    "start_time": "2022-01-20T14:30:24.414Z"
   },
   {
    "duration": 4,
    "start_time": "2022-01-20T14:30:24.462Z"
   },
   {
    "duration": 10,
    "start_time": "2022-01-20T14:30:24.467Z"
   },
   {
    "duration": 34,
    "start_time": "2022-01-20T14:30:24.500Z"
   },
   {
    "duration": 7,
    "start_time": "2022-01-20T14:30:24.536Z"
   },
   {
    "duration": 29,
    "start_time": "2022-01-20T14:30:24.544Z"
   },
   {
    "duration": 23,
    "start_time": "2022-01-20T14:30:24.575Z"
   },
   {
    "duration": 7,
    "start_time": "2022-01-20T14:30:24.600Z"
   },
   {
    "duration": 42,
    "start_time": "2022-01-20T14:30:24.609Z"
   },
   {
    "duration": 9,
    "start_time": "2022-01-20T14:30:24.653Z"
   },
   {
    "duration": 53,
    "start_time": "2022-01-20T14:30:24.664Z"
   },
   {
    "duration": 10,
    "start_time": "2022-01-20T14:30:24.719Z"
   },
   {
    "duration": 5,
    "start_time": "2022-01-20T14:30:24.731Z"
   },
   {
    "duration": 10,
    "start_time": "2022-01-20T14:30:24.738Z"
   },
   {
    "duration": 11,
    "start_time": "2022-01-20T14:30:24.750Z"
   },
   {
    "duration": 41,
    "start_time": "2022-01-20T14:30:24.763Z"
   },
   {
    "duration": 8,
    "start_time": "2022-01-20T14:30:24.806Z"
   },
   {
    "duration": 29,
    "start_time": "2022-01-20T14:30:24.816Z"
   },
   {
    "duration": 20,
    "start_time": "2022-01-20T14:30:24.847Z"
   },
   {
    "duration": 6,
    "start_time": "2022-01-20T14:30:24.869Z"
   },
   {
    "duration": 23,
    "start_time": "2022-01-20T14:30:24.877Z"
   },
   {
    "duration": 8,
    "start_time": "2022-01-20T14:30:24.902Z"
   },
   {
    "duration": 20,
    "start_time": "2022-01-20T14:30:24.912Z"
   },
   {
    "duration": 4,
    "start_time": "2022-01-20T14:30:24.934Z"
   },
   {
    "duration": 161,
    "start_time": "2022-01-20T14:30:24.940Z"
   },
   {
    "duration": 12,
    "start_time": "2022-01-20T14:30:25.102Z"
   },
   {
    "duration": 38,
    "start_time": "2022-01-20T14:30:25.116Z"
   },
   {
    "duration": 44,
    "start_time": "2022-01-20T14:30:25.156Z"
   },
   {
    "duration": 28,
    "start_time": "2022-01-20T14:30:25.202Z"
   },
   {
    "duration": 10,
    "start_time": "2022-01-20T14:30:25.232Z"
   },
   {
    "duration": 11,
    "start_time": "2022-01-20T14:30:25.244Z"
   },
   {
    "duration": 283,
    "start_time": "2022-01-20T14:30:25.257Z"
   },
   {
    "duration": 264,
    "start_time": "2022-01-20T14:30:25.542Z"
   },
   {
    "duration": 248,
    "start_time": "2022-01-20T14:30:25.808Z"
   },
   {
    "duration": 3,
    "start_time": "2022-01-20T14:30:26.058Z"
   },
   {
    "duration": 14,
    "start_time": "2022-01-20T14:30:26.063Z"
   },
   {
    "duration": 1089,
    "start_time": "2022-01-20T14:30:26.078Z"
   },
   {
    "duration": 2,
    "start_time": "2022-01-20T14:30:27.169Z"
   },
   {
    "duration": 8,
    "start_time": "2022-01-20T14:30:27.173Z"
   },
   {
    "duration": 18,
    "start_time": "2022-01-20T14:30:27.183Z"
   },
   {
    "duration": 8,
    "start_time": "2022-01-20T14:30:27.202Z"
   },
   {
    "duration": 27,
    "start_time": "2022-01-20T14:32:42.800Z"
   },
   {
    "duration": 18,
    "start_time": "2022-01-20T14:34:00.541Z"
   },
   {
    "duration": 9,
    "start_time": "2022-01-20T14:34:24.250Z"
   },
   {
    "duration": 364,
    "start_time": "2022-01-22T13:14:37.285Z"
   },
   {
    "duration": 1392,
    "start_time": "2022-01-22T13:15:12.783Z"
   },
   {
    "duration": 470,
    "start_time": "2022-01-22T13:15:18.896Z"
   },
   {
    "duration": 25,
    "start_time": "2022-01-22T13:15:26.008Z"
   },
   {
    "duration": 16,
    "start_time": "2022-01-22T13:15:39.012Z"
   },
   {
    "duration": 25,
    "start_time": "2022-01-22T13:15:40.201Z"
   },
   {
    "duration": 21,
    "start_time": "2022-01-22T13:15:41.991Z"
   },
   {
    "duration": 11,
    "start_time": "2022-01-22T13:15:43.449Z"
   },
   {
    "duration": 22,
    "start_time": "2022-01-22T13:15:44.616Z"
   },
   {
    "duration": 11,
    "start_time": "2022-01-22T13:15:45.502Z"
   },
   {
    "duration": 11,
    "start_time": "2022-01-22T13:15:47.126Z"
   },
   {
    "duration": 21,
    "start_time": "2022-01-22T13:15:48.980Z"
   },
   {
    "duration": 10,
    "start_time": "2022-01-22T13:15:49.768Z"
   },
   {
    "duration": 18,
    "start_time": "2022-01-22T13:15:50.625Z"
   },
   {
    "duration": 10,
    "start_time": "2022-01-22T13:15:52.026Z"
   },
   {
    "duration": 11,
    "start_time": "2022-01-22T13:15:52.888Z"
   },
   {
    "duration": 6,
    "start_time": "2022-01-22T13:15:53.709Z"
   },
   {
    "duration": 11,
    "start_time": "2022-01-22T13:15:54.653Z"
   },
   {
    "duration": 9,
    "start_time": "2022-01-22T13:15:57.061Z"
   },
   {
    "duration": 16,
    "start_time": "2022-01-22T13:16:01.728Z"
   },
   {
    "duration": 7,
    "start_time": "2022-01-22T13:16:03.138Z"
   },
   {
    "duration": 6,
    "start_time": "2022-01-22T13:16:08.097Z"
   },
   {
    "duration": 75,
    "start_time": "2022-01-22T13:16:09.941Z"
   },
   {
    "duration": 12,
    "start_time": "2022-01-22T13:16:10.944Z"
   },
   {
    "duration": 50,
    "start_time": "2022-01-22T13:16:17.698Z"
   },
   {
    "duration": 5,
    "start_time": "2022-01-22T13:16:19.319Z"
   },
   {
    "duration": 10,
    "start_time": "2022-01-22T13:16:20.707Z"
   },
   {
    "duration": 45,
    "start_time": "2022-01-22T13:16:26.002Z"
   },
   {
    "duration": 9,
    "start_time": "2022-01-22T13:16:27.988Z"
   },
   {
    "duration": 30,
    "start_time": "2022-01-22T13:16:29.501Z"
   },
   {
    "duration": 6,
    "start_time": "2022-01-22T13:16:30.437Z"
   },
   {
    "duration": 11,
    "start_time": "2022-01-22T13:16:31.399Z"
   },
   {
    "duration": 52,
    "start_time": "2022-01-22T13:16:33.556Z"
   },
   {
    "duration": 11,
    "start_time": "2022-01-22T13:16:34.519Z"
   },
   {
    "duration": 36,
    "start_time": "2022-01-22T13:16:35.574Z"
   },
   {
    "duration": 17,
    "start_time": "2022-01-22T13:16:36.913Z"
   },
   {
    "duration": 5,
    "start_time": "2022-01-22T13:16:39.254Z"
   },
   {
    "duration": 9,
    "start_time": "2022-01-22T13:16:40.261Z"
   },
   {
    "duration": 11,
    "start_time": "2022-01-22T13:16:42.545Z"
   },
   {
    "duration": 13,
    "start_time": "2022-01-22T13:16:43.200Z"
   },
   {
    "duration": 10,
    "start_time": "2022-01-22T13:16:43.934Z"
   },
   {
    "duration": 18,
    "start_time": "2022-01-22T13:16:44.707Z"
   },
   {
    "duration": 27,
    "start_time": "2022-01-22T13:16:55.739Z"
   },
   {
    "duration": 9,
    "start_time": "2022-01-22T13:30:35.697Z"
   },
   {
    "duration": 8031,
    "start_time": "2022-01-22T14:13:03.326Z"
   },
   {
    "duration": 43,
    "start_time": "2022-01-22T14:13:32.394Z"
   },
   {
    "duration": 6,
    "start_time": "2022-01-22T14:13:33.654Z"
   },
   {
    "duration": 40,
    "start_time": "2022-01-22T14:13:39.046Z"
   },
   {
    "duration": 8,
    "start_time": "2022-01-22T14:13:40.119Z"
   },
   {
    "duration": 10,
    "start_time": "2022-01-22T14:13:40.929Z"
   },
   {
    "duration": 16,
    "start_time": "2022-01-22T14:13:42.473Z"
   },
   {
    "duration": 10,
    "start_time": "2022-01-22T14:13:43.190Z"
   },
   {
    "duration": 25,
    "start_time": "2022-01-22T14:13:43.888Z"
   },
   {
    "duration": 6,
    "start_time": "2022-01-22T14:13:44.531Z"
   },
   {
    "duration": 9,
    "start_time": "2022-01-22T14:13:45.311Z"
   },
   {
    "duration": 20,
    "start_time": "2022-01-22T14:13:46.697Z"
   },
   {
    "duration": 10,
    "start_time": "2022-01-22T14:13:47.434Z"
   },
   {
    "duration": 32,
    "start_time": "2022-01-22T14:13:48.134Z"
   },
   {
    "duration": 11,
    "start_time": "2022-01-22T14:13:49.026Z"
   },
   {
    "duration": 6,
    "start_time": "2022-01-22T14:13:50.459Z"
   },
   {
    "duration": 9,
    "start_time": "2022-01-22T14:13:51.185Z"
   },
   {
    "duration": 11,
    "start_time": "2022-01-22T14:13:53.128Z"
   },
   {
    "duration": 12,
    "start_time": "2022-01-22T14:13:53.736Z"
   },
   {
    "duration": 11,
    "start_time": "2022-01-22T14:13:54.462Z"
   },
   {
    "duration": 14,
    "start_time": "2022-01-22T14:13:55.220Z"
   },
   {
    "duration": 25,
    "start_time": "2022-01-22T14:13:58.237Z"
   },
   {
    "duration": 10,
    "start_time": "2022-01-22T14:13:59.331Z"
   },
   {
    "duration": 7210,
    "start_time": "2022-01-22T14:15:15.365Z"
   },
   {
    "duration": 5,
    "start_time": "2022-01-22T14:16:42.819Z"
   },
   {
    "duration": 5,
    "start_time": "2022-01-22T14:17:15.237Z"
   },
   {
    "duration": 5,
    "start_time": "2022-01-22T14:18:07.865Z"
   },
   {
    "duration": 5,
    "start_time": "2022-01-22T14:18:09.061Z"
   },
   {
    "duration": 9,
    "start_time": "2022-01-22T14:18:49.902Z"
   },
   {
    "duration": 7,
    "start_time": "2022-01-22T14:49:05.398Z"
   },
   {
    "duration": 23,
    "start_time": "2022-01-22T14:49:06.598Z"
   },
   {
    "duration": 9,
    "start_time": "2022-01-22T14:49:07.496Z"
   },
   {
    "duration": 40,
    "start_time": "2022-01-22T14:49:08.205Z"
   },
   {
    "duration": 6,
    "start_time": "2022-01-22T14:49:09.111Z"
   },
   {
    "duration": 185,
    "start_time": "2022-01-22T14:49:10.048Z"
   },
   {
    "duration": 14,
    "start_time": "2022-01-22T14:49:11.654Z"
   },
   {
    "duration": 38,
    "start_time": "2022-01-22T14:49:16.330Z"
   },
   {
    "duration": 40,
    "start_time": "2022-01-22T14:49:18.191Z"
   },
   {
    "duration": 39,
    "start_time": "2022-01-22T14:49:19.790Z"
   },
   {
    "duration": 6,
    "start_time": "2022-01-22T14:49:23.383Z"
   },
   {
    "duration": 6,
    "start_time": "2022-01-22T14:49:24.243Z"
   },
   {
    "duration": 349,
    "start_time": "2022-01-22T14:49:25.330Z"
   },
   {
    "duration": 325,
    "start_time": "2022-01-22T14:50:03.346Z"
   },
   {
    "duration": 314,
    "start_time": "2022-01-22T14:50:15.415Z"
   },
   {
    "duration": 5,
    "start_time": "2022-01-22T14:50:19.968Z"
   },
   {
    "duration": 3,
    "start_time": "2022-01-22T14:50:23.654Z"
   },
   {
    "duration": 1701,
    "start_time": "2022-01-22T14:50:23.931Z"
   },
   {
    "duration": 85,
    "start_time": "2022-01-22T14:55:44.872Z"
   },
   {
    "duration": 1482,
    "start_time": "2022-01-23T11:31:38.584Z"
   },
   {
    "duration": 528,
    "start_time": "2022-01-23T11:31:41.300Z"
   },
   {
    "duration": 29,
    "start_time": "2022-01-23T11:31:43.213Z"
   },
   {
    "duration": 17,
    "start_time": "2022-01-23T11:31:44.932Z"
   },
   {
    "duration": 28,
    "start_time": "2022-01-23T11:31:45.922Z"
   },
   {
    "duration": 25,
    "start_time": "2022-01-23T11:31:49.395Z"
   },
   {
    "duration": 17,
    "start_time": "2022-01-23T11:31:50.374Z"
   },
   {
    "duration": 20,
    "start_time": "2022-01-23T11:31:53.213Z"
   },
   {
    "duration": 12,
    "start_time": "2022-01-23T11:31:54.176Z"
   },
   {
    "duration": 11,
    "start_time": "2022-01-23T11:31:55.916Z"
   },
   {
    "duration": 19,
    "start_time": "2022-01-23T11:31:58.444Z"
   },
   {
    "duration": 10,
    "start_time": "2022-01-23T11:31:59.608Z"
   },
   {
    "duration": 19,
    "start_time": "2022-01-23T11:32:00.517Z"
   },
   {
    "duration": 10,
    "start_time": "2022-01-23T11:32:05.390Z"
   },
   {
    "duration": 12,
    "start_time": "2022-01-23T11:32:06.296Z"
   },
   {
    "duration": 5,
    "start_time": "2022-01-23T11:32:07.543Z"
   },
   {
    "duration": 12,
    "start_time": "2022-01-23T11:32:08.507Z"
   },
   {
    "duration": 9,
    "start_time": "2022-01-23T11:32:10.221Z"
   },
   {
    "duration": 16,
    "start_time": "2022-01-23T11:32:11.317Z"
   },
   {
    "duration": 8,
    "start_time": "2022-01-23T11:32:12.221Z"
   },
   {
    "duration": 7,
    "start_time": "2022-01-23T11:40:25.815Z"
   },
   {
    "duration": 76,
    "start_time": "2022-01-23T11:40:27.445Z"
   },
   {
    "duration": 12,
    "start_time": "2022-01-23T11:40:28.439Z"
   },
   {
    "duration": 55,
    "start_time": "2022-01-23T11:40:31.926Z"
   },
   {
    "duration": 6,
    "start_time": "2022-01-23T11:40:32.919Z"
   },
   {
    "duration": 10,
    "start_time": "2022-01-23T11:40:33.786Z"
   },
   {
    "duration": 47,
    "start_time": "2022-01-23T11:40:35.178Z"
   },
   {
    "duration": 10,
    "start_time": "2022-01-23T11:40:35.851Z"
   },
   {
    "duration": 32,
    "start_time": "2022-01-23T11:40:36.542Z"
   },
   {
    "duration": 6,
    "start_time": "2022-01-23T11:40:37.220Z"
   },
   {
    "duration": 9,
    "start_time": "2022-01-23T11:40:37.962Z"
   },
   {
    "duration": 57,
    "start_time": "2022-01-23T11:40:39.300Z"
   },
   {
    "duration": 12,
    "start_time": "2022-01-23T11:40:40.020Z"
   },
   {
    "duration": 35,
    "start_time": "2022-01-23T11:40:40.681Z"
   },
   {
    "duration": 17,
    "start_time": "2022-01-23T11:40:41.383Z"
   },
   {
    "duration": 6,
    "start_time": "2022-01-23T11:40:42.756Z"
   },
   {
    "duration": 10,
    "start_time": "2022-01-23T11:40:43.382Z"
   },
   {
    "duration": 11,
    "start_time": "2022-01-23T11:40:45.438Z"
   },
   {
    "duration": 17,
    "start_time": "2022-01-23T11:40:46.084Z"
   },
   {
    "duration": 10,
    "start_time": "2022-01-23T11:40:46.746Z"
   },
   {
    "duration": 10,
    "start_time": "2022-01-23T11:40:47.386Z"
   },
   {
    "duration": 27,
    "start_time": "2022-01-23T11:40:49.986Z"
   },
   {
    "duration": 10,
    "start_time": "2022-01-23T11:40:50.613Z"
   },
   {
    "duration": 5,
    "start_time": "2022-01-23T11:40:52.025Z"
   },
   {
    "duration": 5,
    "start_time": "2022-01-23T11:40:52.663Z"
   },
   {
    "duration": 6,
    "start_time": "2022-01-23T11:40:53.364Z"
   },
   {
    "duration": 4,
    "start_time": "2022-01-23T11:40:54.009Z"
   },
   {
    "duration": 9,
    "start_time": "2022-01-23T11:40:54.927Z"
   },
   {
    "duration": 6,
    "start_time": "2022-01-23T11:40:59.080Z"
   },
   {
    "duration": 34,
    "start_time": "2022-01-23T11:41:01.266Z"
   },
   {
    "duration": 9,
    "start_time": "2022-01-23T11:41:02.036Z"
   },
   {
    "duration": 31,
    "start_time": "2022-01-23T11:41:02.781Z"
   },
   {
    "duration": 5,
    "start_time": "2022-01-23T11:41:03.520Z"
   },
   {
    "duration": 217,
    "start_time": "2022-01-23T11:41:04.117Z"
   },
   {
    "duration": 16,
    "start_time": "2022-01-23T11:41:05.646Z"
   },
   {
    "duration": 40,
    "start_time": "2022-01-23T11:41:09.883Z"
   },
   {
    "duration": 40,
    "start_time": "2022-01-23T11:41:11.643Z"
   },
   {
    "duration": 39,
    "start_time": "2022-01-23T11:41:13.129Z"
   },
   {
    "duration": 7,
    "start_time": "2022-01-23T11:41:15.455Z"
   },
   {
    "duration": 6,
    "start_time": "2022-01-23T11:41:16.275Z"
   },
   {
    "duration": 386,
    "start_time": "2022-01-23T11:41:17.165Z"
   },
   {
    "duration": 356,
    "start_time": "2022-01-23T11:41:18.111Z"
   },
   {
    "duration": 360,
    "start_time": "2022-01-23T11:41:18.907Z"
   },
   {
    "duration": 5,
    "start_time": "2022-01-23T11:41:19.743Z"
   },
   {
    "duration": 4,
    "start_time": "2022-01-23T11:41:20.529Z"
   },
   {
    "duration": 1750,
    "start_time": "2022-01-23T11:41:21.348Z"
   },
   {
    "duration": 4,
    "start_time": "2022-01-23T11:41:28.310Z"
   },
   {
    "duration": 7,
    "start_time": "2022-01-23T11:41:29.739Z"
   },
   {
    "duration": 13,
    "start_time": "2022-01-23T11:41:35.460Z"
   },
   {
    "duration": 6,
    "start_time": "2022-01-23T11:41:36.289Z"
   },
   {
    "duration": 7,
    "start_time": "2022-01-23T11:42:45.119Z"
   },
   {
    "duration": 5,
    "start_time": "2022-01-23T11:43:10.646Z"
   },
   {
    "duration": 8,
    "start_time": "2022-01-23T11:44:25.570Z"
   },
   {
    "duration": 5,
    "start_time": "2022-01-23T11:44:48.608Z"
   },
   {
    "duration": 9,
    "start_time": "2022-01-23T11:45:13.042Z"
   },
   {
    "duration": 5,
    "start_time": "2022-01-23T11:45:14.403Z"
   },
   {
    "duration": 8,
    "start_time": "2022-01-23T11:45:25.651Z"
   },
   {
    "duration": 5,
    "start_time": "2022-01-23T11:45:27.069Z"
   },
   {
    "duration": 823,
    "start_time": "2022-01-23T12:14:19.508Z"
   },
   {
    "duration": 396,
    "start_time": "2022-01-23T12:14:33.625Z"
   },
   {
    "duration": 327,
    "start_time": "2022-01-23T12:17:51.535Z"
   },
   {
    "duration": 232,
    "start_time": "2022-01-23T12:19:52.878Z"
   },
   {
    "duration": 23,
    "start_time": "2022-01-23T12:23:45.440Z"
   },
   {
    "duration": 438,
    "start_time": "2022-01-23T12:24:16.308Z"
   },
   {
    "duration": 214,
    "start_time": "2022-01-23T12:24:46.371Z"
   },
   {
    "duration": 304,
    "start_time": "2022-01-23T12:32:20.476Z"
   },
   {
    "duration": 225,
    "start_time": "2022-01-23T12:32:43.461Z"
   },
   {
    "duration": 64,
    "start_time": "2022-01-23T12:33:16.280Z"
   },
   {
    "duration": 506,
    "start_time": "2022-01-23T12:42:29.835Z"
   },
   {
    "duration": 1774,
    "start_time": "2022-01-23T12:45:33.246Z"
   },
   {
    "duration": 566,
    "start_time": "2022-01-23T12:45:37.787Z"
   },
   {
    "duration": 30,
    "start_time": "2022-01-23T12:45:40.568Z"
   },
   {
    "duration": 18,
    "start_time": "2022-01-23T12:45:41.697Z"
   },
   {
    "duration": 28,
    "start_time": "2022-01-23T12:45:42.501Z"
   },
   {
    "duration": 36,
    "start_time": "2022-01-23T12:45:44.306Z"
   },
   {
    "duration": 12,
    "start_time": "2022-01-23T12:45:45.284Z"
   },
   {
    "duration": 22,
    "start_time": "2022-01-23T12:45:46.074Z"
   },
   {
    "duration": 12,
    "start_time": "2022-01-23T12:45:46.844Z"
   },
   {
    "duration": 11,
    "start_time": "2022-01-23T12:45:48.487Z"
   },
   {
    "duration": 19,
    "start_time": "2022-01-23T12:45:50.176Z"
   },
   {
    "duration": 10,
    "start_time": "2022-01-23T12:45:50.836Z"
   },
   {
    "duration": 19,
    "start_time": "2022-01-23T12:45:51.544Z"
   },
   {
    "duration": 17,
    "start_time": "2022-01-23T12:45:52.941Z"
   },
   {
    "duration": 12,
    "start_time": "2022-01-23T12:45:53.676Z"
   },
   {
    "duration": 5,
    "start_time": "2022-01-23T12:45:54.675Z"
   },
   {
    "duration": 12,
    "start_time": "2022-01-23T12:45:56.285Z"
   },
   {
    "duration": 9,
    "start_time": "2022-01-23T12:45:58.563Z"
   },
   {
    "duration": 17,
    "start_time": "2022-01-23T12:45:59.887Z"
   },
   {
    "duration": 9,
    "start_time": "2022-01-23T12:46:01.299Z"
   },
   {
    "duration": 8,
    "start_time": "2022-01-23T12:46:06.703Z"
   },
   {
    "duration": 75,
    "start_time": "2022-01-23T12:46:08.781Z"
   },
   {
    "duration": 11,
    "start_time": "2022-01-23T12:46:10.003Z"
   },
   {
    "duration": 327,
    "start_time": "2022-01-23T12:46:11.651Z"
   },
   {
    "duration": 230,
    "start_time": "2022-01-23T12:46:13.027Z"
   },
   {
    "duration": 26,
    "start_time": "2022-01-23T12:46:14.336Z"
   },
   {
    "duration": 55,
    "start_time": "2022-01-23T12:46:19.135Z"
   },
   {
    "duration": 7,
    "start_time": "2022-01-23T12:46:20.514Z"
   },
   {
    "duration": 11,
    "start_time": "2022-01-23T12:46:21.943Z"
   },
   {
    "duration": 46,
    "start_time": "2022-01-23T12:46:24.376Z"
   },
   {
    "duration": 10,
    "start_time": "2022-01-23T12:46:25.710Z"
   },
   {
    "duration": 483,
    "start_time": "2022-01-23T12:51:57.290Z"
   },
   {
    "duration": 376,
    "start_time": "2022-01-23T12:52:16.178Z"
   },
   {
    "duration": 1472,
    "start_time": "2022-01-23T12:53:01.955Z"
   },
   {
    "duration": 523,
    "start_time": "2022-01-23T12:53:05.785Z"
   },
   {
    "duration": 29,
    "start_time": "2022-01-23T12:53:07.823Z"
   },
   {
    "duration": 19,
    "start_time": "2022-01-23T12:53:08.723Z"
   },
   {
    "duration": 26,
    "start_time": "2022-01-23T12:53:09.420Z"
   },
   {
    "duration": 24,
    "start_time": "2022-01-23T12:53:10.763Z"
   },
   {
    "duration": 12,
    "start_time": "2022-01-23T12:53:11.484Z"
   },
   {
    "duration": 22,
    "start_time": "2022-01-23T12:53:12.230Z"
   },
   {
    "duration": 11,
    "start_time": "2022-01-23T12:53:13.042Z"
   },
   {
    "duration": 11,
    "start_time": "2022-01-23T12:53:15.107Z"
   },
   {
    "duration": 20,
    "start_time": "2022-01-23T12:53:16.562Z"
   },
   {
    "duration": 10,
    "start_time": "2022-01-23T12:53:17.297Z"
   },
   {
    "duration": 19,
    "start_time": "2022-01-23T12:53:19.635Z"
   },
   {
    "duration": 8,
    "start_time": "2022-01-23T12:53:19.657Z"
   },
   {
    "duration": 13,
    "start_time": "2022-01-23T12:53:20.128Z"
   },
   {
    "duration": 5,
    "start_time": "2022-01-23T12:53:20.985Z"
   },
   {
    "duration": 12,
    "start_time": "2022-01-23T12:53:21.798Z"
   },
   {
    "duration": 10,
    "start_time": "2022-01-23T12:53:23.339Z"
   },
   {
    "duration": 17,
    "start_time": "2022-01-23T12:53:24.019Z"
   },
   {
    "duration": 7,
    "start_time": "2022-01-23T12:53:24.688Z"
   },
   {
    "duration": 8,
    "start_time": "2022-01-23T12:53:28.722Z"
   },
   {
    "duration": 75,
    "start_time": "2022-01-23T12:53:30.110Z"
   },
   {
    "duration": 12,
    "start_time": "2022-01-23T12:53:30.938Z"
   },
   {
    "duration": 361,
    "start_time": "2022-01-23T12:53:32.554Z"
   },
   {
    "duration": 232,
    "start_time": "2022-01-23T12:53:34.441Z"
   },
   {
    "duration": 28,
    "start_time": "2022-01-23T12:53:35.773Z"
   },
   {
    "duration": 65,
    "start_time": "2022-01-23T12:53:40.294Z"
   },
   {
    "duration": 6,
    "start_time": "2022-01-23T12:53:41.533Z"
   },
   {
    "duration": 15,
    "start_time": "2022-01-23T12:53:43.678Z"
   },
   {
    "duration": 78,
    "start_time": "2022-01-23T12:53:50.177Z"
   },
   {
    "duration": 10,
    "start_time": "2022-01-23T12:53:52.055Z"
   },
   {
    "duration": 1436,
    "start_time": "2022-01-23T12:59:38.194Z"
   },
   {
    "duration": 520,
    "start_time": "2022-01-23T12:59:40.499Z"
   },
   {
    "duration": 30,
    "start_time": "2022-01-23T12:59:42.105Z"
   },
   {
    "duration": 18,
    "start_time": "2022-01-23T12:59:42.627Z"
   },
   {
    "duration": 26,
    "start_time": "2022-01-23T12:59:43.529Z"
   },
   {
    "duration": 24,
    "start_time": "2022-01-23T12:59:44.995Z"
   },
   {
    "duration": 12,
    "start_time": "2022-01-23T12:59:45.732Z"
   },
   {
    "duration": 21,
    "start_time": "2022-01-23T12:59:46.507Z"
   },
   {
    "duration": 13,
    "start_time": "2022-01-23T12:59:47.195Z"
   },
   {
    "duration": 12,
    "start_time": "2022-01-23T12:59:51.512Z"
   },
   {
    "duration": 19,
    "start_time": "2022-01-23T12:59:52.799Z"
   },
   {
    "duration": 11,
    "start_time": "2022-01-23T12:59:54.296Z"
   },
   {
    "duration": 19,
    "start_time": "2022-01-23T12:59:59.234Z"
   },
   {
    "duration": 10,
    "start_time": "2022-01-23T13:00:00.723Z"
   },
   {
    "duration": 15,
    "start_time": "2022-01-23T13:00:01.504Z"
   },
   {
    "duration": 7,
    "start_time": "2022-01-23T13:00:03.178Z"
   },
   {
    "duration": 27,
    "start_time": "2022-01-23T13:00:03.188Z"
   },
   {
    "duration": 13,
    "start_time": "2022-01-23T13:00:05.127Z"
   },
   {
    "duration": 17,
    "start_time": "2022-01-23T13:00:06.028Z"
   },
   {
    "duration": 8,
    "start_time": "2022-01-23T13:00:07.091Z"
   },
   {
    "duration": 8,
    "start_time": "2022-01-23T13:00:12.616Z"
   },
   {
    "duration": 78,
    "start_time": "2022-01-23T13:00:14.275Z"
   },
   {
    "duration": 11,
    "start_time": "2022-01-23T13:00:15.234Z"
   },
   {
    "duration": 328,
    "start_time": "2022-01-23T13:00:16.973Z"
   },
   {
    "duration": 247,
    "start_time": "2022-01-23T13:00:18.260Z"
   },
   {
    "duration": 29,
    "start_time": "2022-01-23T13:00:19.545Z"
   },
   {
    "duration": 63,
    "start_time": "2022-01-23T13:00:28.672Z"
   },
   {
    "duration": 5,
    "start_time": "2022-01-23T13:00:29.626Z"
   },
   {
    "duration": 10,
    "start_time": "2022-01-23T13:00:30.429Z"
   },
   {
    "duration": 47,
    "start_time": "2022-01-23T13:00:35.532Z"
   },
   {
    "duration": 10,
    "start_time": "2022-01-23T13:00:36.368Z"
   },
   {
    "duration": 32,
    "start_time": "2022-01-23T13:00:42.216Z"
   },
   {
    "duration": 6,
    "start_time": "2022-01-23T13:00:43.129Z"
   },
   {
    "duration": 9,
    "start_time": "2022-01-23T13:00:44.013Z"
   },
   {
    "duration": 278,
    "start_time": "2022-01-23T13:00:47.484Z"
   },
   {
    "duration": 207,
    "start_time": "2022-01-23T13:01:00.887Z"
   },
   {
    "duration": 7,
    "start_time": "2022-01-23T13:01:39.372Z"
   },
   {
    "duration": 338,
    "start_time": "2022-01-23T13:01:53.564Z"
   },
   {
    "duration": 7,
    "start_time": "2022-01-23T13:02:03.581Z"
   },
   {
    "duration": 212,
    "start_time": "2022-01-23T13:02:05.001Z"
   },
   {
    "duration": 223,
    "start_time": "2022-01-23T13:02:34.428Z"
   },
   {
    "duration": 59,
    "start_time": "2022-01-23T13:03:37.062Z"
   },
   {
    "duration": 13,
    "start_time": "2022-01-23T13:03:37.961Z"
   },
   {
    "duration": 420,
    "start_time": "2022-01-23T13:04:12.533Z"
   },
   {
    "duration": 139,
    "start_time": "2022-01-23T13:04:26.329Z"
   },
   {
    "duration": 231,
    "start_time": "2022-01-23T13:05:11.915Z"
   },
   {
    "duration": 1621,
    "start_time": "2022-01-23T13:05:30.346Z"
   },
   {
    "duration": 18,
    "start_time": "2022-01-23T13:07:15.492Z"
   },
   {
    "duration": 233,
    "start_time": "2022-01-23T13:07:35.929Z"
   },
   {
    "duration": 26,
    "start_time": "2022-01-23T13:08:08.381Z"
   },
   {
    "duration": 226,
    "start_time": "2022-01-23T13:08:09.265Z"
   },
   {
    "duration": 32,
    "start_time": "2022-01-23T13:08:17.106Z"
   },
   {
    "duration": 16,
    "start_time": "2022-01-23T13:08:17.856Z"
   },
   {
    "duration": 5,
    "start_time": "2022-01-23T13:08:20.354Z"
   },
   {
    "duration": 10,
    "start_time": "2022-01-23T13:08:21.291Z"
   },
   {
    "duration": 14,
    "start_time": "2022-01-23T13:08:39.552Z"
   },
   {
    "duration": 14,
    "start_time": "2022-01-23T13:08:40.379Z"
   },
   {
    "duration": 12,
    "start_time": "2022-01-23T13:08:41.344Z"
   },
   {
    "duration": 11,
    "start_time": "2022-01-23T13:08:42.153Z"
   },
   {
    "duration": 30,
    "start_time": "2022-01-23T13:08:47.427Z"
   },
   {
    "duration": 12,
    "start_time": "2022-01-23T13:08:53.437Z"
   },
   {
    "duration": 5,
    "start_time": "2022-01-23T13:09:12.627Z"
   },
   {
    "duration": 4,
    "start_time": "2022-01-23T13:09:13.415Z"
   },
   {
    "duration": 5,
    "start_time": "2022-01-23T13:09:13.959Z"
   },
   {
    "duration": 5,
    "start_time": "2022-01-23T13:09:14.526Z"
   },
   {
    "duration": 10,
    "start_time": "2022-01-23T13:09:16.182Z"
   },
   {
    "duration": 6,
    "start_time": "2022-01-23T13:09:18.541Z"
   },
   {
    "duration": 28,
    "start_time": "2022-01-23T13:09:19.299Z"
   },
   {
    "duration": 10,
    "start_time": "2022-01-23T13:09:20.257Z"
   },
   {
    "duration": 32,
    "start_time": "2022-01-23T13:09:21.236Z"
   },
   {
    "duration": 9,
    "start_time": "2022-01-23T13:09:22.073Z"
   },
   {
    "duration": 229,
    "start_time": "2022-01-23T13:09:22.869Z"
   },
   {
    "duration": 16,
    "start_time": "2022-01-23T13:09:24.311Z"
   },
   {
    "duration": 40,
    "start_time": "2022-01-23T13:09:32.418Z"
   },
   {
    "duration": 41,
    "start_time": "2022-01-23T13:09:34.853Z"
   },
   {
    "duration": 43,
    "start_time": "2022-01-23T13:09:37.698Z"
   },
   {
    "duration": 6,
    "start_time": "2022-01-23T13:09:41.908Z"
   },
   {
    "duration": 7,
    "start_time": "2022-01-23T13:09:42.852Z"
   },
   {
    "duration": 374,
    "start_time": "2022-01-23T13:09:43.942Z"
   },
   {
    "duration": 352,
    "start_time": "2022-01-23T13:09:45.543Z"
   },
   {
    "duration": 354,
    "start_time": "2022-01-23T13:09:48.450Z"
   },
   {
    "duration": 6,
    "start_time": "2022-01-23T13:09:49.830Z"
   },
   {
    "duration": 4,
    "start_time": "2022-01-23T13:09:51.699Z"
   },
   {
    "duration": 1696,
    "start_time": "2022-01-23T13:09:52.708Z"
   },
   {
    "duration": 4,
    "start_time": "2022-01-23T13:09:59.998Z"
   },
   {
    "duration": 7,
    "start_time": "2022-01-23T13:10:00.903Z"
   },
   {
    "duration": 16,
    "start_time": "2022-01-23T13:12:28.026Z"
   },
   {
    "duration": 9,
    "start_time": "2022-01-23T13:12:29.176Z"
   },
   {
    "duration": 8,
    "start_time": "2022-01-23T13:12:47.928Z"
   },
   {
    "duration": 6,
    "start_time": "2022-01-23T13:12:48.976Z"
   },
   {
    "duration": 9,
    "start_time": "2022-01-23T13:12:50.473Z"
   },
   {
    "duration": 6,
    "start_time": "2022-01-23T13:12:51.592Z"
   },
   {
    "duration": 4,
    "start_time": "2022-01-23T13:24:57.553Z"
   },
   {
    "duration": 394,
    "start_time": "2022-01-23T13:25:24.233Z"
   },
   {
    "duration": 5,
    "start_time": "2022-01-23T13:25:35.430Z"
   },
   {
    "duration": 5,
    "start_time": "2022-01-23T13:26:32.583Z"
   },
   {
    "duration": 6,
    "start_time": "2022-01-23T13:26:33.917Z"
   },
   {
    "duration": 412,
    "start_time": "2022-01-23T13:27:55.284Z"
   },
   {
    "duration": 368,
    "start_time": "2022-01-23T13:28:29.117Z"
   },
   {
    "duration": 343,
    "start_time": "2022-01-23T13:28:43.792Z"
   },
   {
    "duration": 350,
    "start_time": "2022-01-23T13:29:06.902Z"
   },
   {
    "duration": 397,
    "start_time": "2022-01-23T13:29:17.503Z"
   },
   {
    "duration": 475,
    "start_time": "2022-01-23T13:30:08.048Z"
   },
   {
    "duration": 6,
    "start_time": "2022-01-23T13:31:25.843Z"
   },
   {
    "duration": 476,
    "start_time": "2022-01-23T13:31:49.707Z"
   },
   {
    "duration": 1250,
    "start_time": "2022-01-23T13:32:02.216Z"
   },
   {
    "duration": 408,
    "start_time": "2022-01-23T13:32:10.631Z"
   },
   {
    "duration": 555,
    "start_time": "2022-01-23T13:32:34.984Z"
   },
   {
    "duration": 338,
    "start_time": "2022-01-23T13:32:56.421Z"
   },
   {
    "duration": 362,
    "start_time": "2022-01-23T13:33:10.919Z"
   },
   {
    "duration": 143,
    "start_time": "2022-01-23T13:33:28.837Z"
   },
   {
    "duration": 6,
    "start_time": "2022-01-23T13:33:36.701Z"
   },
   {
    "duration": 15,
    "start_time": "2022-01-23T13:34:26.402Z"
   }
  ],
  "kernelspec": {
   "display_name": "Python 3",
   "language": "python",
   "name": "python3"
  },
  "language_info": {
   "codemirror_mode": {
    "name": "ipython",
    "version": 3
   },
   "file_extension": ".py",
   "mimetype": "text/x-python",
   "name": "python",
   "nbconvert_exporter": "python",
   "pygments_lexer": "ipython3",
   "version": "3.8.8"
  },
  "toc": {
   "base_numbering": 1,
   "nav_menu": {},
   "number_sections": false,
   "sideBar": true,
   "skip_h1_title": false,
   "title_cell": "Table of Contents",
   "title_sidebar": "Contents",
   "toc_cell": false,
   "toc_position": {
    "height": "calc(100% - 180px)",
    "left": "10px",
    "top": "150px",
    "width": "165px"
   },
   "toc_section_display": true,
   "toc_window_display": true
  }
 },
 "nbformat": 4,
 "nbformat_minor": 2
}
